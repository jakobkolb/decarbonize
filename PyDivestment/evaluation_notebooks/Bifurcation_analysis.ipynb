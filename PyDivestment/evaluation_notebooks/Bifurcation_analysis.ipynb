{
 "cells": [
  {
   "cell_type": "code",
   "execution_count": null,
   "metadata": {},
   "outputs": [],
   "source": [
    "import PyDSTool as pdt\n",
    "import numpy as np\n",
    "import networkx as nx\n",
    "from random import shuffle\n",
    "import sympy as sp\n",
    "import pandas as pd\n",
    "import matplotlib.pyplot as plt\n",
    "from pydivest.macro_model.integrate_equations_aggregate import IntegrateEquationsAggregate as Model"
   ]
  },
  {
   "cell_type": "code",
   "execution_count": null,
   "metadata": {},
   "outputs": [],
   "source": [
    "# investment_decisions:\n",
    "\n",
    "nopinions = [50, 50]\n",
    "\n",
    "# Parameters:\n",
    "\n",
    "phi, b_d = 0.4, 1.25\n",
    "\n",
    "input_parameters = {'b_c': 1., 'phi': phi, 'tau': 1.,\n",
    "                    'eps': 0.01, 'b_d': b_d, 'e': 100.,\n",
    "                    'b_r0': 0.1 ** 2 * 100.,\n",
    "                    'possible_opinions': [[0], [1]],\n",
    "                    'xi': 1. / 8., 'beta': 0.06,\n",
    "                    'L': 100., 'C': 100., 'G_0': 800.,\n",
    "                    'campaign': False, 'learning': True,\n",
    "                    'R_depletion': False, 'test': True,\n",
    "                    'interaction': 1, 'crs': True}\n",
    "\n",
    "# investment_decisions\n",
    "opinions = []\n",
    "for i, n in enumerate(nopinions):\n",
    "    opinions.append(np.full((n), i, dtype='I'))\n",
    "opinions = [item for sublist in opinions for item in sublist]\n",
    "shuffle(opinions)\n",
    "\n",
    "# network:\n",
    "N = sum(nopinions)\n",
    "p = .2\n",
    "\n",
    "while True:\n",
    "    net = nx.erdos_renyi_graph(N, p)\n",
    "    if len(list(net)) > 1:\n",
    "        break\n",
    "adjacency_matrix = nx.adj_matrix(net).toarray()\n",
    "\n",
    "# investment\n",
    "clean_investment = np.ones(N)\n",
    "dirty_investment = np.ones(N)\n",
    "\n",
    "init_conditions = (adjacency_matrix, opinions,\n",
    "                   clean_investment, dirty_investment)\n",
    "m = Model(*init_conditions)"
   ]
  },
  {
   "cell_type": "code",
   "execution_count": null,
   "metadata": {},
   "outputs": [],
   "source": [
    "DSargs = pdt.args(name='aggregated_approximation')\n",
    "v_e, v_pi, v_tau = sp.symbols('v_e v_pi v_tau')\n",
    "v_K_cc, v_K_cd, v_K_dc, v_K_dd = sp.symbols('K_cc K_cd K_dc K_dd')\n",
    "v_subs = {m.e: v_e, m.pi: v_pi, m.tau: v_tau,\n",
    "          m.Kcc: v_K_cc, m.Kcd: v_K_cd, \n",
    "          m.Kdc: v_K_dc, m.Kdd: v_K_dd}\n",
    "\n",
    "equations = {m.var_symbols[i]: str(m.rhs_raw[i].subs(v_subs)) for i in range(len(m.var_names))}\n",
    "\n",
    "equations_updated = {}\n",
    "for (symbol, value) in equations.items():\n",
    "    if symbol in v_subs.keys():\n",
    "        equations_updated[str(v_subs[symbol])] = value\n",
    "    else:\n",
    "        equations_updated[str(symbol)] = value\n",
    "        \n",
    "\n",
    "\n",
    "params_updated = {}\n",
    "for (symbol, value) in m.list_parameters().items():\n",
    "    if symbol in v_subs.keys():\n",
    "        params_updated[str(v_subs[symbol])] = value\n",
    "    else:\n",
    "        params_updated[str(symbol)] = value\n",
    "\n",
    "\n",
    "\n",
    "initial_conditions = {}\n",
    "for (symbol, value) in m.list_initial_conditions().items():\n",
    "    if symbol in v_subs.keys():\n",
    "        initial_conditions[str(v_subs[symbol])] = value\n",
    "    else:\n",
    "        initial_conditions[str(symbol)] = value   \n",
    "    \n",
    "\n",
    "del equations_updated['G']\n",
    "del initial_conditions['G']\n",
    "params_updated['G'] = m.p_G_0\n",
    "\n",
    "params_updated['xi'] = 0.15\n",
    "params_updated['epsilon'] = 0.001\n",
    "params_updated['phi'] = .4\n",
    "\n",
    "initial_conditions['C'] = 50\n",
    "\n",
    "DSargs.pars = params_updated\n",
    "DSargs.varspecs = equations_updated\n",
    "DSargs.ics = initial_conditions\n",
    "DSargs.tdata = [0, 500]\n",
    "DSargs.algparams = {'init_step': 0.2}"
   ]
  },
  {
   "cell_type": "code",
   "execution_count": null,
   "metadata": {},
   "outputs": [],
   "source": [
    "ode = pdt.Generator.Vode_ODEsystem(DSargs)"
   ]
  },
  {
   "cell_type": "code",
   "execution_count": null,
   "metadata": {},
   "outputs": [],
   "source": [
    "traj = ode.compute('some name?')"
   ]
  },
  {
   "cell_type": "code",
   "execution_count": null,
   "metadata": {},
   "outputs": [],
   "source": [
    "pts = traj.sample(dt=1.)"
   ]
  },
  {
   "cell_type": "code",
   "execution_count": null,
   "metadata": {},
   "outputs": [],
   "source": [
    "fig = plt.figure()\n",
    "ax = fig.add_subplot(111)\n",
    "ax.plot(pts['t'], pts['K_cc'], label='cc')\n",
    "ax.plot(pts['t'], pts['K_cd'], label='cd')\n",
    "ax.plot(pts['t'], pts['K_dc'], label='dc')\n",
    "ax.plot(pts['t'], pts['K_dd'], label='dd')\n",
    "ax.plot(pts['t'], pts['C'], label='C')\n",
    "plt.legend()\n"
   ]
  },
  {
   "cell_type": "code",
   "execution_count": null,
   "metadata": {},
   "outputs": [],
   "source": [
    "fig = plt.figure()\n",
    "ax = fig.add_subplot(111)\n",
    "#ax.plot(pts['t'], pts['K_cc'], label='cc')\n",
    "ax.plot(pts['t'], pts['x'], label='x')\n",
    "ax.plot(pts['t'], pts['y'], label='y')\n",
    "ax.plot(pts['t'], pts['z'], label='z')\n",
    "plt.legend()"
   ]
  },
  {
   "cell_type": "code",
   "execution_count": null,
   "metadata": {},
   "outputs": [],
   "source": [
    "ode.set(ics=pts[-1])"
   ]
  },
  {
   "cell_type": "code",
   "execution_count": null,
   "metadata": {},
   "outputs": [],
   "source": [
    "PC = pdt.ContClass(ode)\n",
    "PCargs = pdt.args(name='EQ1', type='EP-C')\n",
    "PCargs.freepars = ['xi']\n",
    "PCargs.MaxNumPoints = 800\n",
    "PCargs.MaxStepSize = 2\n",
    "PCargs.MinStepSize = 1e-10\n",
    "PCargs.StepSize = 2e-3\n",
    "PCargs.SaveEigen = True\n",
    "PCargs.LocBifPoints = 'LP'"
   ]
  },
  {
   "cell_type": "code",
   "execution_count": null,
   "metadata": {},
   "outputs": [],
   "source": [
    "PC.newCurve(PCargs)\n",
    "PC['EQ1'].forward()"
   ]
  },
  {
   "cell_type": "code",
   "execution_count": null,
   "metadata": {},
   "outputs": [],
   "source": [
    "fig = plt.figure()\n",
    "ax = fig.add_subplot(111)\n",
    "PC['EQ1'].display(stability=True)\n",
    "ax.set_xlabel(r'$\\xi$')"
   ]
  },
  {
   "cell_type": "code",
   "execution_count": null,
   "metadata": {},
   "outputs": [],
   "source": [
    "PCargs = pdt.args(name='SN1', type='EP-C', force=True)\n",
    "PCargs.initpoint = 'EQ1:LP1'\n",
    "PCargs.freepars = ['phi']\n",
    "PCargs.MaxNumPoints = 2000\n",
    "PCargs.MaxStepSize = 1\n",
    "PCargs.MinStepSize = 1e-16\n",
    "PCargs.StepSize = 2e-5\n",
    "PCargs.SaveEigen = True\n",
    "PCargs.LocBifPoints = 'LP'"
   ]
  },
  {
   "cell_type": "code",
   "execution_count": null,
   "metadata": {},
   "outputs": [],
   "source": [
    "PC.newCurve(PCargs)\n",
    "PC['SN1'].forward()"
   ]
  },
  {
   "cell_type": "code",
   "execution_count": null,
   "metadata": {},
   "outputs": [],
   "source": [
    "PC['SN1'].display(stability=True)"
   ]
  },
  {
   "cell_type": "code",
   "execution_count": null,
   "metadata": {},
   "outputs": [],
   "source": []
  },
  {
   "cell_type": "code",
   "execution_count": null,
   "metadata": {},
   "outputs": [],
   "source": []
  }
 ],
 "metadata": {
  "kernelspec": {
   "display_name": "Python [conda env:pyds]",
   "language": "python",
   "name": "conda-env-pyds-py"
  },
  "language_info": {
   "codemirror_mode": {
    "name": "ipython",
    "version": 3
   },
   "file_extension": ".py",
   "mimetype": "text/x-python",
   "name": "python",
   "nbconvert_exporter": "python",
   "pygments_lexer": "ipython3",
   "version": "3.6.4"
  }
 },
 "nbformat": 4,
 "nbformat_minor": 2
}
