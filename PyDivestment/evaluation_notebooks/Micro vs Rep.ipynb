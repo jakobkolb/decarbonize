{
 "cells": [
  {
   "cell_type": "markdown",
   "metadata": {},
   "source": [
    "# Comparison of microscopic and macroscopic results in terms of the unified trajectory"
   ]
  },
  {
   "cell_type": "code",
   "execution_count": null,
   "metadata": {},
   "outputs": [],
   "source": [
    "%matplotlib inline\n",
    "\n",
    "import numpy as np\n",
    "import pandas as pd\n",
    "import matplotlib.pyplot as plt"
   ]
  },
  {
   "cell_type": "code",
   "execution_count": null,
   "metadata": {},
   "outputs": [],
   "source": [
    "micro_data = pd.read_pickle('../divestdata/P3/micro/unified_trajectory')\n",
    "macro_data = pd.read_pickle('../divestdata/P3/res/unified_trajectory')\n",
    "macro_data.index.levels"
   ]
  },
  {
   "cell_type": "code",
   "execution_count": null,
   "metadata": {},
   "outputs": [],
   "source": [
    "key = [1.25, 0.5, 1.0, 0.05]\n",
    "level = ['b_d', 'phi', 'tau', 'eps']\n",
    "\n",
    "tmax = 500\n",
    "\n",
    "mean = micro_data.xs(level = level, key=key)['mean_trajectory'].unstack('observables')[0:tmax]\n",
    "sem = micro_data.xs(level = level, key=key)['sem_trajectory'].unstack('observables')[0:tmax]\n",
    "\n",
    "\n",
    "ma_mean = macro_data.xs(level = level, key=key)['mean_trajectory'].unstack('observables')[0:tmax]\n",
    "ma_sem = macro_data.xs(level = level, key=key)['sem_trajectory'].unstack('observables')[0:tmax]\n",
    "\n",
    "\n",
    "for i, df in enumerate([mean, sem, ma_mean, ma_sem]):\n",
    "    \n",
    "    columns = df.columns\n",
    "    new_columns = pd.Index(['$'+col+'$' for col in columns.values], name=columns.name)\n",
    "    df.columns = new_columns\n",
    "\n",
    "def plot_var(name, mean, sem, ax, color, style, legend=True):\n",
    "    \n",
    "    t = mean.index.values\n",
    "    m = mean[name].values\n",
    "    s = sem[name].values\n",
    "    \n",
    "    if legend is False:\n",
    "        name = '__no_label__'\n",
    "    ln = ax.plot(t, m, style, color=color, label=name)\n",
    "    ax.fill_between(t, m+s, m-s, alpha=.2, color=color)\n",
    "    \n",
    "    return ln\n",
    "\n",
    "def legend_surrogates(styles, pos, ax):\n",
    "    \n",
    "    lns = []\n",
    "    \n",
    "    for name, style  in styles.items():\n",
    "        ln = ax.plot(pos[0], pos[1], style, color='k', alpha=.5, label=name)\n",
    "        lns += ln\n",
    "        \n",
    "    return lns"
   ]
  },
  {
   "cell_type": "code",
   "execution_count": null,
   "metadata": {},
   "outputs": [],
   "source": [
    "styles = {'micro': '-',\n",
    "          'rep. ag.': '-.'}\n",
    "\n",
    "fig = plt.figure(figsize=(8, 8))\n",
    "ax1 = fig.add_subplot(221)\n",
    "plot_var('$k_c$', mean, sem, ax1, 'b', '-')\n",
    "plot_var('$k_d$', mean, sem, ax1, 'k', '-')\n",
    "\n",
    "plot_var('$k_c$', ma_mean, ma_sem, ax1, 'b', '-.', legend=False)\n",
    "plot_var('$k_d$', ma_mean, ma_sem, ax1, 'k', '-.', legend=False)\n",
    "\n",
    "ax1.set_xticklabels([])\n",
    "legend_surrogates(styles, [0, 0], ax1)\n",
    "plt.legend()\n",
    "\n",
    "ax2 = fig.add_subplot(222)\n",
    "plot_var('$n_c$', mean, sem, ax2, 'r', '-')\n",
    "plot_var('$n_c$', ma_mean, ma_sem, ax2, 'r', '-.', legend=False)\n",
    "\n",
    "legend_surrogates(styles, [0, 0], ax2)\n",
    "ax2.set_xticklabels([])\n",
    "plt.legend(loc='lower right')\n",
    "\n",
    "ax3 = fig.add_subplot(223)\n",
    "#ax3b = ax3.twinx()\n",
    "plot_var('$c$', ma_mean, ma_sem, ax3, 'b', '-.', legend=False)\n",
    "plot_var('$g$', ma_mean, ma_sem, ax3, 'k', '-.', legend=False)\n",
    "\n",
    "ln1 = plot_var('$c$', mean, sem, ax3, 'b', '-')\n",
    "ln2 = plot_var('$g$', mean, sem, ax3, 'k', '-')\n",
    "\n",
    "lns = legend_surrogates(styles, [0, 0], ax3)\n",
    "\n",
    "lns = ln1 + ln2 + lns\n",
    "print(lns)\n",
    "labs = [ln.get_label() for ln in lns]\n",
    "\n",
    "plt.legend(lns, labs, loc='lower right')\n",
    "\n",
    "ax3.set_xlabel('time')\n",
    "\n",
    "ax4 = fig.add_subplot(224)\n",
    "plot_var('$r_c$', mean, sem, ax4, 'b', '-')\n",
    "plot_var('$r_d$', mean, sem, ax4, 'k', '-')\n",
    "\n",
    "plot_var('$r_c$', ma_mean, ma_sem, ax4, 'b', '-.', legend=False)\n",
    "plot_var('$r_d$', ma_mean, ma_sem, ax4, 'k', '-.', legend=False)\n",
    "\n",
    "legend_surrogates(styles, [0, 0], ax4)\n",
    "plt.legend()\n",
    "ax4.set_xlabel('time')\n",
    "\n",
    "fig.tight_layout()\n",
    "plt.savefig('micro_vs_macro.pdf')"
   ]
  },
  {
   "cell_type": "code",
   "execution_count": null,
   "metadata": {},
   "outputs": [],
   "source": []
  },
  {
   "cell_type": "code",
   "execution_count": null,
   "metadata": {},
   "outputs": [],
   "source": []
  },
  {
   "cell_type": "code",
   "execution_count": null,
   "metadata": {},
   "outputs": [],
   "source": []
  }
 ],
 "metadata": {
  "kernelspec": {
   "display_name": "Python 3",
   "language": "python",
   "name": "python3"
  },
  "language_info": {
   "codemirror_mode": {
    "name": "ipython",
    "version": 3
   },
   "file_extension": ".py",
   "mimetype": "text/x-python",
   "name": "python",
   "nbconvert_exporter": "python",
   "pygments_lexer": "ipython3",
   "version": "3.6.0"
  }
 },
 "nbformat": 4,
 "nbformat_minor": 2
}
