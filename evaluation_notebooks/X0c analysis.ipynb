{
 "cells": [
  {
   "cell_type": "code",
   "execution_count": null,
   "metadata": {},
   "outputs": [],
   "source": [
    "%matplotlib inline\n",
    "import pandas as pd\n",
    "import numpy as np\n",
    "import matplotlib.pyplot as plt\n",
    "import seaborn as sn\n",
    "from mpl_toolkits.mplot3d import Axes3D\n",
    "from heuristi_plot_1 import plot as hplot\n",
    "\n",
    "path = '../output_data/'"
   ]
  },
  {
   "cell_type": "code",
   "execution_count": null,
   "metadata": {},
   "outputs": [],
   "source": [
    "for i in [1, 3, 5, 6, 7, 8, 9]:\n",
    "#for i in [5, 8, 9]:\n",
    "    print(f'phi = 0.{i}')\n",
    "    with pd.HDFStore(path + 'X0c.h5') as store:\n",
    "        trj = store.select('dat_0', where=f'phi=.{i}')\n",
    "    with pd.HDFStore(path + 'X0c.h5') as store:\n",
    "        trj2 = store.select('dat_2', where=f'phi=.{i}')\n",
    "\n",
    "    trj2.index.names = trj.index.names\n",
    "\n",
    "    for trj_i in [trj, trj2]:\n",
    "        trj_i.index = trj_i.index.droplevel(['eps', 'phi', 'test'])\n",
    "        trj_i = trj_i.reset_index().drop_duplicates(['sample', 'tstep']).set_index(['sample', 'tstep'])\n",
    "    trj = trj.reset_index().drop_duplicates(['sample', 'tstep']).set_index(['sample', 'tstep'])\n",
    "    trj2 = trj2.reset_index().drop_duplicates(['sample', 'tstep']).set_index(['sample', 'tstep'])\n",
    "\n",
    "    dfN = pd.DataFrame(index=trj.index.levels[0])\n",
    "\n",
    "    fig = plt.figure(figsize=(10, 3))\n",
    "    hplot(fig, trj, trj2, thresh_time=9.)\n",
    "\n",
    "    fig.savefig(f'fitted_initials_evaluation0{i}.pdf')"
   ]
  },
  {
   "cell_type": "code",
   "execution_count": null,
   "metadata": {},
   "outputs": [],
   "source": []
  },
  {
   "cell_type": "code",
   "execution_count": null,
   "metadata": {},
   "outputs": [],
   "source": [
    "cond = pd.DataFrame(index=trj.index)\n",
    "cond['a'] = trj['K_c']/trj['K_d'] - 0.15276374882897656\n",
    "cond['b'] = trj['i_c']\n",
    "cond['c'] = trj['r_c']\n",
    "\n",
    "# cond['d'] = np.sqrt((cond['a'])**2)\n",
    "# cond['d'].unstack('sample').loc[:9].sum(axis=0)"
   ]
  },
  {
   "cell_type": "code",
   "execution_count": null,
   "metadata": {},
   "outputs": [],
   "source": [
    "trj.head()"
   ]
  },
  {
   "cell_type": "code",
   "execution_count": null,
   "metadata": {},
   "outputs": [],
   "source": [
    "t_max=9.\n",
    "\n",
    "# calculate point distance\n",
    "cond['d'] = np.sqrt((cond['a'])**2)\n",
    "\n",
    "# sum over point distance for each trajectory\n",
    "dfN['distance'] = cond['d'].unstack('sample').loc[:t_max].sum(axis=0)\n",
    "\n",
    "# map distances to interval (0,1]\n",
    "dfN['inv_distance'] = 1./(1. + dfN['distance'])\n",
    "\n",
    "# use 1/distance as weight\n",
    "dfN['weight'] = 1/cond['d'].unstack('sample').loc[:t_max].sum(axis=0)\n",
    "dfN['weight'] = dfN['weight']/sum(dfN['weight'].values)\n",
    "\n",
    "for s in dfN.index.values:\n",
    "    cond.loc[s, 'inv_distance'] = dfN.loc[s, 'inv_distance']\n",
    "dfN['weight'].sum()\n",
    "cond.head()"
   ]
  },
  {
   "cell_type": "code",
   "execution_count": null,
   "metadata": {},
   "outputs": [],
   "source": [
    "from collections import Counter\n",
    "fig, axes = plt.subplots(ncols=3, figsize=(8, 2.8))\n",
    "\n",
    "def plot_cond(df, c, ax, t_max, thresh=0.5):\n",
    "    tmp = df\n",
    "    tmp1 = tmp[[c]].loc[tmp['inv_distance']<thresh]\n",
    "    tmp2 = tmp[[c]].loc[tmp['inv_distance']>thresh]\n",
    "    tmp1.unstack('sample').loc[:t_max].plot(ax=ax, alpha=.03, legend=False, color=['k'])\n",
    "    tmp2.unstack('sample').loc[:t_max].plot(ax=ax, legend=False, alpha=.07, color=['orange'])\n",
    "    \n",
    "thresh=0.5\n",
    "\n",
    "plot_cond(cond, 'a', axes[0], 20, thresh=thresh)\n",
    "plot_cond(cond, 'b', axes[1], 20, thresh=thresh)\n",
    "\n",
    "dfN['inv_distance'].loc[dfN['inv_distance']>thresh].plot.hist(ax=axes[2], color=['orange'], alpha=0.9, bins=0.1*np.arange(5,11))\n",
    "dfN['inv_distance'].loc[dfN['inv_distance']<thresh].plot.hist(ax=axes[2], color=['k'], alpha=0.2, bins=0.1*np.arange(0,6))\n",
    "\n",
    "for ax in axes[:2]:\n",
    "    ax.set_xlim([0,20])\n",
    "    ax.set_xlabel('time')\n",
    "    ax.axvline(t_max, color='k')\n",
    "\n",
    "axes[0].set_ylabel(r'$K_c/K_d - K_{c0}/K_{d0}$')\n",
    "axes[1].set_ylabel('fraction of clean investment')\n",
    "axes[1].set_ylim((0,1.03))\n",
    "axes[2].set_ylabel('count')\n",
    "axes[2].set_xlabel(r'$1/(1+d)$')\n",
    "axes[2].set_xlim([0,1])\n",
    "\n",
    "fig.tight_layout()\n",
    "fig.savefig('initial_condition_fitted.pdf')"
   ]
  },
  {
   "cell_type": "code",
   "execution_count": null,
   "metadata": {},
   "outputs": [],
   "source": [
    "with pd.HDFStore(path + 'X0c.h5') as store:\n",
    "    trj = store.select('dat_0', where='phi=.8')\n",
    "with pd.HDFStore(path + 'X0c.h5') as store:\n",
    "    trj2 = store.select('dat_2', where='phi=.8')\n",
    "    \n",
    "trj2.index.names = trj.index.names\n",
    "\n",
    "for trj_i in [trj, trj2]:\n",
    "    trj_i.index = trj_i.index.droplevel(['eps', 'phi', 'test'])\n",
    "    trj_i = trj_i.reset_index().drop_duplicates(['sample', 'tstep']).set_index(['sample', 'tstep'])\n"
   ]
  },
  {
   "cell_type": "code",
   "execution_count": null,
   "metadata": {},
   "outputs": [],
   "source": [
    "trj"
   ]
  },
  {
   "cell_type": "code",
   "execution_count": null,
   "metadata": {},
   "outputs": [],
   "source": [
    "# setting parameters\n",
    "thresh_time = 10.\n",
    "thresh_indicator = 'i_c'\n",
    "thresh_value = 0.5\n",
    "t_max = 40.\n",
    "indicators = ['i_c', 'G']\n",
    "t_scatt = [20., t_max]\n",
    "cond = pd.DataFrame(index=trj.index)\n",
    "cond2 = pd.DataFrame(index=trj2.index)\n",
    "\n",
    "for s, t in trj.index:\n",
    "    print(s, t)\n",
    "    cond.loc[(s, t), \n",
    "             thresh_indicator] = trj.loc[(s, thresh_time), thresh_indicator]\n",
    "\n",
    "# for s in trj2.index.levels[0]:\n",
    "#     tmp = trj2.loc[(s, thresh_time), thresh_indicator]\n",
    "#     cond2.loc[(s, trj2.index.levels[1].values.tolist()),\n",
    "#               thresh_indicator] = tmp \n"
   ]
  },
  {
   "cell_type": "code",
   "execution_count": null,
   "metadata": {},
   "outputs": [],
   "source": []
  },
  {
   "cell_type": "code",
   "execution_count": null,
   "metadata": {},
   "outputs": [],
   "source": [
    "with pd.HDFStore(path + 'X0c.h5') as store:\n",
    "    trj = store.select('dat_0', where='phi=.8')\n",
    "with pd.HDFStore(path + 'X0c.h5') as store:\n",
    "    trj2 = store.select('dat_2', where='phi=.8')\n",
    "    \n",
    "trj2.index.names = trj.index.names\n",
    "\n",
    "for trj_i in [trj, trj2]:\n",
    "    trj_i.index = trj_i.index.droplevel(['eps', 'phi', 'test'])\n",
    "    trj_i = trj_i.reset_index().drop_duplicates(['sample', 'tstep']).set_index(['sample', 'tstep'])\n",
    "\n",
    "\n",
    "# setting parameters\n",
    "thresh_time = 10.\n",
    "thresh_indicator = 'i_c'\n",
    "thresh_value = 0.5\n",
    "t_max = 40.\n",
    "indicators = ['i_c', 'G']\n",
    "t_scatt = [20., t_max]\n",
    "cond = pd.DataFrame(index=trj.index)\n",
    "cond2 = pd.DataFrame(index=trj2.index)"
   ]
  },
  {
   "cell_type": "code",
   "execution_count": null,
   "metadata": {},
   "outputs": [],
   "source": [
    "trj2 = trj2.reset_index().drop_duplicates(['sample', 'tstep']).set_index(['sample', 'tstep'])"
   ]
  },
  {
   "cell_type": "code",
   "execution_count": null,
   "metadata": {},
   "outputs": [],
   "source": [
    "i=5\n",
    "print(f'phi = 0.{i}')\n",
    "with pd.HDFStore(path + 'X0c.h5') as store:\n",
    "    trj = store.select('dat_0', where=f'phi=.{i}')\n",
    "with pd.HDFStore(path + 'X0c.h5') as store:\n",
    "    trj2 = store.select('dat_2', where=f'phi=.{i}')\n",
    "\n",
    "trj2.index.names = trj.index.names\n",
    "\n",
    "for trj_i in [trj, trj2]:\n",
    "    trj_i.index = trj_i.index.droplevel(['eps', 'phi', 'test'])\n",
    "    trj_i = trj_i.reset_index().drop_duplicates(['sample', 'tstep']).set_index(['sample', 'tstep'])\n",
    "trj = trj.reset_index().drop_duplicates(['sample', 'tstep']).set_index(['sample', 'tstep'])\n",
    "trj2 = trj2.reset_index().drop_duplicates(['sample', 'tstep']).set_index(['sample', 'tstep'])\n",
    "trj.head()"
   ]
  },
  {
   "cell_type": "code",
   "execution_count": null,
   "metadata": {},
   "outputs": [],
   "source": [
    "fig, ax = plt.subplots(figsize=(8, 8))\n",
    "\n",
    "for obs, color in zip(['r_c', 'r_d'], ['blue', 'black']):\n",
    "    print(obs)\n",
    "    trj_plt = trj[[obs]].unstack('sample').plot(ax=ax, color=color, legend=False, alpha=0.1)\n",
    "\n",
    "ax.set_xlim([5, 12.5])\n",
    "ax.set_ylim([0.07, 0.08])"
   ]
  },
  {
   "cell_type": "code",
   "execution_count": null,
   "metadata": {},
   "outputs": [],
   "source": [
    "trj.loc[trj['r_c']>trj['r_d']][['r_c', 'r_d']].reset_index().groupby('sample')"
   ]
  },
  {
   "cell_type": "code",
   "execution_count": null,
   "metadata": {},
   "outputs": [],
   "source": []
  }
 ],
 "metadata": {
  "kernelspec": {
   "display_name": "Python [conda env:py36]",
   "language": "python",
   "name": "conda-env-py36-py"
  },
  "language_info": {
   "codemirror_mode": {
    "name": "ipython",
    "version": 3
   },
   "file_extension": ".py",
   "mimetype": "text/x-python",
   "name": "python",
   "nbconvert_exporter": "python",
   "pygments_lexer": "ipython3",
   "version": "3.6.4"
  }
 },
 "nbformat": 4,
 "nbformat_minor": 2
}
