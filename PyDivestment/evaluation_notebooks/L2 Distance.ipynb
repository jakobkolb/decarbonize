{
 "cells": [
  {
   "cell_type": "code",
   "execution_count": 59,
   "metadata": {
    "collapsed": true
   },
   "outputs": [],
   "source": [
    "import numpy as np\n",
    "import pandas as pd\n",
    "import matplotlib.pyplot as plt\n",
    "\n",
    "from scipy.interpolate import interp1d"
   ]
  },
  {
   "cell_type": "code",
   "execution_count": 65,
   "metadata": {},
   "outputs": [],
   "source": [
    "micro_data = pd.read_pickle('../divestdata/P3/micro/unified_trajectory')['mean_trajectory']\n",
    "macro_data = pd.read_pickle('../divestdata/P3/aggregate/unified_trajectory')['mean_trajectory']\n",
    "rep_data = pd.read_pickle('../divestdata/P3/res/unified_trajectory')['mean_trajectory']\n",
    "levels=['b_d', 'phi', 'tau', 'eps']\n",
    "key=[1.25, 0.5, 1.0, 0.01]"
   ]
  },
  {
   "cell_type": "code",
   "execution_count": 107,
   "metadata": {
    "collapsed": true
   },
   "outputs": [],
   "source": [
    "def l_2_distance(d1, d2, observable=None):\n",
    "    \n",
    "    d1_data = d1.unstack('observables')[[observable]]\n",
    "    d2_data = d2.unstack('observables')[[observable]]\n",
    "    \n",
    "    names = d1.index.names\n",
    "    print(names)\n",
    "    indices = {ax: list(d1.index.levels[names.index(ax)].values) for ax in names[:2]}\n",
    "    print(indices)\n",
    "    output = np.zeros((len(indices[names[0]]),len(indices[names[1]])))\n",
    "    \n",
    "    for i, n0 in enumerate(indices[names[0]]):\n",
    "        for j, n1 in enumerate(indices[names[1]]):\n",
    "            levels = names[:2]\n",
    "            tkey = [n0, n1]\n",
    "    \n",
    "            # get values and times from dataframes\n",
    "            d1_slice = d1_data.xs(key=tkey, level=levels).values.T[0]\n",
    "            d1_times = d1_data.xs(key=tkey, level=levels).index.values\n",
    "\n",
    "            d2_slice = d2_data.xs(key=tkey, level=levels).values.T[0]\n",
    "            d2_times = d2_data.xs(key=tkey, level=levels).index.values\n",
    "\n",
    "            # interpolate to get values on equal timepoints\n",
    "            d1_ipl = interp1d(d1_times, d1_slice)\n",
    "            d2_ipl = interp1d(d2_times, d2_slice)\n",
    "\n",
    "            samples = 200\n",
    "            times = np.linspace(d1_times[0], d1_times[-1], samples)\n",
    "            d1_ipl_data = d1_ipl(times)\n",
    "            d2_ipl_data = d2_ipl(times)\n",
    "            dd = d1_ipl_data - d2_ipl_data\n",
    "            l2 = sum(dd*dd)\n",
    "            output[i, j] = l2\n",
    "            \n",
    "    return output"
   ]
  },
  {
   "cell_type": "code",
   "execution_count": 108,
   "metadata": {},
   "outputs": [
    {
     "name": "stdout",
     "output_type": "stream",
     "text": [
      "['phi', 'tau', 'timesteps', 'observables']\n",
      "{'phi': [0.0, 0.10000000000000001, 0.20000000000000001, 0.29999999999999999, 0.40000000000000002, 0.5, 0.59999999999999998, 0.69999999999999996, 0.80000000000000004, 0.90000000000000002, 1.0], 'tau': [0.10000000000000001, 0.31622776601683794, 1.0, 3.1622776601683795, 10.0, 31.622776601683793, 100.0, 316.22776601683796, 1000.0]}\n"
     ]
    },
    {
     "data": {
      "text/plain": [
       "array([[   39.548044  ,    42.74333092,   192.84918642,   509.57148251,\n",
       "         1350.49690518,  1041.55545486,  1454.74866297,  2065.93794809,\n",
       "         2143.80510179],\n",
       "       [   57.32122269,    96.92883411,   190.10778188,   525.24021569,\n",
       "         1856.68639645,   967.33294845,  1488.8492588 ,  2049.15411215,\n",
       "         2130.52107222],\n",
       "       [   61.94205505,   121.46709193,   282.02598094,   653.12304185,\n",
       "         1795.68155297,   897.70611787,  1773.63771553,  2060.36379338,\n",
       "         2144.77678309],\n",
       "       [   32.72504545,    77.79363218,   239.34964857,   600.43951446,\n",
       "         1055.16473325,   844.23384838,  1714.20849249,  2087.03410951,\n",
       "         2150.44963831],\n",
       "       [   19.60810548,   118.48968611,   262.55395168,   524.62675401,\n",
       "          823.87687157,   976.33397291,  1803.93148212,  2141.01784128,\n",
       "         2134.59641716],\n",
       "       [   43.66542768,   223.06729407,   231.19155983,   721.74790724,\n",
       "          798.07023431,  1370.85664782,  1970.69488186,  2135.85405627,\n",
       "         2145.49731801],\n",
       "       [   45.92238955,    97.10576436,   143.14856845,   742.48767466,\n",
       "          672.30992607,  1313.17698674,  2019.71045156,  2170.48658561,\n",
       "         2164.30238182],\n",
       "       [   54.09046948,   115.59671704,   114.70406803,   629.13420516,\n",
       "          761.22530145,  1705.93895487,  2044.94469857,  2148.39894712,\n",
       "         2147.71761299],\n",
       "       [   78.46326691,    25.58528945,   286.83593558,   759.06722442,\n",
       "         1081.10007913,  1944.57041703,  2073.77057005,  2148.8592101 ,\n",
       "         2175.39059656],\n",
       "       [   27.66818205,   390.61791733,   800.1011708 ,  1060.24597143,\n",
       "         1813.0957612 ,  2070.86351387,  2132.5159159 ,  2169.87917519,\n",
       "         2151.21998763],\n",
       "       [ 2126.92723569,  2128.61395596,  2133.7753416 ,  2141.95750297,\n",
       "         2148.81902488,  2153.36763025,  2155.62967157,  2156.51548696,\n",
       "         2156.77997051]])"
      ]
     },
     "execution_count": 108,
     "metadata": {},
     "output_type": "execute_result"
    }
   ],
   "source": [
    "levels=['b_d', 'eps']\n",
    "key=[1.25, 0.05]\n",
    "\n",
    "\n",
    "l_2_distance(micro_data.xs(key=key, level=levels), macro_data.xs(key=key, level=levels), observable='g')"
   ]
  },
  {
   "cell_type": "code",
   "execution_count": null,
   "metadata": {
    "collapsed": true
   },
   "outputs": [],
   "source": []
  }
 ],
 "metadata": {
  "kernelspec": {
   "display_name": "Python 3",
   "language": "python",
   "name": "python3"
  },
  "language_info": {
   "codemirror_mode": {
    "name": "ipython",
    "version": 3
   },
   "file_extension": ".py",
   "mimetype": "text/x-python",
   "name": "python",
   "nbconvert_exporter": "python",
   "pygments_lexer": "ipython3",
   "version": "3.6.0"
  }
 },
 "nbformat": 4,
 "nbformat_minor": 2
}
