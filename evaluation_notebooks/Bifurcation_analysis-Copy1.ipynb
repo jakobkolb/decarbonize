{
 "cells": [
  {
   "cell_type": "code",
   "execution_count": null,
   "metadata": {
    "nbpresent": {
     "id": "bd5706d1-e612-4dc0-9eaa-05170b1c295d"
    }
   },
   "outputs": [],
   "source": [
    "# Copyright (C) 2016-2018 by Jakob J. Kolb at Potsdam Institute for Climate\n",
    "# Impact Research\n",
    "#\n",
    "# Contact: kolb@pik-potsdam.de\n",
    "# License: GNU AGPL Version 3\n",
    "%matplotlib inline\n",
    "#import PyDSTool as pdt\n",
    "import numpy as np\n",
    "import networkx as nx\n",
    "from random import shuffle\n",
    "import sympy as sp\n",
    "import pandas as pd\n",
    "import matplotlib.pyplot as plt\n",
    "from pydivest.macro_model.integrate_equations_aggregate import IntegrateEquationsAggregate as MacroModel\n",
    "from pydivest.micro_model.divestmentcore import DivestmentCore as MicroModel\n",
    "from pydivest.default_params import ExperimentDefaults \n",
    "\n",
    "from pymofa.experiment_handling import even_time_series_spacing\n"
   ]
  },
  {
   "cell_type": "code",
   "execution_count": null,
   "metadata": {
    "nbpresent": {
     "id": "ab2d0eb6-701b-4e60-b1de-27b8bd85e96a"
    }
   },
   "outputs": [],
   "source": [
    "path = \"../output_data/X7/mean_trj.h5\"\n",
    "path_err = \"../output_data/X7/std_trj.h5\"\n",
    "\n",
    "with pd.HDFStore(path) as store:\n",
    "    data1 = store.select('dat_0')\n",
    "    data2 = store.select('dat_1')\n",
    "    \n",
    "with pd.HDFStore(path_err) as store:\n",
    "    data1_err = store.select('dat_0')\n",
    "    data2_err = store.select('dat_1')\n",
    "\n",
    "# print(len(data1.index.levels[5]))\n",
    "# print(len(data2.index.levels[5]))\n",
    "\n",
    "# t_n = 100\n",
    "# xis1 = []\n",
    "# xis2 = []\n",
    "# data_points = 51\n",
    "# xi_min = 0.1\n",
    "# xi_max = 0.2\n",
    "# for xi1, xi2 in zip(np.linspace(xi_min, xi_max, data_points), np.linspace(xi_max, xi_min, data_points)):\n",
    "#     xis1 += [xi1]*t_n\n",
    "#     xis2 += [xi2]*t_n*2\n",
    "    \n",
    "# print(len(xis1))\n",
    "# print(len(xis2))\n",
    "    \n",
    "# data1['xi'] = xis1 + xis1\n",
    "# data2['xi'] = xis2 + xis2\n",
    "\n",
    "d_sets = [data1, data2, data1_err, data2_err]\n",
    "for d in d_sets:\n",
    "    d.index = d.index.droplevel([0,1,3,4])\n",
    "data1.head()\n",
    "\n",
    "fig, ax = plt.subplots()\n",
    "\n",
    "data1.xs(level='approx', key=1)[['C']].plot(style='r-.', ax=ax)\n",
    "data2.xs(level='approx', key=1)[['C']].plot(style='b-.', ax=ax)\n",
    "\n",
    "data1.xs(level='approx', key=0)[['C']].plot(style='r--', ax=ax, alpha=0.4)\n",
    "data2.xs(level='approx', key=0)[['C']].plot(style='b--', ax=ax, alpha=0.4)\n",
    "\n",
    "axb = ax.twinx()\n",
    "\n",
    "data1.xs(level='approx', key=1)[['xi']].plot(style='r-', ax=axb)\n",
    "data2.xs(level='approx', key=1)[['xi']].plot(style='b-', ax=axb)\n",
    "\n",
    "def plt_err(dta, dtb, obs, ax, color='k'):\n",
    "    t = dta.xs(level='approx', key=0).index.values\n",
    "    x = dta.xs(level='approx', key=0)[[obs]].T.values[0]\n",
    "    dx = dtb.xs(level='approx', key=0)[[obs]].T.values[0]\n",
    "    ax.fill_between(t, x+dx, x-dx, alpha=0.1, color=color)\n",
    "\n",
    "plt_err(data1, data1_err, 'x', ax)\n",
    "plt_err(data2, data2_err, 'x', ax)"
   ]
  },
  {
   "cell_type": "code",
   "execution_count": null,
   "metadata": {},
   "outputs": [],
   "source": [
    "green  = '#69923A'\n",
    "blue = '#009FDA'\n",
    "grey = '#8E908F'\n",
    "orange = '#E37222'\n",
    "\n",
    "colors = [blue, orange]\n",
    "\n",
    "fig, ax = plt.subplots(figsize=(5, 6))\n",
    "\n",
    "data1.xs(level='approx', key=1).groupby('xi').mean()[['C']].plot(style='--', ax=ax, color=blue)\n",
    "data2.xs(level='approx', key=1).groupby('xi').mean()[['C']].plot(style='--', ax=ax, legend=False, color=blue)\n",
    "\n",
    "data1.xs(level='approx', key=0).groupby('xi').mean()[['C']].plot(style='ro', ax=ax, alpha=.3, legend=False)\n",
    "data2.xs(level='approx', key=0).groupby('xi').mean()[['C']].plot(style='ro', ax=ax, alpha=.3)\n",
    "\n",
    "dta = data1.groupby(['xi', 'approx']).mean()\n",
    "dtb = data1_err.groupby(['xi', 'approx']).mean()\n",
    "plt_err(dta, dtb, 'C', ax, color='k')\n",
    "\n",
    "dta = data2.groupby(['xi', 'approx']).mean()\n",
    "dtb = data2_err.groupby(['xi', 'approx']).mean()\n",
    "plt_err(dta, dtb, 'C', ax, color='k')\n",
    "\n",
    "h,l = ax.get_legend_handles_labels()\n",
    "ax.legend([h[1], h[3]],[\"approximation\", \"micro model\"], loc=2)\n",
    "\n",
    "ax.set_xlabel(r'learning rate $\\gamma$')\n",
    "ax.set_ylabel(r'Knowledge Stock $C$')\n",
    "\n",
    "ax.set_xlim([.12, .135])\n",
    "dta.head()\n",
    "\n",
    "fig.savefig('hysteresis_C.pdf')"
   ]
  },
  {
   "cell_type": "code",
   "execution_count": null,
   "metadata": {},
   "outputs": [],
   "source": [
    "green  = '#69923A'\n",
    "blue = '#009FDA'\n",
    "grey = '#8E908F'\n",
    "orange = '#E37222'\n",
    "\n",
    "colors = [blue, orange]\n",
    "\n",
    "fig, ax = plt.subplots(figsize=(5, 6))\n",
    "\n",
    "data1.xs(level='approx', key=1).groupby('xi').mean()[['z']].plot(style='--', ax=ax, color=blue)\n",
    "data2.xs(level='approx', key=1).groupby('xi').mean()[['z']].plot(style='--', ax=ax, legend=False, color=orange)\n",
    "\n",
    "data1.xs(level='approx', key=0).groupby('xi').mean()[['z']].plot(style='bo', ax=ax, alpha=.3, legend=False)\n",
    "data2.xs(level='approx', key=0).groupby('xi').mean()[['z']].plot(style='ro', ax=ax, alpha=.3)\n",
    "\n",
    "dta = data1.groupby(['xi', 'approx']).mean()\n",
    "dtb = data1_err.groupby(['xi', 'approx']).mean()\n",
    "plt_err(dta, dtb, 'z', ax, color='k')\n",
    "\n",
    "dta = data2.groupby(['xi', 'approx']).mean()\n",
    "dtb = data2_err.groupby(['xi', 'approx']).mean()\n",
    "plt_err(dta, dtb, 'z', ax, color='k')\n",
    "\n",
    "h,l = ax.get_legend_handles_labels()\n",
    "ax.legend([h[1], h[3]],[\"approximation\", \"micro model\"], loc=2)\n",
    "\n",
    "ax.set_xlabel(r'Learning rate $\\gamma$')\n",
    "ax.set_ylabel(r'Active edges $[cd]/M$')\n",
    "\n",
    "ax.set_xlim([.12, .135])\n",
    "dta.head()\n",
    "\n",
    "fig.savefig('hysteresis_z.pdf')"
   ]
  },
  {
   "cell_type": "code",
   "execution_count": null,
   "metadata": {},
   "outputs": [],
   "source": []
  },
  {
   "cell_type": "code",
   "execution_count": null,
   "metadata": {
    "nbpresent": {
     "id": "e248dff2-3732-4aaa-8eb3-79f9e044eccb"
    }
   },
   "outputs": [],
   "source": []
  },
  {
   "cell_type": "code",
   "execution_count": null,
   "metadata": {
    "nbpresent": {
     "id": "7c573cce-6329-4ce1-96ac-dbb9185501a6"
    }
   },
   "outputs": [],
   "source": []
  },
  {
   "cell_type": "code",
   "execution_count": null,
   "metadata": {
    "nbpresent": {
     "id": "ef9b99e0-384c-472c-87bb-64e89816e758"
    }
   },
   "outputs": [],
   "source": []
  },
  {
   "cell_type": "code",
   "execution_count": null,
   "metadata": {
    "nbpresent": {
     "id": "7d48d623-ca35-4979-b5e3-7d499c757fbc"
    }
   },
   "outputs": [],
   "source": []
  },
  {
   "cell_type": "code",
   "execution_count": null,
   "metadata": {
    "keep_output": true,
    "nbpresent": {
     "id": "dc389cfb-3aa0-4d99-8ba9-06d92521c566"
    }
   },
   "outputs": [],
   "source": []
  },
  {
   "cell_type": "code",
   "execution_count": null,
   "metadata": {
    "deep_output": true,
    "nbpresent": {
     "id": "d1afd35c-58fb-444f-a954-2782e1097a34"
    }
   },
   "outputs": [],
   "source": []
  },
  {
   "cell_type": "code",
   "execution_count": null,
   "metadata": {
    "keep_output": true,
    "nbpresent": {
     "id": "f3d51327-fcb0-4502-b852-13290894ea30"
    }
   },
   "outputs": [],
   "source": []
  },
  {
   "cell_type": "code",
   "execution_count": null,
   "metadata": {},
   "outputs": [],
   "source": []
  },
  {
   "cell_type": "code",
   "execution_count": null,
   "metadata": {},
   "outputs": [],
   "source": []
  }
 ],
 "metadata": {
  "celltoolbar": "Edit Metadata",
  "kernelspec": {
   "display_name": "Python [conda env:py36]",
   "language": "python",
   "name": "conda-env-py36-py"
  },
  "language_info": {
   "codemirror_mode": {
    "name": "ipython",
    "version": 3
   },
   "file_extension": ".py",
   "mimetype": "text/x-python",
   "name": "python",
   "nbconvert_exporter": "python",
   "pygments_lexer": "ipython3",
   "version": "3.6.0"
  }
 },
 "nbformat": 4,
 "nbformat_minor": 2
}
