{
 "cells": [
  {
   "cell_type": "code",
   "execution_count": null,
   "metadata": {},
   "outputs": [],
   "source": [
    "# Copyright (C) 2016-2018 by Jakob J. Kolb at Potsdam Institute for Climate\n",
    "# Impact Research\n",
    "#\n",
    "# Contact: kolb@pik-potsdam.de\n",
    "# License: GNU AGPL Version 3\n",
    "\n",
    "%matplotlib inline\n",
    "\n",
    "import numpy as np\n",
    "import sympy as sp\n",
    "import pandas as pd\n",
    "import pickle as pkl\n",
    "import matplotlib.pyplot as plt\n",
    "from scipy.integrate import odeint\n",
    "from scipy.stats import linregress\n",
    "\n",
    "smallest_positive_number = np.finfo(dtype='float')\n",
    "\n",
    "sp.init_printing()\n",
    "\n",
    "input_data = 'res_raw.pkl'"
   ]
  },
  {
   "cell_type": "markdown",
   "metadata": {},
   "source": [
    "Load right hand side of ode system"
   ]
  },
  {
   "cell_type": "code",
   "execution_count": null,
   "metadata": {},
   "outputs": [],
   "source": [
    "rhs = np.load(input_data)"
   ]
  },
  {
   "cell_type": "markdown",
   "metadata": {},
   "source": [
    "Define symbols for dynamic variables"
   ]
  },
  {
   "cell_type": "code",
   "execution_count": null,
   "metadata": {},
   "outputs": [],
   "source": [
    "mucc, mucd, mudc, mudd = sp.symbols('mu_c^c mu_c^d mu_d^c mu_d^d', positive=True, real=True)\n",
    "x, y, z, k = sp.symbols('x y z k')\n",
    "c, g, p, g0 = sp.symbols('c, g, p, g_0')"
   ]
  },
  {
   "cell_type": "markdown",
   "metadata": {},
   "source": [
    "Define symbols for parameters"
   ]
  },
  {
   "cell_type": "code",
   "execution_count": null,
   "metadata": {},
   "outputs": [],
   "source": [
    "bc, bd, bR, g0, e, delta, rs, xi, p, k, epsilon, phi, tau, pi, N = sp.symbols('b_c b_d b_R g_0 e delta s xi p k epsilon phi tau, pi, N')"
   ]
  },
  {
   "cell_type": "markdown",
   "metadata": {},
   "source": [
    "Set values for parameters and substitute them into the right hand side of the ode system"
   ]
  },
  {
   "cell_type": "code",
   "execution_count": null,
   "metadata": {},
   "outputs": [],
   "source": [
    "N_val = 100\n",
    "p_net = 0.125\n",
    "alpha = 0.1\n",
    "e_val = 100.\n",
    "t_g = 100.\n",
    "r_s = 0.23\n",
    "b_c = 0.5\n",
    "b_d = 1.2\n",
    "d_c = 0.06\n",
    "p_val = 5.\n",
    "g_0 = 1.\n",
    "params = {bc: b_c, bd: b_d, \n",
    "          bR: alpha**2 * e_val, \n",
    "          g0: g_0,\n",
    "          e: e_val, delta: 0.06,\n",
    "          rs: r_s, pi: 0.5,\n",
    "          N: 1., p: p_val,\n",
    "          xi: 1./4, p: p_val, \n",
    "          k: p_net * N_val, epsilon: 0.05, \n",
    "          phi: 0.8, tau: 1.}\n",
    "variables = [x, y, z, mucc, mucd, mudc, mudd, c, g]"
   ]
  },
  {
   "cell_type": "code",
   "execution_count": null,
   "metadata": {},
   "outputs": [],
   "source": [
    "rhs = rhs.subs(params)"
   ]
  },
  {
   "cell_type": "code",
   "execution_count": null,
   "metadata": {},
   "outputs": [],
   "source": [
    "def dot_S(values, t):\n",
    "    variables = [x, y, z, mucc, mucd, mudc, mudd, c, g]\n",
    "    if values[-1] < alpha * g_0:\n",
    "        values[-1] = alpha * g_0\n",
    "    # add to g such that 1 - alpha**2 * (g/g_0)**2 remains positive\n",
    "    subs1 = {var: val for (var, val) in zip(variables, values)}\n",
    "    print t, 1 - alpha*(g_0/values[-1]), values[-1]\n",
    "    return list(rhs.subs(subs1).evalf())"
   ]
  },
  {
   "cell_type": "code",
   "execution_count": null,
   "metadata": {},
   "outputs": [],
   "source": [
    "t = np.linspace(0, 20, 100)\n",
    "initial_conditions = [0, 0, 0, 1, 1, 1, 1, 1, g_0]\n",
    "trajectory = odeint(dot_S, initial_conditions, t)"
   ]
  },
  {
   "cell_type": "code",
   "execution_count": null,
   "metadata": {},
   "outputs": [],
   "source": [
    "res = {'parameters': params,\n",
    "       'variables': variables,\n",
    "       'initial conditions': initial_conditions,\n",
    "       'trajectory': trajectory}\n",
    "\n",
    "with open('analytic_trajectory.pkl', 'wb') as outf:\n",
    "    pkl.dump(res, outf)"
   ]
  },
  {
   "cell_type": "code",
   "execution_count": null,
   "metadata": {},
   "outputs": [],
   "source": [
    "slope = linregress(t, trajectory[:,8])\n",
    "slope"
   ]
  },
  {
   "cell_type": "code",
   "execution_count": null,
   "metadata": {},
   "outputs": [],
   "source": [
    "t_0 = -slope[1]/slope[0]"
   ]
  },
  {
   "cell_type": "code",
   "execution_count": null,
   "metadata": {},
   "outputs": [],
   "source": [
    "t_0"
   ]
  },
  {
   "cell_type": "code",
   "execution_count": null,
   "metadata": {},
   "outputs": [],
   "source": [
    "tmax = 40\n",
    "plt.plot(t[0:-tmax], trajectory[0:-tmax,0:3])"
   ]
  },
  {
   "cell_type": "code",
   "execution_count": null,
   "metadata": {},
   "outputs": [],
   "source": [
    "plt.plot(t, trajectory[:,3:7])"
   ]
  },
  {
   "cell_type": "code",
   "execution_count": null,
   "metadata": {},
   "outputs": [],
   "source": [
    "plt.plot(t, trajectory[:,7])"
   ]
  },
  {
   "cell_type": "code",
   "execution_count": null,
   "metadata": {},
   "outputs": [],
   "source": [
    "fig = plt.figure()\n",
    "ax = fig.add_subplot(111)\n",
    "ax.plot(t[:], trajectory[:,8] - alpha)\n"
   ]
  }
 ],
 "metadata": {
  "kernelspec": {
   "display_name": "Python 2",
   "language": "python",
   "name": "python2"
  },
  "language_info": {
   "codemirror_mode": {
    "name": "ipython",
    "version": 2
   },
   "file_extension": ".py",
   "mimetype": "text/x-python",
   "name": "python",
   "nbconvert_exporter": "python",
   "pygments_lexer": "ipython2",
   "version": "2.7.12"
  }
 },
 "nbformat": 4,
 "nbformat_minor": 1
}
