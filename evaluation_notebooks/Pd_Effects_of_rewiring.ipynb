{
 "cells": [
  {
   "cell_type": "code",
   "execution_count": null,
   "metadata": {},
   "outputs": [],
   "source": [
    "import pandas as pd\n",
    "import matplotlib.pyplot as plt\n",
    "import numpy as np"
   ]
  },
  {
   "cell_type": "code",
   "execution_count": null,
   "metadata": {},
   "outputs": [],
   "source": [
    "path = '../output_data/P3o2n.h5'\n",
    "with pd.HDFStore(path) as store:\n",
    "    print(store.info())\n",
    "    data = store.select(key='dat_0')\n",
    "data.index = data.index.droplevel(['tau', 'xi', 'kappa_c', 'test', 'approximate'])\n",
    "data.reset_index()\n",
    "data['Y'] = data['Y_c'] + data['Y_d']\n",
    "data_mean = data.groupby(['phi', 'tstep']).mean()\n",
    "data_std = data.groupby(['phi', 'tstep']).std()"
   ]
  },
  {
   "cell_type": "code",
   "execution_count": null,
   "metadata": {},
   "outputs": [],
   "source": [
    "index_dict = {key: list(value) for key, value in zip(data_mean.index.names, data_mean.index.levels)}\n",
    "print(data.columns.values)\n",
    "data.index.names"
   ]
  },
  {
   "cell_type": "code",
   "execution_count": null,
   "metadata": {},
   "outputs": [],
   "source": [
    "fig, axes = plt.subplots(ncols=2, nrows=2)\n",
    "axes = [ax for l in axes for ax in l]\n",
    "fig.set_figwidth(9)\n",
    "fig.set_figheight(7)\n",
    "\n",
    "# observables=['local clustering coefficient', 'mean shortest path', 'N_c over N', '[cd] over M']\n",
    "observables=['N_c over N', '[cd] over M', 'r_c', 'Y_c']\n",
    "y_axis_labels = ['$r_c$']\n",
    "\n",
    "def plot_data(ax, mean_data, std_data, observable, l_obs=None, colors=None):\n",
    "    # select data\n",
    "    tmp_m = mean_data[[observable]].unstack('phi')\n",
    "    tmp_s = std_data[[observable]].unstack('phi')\n",
    "    # adjust column index\n",
    "    tmp_m.columns = tmp_m.columns.droplevel(0)\n",
    "    tmp_s.columns = tmp_s.columns.droplevel(0)\n",
    "    # save column values and reset with human readable names\n",
    "#     phi_values = tmp_m.columns.values\n",
    "    phi_values = [0., .5, .75, .85, .9, .95]\n",
    "    print(phi_values)\n",
    "#     tmp_m.columns = [f'$\\\\varphi = {phi}$' for phi in tmp_m.columns]\n",
    "    # plot data for individual phi values\n",
    "    if colors is None:\n",
    "        import matplotlib.colors as mcolors\n",
    "        colors = [c for _, c in mcolors.TABLEAU_COLORS.items()]\n",
    "        \n",
    "    for i, phi in enumerate(phi_values):\n",
    "        color = colors[i]\n",
    "        tmp_m_phi = tmp_m[[phi]].values.T[0]\n",
    "        tmp_s_phi = tmp_s[[phi]].values.T[0]\n",
    "        t = tmp_m.index.values\n",
    "        ax.plot(t, tmp_m_phi, color, label=f'$\\\\varphi = {phi}$')\n",
    "#         ax.plot(t, tmp_m_phi - tmp_s_phi, color, alpha=0.2)\n",
    "#         ax.plot(t, tmp_m_phi + tmp_s_phi, color, alpha=0.2)\n",
    "#         ax.fill_between(t, tmp_m_phi - tmp_s_phi, tmp_m_phi + tmp_s_phi, color=color, alpha=0.2)\n",
    "    if observable == l_obs:\n",
    "        ax.legend()\n",
    "    \n",
    "    ax.set_ylabel(observable)\n",
    "    ax.set_xlabel('t')\n",
    "\n",
    "for i, observable in enumerate(observables):\n",
    "    plot_data(axes[i], data_mean, data_std, observable, l_obs='Y_c')\n",
    "    axes[i].set_xlim([300, 800])\n",
    "\n",
    "fig.tight_layout()\n",
    "fig.savefig('varphi_scan.pdf')"
   ]
  },
  {
   "cell_type": "code",
   "execution_count": null,
   "metadata": {},
   "outputs": [],
   "source": [
    "data.head()"
   ]
  },
  {
   "cell_type": "code",
   "execution_count": null,
   "metadata": {},
   "outputs": [],
   "source": [
    "nops = [10, 190]\n",
    "ops = np.zeros(sum(nops), dtype='int')\n",
    "ops[:nops[0]] = 1\n",
    "ops"
   ]
  }
 ],
 "metadata": {
  "kernelspec": {
   "display_name": "Python [conda env:py36]",
   "language": "python",
   "name": "conda-env-py36-py"
  },
  "language_info": {
   "codemirror_mode": {
    "name": "ipython",
    "version": 3
   },
   "file_extension": ".py",
   "mimetype": "text/x-python",
   "name": "python",
   "nbconvert_exporter": "python",
   "pygments_lexer": "ipython3",
   "version": "3.6.4"
  }
 },
 "nbformat": 4,
 "nbformat_minor": 2
}
