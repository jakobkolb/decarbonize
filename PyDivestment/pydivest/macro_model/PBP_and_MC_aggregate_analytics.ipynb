{
 "cells": [
  {
   "cell_type": "markdown",
   "metadata": {},
   "source": [
    "## Equations for Moment Closure of Network-based micro-model for divestment of bounded rational households."
   ]
  },
  {
   "cell_type": "markdown",
   "metadata": {},
   "source": [
    "Imports and setup"
   ]
  },
  {
   "cell_type": "code",
   "execution_count": 1,
   "metadata": {},
   "outputs": [
    {
     "data": {
      "text/html": [
       "<style>.container { width:98% !important; }</style>"
      ],
      "text/plain": [
       "<IPython.core.display.HTML object>"
      ]
     },
     "metadata": {},
     "output_type": "display_data"
    }
   ],
   "source": [
    "import sympy as s\n",
    "import pickle as pkl\n",
    "from sympy.abc import epsilon, phi, tau\n",
    "from IPython.core.display import display, HTML\n",
    "display(HTML(\"<style>.container { width:98% !important; }</style>\"))\n",
    "s.init_printing()"
   ]
  },
  {
   "cell_type": "markdown",
   "metadata": {},
   "source": [
    "Define variables and parameters for the adaptive voter model"
   ]
  },
  {
   "cell_type": "code",
   "execution_count": 2,
   "metadata": {},
   "outputs": [],
   "source": [
    "# number of nodes\n",
    "N = s.Symbol('N', integer=True)\n",
    "# number of dirty nodes\n",
    "Nd = s.Symbol('N_d', integer=True)\n",
    "# number of clean nodes\n",
    "Nc = s.Symbol('N_c', integer=True)\n",
    "# number of edges\n",
    "K = s.Symbol('K', integer=True)\n",
    "# number of clean edges\n",
    "cc = s.Symbol('[cc]', integer=True)\n",
    "# number of dirty edges\n",
    "dd = s.Symbol('[dd]', integer=True)\n",
    "# number of mixed edges\n",
    "cd = s.Symbol('[cd]', integer=True)\n",
    "# average number of neighbors of clean nodes\n",
    "kc = s.Symbol('k_c', integer=True)\n",
    "# average number of neighbors of dirty nodes\n",
    "kd = s.Symbol('k_d', integer=True)\n",
    "# Nc - Nd\n",
    "X = s.Symbol('X', real=True)\n",
    "# cc - dd\n",
    "Y = s.Symbol('Y', real=True)\n",
    "# cd\n",
    "Z = s.Symbol('Z', real=True, positive=True)\n",
    "# income of dirty household\n",
    "Fd = s.Symbol('F_d', real=True, positive=True)\n",
    "# income of clean household\n",
    "Fc = s.Symbol('F_c', real=True, positive=True)\n",
    "# imitation probabilities\n",
    "Pcd, Pdc = s.symbols('Pcd Pdc')"
   ]
  },
  {
   "cell_type": "markdown",
   "metadata": {},
   "source": [
    "Define variables and parameters for the economic subsystem:"
   ]
  },
  {
   "cell_type": "code",
   "execution_count": 3,
   "metadata": {},
   "outputs": [],
   "source": [
    "# Total labor and labor shares\n",
    "P, Pc, Pd = s.symbols('P P_c P_d', positive=True, real=True)\n",
    "# Total clean and dirty capital\n",
    "Kc, Kd = s.symbols('K_c K_d', positive=True, real=True)\n",
    "# wages and return rates on clean and dirty capital\n",
    "w, rc, rd = s.symbols('w r_c r_d', positive=True, real=True)\n",
    "# resource use (R), remaining resource stock (G) and knowledge stock (C)\n",
    "R, G, C = s.symbols('R, G, C', positive=True, real=True)\n",
    "# endowments of clean and dirty households in clean and dirty capital.\n",
    "# First (lower) index denotes capital type, second (upper) index denotes household type\n",
    "Kcc, Kcd, Kdc, Kdd = s.symbols('K_c^{(c)} K_c^{(d)} K_d^{(c)} K_d^{(d)}', positive=True, real=True)\n",
    "# savings rate (rs), capital depreciation rate (delta), and elasticities for labor (pi), capital (kappac, kappad) and knowledge (xi)\n",
    "rs, delta, pi, kappac, kappad, xi = s.symbols('s delta pi kappa_c, kappa_d xi', positive=True, rational=True, real=True)\n",
    "# total factor productivity of sectors (bc, bd), initial resource extraction cost (bR), resource conversion efficiency (e) and initial resource stock (G0)\n",
    "bc, bd, bR, e, G0 = s.symbols('b_c b_d b_R e G_0', positive=True, real=True)\n",
    "# substitution symbols\n",
    "Xc, Xd, XR = s.symbols('X_c X_d X_R', positive=True, real=True)\n"
   ]
  },
  {
   "cell_type": "markdown",
   "metadata": {},
   "source": [
    "Defination of relations between variables and calculation of substitution of *primitive variables* by *state variables* of the system"
   ]
  },
  {
   "cell_type": "code",
   "execution_count": 4,
   "metadata": {},
   "outputs": [
    {
     "data": {
      "image/png": "[encoded data removed]",
      "text/latex": [
       "$$\\left \\{ N_{c} : \\frac{N}{2} + \\frac{X}{2}, \\quad N_{d} : \\frac{N}{2} - \\frac{X}{2}, \\quad [cc] : \\frac{K}{2} + \\frac{Y}{2} - \\frac{Z}{2}, \\quad [cd] : Z, \\quad [dd] : \\frac{K}{2} - \\frac{Y}{2} - \\frac{Z}{2}, \\quad k_{c} : \\frac{2 \\left(K + Y\\right)}{N + X}, \\quad k_{d} : \\frac{2 \\left(K - Y\\right)}{N - X}\\right \\}$$"
      ],
      "text/plain": [
       "⎧     N   X       N   X        K   Y   Z                 K   Y   Z       2⋅(K \n",
       "⎨N_c: ─ + ─, N_d: ─ - ─, [cc]: ─ + ─ - ─, [cd]: Z, [dd]: ─ - ─ - ─, k_c: ─────\n",
       "⎩     2   2       2   2        2   2   2                 2   2   2         N +\n",
       "\n",
       "+ Y)       2⋅(K - Y)⎫\n",
       "────, k_d: ─────────⎬\n",
       " X           N - X  ⎭"
      ]
     },
     "execution_count": 4,
     "metadata": {},
     "output_type": "execute_result"
    }
   ],
   "source": [
    "eqs = [\n",
    "    # total number of nodes N and edges K is constant\n",
    "    Nd+Nc-N,\n",
    "    cc+dd+cd-K,\n",
    "    # definition of variables for social system (X, Y, Z)\n",
    "    X-Nc+Nd,\n",
    "    Y-cc+dd,\n",
    "    Z-cd,\n",
    "    # definition of mean degree of clean and dirty households (kc, kd)\n",
    "    kc-(2*cc+cd)/Nc,\n",
    "    kd-(2*dd+cd)/Nd\n",
    "]\n",
    "vars1 = (Nc, Nd, cc, dd, cd, kc, kd)\n",
    "vars2 = (N, K, X, Y, Z)\n",
    "subs1 = s.solve(eqs, vars1, dict=True)[0]\n",
    "\n",
    "subs1"
   ]
  },
  {
   "cell_type": "markdown",
   "metadata": {},
   "source": [
    "Effect of events on state vector S = (X, Y, Z)"
   ]
  },
  {
   "cell_type": "code",
   "execution_count": 5,
   "metadata": {},
   "outputs": [],
   "source": [
    "# regular adaptive voter events\n",
    "s1 = s.Matrix([ 0, 1, -1]) # clean investor rewires\n",
    "s2 = s.Matrix([ 0,-1, -1]) # dirty investor rewires\n",
    "s3 = s.Matrix([-2,-kc,-1 + (1-1./kc)*((2*cc-cd)/Nc)]) # clean investor imitates c -> d\n",
    "s4 = s.Matrix([ 2, kd,-1 + (1-1./kd)*((2*dd-cd)/Nd)]) # dirty investor imitates d -> c\n",
    "\n",
    "# noise events\n",
    "\n",
    "s5 = s.Matrix([-2,-(2*cc+cd)/Nc,(2*cc-cd)/Nc]) # c -> d\n",
    "s6 = s.Matrix([ 2, (2*dd+cd)/Nd,(2*dd-cd)/Nd]) # d -> c\n",
    "s7 = s.Matrix([ 0,-1, 1]) # c-c -> c-d\n",
    "s8 = s.Matrix([ 0, 1,-1]) # c-d -> c-c\n",
    "s9 = s.Matrix([ 0, 1, 1]) # d-d -> d-c\n",
    "s10= s.Matrix([ 0,-1,-1]) # d-c -> d-d"
   ]
  },
  {
   "cell_type": "markdown",
   "metadata": {},
   "source": [
    "Probabilities for events to occur:"
   ]
  },
  {
   "cell_type": "code",
   "execution_count": 6,
   "metadata": {},
   "outputs": [],
   "source": [
    "p1 = (1-epsilon)*(Nc/N)*cd/(Nc * kc)*phi # clean investor rewires\n",
    "p2 = (1-epsilon)*(Nd/N)*cd/(Nd * kd)*phi # dirty investor rewires\n",
    "p3 = (1-epsilon)*(Nc/N)*cd/(Nc * kc)*(1-phi)* Pcd # clean investor imitates c -> d\n",
    "p4 = (1-epsilon)*(Nd/N)*cd/(Nd * kd)*(1-phi)* Pdc # dirty investor imitates d -> c\n",
    "p5 = epsilon * (1 - phi) * (1./2) * Nc/N # c -> d\n",
    "p6 = epsilon * (1 - phi) * (1./2) * Nd/N # d -> c\n",
    "p7 = epsilon * phi * Nc/N * (2*cc)/(2*cc+cd) * Nd/N # c-c -> c-d\n",
    "p8 = epsilon * phi * Nc/N * (cd)/(2*cc+cd) * Nc/N   # c-d -> c-c\n",
    "p9 = epsilon * phi * Nd/N * (2*dd)/(2*dd+cd) * Nc/N # d-d -> d-c\n",
    "p10= epsilon * phi * Nd/N * (cd)/(2*dd+cd) * Nd/N   # d-c -> d-d"
   ]
  },
  {
   "cell_type": "markdown",
   "metadata": {},
   "source": [
    "State space jumps are combined in a matrix $\\mathbf{S}$:"
   ]
  },
  {
   "cell_type": "code",
   "execution_count": 7,
   "metadata": {},
   "outputs": [],
   "source": [
    "S = s.Matrix(s1)\n",
    "for i, si in enumerate([s2, s3, s4, s5, s6, s7, s8, s9, s10]):\n",
    "    S = S.col_insert(i+1, si)"
   ]
  },
  {
   "cell_type": "markdown",
   "metadata": {},
   "source": [
    "Rates for events are given by the total rate of events N/tau times the probability for the individual events. These are combined in the rate vector $\\vec{r}$"
   ]
  },
  {
   "cell_type": "code",
   "execution_count": 8,
   "metadata": {},
   "outputs": [],
   "source": [
    "r = s.Matrix([p1])\n",
    "for j, pj in enumerate([s.Matrix([p]) for p in[p2, p3, p4, p5, p6, p7, p8, p9, p10]]):\n",
    "    r = r.col_insert(j+1, pj)\n",
    "r = N / tau * r"
   ]
  },
  {
   "cell_type": "markdown",
   "metadata": {},
   "source": [
    "The right hand side of the transition matrix of the markov process for the pair based proxy description of the adaptive voter model is given by the product of $\\vec{r}$ and $\\mathbf{S}$"
   ]
  },
  {
   "cell_type": "code",
   "execution_count": 9,
   "metadata": {},
   "outputs": [],
   "source": [
    "rhsPBP = S*s.Transpose(r)"
   ]
  },
  {
   "cell_type": "markdown",
   "metadata": {},
   "source": [
    "We substitute the naive variables (Nc, Nd, cc, cd, dd) with system state variables (X, Y, Z):"
   ]
  },
  {
   "cell_type": "code",
   "execution_count": 10,
   "metadata": {
    "scrolled": true
   },
   "outputs": [],
   "source": [
    "rhsPBP = rhsPBP.subs(subs1)"
   ]
  },
  {
   "cell_type": "markdown",
   "metadata": {},
   "source": [
    "Show resulting dynamic equations for PBP"
   ]
  },
  {
   "cell_type": "code",
   "execution_count": 11,
   "metadata": {},
   "outputs": [
    {
     "data": {
      "text/latex": [
       "$$\\left[\\begin{matrix}- \\frac{Pcd Z}{\\tau \\left(K + Y\\right)} \\left(N + X\\right) \\left(- \\epsilon + 1\\right) \\left(- \\phi + 1\\right) + \\frac{Pdc Z}{\\tau \\left(K - Y\\right)} \\left(N - X\\right) \\left(- \\epsilon + 1\\right) \\left(- \\phi + 1\\right) + \\frac{1.0 \\epsilon}{\\tau} \\left(\\frac{N}{2} - \\frac{X}{2}\\right) \\left(- \\phi + 1\\right) - \\frac{1.0 \\epsilon}{\\tau} \\left(\\frac{N}{2} + \\frac{X}{2}\\right) \\left(- \\phi + 1\\right)\\\\- \\frac{Pcd Z}{\\tau} \\left(- \\epsilon + 1\\right) \\left(- \\phi + 1\\right) + \\frac{Pdc Z}{\\tau} \\left(- \\epsilon + 1\\right) \\left(- \\phi + 1\\right) + \\frac{Z \\phi \\left(N + X\\right) \\left(- \\epsilon + 1\\right)}{2 \\tau \\left(K + Y\\right)} - \\frac{Z \\phi \\left(N - X\\right) \\left(- \\epsilon + 1\\right)}{2 \\tau \\left(K - Y\\right)} + \\frac{0.5 \\epsilon}{\\tau} \\left(- K - Y\\right) \\left(- \\phi + 1\\right) + \\frac{0.5 \\epsilon}{\\tau} \\left(K - Y\\right) \\left(- \\phi + 1\\right) + \\frac{Z \\epsilon \\phi \\left(\\frac{N}{2} + \\frac{X}{2}\\right)^{2}}{N \\tau \\left(K + Y\\right)} - \\frac{Z \\epsilon \\phi \\left(\\frac{N}{2} - \\frac{X}{2}\\right)^{2}}{N \\tau \\left(K - Y\\right)} - \\frac{2 \\epsilon \\phi}{N \\tau \\left(K + Y\\right)} \\left(\\frac{N}{2} - \\frac{X}{2}\\right) \\left(\\frac{N}{2} + \\frac{X}{2}\\right) \\left(\\frac{K}{2} + \\frac{Y}{2} - \\frac{Z}{2}\\right) + \\frac{2 \\epsilon \\phi}{N \\tau \\left(K - Y\\right)} \\left(\\frac{N}{2} - \\frac{X}{2}\\right) \\left(\\frac{N}{2} + \\frac{X}{2}\\right) \\left(\\frac{K}{2} - \\frac{Y}{2} - \\frac{Z}{2}\\right)\\\\\\frac{Pcd Z}{2 \\tau \\left(K + Y\\right)} \\left(N + X\\right) \\left(- \\epsilon + 1\\right) \\left(- \\phi + 1\\right) \\left(\\frac{1}{\\frac{N}{2} + \\frac{X}{2}} \\left(1 - \\frac{0.5 \\left(N + X\\right)}{K + Y}\\right) \\left(K + Y - 2 Z\\right) - 1\\right) + \\frac{Pdc Z}{2 \\tau \\left(K - Y\\right)} \\left(N - X\\right) \\left(- \\epsilon + 1\\right) \\left(- \\phi + 1\\right) \\left(\\frac{1}{\\frac{N}{2} - \\frac{X}{2}} \\left(1 - \\frac{0.5 \\left(N - X\\right)}{K - Y}\\right) \\left(K - Y - 2 Z\\right) - 1\\right) - \\frac{Z \\phi \\left(N + X\\right) \\left(- \\epsilon + 1\\right)}{2 \\tau \\left(K + Y\\right)} - \\frac{Z \\phi \\left(N - X\\right) \\left(- \\epsilon + 1\\right)}{2 \\tau \\left(K - Y\\right)} + \\frac{0.5 \\epsilon}{\\tau} \\left(- \\phi + 1\\right) \\left(K - Y - 2 Z\\right) + \\frac{0.5 \\epsilon}{\\tau} \\left(- \\phi + 1\\right) \\left(K + Y - 2 Z\\right) - \\frac{Z \\epsilon \\phi \\left(\\frac{N}{2} + \\frac{X}{2}\\right)^{2}}{N \\tau \\left(K + Y\\right)} - \\frac{Z \\epsilon \\phi \\left(\\frac{N}{2} - \\frac{X}{2}\\right)^{2}}{N \\tau \\left(K - Y\\right)} + \\frac{2 \\epsilon \\phi}{N \\tau \\left(K + Y\\right)} \\left(\\frac{N}{2} - \\frac{X}{2}\\right) \\left(\\frac{N}{2} + \\frac{X}{2}\\right) \\left(\\frac{K}{2} + \\frac{Y}{2} - \\frac{Z}{2}\\right) + \\frac{2 \\epsilon \\phi}{N \\tau \\left(K - Y\\right)} \\left(\\frac{N}{2} - \\frac{X}{2}\\right) \\left(\\frac{N}{2} + \\frac{X}{2}\\right) \\left(\\frac{K}{2} - \\frac{Y}{2} - \\frac{Z}{2}\\right)\\end{matrix}\\right]$$"
      ],
      "text/plain": [
       "⎡                                                                             \n",
       "⎢                                                                             \n",
       "⎢                                                                             \n",
       "⎢                                                                             \n",
       "⎢                                                                             \n",
       "⎢                                                                             \n",
       "⎢                                                                             \n",
       "⎢                                                                             \n",
       "⎢                                                                             \n",
       "⎢                                                    Pcd⋅Z⋅(-ε + 1)⋅(-φ + 1)  \n",
       "⎢                                                  - ─────────────────────── +\n",
       "⎢                                                               τ             \n",
       "⎢                                                                             \n",
       "⎢                                ⎛⎛    0.5⋅(N + X)⎞                  ⎞        \n",
       "⎢                                ⎜⎜1 - ───────────⎟⋅(K + Y - 2⋅Z)    ⎟        \n",
       "⎢                                ⎜⎝       K + Y   ⎠                  ⎟        \n",
       "⎢Pcd⋅Z⋅(N + X)⋅(-ε + 1)⋅(-φ + 1)⋅⎜─────────────────────────────── - 1⎟   Pdc⋅Z\n",
       "⎢                                ⎜             N   X                 ⎟        \n",
       "⎢                                ⎜             ─ + ─                 ⎟        \n",
       "⎢                                ⎝             2   2                 ⎠        \n",
       "⎢───────────────────────────────────────────────────────────────────── + ─────\n",
       "⎣                             2⋅τ⋅(K + Y)                                     \n",
       "\n",
       "                                                                              \n",
       "                                                                              \n",
       "                                            Pcd⋅Z⋅(N + X)⋅(-ε + 1)⋅(-φ + 1)   \n",
       "                                          - ─────────────────────────────── + \n",
       "                                                       τ⋅(K + Y)              \n",
       "                                                                              \n",
       "                                                                              \n",
       "                                                                              \n",
       "                                                                              \n",
       " Pdc⋅Z⋅(-ε + 1)⋅(-φ + 1)   Z⋅φ⋅(N + X)⋅(-ε + 1)   Z⋅φ⋅(N - X)⋅(-ε + 1)   0.5⋅ε\n",
       " ─────────────────────── + ──────────────────── - ──────────────────── + ─────\n",
       "            τ                  2⋅τ⋅(K + Y)            2⋅τ⋅(K - Y)             \n",
       "                                                                              \n",
       "                           ⎛⎛    0.5⋅(N - X)⎞                  ⎞              \n",
       "                           ⎜⎜1 - ───────────⎟⋅(K - Y - 2⋅Z)    ⎟              \n",
       "                           ⎜⎝       K - Y   ⎠                  ⎟              \n",
       "⋅(N - X)⋅(-ε + 1)⋅(-φ + 1)⋅⎜─────────────────────────────── - 1⎟              \n",
       "                           ⎜             N   X                 ⎟              \n",
       "                           ⎜             ─ - ─                 ⎟              \n",
       "                           ⎝             2   2                 ⎠   Z⋅φ⋅(N + X)\n",
       "──────────────────────────────────────────────────────────────── - ───────────\n",
       "                        2⋅τ⋅(K - Y)                                    2⋅τ⋅(K \n",
       "\n",
       "                                        ⎛N   X⎞                  ⎛N   X⎞      \n",
       "                                  1.0⋅ε⋅⎜─ - ─⎟⋅(-φ + 1)   1.0⋅ε⋅⎜─ + ─⎟⋅(-φ +\n",
       "Pdc⋅Z⋅(N - X)⋅(-ε + 1)⋅(-φ + 1)         ⎝2   2⎠                  ⎝2   2⎠      \n",
       "─────────────────────────────── + ────────────────────── - ───────────────────\n",
       "           τ⋅(K - Y)                        τ                        τ        \n",
       "                                                                              \n",
       "                                                           2                2 \n",
       "                                                    ⎛N   X⎞          ⎛N   X⎞  \n",
       "                                              Z⋅ε⋅φ⋅⎜─ + ─⎟    Z⋅ε⋅φ⋅⎜─ - ─⎟  \n",
       "⋅(-K - Y)⋅(-φ + 1)   0.5⋅ε⋅(K - Y)⋅(-φ + 1)         ⎝2   2⎠          ⎝2   2⎠  \n",
       "────────────────── + ────────────────────── + ────────────── - ────────────── \n",
       "      τ                        τ               N⋅τ⋅(K + Y)      N⋅τ⋅(K - Y)   \n",
       "                                                                              \n",
       "                                                                              \n",
       "                                                                              \n",
       "                                                                              \n",
       "                                                                              \n",
       "                                                                              \n",
       "                                                                              \n",
       "⋅(-ε + 1)   Z⋅φ⋅(N - X)⋅(-ε + 1)   0.5⋅ε⋅(-φ + 1)⋅(K - Y - 2⋅Z)   0.5⋅ε⋅(-φ + \n",
       "───────── - ──────────────────── + ──────────────────────────── + ────────────\n",
       "+ Y)            2⋅τ⋅(K - Y)                     τ                             \n",
       "\n",
       "                                                                              \n",
       " 1)                                                                           \n",
       "                                                                              \n",
       "───                                                                           \n",
       "                                                                              \n",
       "                                                                              \n",
       "                                                                              \n",
       "        ⎛N   X⎞ ⎛N   X⎞ ⎛K   Y   Z⎞         ⎛N   X⎞ ⎛N   X⎞ ⎛K   Y   Z⎞       \n",
       "  2⋅ε⋅φ⋅⎜─ - ─⎟⋅⎜─ + ─⎟⋅⎜─ + ─ - ─⎟   2⋅ε⋅φ⋅⎜─ - ─⎟⋅⎜─ + ─⎟⋅⎜─ - ─ - ─⎟       \n",
       "        ⎝2   2⎠ ⎝2   2⎠ ⎝2   2   2⎠         ⎝2   2⎠ ⎝2   2⎠ ⎝2   2   2⎠       \n",
       "- ───────────────────────────────── + ─────────────────────────────────       \n",
       "             N⋅τ⋅(K + Y)                         N⋅τ⋅(K - Y)                  \n",
       "                                                                              \n",
       "                                                                              \n",
       "                                                                              \n",
       "                                                                              \n",
       "                                2                2                            \n",
       "                         ⎛N   X⎞          ⎛N   X⎞          ⎛N   X⎞ ⎛N   X⎞ ⎛K \n",
       "                   Z⋅ε⋅φ⋅⎜─ + ─⎟    Z⋅ε⋅φ⋅⎜─ - ─⎟    2⋅ε⋅φ⋅⎜─ - ─⎟⋅⎜─ + ─⎟⋅⎜─ \n",
       "1)⋅(K + Y - 2⋅Z)         ⎝2   2⎠          ⎝2   2⎠          ⎝2   2⎠ ⎝2   2⎠ ⎝2 \n",
       "──────────────── - ────────────── - ────────────── + ─────────────────────────\n",
       " τ                  N⋅τ⋅(K + Y)      N⋅τ⋅(K - Y)                N⋅τ⋅(K + Y)   \n",
       "\n",
       "                                            ⎤\n",
       "                                            ⎥\n",
       "                                            ⎥\n",
       "                                            ⎥\n",
       "                                            ⎥\n",
       "                                            ⎥\n",
       "                                            ⎥\n",
       "                                            ⎥\n",
       "                                            ⎥\n",
       "                                            ⎥\n",
       "                                            ⎥\n",
       "                                            ⎥\n",
       "                                            ⎥\n",
       "                                            ⎥\n",
       "                                            ⎥\n",
       "                                            ⎥\n",
       "                                            ⎥\n",
       "  Y   Z⎞         ⎛N   X⎞ ⎛N   X⎞ ⎛K   Y   Z⎞⎥\n",
       "+ ─ - ─⎟   2⋅ε⋅φ⋅⎜─ - ─⎟⋅⎜─ + ─⎟⋅⎜─ - ─ - ─⎟⎥\n",
       "  2   2⎠         ⎝2   2⎠ ⎝2   2⎠ ⎝2   2   2⎠⎥\n",
       "──────── + ─────────────────────────────────⎥\n",
       "                      N⋅τ⋅(K - Y)           ⎦"
      ]
     },
     "execution_count": 11,
     "metadata": {},
     "output_type": "execute_result"
    }
   ],
   "source": [
    "rhsPBP"
   ]
  },
  {
   "cell_type": "markdown",
   "metadata": {},
   "source": [
    "To prepar for the $N \\rightarrow \\infty$ limit, we substitute the system variables $(X, Y, Z)$ with their rescalled equivalents $(x, y, z)$ and express total clean and dirty capital $(K_c, K_d)$ as the summ of the endowments of clean and dirty households $(K_c^{(c)}, K_c^{(d)}, K_d^{(c)}, K_d^{(d)})$."
   ]
  },
  {
   "cell_type": "code",
   "execution_count": 12,
   "metadata": {},
   "outputs": [],
   "source": [
    "x, y, z, k = s.symbols('x y z k')\n",
    "subs4 = {Kc: Kcc + Kcd,\n",
    "         Kd: Kdc + Kdd,\n",
    "         X: N*x,\n",
    "         Y: N*k*y,\n",
    "         Z: N*k*z,\n",
    "         K: N*k}"
   ]
  },
  {
   "cell_type": "markdown",
   "metadata": {},
   "source": [
    "We substitutute solutions to algebraic constraints of economic system (market clearing for labor and expressions for capital rent and resource flow)"
   ]
  },
  {
   "cell_type": "code",
   "execution_count": 13,
   "metadata": {},
   "outputs": [],
   "source": [
    "subs3 = {Xc: (bc*Kc**kappac * C**xi)**(1./(1-pi)),\n",
    "         Xd: (bd*Kd**kappad)**(1./(1-pi)),\n",
    "         XR: (1.-bR/e*(G0/G)**2)**(1./(1-pi))}"
   ]
  },
  {
   "cell_type": "code",
   "execution_count": 14,
   "metadata": {},
   "outputs": [],
   "source": [
    "subs2 = {w: pi * P**(pi-1) * (Xc + Xd*XR)**(1-pi),\n",
    "        rc: kappac/Kc*Xc*P**pi*(Xc + Xd*XR)**(-pi),\n",
    "        rd: kappad/Kd*Xd*XR*P**pi*(Xc + Xd*XR)**(-pi),\n",
    "        R:  bd/e*Kd**kappad*P**pi*(Xd*XR/(Xc + Xd*XR))**pi,\n",
    "        Pc: P*Xc/(Xc + Xd*XR),\n",
    "        Pd: P*Xd*XR/(Xc + Xd*XR)}"
   ]
  },
  {
   "cell_type": "markdown",
   "metadata": {},
   "source": [
    "and write down the dynamic equations for the economic subsystem in terms of aggregates of clean and dirty capital stocks for clean and dirty households.\n",
    "\n",
    "Below is the right hand side for $(\\dot{K}_c^{(c)}, \\dot{K}_c^{(d)}, \\dot{K}_d^{(c)}, \\dot{K}_d^{(d)}, \\dot{C}, \\dot{G})$ as resulting from economic dynamics only."
   ]
  },
  {
   "cell_type": "code",
   "execution_count": 15,
   "metadata": {},
   "outputs": [],
   "source": [
    "rhsECO = s.Matrix([(rs*rc-delta)*Kcc + rs*rd*Kcd + rs*w*P*Nc/N,\n",
    "                  -delta*Kcd,\n",
    "                  -delta*Kdc,\n",
    "                  rs*rc*Kdc + (rs*rd-delta)*Kdd + rs*w*P*Nd/N,\n",
    "                  bc*Pc**pi*Kc**kappac * C**xi - delta*C,\n",
    "                  -R])\n"
   ]
  },
  {
   "cell_type": "markdown",
   "metadata": {},
   "source": [
    "In addition to to the changes from capital accumulation, the aggregate capital endowments of clean and dirty households in both sectors $(K_c^{(c)}, K_c^{(d)}, K_d^{(c)}, K_d^{(d)})$, are changed by households changing their opinion and taking their capital with them. This, we appriximate by rate equations assuming each household changing her oppinion owns the average of its cohorts capital."
   ]
  },
  {
   "cell_type": "code",
   "execution_count": 16,
   "metadata": {},
   "outputs": [],
   "source": [
    "# rate of households changing their opinion from c -> d\n",
    "dtNcd = N/tau * (p3 + p5)\n",
    "# rate of households changing their opinion from d -> c\n",
    "dtNdc = N/tau * (p4 + p6)\n",
    "\n",
    "# the changes are given by the summ of the outflux due to households changing TO another oppinion \n",
    "# and the influx of households changing FROM another opinion\n",
    "\n",
    "rhsECO_switch = s.Matrix([\n",
    "            # change of clean capital owned by clean investors\n",
    "            Kcd / Nd * dtNdc - Kcc / Nc * dtNcd,\n",
    "            # change of clean capital owned by dirty investors\n",
    "            Kcc / Nc * dtNcd - Kcd / Nd * dtNdc,\n",
    "            # change in dirty capital owned by clean investors\n",
    "            Kdd / Nd * dtNdc - Kdc / Nc * dtNcd,\n",
    "            # change in dirty capital owned by dirty investors\n",
    "            Kdc / Nc * dtNcd - Kdd / Nd * dtNdc,\n",
    "            0,\n",
    "            0])\n",
    "rhsECO_switch = rhsECO_switch.subs(subs1)\n",
    "rhsECO = rhsECO + rhsECO_switch"
   ]
  },
  {
   "cell_type": "markdown",
   "metadata": {},
   "source": [
    "Finally, we have to approximate the imitation probabilities $(P_{c \\rightarrow d}, P_{d \\rightarrow c})$ between two individual households of different opinions by their expected values, e.g. the probability of the average clean household to imitate the average dirty household and vice versa."
   ]
  },
  {
   "cell_type": "code",
   "execution_count": 17,
   "metadata": {},
   "outputs": [],
   "source": [
    "# definition of symbold\n",
    "full_Pcd = s.Symbol('fP_{cd}')\n",
    "full_Pdc = s.Symbol('fP_{dc}')\n",
    "a = s.Symbol('a', real=True, positive=True)\n",
    "\n",
    "# imitation probabilities depending on relative differences in income (fitness) along the lines of (Traulsen 2010)\n",
    "full_Pcd = 1/(1-s.exp(-a*(Fd-Fc)/(Fc+Fd)))\n",
    "full_Pdc = 1/(1-s.exp(-a*(Fc-Fd)/(Fc+Fd)))"
   ]
  },
  {
   "cell_type": "markdown",
   "metadata": {},
   "source": [
    "We do this by means of a taylor expansion of the imitation probabilities $(P_{c \\rightarrow d}, P_{d \\rightarrow c})$ up to linear order in terms of the clean and dirty household incomes $(F_c, F_d)$ around the point $(F_c^0, F_d^0)$ that is yet to be defined."
   ]
  },
  {
   "cell_type": "code",
   "execution_count": 18,
   "metadata": {},
   "outputs": [
    {
     "data": {
      "image/png": "[encoded data removed]",
      "text/latex": [
       "$$\\left \\{ Pcd : \\frac{1}{\\left(F^{0}_{c} + F^{0}_{d}\\right)^{2} \\left(e^{\\frac{a \\left(F^{0}_{c} - F^{0}_{d}\\right)}{F^{0}_{c} + F^{0}_{d}}} - 1\\right)^{2}} \\left(2 a \\left(- F^{0}_{c} \\left(F_{d} - F^{0}_{d}\\right) + F^{0}_{d} \\left(F_{c} - F^{0}_{c}\\right)\\right) e^{\\frac{a \\left(F^{0}_{c} - F^{0}_{d}\\right)}{F^{0}_{c} + F^{0}_{d}}} - \\left(F^{0}_{c} + F^{0}_{d}\\right)^{2} \\left(e^{\\frac{a \\left(F^{0}_{c} - F^{0}_{d}\\right)}{F^{0}_{c} + F^{0}_{d}}} - 1\\right)\\right), \\quad Pdc : \\frac{e^{\\frac{a \\left(F^{0}_{c} - F^{0}_{d}\\right)}{F^{0}_{c} + F^{0}_{d}}}}{\\left(F^{0}_{c} + F^{0}_{d}\\right)^{2} \\left(e^{\\frac{a \\left(F^{0}_{c} - F^{0}_{d}\\right)}{F^{0}_{c} + F^{0}_{d}}} - 1\\right)^{2}} \\left(2 a \\left(F^{0}_{c} \\left(F_{d} - F^{0}_{d}\\right) - F^{0}_{d} \\left(F_{c} - F^{0}_{c}\\right)\\right) + \\left(F^{0}_{c} + F^{0}_{d}\\right)^{2} \\left(e^{\\frac{a \\left(F^{0}_{c} - F^{0}_{d}\\right)}{F^{0}_{c} + F^{0}_{d}}} - 1\\right)\\right)\\right \\}$$"
      ],
      "text/plain": [
       "⎧                                                           a⋅(F_c__0 - F_d__0\n",
       "⎪                                                           ──────────────────\n",
       "⎪                                                             F_c__0 + F_d__0 \n",
       "⎪     2⋅a⋅(-F_c__0⋅(F_d - F_d__0) + F_d__0⋅(F_c - F_c__0))⋅ℯ                  \n",
       "⎪Pcd: ────────────────────────────────────────────────────────────────────────\n",
       "⎨                                                                             \n",
       "⎪                                                              ⎛ a⋅(F_c__0 - F\n",
       "⎪                                                              ⎜ ─────────────\n",
       "⎪                                                            2 ⎜   F_c__0 + F_\n",
       "⎪                                           (F_c__0 + F_d__0) ⋅⎝ℯ             \n",
       "⎩                                                                             \n",
       "\n",
       ")                      ⎛ a⋅(F_c__0 - F_d__0)    ⎞       ⎛                     \n",
       "─                      ⎜ ───────────────────    ⎟       ⎜                     \n",
       "                     2 ⎜   F_c__0 + F_d__0      ⎟       ⎜                     \n",
       "  - (F_c__0 + F_d__0) ⋅⎝ℯ                    - 1⎠       ⎝2⋅a⋅(F_c__0⋅(F_d - F_\n",
       "─────────────────────────────────────────────────, Pdc: ──────────────────────\n",
       "           2                                                                  \n",
       "_d__0)    ⎞                                                                   \n",
       "──────    ⎟                                                                   \n",
       "d__0      ⎟                                                                   \n",
       "       - 1⎠                                                                   \n",
       "                                                                              \n",
       "\n",
       "                                                    ⎛ a⋅(F_c__0 - F_d__0)    ⎞\n",
       "                                                    ⎜ ───────────────────    ⎟\n",
       "                                                  2 ⎜   F_c__0 + F_d__0      ⎟\n",
       "d__0) - F_d__0⋅(F_c - F_c__0)) + (F_c__0 + F_d__0) ⋅⎝ℯ                    - 1⎠\n",
       "──────────────────────────────────────────────────────────────────────────────\n",
       "                                                             2                \n",
       "                                   ⎛ a⋅(F_c__0 - F_d__0)    ⎞                 \n",
       "                                   ⎜ ───────────────────    ⎟                 \n",
       "                                 2 ⎜   F_c__0 + F_d__0      ⎟                 \n",
       "                (F_c__0 + F_d__0) ⋅⎝ℯ                    - 1⎠                 \n",
       "                                                                              \n",
       "\n",
       "⎞  a⋅(F_c__0 - F_d__0)⎫\n",
       "⎟  ───────────────────⎪\n",
       "⎟    F_c__0 + F_d__0  ⎪\n",
       "⎠⋅ℯ                   ⎪\n",
       "──────────────────────⎪\n",
       "                      ⎬\n",
       "                      ⎪\n",
       "                      ⎪\n",
       "                      ⎪\n",
       "                      ⎪\n",
       "                      ⎭"
      ]
     },
     "execution_count": 18,
     "metadata": {},
     "output_type": "execute_result"
    }
   ],
   "source": [
    "# Point of reference for series expansion:\n",
    "Fc0, Fd0 = s.symbols('F_c^0 F_d^0')\n",
    "sbs0 = ({Fc: Fc0, Fd: Fd0})\n",
    "\n",
    "# Series expansion of imitation probabilities to first order in clean and dirty household income:\n",
    "subsP = {Pcd: s.simplify(full_Pcd.subs(sbs0) + s.diff(full_Pcd, Fc).subs(sbs0)*(Fc - Fc0) + s.diff(full_Pcd, Fd).subs(sbs0)*(Fd - Fd0)),\n",
    "         Pdc: s.simplify(full_Pdc.subs(sbs0) + s.diff(full_Pdc, Fc).subs(sbs0)*(Fc - Fc0) + s.diff(full_Pdc, Fd).subs(sbs0)*(Fd - Fd0))\n",
    "        }\n",
    "subsP"
   ]
  },
  {
   "cell_type": "markdown",
   "metadata": {},
   "source": [
    "The criterion for the point of reference of the expansion is that it should make the approximation good in the biggest part of the state space of the model. We therefore chose $(F_c^0, F_d^0)$ to be in the middle of their extreme values.\n",
    "\n",
    "The lower bound for $(F_c^0, F_d^0)$ is zero.\n",
    "\n",
    "As an upper bound for $(F_c^0, F_d^0)$ we take their value in an exclusively clean resp. exclusively dirty economy with abundand fossil resources $(G == G_0)$"
   ]
  },
  {
   "cell_type": "markdown",
   "metadata": {},
   "source": [
    "### First, the case of an exclusively dirty economy \n",
    "e.g. the case in which all households invest in the dirty sector:\n",
    "\n",
    "Production function is given by\n",
    "\n",
    "$Y_d = min(b_d K_d^{\\kappa_d} P^{\\pi}, e R)$,\n",
    "\n",
    "economic output is given by production minus cost for resource extraction $Y_d - c_R$ where cost for resource extraction is assumed to be\n",
    "\n",
    "$ c_R = b_R R \\left( \\frac{G}{G_0} \\right)^2 $.\n",
    "\n",
    "Capital accumulation is described by\n",
    "\n",
    "$ \\dot{K}_d = s I - \\delta K_d, \\quad I = r_d K_d + w P$\n",
    "\n",
    "and capital return rate and wages are given by marginal increase of economic output for their respective input factors:\n",
    "\n",
    "$ r_d = \\frac{\\partial}{\\partial K_d} (Y_d - c_R), \\quad w = \\frac{\\partial}{\\partial P} (Y_d - c_R) $\n",
    "\n",
    "So the equilibrium dirty capital stock is given by the root of the following expression:\n",
    "\n",
    "$ 0 = s \\left(1 - \\frac{b_R}{e} \\right) \\left( K_d \\frac{\\partial Y_d}{\\partial K_d} + P \\frac{\\partial Y_d}{\\partial P} \\right) - \\delta K_d = s \\left(1 - \\frac{b_R}{e} \\right) (\\kappa_d + \\pi) b_d K_d^{\\kappa_d} P^{\\pi} - \\delta K_d $\n",
    "\n",
    "which is, given $\\kappa_d + \\pi = 1$:\n",
    "\n",
    "$ K_d^* = \\left( \\frac{s b_d P^\\pi}{\\delta} \\left(1 - \\frac{b_R}{e} \\right)\\right)^{\\left(\\frac{1}{1 - \\kappa_d} \\right)}, 0$\n",
    "\n",
    "of which we consider the first."
   ]
  },
  {
   "cell_type": "markdown",
   "metadata": {},
   "source": [
    "### Second, the case of an exclusively clean economy:\n",
    "e.g. the case where all households invest in the clean sector.\n",
    "\n",
    "Production is given by \n",
    "\n",
    "$ Y_c = b_c K_c^{\\kappa_c} P^{\\pi} C^{\\xi} $\n",
    "\n",
    "and capital and knowledge accumulation are given by:\n",
    "\n",
    "$ \\dot{K}_c = s I - \\delta K_d, \\quad I = r_c K_c + w P $\n",
    "\n",
    "$ \\dot{C} = Y_d - \\delta C $\n",
    "\n",
    "with $\\kappa_c + \\pi = 1$ and capital return rate and wages equal to marginal factor returns, this is equivalent to\n",
    "\n",
    "$ \\dot{K}_c = s b_c K_c^{\\kappa_c} P^{\\pi} C^{\\xi} - \\delta K_d,$\n",
    "\n",
    "$ \\dot{C} = b_c K_c^{\\kappa_c} P^{\\pi} C^{\\xi} - \\delta C $,\n",
    "\n",
    "whose stationary points except for $(0, 0)$ is\n",
    "\n",
    "$ K_c^*, C^* = s \\left( \\frac{s^{\\kappa_c} b_c}{\\delta} P^\\pi \\right)^{\\frac{\\xi - 1}{\\kappa_c(1-\\xi)-1}}, \\left( \\frac{s^{\\kappa_c} b_c}{\\delta} P^\\pi \\right)^{\\frac{1}{\\kappa_c(1-\\xi)-1}} $"
   ]
  },
  {
   "cell_type": "markdown",
   "metadata": {},
   "source": [
    "In the economic system, substitute: \n",
    "1)primitive variables for dependent variables (subs2)\n",
    "2)dependent variables for system variables (subs3)"
   ]
  },
  {
   "cell_type": "code",
   "execution_count": 19,
   "metadata": {
    "scrolled": true
   },
   "outputs": [],
   "source": [
    "rhsECO = rhsECO.subs(subs1).subs(subs2).subs(subs3).subs(subs4)"
   ]
  },
  {
   "cell_type": "markdown",
   "metadata": {},
   "source": [
    "In the PBP rhs substitute:\n",
    "dependent variables for system variables"
   ]
  },
  {
   "cell_type": "code",
   "execution_count": 20,
   "metadata": {},
   "outputs": [],
   "source": [
    "rhsPBP = rhsPBP.subs(subs1).subs(subs2).subs(subs3).subs(subs4)"
   ]
  },
  {
   "cell_type": "markdown",
   "metadata": {},
   "source": [
    "Combine dynamic equations of economic and social subsystem:"
   ]
  },
  {
   "cell_type": "code",
   "execution_count": 21,
   "metadata": {},
   "outputs": [],
   "source": [
    "rhs = s.Matrix([rhsPBP,rhsECO]).subs(subs1)"
   ]
  },
  {
   "cell_type": "code",
   "execution_count": null,
   "metadata": {},
   "outputs": [],
   "source": []
  },
  {
   "cell_type": "code",
   "execution_count": null,
   "metadata": {
    "scrolled": false
   },
   "outputs": [],
   "source": []
  },
  {
   "cell_type": "code",
   "execution_count": null,
   "metadata": {},
   "outputs": [],
   "source": []
  },
  {
   "cell_type": "code",
   "execution_count": null,
   "metadata": {},
   "outputs": [],
   "source": []
  }
 ],
 "metadata": {
  "kernelspec": {
   "display_name": "Python [default]",
   "language": "python",
   "name": "python3"
  },
  "language_info": {
   "codemirror_mode": {
    "name": "ipython",
    "version": 3
   },
   "file_extension": ".py",
   "mimetype": "text/x-python",
   "name": "python",
   "nbconvert_exporter": "python",
   "pygments_lexer": "ipython3",
   "version": "3.6.4"
  }
 },
 "nbformat": 4,
 "nbformat_minor": 1
}
