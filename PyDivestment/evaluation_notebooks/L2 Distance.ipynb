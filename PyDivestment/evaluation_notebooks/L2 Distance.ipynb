{
 "cells": [
  {
   "cell_type": "code",
   "execution_count": null,
   "metadata": {},
   "outputs": [],
   "source": [
    "import numpy as np\n",
    "import pandas as pd\n",
    "import matplotlib.pyplot as plt\n",
    "\n",
    "from scipy.interpolate import interp1d"
   ]
  },
  {
   "cell_type": "code",
   "execution_count": null,
   "metadata": {},
   "outputs": [],
   "source": [
    "micro_data = pd.read_pickle('../divestdata/P3/micro/unified_trajectory')\n",
    "macro_data = pd.read_pickle('../divestdata/P3/aggregate/unified_trajectory')\n",
    "rep_data = pd.read_pickle('../divestdata/P3/res/unified_trajectory')\n",
    "print(macro_data.index.names)\n",
    "print(macro_data.index.levels)\n",
    "levels=['b_d', 'phi', 'tau', 'eps']\n",
    "key=[1.25, 0.5, 1.0, 0.01]\n",
    "micro_data.xs(level=levels, key=key)"
   ]
  },
  {
   "cell_type": "code",
   "execution_count": null,
   "metadata": {},
   "outputs": [],
   "source": [
    "def l_2_distance(d1, d2, key=None, levels=None, axes=None, observable=None):\n",
    "    \n",
    "    names = d1.index.names\n",
    "    indices = {ax: d1.index.levels[names.index(ax)].values for ax in axes}\n",
    "    output = np.zeros((len(indices['tau']),len(indices['phi'])))\n",
    "    \n",
    "    print(indices)\n",
    "    \n",
    "    for i, tau in enumerate(indices['tau']):\n",
    "        for j, phi in enumerate(indices['phi']):\n",
    "            tkey = key + [phi, tau]\n",
    "    \n",
    "            # get values and times from dataframes\n",
    "            d1_slice = d1.xs(key=tkey, level=levels)['mean_trajectory'].unstack('observables')[observable].values.T[0]\n",
    "            d1_times = d1.xs(key=tkey, level=levels)['mean_trajectory'].unstack('observables').index.values\n",
    "\n",
    "            d2_slice = d2.xs(key=tkey, level=levels)['mean_trajectory'].unstack('observables')[observable].values.T[0]\n",
    "            d2_times = d2.xs(key=tkey, level=levels)['mean_trajectory'].unstack('observables').index.values\n",
    "\n",
    "            # interpolate to get values on equal timepoints\n",
    "            d1_ipl = interp1d(d1_times, d1_slice)\n",
    "            d2_ipl = interp1d(d2_times, d2_slice)\n",
    "\n",
    "            samples = 200\n",
    "            times = np.linspace(d1_times[0], d1_times[-1], samples)\n",
    "            d1_data = d1_ipl(times)\n",
    "            d2_data = d2_ipl(times)\n",
    "            dd = d1_data - d2_data\n",
    "            l2 = sum(dd*dd)\n",
    "            output[i, j] = l2\n",
    "            print(l2, tau, phi, i, j)\n",
    "            \n",
    "            return output"
   ]
  },
  {
   "cell_type": "code",
   "execution_count": null,
   "metadata": {},
   "outputs": [],
   "source": [
    "axes=['phi', 'tau']\n",
    "levels=['b_d', 'eps', 'phi', 'tau']\n",
    "key=[1.25, 0.05]\n",
    "\n",
    "\n",
    "l_2_distance(micro_data, macro_data, key=key, levels=levels, axes=axes, observable=['g'])"
   ]
  },
  {
   "cell_type": "code",
   "execution_count": null,
   "metadata": {},
   "outputs": [],
   "source": []
  }
 ],
 "metadata": {
  "kernelspec": {
   "display_name": "Python 3",
   "language": "python",
   "name": "python3"
  },
  "language_info": {
   "codemirror_mode": {
    "name": "ipython",
    "version": 3
   },
   "file_extension": ".py",
   "mimetype": "text/x-python",
   "name": "python",
   "nbconvert_exporter": "python",
   "pygments_lexer": "ipython3",
   "version": "3.6.0"
  }
 },
 "nbformat": 4,
 "nbformat_minor": 2
}
