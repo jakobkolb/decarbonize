{
 "cells": [
  {
   "cell_type": "code",
   "execution_count": null,
   "metadata": {},
   "outputs": [],
   "source": [
    "%matplotlib notebook\n",
    "import pandas as pd\n",
    "import numpy as np\n",
    "import matplotlib.pyplot as plt\n",
    "import seaborn as sn"
   ]
  },
  {
   "cell_type": "code",
   "execution_count": null,
   "metadata": {},
   "outputs": [],
   "source": [
    "with pd.HDFStore('../output_data/test_output/X0_imitation.h5') as store:\n",
    "    data = store.select('dat_0')"
   ]
  },
  {
   "cell_type": "code",
   "execution_count": null,
   "metadata": {},
   "outputs": [],
   "source": [
    "\n",
    "with pd.HDFStore('../output_data/test_output/X0_imitation.h5') as store:\n",
    "    data = store.select('dat_0')\n",
    "\n",
    "t_max = 200\n",
    "tmp = data.xs(level=('eps', 'phi'), key=(0.02, .9))\n",
    "tmp.index = tmp.index.droplevel(['ffh', 'test'])\n",
    "\n",
    "fig, ax = plt.subplots(ncols=3)\n",
    "fig.set_figwidth(16)\n",
    "#axb0 = ax[0].twinx()\n",
    "axb1 = ax[1].twinx()\n",
    "\n",
    "for i in list(tmp.index.levels[0]):\n",
    "    \n",
    "    tmp_i = tmp.xs(level='sample', key=i)\n",
    "\n",
    "    #tmp_i.loc[0:t_max, ['r_c', 'r_d']].plot(legend=False, ax=ax[0])\n",
    "\n",
    "    tmp_i.loc[0:t_max, 'decision state'].plot(legend=False, color=['k'] , style='--', ax=ax[0])\n",
    "\n",
    "    tmp_i.loc[0:t_max, ['r_c']].plot(legend=False, ax=ax[1], style='-.', color=['k'] )\n",
    "    tmp_i.loc[0:t_max, ['r_d']].plot(legend=False, ax=ax[1], style='-', color=['k'] )\n",
    "\n",
    "    tmp_i.loc[0:t_max, 'i_c'].plot(legend=False , style='--', ax=axb1)\n",
    "    tmp_i.loc[0:t_max, 'G'].plot(legend=False , style='--', ax=ax[2])"
   ]
  },
  {
   "cell_type": "code",
   "execution_count": null,
   "metadata": {},
   "outputs": [],
   "source": [
    "tmp_i"
   ]
  },
  {
   "cell_type": "code",
   "execution_count": null,
   "metadata": {},
   "outputs": [],
   "source": [
    "import numpy as np\n",
    "import pandas as pd\n",
    "import matplotlib.pyplot as plt\n",
    "from mpl_toolkits.mplot3d import Axes3D\n",
    "\n",
    "h = 3\n",
    "N = 1000\n",
    "xN = []\n",
    "for k in range(N):\n",
    "    x = np.random.dirichlet(np.ones(h))\n",
    "    xN.append(x)\n",
    "\n",
    "dfN = pd.DataFrame(xN)\n",
    "fig = plt.figure(figsize=(15, 10))\n",
    "ax = fig.add_subplot(111, projection='3d')\n",
    "ax.scatter(xs=dfN[[1]], ys=dfN[[0]], zs=dfN[2])\n",
    "\n",
    "fig.savefig('random sampling.png')"
   ]
  },
  {
   "cell_type": "code",
   "execution_count": null,
   "metadata": {},
   "outputs": [],
   "source": [
    "dfN"
   ]
  },
  {
   "cell_type": "code",
   "execution_count": null,
   "metadata": {},
   "outputs": [],
   "source": []
  }
 ],
 "metadata": {
  "kernelspec": {
   "display_name": "Python [default]",
   "language": "python",
   "name": "python3"
  },
  "language_info": {
   "codemirror_mode": {
    "name": "ipython",
    "version": 3
   },
   "file_extension": ".py",
   "mimetype": "text/x-python",
   "name": "python",
   "nbconvert_exporter": "python",
   "pygments_lexer": "ipython3",
   "version": "3.6.0"
  }
 },
 "nbformat": 4,
 "nbformat_minor": 2
}
