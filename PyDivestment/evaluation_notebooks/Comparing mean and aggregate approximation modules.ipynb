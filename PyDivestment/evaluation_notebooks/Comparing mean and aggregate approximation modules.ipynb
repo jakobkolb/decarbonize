{
 "cells": [
  {
   "cell_type": "code",
   "execution_count": null,
   "metadata": {},
   "outputs": [],
   "source": [
    "%matplotlib inline\n",
    "import pandas as pd\n",
    "import numpy as np\n",
    "import sympy as sp\n",
    "import matplotlib.pyplot as plt\n",
    "from IPython.core.display import display, HTML\n",
    "display(HTML(\"<style>.container { width:98% !important; }</style>\"))\n",
    "sp.init_printing()"
   ]
  },
  {
   "cell_type": "code",
   "execution_count": null,
   "metadata": {},
   "outputs": [],
   "source": [
    "import datetime\n",
    "import networkx as nx\n",
    "from random import shuffle\n",
    "\n",
    "from pydivest.macro_model.integrate_equations_mean import IntegrateEquationsMean as mean_model\n",
    "from pydivest.macro_model.integrate_equations_aggregate import IntegrateEquationsAggregate as aggregate_model\n",
    "\n",
    "# investment_decisions:\n",
    "\n",
    "nopinions = [50, 50]\n",
    "\n",
    "# Parameters:\n",
    "\n",
    "phi, b_d = 0.4, 1.25\n",
    "\n",
    "input_parameters = {'b_c': 1., 'phi': phi, 'tau': 1.,\n",
    "                    'eps': 0.05, 'b_d': b_d, 'e': 100.,\n",
    "                    'b_r0': 0.1 ** 2 * 100.,\n",
    "                    'possible_opinions': [[0], [1]],\n",
    "                    'xi': 1. / 8., 'beta': 0.06,\n",
    "                    'L': 100., 'C': 100., 'G_0': 800.,\n",
    "                    'campaign': False, 'learning': True,\n",
    "                    'R_depletion': False, 'test': True,\n",
    "                    'interaction': 1, 'crs': True}\n",
    "\n",
    "# investment_decisions\n",
    "opinions = []\n",
    "for i, n in enumerate(nopinions):\n",
    "    opinions.append(np.full((n), i, dtype='I'))\n",
    "opinions = [item for sublist in opinions for item in sublist]\n",
    "shuffle(opinions)\n",
    "\n",
    "# network:\n",
    "N = sum(nopinions)\n",
    "p = .2\n",
    "\n",
    "while True:\n",
    "    net = nx.erdos_renyi_graph(N, p)\n",
    "    if len(list(net)) > 1:\n",
    "        break\n",
    "adjacency_matrix = nx.adj_matrix(net).toarray()\n",
    "\n",
    "# investment\n",
    "clean_investment = np.ones(N)\n",
    "dirty_investment = np.ones(N)\n",
    "\n",
    "init_conditions = (adjacency_matrix, opinions,\n",
    "                   clean_investment, dirty_investment)"
   ]
  },
  {
   "cell_type": "code",
   "execution_count": null,
   "metadata": {},
   "outputs": [],
   "source": [
    "mm = mean_model(*init_conditions, **input_parameters)\n",
    "mm.run(t_max=200)\n",
    "mm.R_depletion = True\n",
    "mm.run(t_max=600)\n",
    "trj_m = mm.get_unified_trajectory()"
   ]
  },
  {
   "cell_type": "code",
   "execution_count": null,
   "metadata": {},
   "outputs": [],
   "source": [
    "ma = aggregate_model(*init_conditions, **input_parameters)\n",
    "ma.run(t_max=200)\n",
    "ma.R_depletion = True\n",
    "ma.run(t_max=600)\n",
    "trj_a = ma.get_unified_trajectory()"
   ]
  },
  {
   "cell_type": "code",
   "execution_count": null,
   "metadata": {},
   "outputs": [],
   "source": [
    "for c in trj_m.columns:\n",
    "    dif = trj_m[[c]] - trj_a[[c]]\n",
    "    dif_cum = dif.cumsum()\n",
    "    max_dif = dif_cum.max()\n",
    "    print(max_dif)"
   ]
  },
  {
   "cell_type": "code",
   "execution_count": null,
   "metadata": {},
   "outputs": [],
   "source": [
    "fig = plt.figure()\n",
    "ax = fig.add_subplot(111)\n",
    "ma.get_aggregate_trajectory()[['K_c^c', 'K_c^d', 'K_d^c', 'K_d^d']].plot(ax=ax)"
   ]
  },
  {
   "cell_type": "code",
   "execution_count": null,
   "metadata": {},
   "outputs": [],
   "source": [
    "trj_a.columns"
   ]
  },
  {
   "cell_type": "code",
   "execution_count": null,
   "metadata": {},
   "outputs": [],
   "source": [
    "trj = mm.get_mean_trajectory()"
   ]
  },
  {
   "cell_type": "code",
   "execution_count": null,
   "metadata": {},
   "outputs": [],
   "source": [
    "trj[['mu_c^c', 'mu_d^d']].plot()"
   ]
  },
  {
   "cell_type": "code",
   "execution_count": null,
   "metadata": {},
   "outputs": [],
   "source": []
  }
 ],
 "metadata": {
  "kernelspec": {
   "display_name": "Python 3",
   "language": "python",
   "name": "python3"
  },
  "language_info": {
   "codemirror_mode": {
    "name": "ipython",
    "version": 3
   },
   "file_extension": ".py",
   "mimetype": "text/x-python",
   "name": "python",
   "nbconvert_exporter": "python",
   "pygments_lexer": "ipython3",
   "version": "3.6.4"
  }
 },
 "nbformat": 4,
 "nbformat_minor": 2
}
