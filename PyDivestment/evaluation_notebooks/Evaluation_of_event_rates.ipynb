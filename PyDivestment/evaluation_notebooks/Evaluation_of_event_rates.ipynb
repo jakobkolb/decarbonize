{
 "cells": [
  {
   "cell_type": "code",
   "execution_count": null,
   "metadata": {},
   "outputs": [],
   "source": [
    "import pandas as pd\n",
    "import matplotlib.pyplot as plt"
   ]
  },
  {
   "cell_type": "code",
   "execution_count": null,
   "metadata": {},
   "outputs": [],
   "source": [
    "with pd.HDFStore('/home/jakob/Project_Divestment/PyDivestment/output_data/P7/micro/mean.h5') as store:\n",
    "    micro_data = store.select('dat', 'approximate = 1 & test = 0')\n",
    "micro_data.index = micro_data.index.droplevel(['approximate', 'test', 'sample'])\n",
    "micro_data = micro_data.set_index('time')"
   ]
  },
  {
   "cell_type": "code",
   "execution_count": null,
   "metadata": {},
   "outputs": [],
   "source": [
    "with pd.HDFStore('/home/jakob/Project_Divestment/PyDivestment/output_data/P7/aggregate/mean.h5') as store:\n",
    "    macro_data = store.select('dat', 'approximate = 2 & test = 0')\n",
    "macro_data.index = macro_data.index.droplevel(['approximate', 'test', 'sample'])\n",
    "macro_data = macro_data.set_index('time')"
   ]
  },
  {
   "cell_type": "code",
   "execution_count": null,
   "metadata": {},
   "outputs": [],
   "source": [
    "data = micro_data[['E_a', 'E_an', 'E_i_cd', 'E_i_dc', 'E_in_cd', 'E_in_dc', 'E_tot']].values\n",
    "dt = micro_data.index.values[1] - micro_data.index.values[0]\n",
    "d_out = [[0,0,0,0,0]]\n",
    "for i in range(len(data)-1):\n",
    "    d1 = data[i]\n",
    "    d2 = data[i+1]\n",
    "    d_out.append([(x2-x1)/dt for j, (x1, x2) in enumerate(zip(d1, d2))])\n",
    "    d_out[-1]\n",
    "micro_rate = pd.DataFrame(index=macro_data.index.values, columns=['E_a', 'E_an', 'E_i_cd', 'E_i_dc', 'E_in_cd', 'E_in_dc', 'E_tot'], data=d_out)"
   ]
  },
  {
   "cell_type": "code",
   "execution_count": null,
   "metadata": {},
   "outputs": [],
   "source": [
    "fig, ax = plt.subplots(ncols=3)\n",
    "fig.set_figwidth(15)\n",
    "macro_data['W_an'].plot(ax=ax[0], label='macro')\n",
    "micro_rate['E_an'].plot(ax=ax[0], label='micro')\n",
    "ax[0].set_title('cumulative adaptation noise events')\n",
    "ax[0].legend()\n",
    "macro_data['W_a'].plot(ax=ax[1], label='macro')\n",
    "micro_rate['E_a'].plot(ax=ax[1], label='micro')\n",
    "ax[1].set_title('cumulative adaptation events')\n",
    "ax[1].legend()\n",
    "macro_data['W_tot'].plot(ax=ax[2], label='macro')\n",
    "micro_rate['E_tot'].plot(ax=ax[2], label='micro')\n",
    "ax[2].set_title('cumulative total events')\n",
    "#ax[2].set_ylim([.9, 1.1])\n",
    "ax[2].legend()"
   ]
  },
  {
   "cell_type": "code",
   "execution_count": null,
   "metadata": {},
   "outputs": [],
   "source": [
    "fig2, ax2 = plt.subplots(1)\n",
    "ax2.plot(macro_data.index.values, macro_data['W_an'].values/micro_rate['E_an'].values, label='noise')\n",
    "ax2.plot(macro_data.index.values, macro_data['W_a'].values/micro_rate['E_a'].values, label='adaptation')\n",
    "ax2.plot(macro_data.index.values, macro_data['W_tot'].values/micro_rate['E_tot'].values, label='total')\n",
    "ax2.legend()"
   ]
  },
  {
   "cell_type": "code",
   "execution_count": null,
   "metadata": {},
   "outputs": [],
   "source": [
    "fig, ax = plt.subplots(ncols=2)\n",
    "fig.set_figwidth(15)\n",
    "micro_data[['y']].plot(ax=ax[0], color='r', label='y micro', legend=False)\n",
    "macro_data[['y']].plot(ax=ax[0], color='r', label='y approx', legend=False, style='--')\n",
    "ax[0].legend()\n",
    "micro_data[['z']].plot(ax=ax[1], color='k', label='z micro', legend=False)\n",
    "macro_data[['z']].plot(ax=ax[1], color='k', label='z approx', legend=False, style='--')\n",
    "ax[1].legend()\n",
    "micro_data[['x']].plot(ax=ax[0], color='b', label='x micro', legend=False)\n",
    "macro_data[['x']].plot(ax=ax[0], color='b', label='x approx', legend=False, style='--')\n",
    "ax[0].legend()"
   ]
  },
  {
   "cell_type": "code",
   "execution_count": null,
   "metadata": {},
   "outputs": [],
   "source": [
    "fig, ax = plt.subplots(ncols=4)\n",
    "fig.set_figwidth(15)\n",
    "macro_data['W_i_cd'].plot(ax=ax[0], label='macro')\n",
    "micro_rate['E_i_cd'].plot(ax=ax[0], label='micro')\n",
    "ax[0].set_title('event rate c->d')\n",
    "ax[0].legend()\n",
    "macro_data['W_i_dc'].plot(ax=ax[1], label='macro')\n",
    "micro_rate['E_i_dc'].plot(ax=ax[1], label='micro')\n",
    "ax[1].set_title('event rate d->c')\n",
    "ax[1].legend()\n",
    "micro_rate['E_in_cd'].plot(ax=ax[2], label='micro', style='-', color='orange')\n",
    "macro_data['W_in_cd'].plot(ax=ax[2], label='macro', style='--', color='b')\n",
    "micro_rate['E_in_dc'].plot(ax=ax[3], label='micro', style='-', color='orange')\n",
    "macro_data['W_in_dc'].plot(ax=ax[3], label='macro', style='--', color='b')\n",
    "ax[2].set_title('noise event rate c->d')\n",
    "ax[3].set_title('noise event rate d->c')\n",
    "#ax[2].set_ylim([.9, 1.1])\n",
    "ax[2].legend()\n",
    "ax[3].legend()"
   ]
  },
  {
   "cell_type": "markdown",
   "metadata": {},
   "source": [
    "With regards to imitation probabilities, there are two ways to look at it. \n",
    "* I can sample actual imitation probabilities, then average and then compare between micro and approximation\n",
    "* I can look at the approximation of the imitation probabilities in the approximation and see, how good they are compared to the full form."
   ]
  },
  {
   "cell_type": "code",
   "execution_count": null,
   "metadata": {},
   "outputs": [],
   "source": []
  }
 ],
 "metadata": {
  "kernelspec": {
   "display_name": "Python [conda env:py36]",
   "language": "python",
   "name": "conda-env-py36-py"
  },
  "language_info": {
   "codemirror_mode": {
    "name": "ipython",
    "version": 3
   },
   "file_extension": ".py",
   "mimetype": "text/x-python",
   "name": "python",
   "nbconvert_exporter": "python",
   "pygments_lexer": "ipython3",
   "version": "3.6.4"
  }
 },
 "nbformat": 4,
 "nbformat_minor": 2
}
