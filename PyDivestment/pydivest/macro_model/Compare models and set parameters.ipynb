{
 "cells": [
  {
   "cell_type": "code",
   "execution_count": null,
   "metadata": {
    "collapsed": false
   },
   "outputs": [
    {
     "name": "stderr",
     "output_type": "stream",
     "text": [
      "Could not find GLIMDA\n"
     ]
    }
   ],
   "source": [
    "%matplotlib notebook\n",
    "\n",
    "import pandas as pd\n",
    "import numpy as np\n",
    "import matplotlib.pyplot as plt\n",
    "import sympy as sp\n",
    "import networkx as nx\n",
    "from random import shuffle\n",
    "\n",
    "from pydivest.macro_model.integrate_equations_rep import Integrate_Equations as rep\n",
    "from pydivest.macro_model.integrate_equations_aggregate import Integrate_Equations as agg\n",
    "from pydivest.macro_model.integrate_equations_mean import Integrate_Equations as mean\n",
    "from pydivest.micro_model.divestmentcore import DivestmentCore as micro"
   ]
  },
  {
   "cell_type": "code",
   "execution_count": null,
   "metadata": {
    "collapsed": false
   },
   "outputs": [
    {
     "name": "stdout",
     "output_type": "stream",
     "text": [
      "got superfluous keyword arguments\n",
      "dict_keys(['possible_cue_orders', 'campaign', 'learning'])\n",
      "pi = 0.5, xi = 0.125, kappa_c = 0.375, kappa_d = 0.5\n",
      "sanitizing initial conditions to\n",
      "{K_c: 100.0, K_d: 100.0, G: 10000.0, C: 584.98535041007551, n: 0.46134028954765216}\n",
      "got superfluous keyword arguments\n",
      "dict_keys(['possible_cue_orders', 'campaign', 'learning'])\n",
      "pi = 0.5, xi = 0.125, kappa_c = 0.375, kappa_d = 0.5\n",
      "define economic equations,\n"
     ]
    }
   ],
   "source": [
    "# investment_decisions:\n",
    "\n",
    "possible_cue_orders = [[0], [1]]\n",
    "\n",
    "# Parameters:\n",
    "\n",
    "input_parameters = {'i_tau': 1, 'eps': 0.5, 'b_d': 1.2,\n",
    "                    'b_c': 1., 'i_phi': 1., 'e': 10,\n",
    "                    'G_0': 10000, 'b_r0': 0.1 ** 2 * 100,\n",
    "                    'possible_cue_orders': possible_cue_orders,\n",
    "                    'C': 100, 'xi': 1. / 8., 'd_c': 0.06, 's': 0.23,\n",
    "                    'campaign': False, 'learning': True,\n",
    "                    'crs': True, 'interaction': 2}\n",
    "\n",
    "# investment_decisions\n",
    "nopinions = [40, 60]\n",
    "opinions = []\n",
    "for i, n in enumerate(nopinions):\n",
    "    opinions.append(np.full((n), i, dtype='I'))\n",
    "opinions = [item for sublist in opinions for item in sublist]\n",
    "shuffle(opinions)\n",
    "\n",
    "# network:\n",
    "N = sum(nopinions)\n",
    "p = .2\n",
    "\n",
    "while True:\n",
    "    net = nx.erdos_renyi_graph(N, p)\n",
    "    if len(list(net)) > 1:\n",
    "        break\n",
    "adjacency_matrix = nx.adj_matrix(net).toarray()\n",
    "\n",
    "# investment\n",
    "clean_investment = np.ones(N)\n",
    "dirty_investment = np.ones(N)\n",
    "\n",
    "init_conditions = (adjacency_matrix, opinions,\n",
    "                   clean_investment, dirty_investment)\n",
    "\n",
    "models = {}\n",
    "\n",
    "models['rep'] = rep(*init_conditions, **input_parameters)\n",
    "C, n = models['rep'].find_initial_conditions()\n",
    "\n",
    "input_parameters['C'] = C\n",
    "\n",
    "# investment_decisions\n",
    "nopinions = [int(round((1.-n) * 100.)), int(round(n * 100.))]\n",
    "opinions = []\n",
    "for i, n in enumerate(nopinions):\n",
    "    opinions.append(np.full((n), i, dtype='I'))\n",
    "opinions = [item for sublist in opinions for item in sublist]\n",
    "shuffle(opinions)\n",
    "\n",
    "# network:\n",
    "N = sum(nopinions)\n",
    "p = .2\n",
    "\n",
    "while True:\n",
    "    net = nx.erdos_renyi_graph(N, p)\n",
    "    if len(list(net)) > 1:\n",
    "        break\n",
    "adjacency_matrix = nx.adj_matrix(net).toarray()\n",
    "\n",
    "init_conditions = (adjacency_matrix, opinions,\n",
    "                   clean_investment, dirty_investment)\n",
    "\n",
    "models['agg'] = agg(*init_conditions, **input_parameters)\n",
    "\n",
    "models['mean'] = mean(*init_conditions, **input_parameters)\n",
    "\n",
    "for name in models:\n",
    "    print(models[name].subs_params)"
   ]
  },
  {
   "cell_type": "code",
   "execution_count": null,
   "metadata": {
    "collapsed": false,
    "scrolled": false
   },
   "outputs": [],
   "source": [
    "t_max = 50\n",
    "\n",
    "models['micro'] = micro(*init_conditions, **input_parameters)\n",
    "\n",
    "#m_names = ['micro', 'mean']\n",
    "#m_names = ['micro', 'agg']\n",
    "m_names = ['mean', 'agg', 'micro']\n",
    "#m_names = ['micro', 'mean', 'agg', 'rep']\n",
    "\n",
    "for name in m_names:\n",
    "    if name in ['mean', 'agg']:\n",
    "        models[name].run(t_max=t_max, t_steps=t_max)\n",
    "    else:\n",
    "        models[name].run(t_max=t_max)"
   ]
  },
  {
   "cell_type": "code",
   "execution_count": null,
   "metadata": {
    "collapsed": false
   },
   "outputs": [],
   "source": [
    "trajectories = {}\n",
    "\n",
    "for name in m_names:\n",
    "    print(name)\n",
    "    trajectories[name] = models[name].get_unified_trajectory()"
   ]
  },
  {
   "cell_type": "code",
   "execution_count": null,
   "metadata": {
    "collapsed": false,
    "scrolled": false
   },
   "outputs": [],
   "source": [
    "\n",
    "m_names = ['mean', 'agg', 'micro']\n",
    "fig = plt.figure(figsize=(10,2 * len(m_names)))\n",
    "\n",
    "#t_max = 20\n",
    "\n",
    "for i, name in enumerate(m_names):\n",
    "    trj = trajectories[name][:t_max]\n",
    "\n",
    "    ax = fig.add_subplot(len(m_names), 4, 1 + 4*i)\n",
    "    ax.set_ylabel(name)\n",
    "    trj[['r_c', 'r_d']].plot(ax=ax)\n",
    "    leg = ax.get_legend()\n",
    "    leg.set_bbox_to_anchor(bbox=(1,1))\n",
    "\n",
    "    ax2 = fig.add_subplot(len(m_names), 4, 2 + 4*i)\n",
    "    trj[['k_c', 'k_d']].plot(ax=ax2)\n",
    "    ax2b = ax2.twinx()\n",
    "    trj[['c']].plot(ax=ax2b, color='g')\n",
    "\n",
    "    ax3 = fig.add_subplot(len(m_names), 4, 3 + 4*i)\n",
    "    trj[['n_c']].plot(ax=ax3)\n",
    "    \n",
    "    ax4 = fig.add_subplot(len(m_names), 4, 4 + 4*i)\n",
    "    trj[['g']].plot(ax=ax4)\n",
    "\n",
    "    fig.tight_layout()"
   ]
  },
  {
   "cell_type": "code",
   "execution_count": null,
   "metadata": {
    "collapsed": false
   },
   "outputs": [],
   "source": [
    "fig, ax = plt.subplots()\n",
    "\n",
    "colors = 'rgb'\n",
    "axb = ax.twinx()\n",
    "\n",
    "trj = trajectories['mean']\n",
    "trj['Pcd'].plot(ax=ax, color='r', label=name)\n",
    "trj['Pdc'].plot(ax=ax, color='r', style='-.', label='__no_label__')\n",
    "trj = trajectories['agg']\n",
    "trj['Pcd'].plot(ax=axb, color='g', label=name)\n",
    "trj['Pdc'].plot(ax=axb, color='g', style='-.', label='__no_label__')\n",
    "\n",
    "plt.legend()"
   ]
  },
  {
   "cell_type": "code",
   "execution_count": null,
   "metadata": {
    "collapsed": false
   },
   "outputs": [],
   "source": [
    "fig, ax = plt.subplots()\n",
    "\n",
    "colors = 'rgb'\n",
    "\n",
    "for i, name in enumerate(m_names):\n",
    "    if not name == 'micro':\n",
    "        trj = trajectories[name]\n",
    "        trj['W_d'].plot(ax=ax, color=colors[i], label=name)\n",
    "        trj['W_c'].plot(ax=ax, color=colors[i], style='-.', label='__no_label__')\n",
    "        plt.legend()"
   ]
  },
  {
   "cell_type": "code",
   "execution_count": null,
   "metadata": {
    "collapsed": false
   },
   "outputs": [],
   "source": [
    "fig = plt.figure(figsize=(12, 4))\n",
    "\n",
    "axc = fig.add_subplot(133)\n",
    "axc.set_title('xy comparison')\n",
    "colors = 'rgbk'\n",
    "names = ['mean', 'agg']\n",
    "trjs = {}\n",
    "trjs['mean'] = models['mean'].get_mean_trajectory()\n",
    "trjs['agg'] = models['agg'].get_aggregate_trajectory()\n",
    "\n",
    "for i, name in enumerate(names):\n",
    "    trj = trjs[name]\n",
    "    trj['x'].plot(ax=axc, color=colors[i], label=name)\n",
    "    #trj['z'].plot(ax=ax, color=colors[i], style='--', label='__no_label__')\n",
    "plt.legend()\n",
    "\n",
    "axd = axc.twinx()\n",
    "for i, name in enumerate(names):\n",
    "    trj = trjs[name]\n",
    "    trj['y'].plot(ax=axd, color=colors[i], style='-.', label='__no_label__')\n",
    "    \n",
    "ax = fig.add_subplot(131)\n",
    "ax.set_title('aggregate approx.')\n",
    "(trjs['agg'][:2]['K_c^c']/(100*0.5*(trjs['agg']['x'] + 1))).plot(color='g', style='-', label='clean K clean H')\n",
    "(trjs['agg'][:2]['K_d^c']/(100*0.5*(trjs['agg']['x'] + 1))).plot(color='g', style='--', label='dirty K clean H')\n",
    "(trjs['agg'][:2]['K_c^d']/(100*0.5*(1 - trjs['agg']['x']))).plot(color='k', style='-', label='clean K dirty H')\n",
    "(trjs['agg'][:2]['K_d^d']/(100*0.5*(1 - trjs['agg']['x']))).plot(color='k', style='--', label='dirty K dirty H')\n",
    "ax.set_xlim([0, 2])\n",
    "plt.legend()\n",
    "\n",
    "axb = fig.add_subplot(132)\n",
    "axb.set_title('mean approx.')\n",
    "(trjs['mean'][:2]['mu_c^c']).plot(color='g', style='-', label='clean K clean H')\n",
    "(trjs['mean'][:2]['mu_d^c']).plot(color='g', style='--', label='dirty K clean H')\n",
    "(trjs['mean'][:2]['mu_c^d']).plot(color='k', style='-', label='clean K dirty H')\n",
    "(trjs['mean'][:2]['mu_d^d']).plot(color='k', style='--', label='dirty K dirty H')\n",
    "axb.set_xlim([0, 2])\n",
    "plt.legend()\n",
    "\n"
   ]
  },
  {
   "cell_type": "code",
   "execution_count": null,
   "metadata": {
    "collapsed": false
   },
   "outputs": [],
   "source": [
    "tra = models['agg'].get_aggregate_trajectory()\n",
    "trm = models['mean'].get_mean_trajectory()\n",
    "\n",
    "fig=plt.figure(figsize=(12,4))\n",
    "ax=fig.add_subplot(141)\n",
    "ax.set_title('dirty households')\n",
    "ax.set_ylabel('average household capital')\n",
    "(2./100*tra['K_d^d']/(1-tra['x'])).plot(ax=ax, color='k', style='-.', label='__no_label__')\n",
    "trm['mu_d^d'].plot(ax=ax, color='k', label='dirty capital')\n",
    "(2./100*tra['K_c^d']/(1-tra['x'])).plot(ax=ax, color='b', style='-.', label='__no_label__')\n",
    "trm['mu_c^d'].plot(ax=ax, color='b', label='clean capital')\n",
    "ax.plot([0], [0], 'k-.', label='agg', alpha=.5)\n",
    "ax.plot([0], [0], 'k-', label='mean', alpha=.5)\n",
    "plt.legend()\n",
    "\n",
    "ax2=fig.add_subplot(142)\n",
    "ax2.set_title('clean households')\n",
    "(2./100*tra['K_d^c']/(1+tra['x'])).plot(ax=ax2, color='k', style='-.', label='__no_label__')\n",
    "trm['mu_d^c'].plot(ax=ax2, color='k', label='dirty capital')\n",
    "#(2./100*tra['K_c^c']/(1+tra['x'])).plot(ax=ax2, color='b', style='-.', label='__no_label__')\n",
    "#trm['mu_c^c'].plot(ax=ax2, color='b', label='clean capital')\n",
    "ax2.plot([0], [0], 'k-.', label='agg', alpha=.5)\n",
    "ax2.plot([0], [0], 'k-', label='mean', alpha=.5)\n",
    "plt.legend()\n",
    "\n",
    "ax3 = fig.add_subplot(143)\n",
    "ax3.set_title('average household income')\n",
    "for i, name in enumerate(['agg', 'mean']):\n",
    "    trj = trajectories[name]\n",
    "    trj['W_d'].plot(ax=ax3, color=colors[i], label=name)\n",
    "    trj['W_c'].plot(ax=ax3, color=colors[i], style='-.', label='__no_label__')\n",
    "ax3.plot([0], [0.707], 'k-.', label='clean', alpha=.5)\n",
    "ax3.plot([0], [0.707], 'k-', label='dirty', alpha=.5)\n",
    "plt.legend()\n",
    "    \n",
    "ax4 = fig.add_subplot(144)\n",
    "ax4.set_title('number of clean households')\n",
    "for i, name in enumerate(['agg', 'mean']):\n",
    "    trj = trajectories[name]\n",
    "    trj['n_c'].plot(ax=ax4, color=colors[i], style='-.', label='__no_label__')\n",
    "    plt.legend()"
   ]
  },
  {
   "cell_type": "code",
   "execution_count": null,
   "metadata": {
    "collapsed": false
   },
   "outputs": [],
   "source": [
    "tra = models['agg'].get_aggregate_trajectory()\n",
    "trm = models['mean'].get_mean_trajectory()\n",
    "\n",
    "fig=plt.figure(figsize=(12,4))\n",
    "ax=fig.add_subplot(141)\n",
    "ax.set_title('dirty households')\n",
    "ax.set_ylabel('average household capital')\n",
    "tra['K_d^d'].plot(ax=ax, color='r', style='-.', label='__no_label__')\n",
    "(trm['mu_d^d']*100/2*(1-trm['x'])).plot(ax=ax, color='r', label='dirty capital')\n",
    "tra['K_c^d'].plot(ax=ax, color='b', style='-.', label='__no_label__')\n",
    "(trm['mu_c^d']*100/2*(1-trm['x'])).plot(ax=ax, color='b', label='clean capital')\n",
    "plt.legend()\n",
    "\n",
    "ax2=fig.add_subplot(142)\n",
    "ax2.set_title('clean households')\n",
    "tra['K_c^c'].plot(ax=ax2, color='g', style='-.')\n",
    "(trm['mu_c^c']*100/2*(1+trm['x'])).plot(ax=ax2, color='g')\n",
    "tra['K_d^c'].plot(ax=ax2, color='k', style='-.')\n",
    "(trm['mu_d^c']*100/2*(1+trm['x'])).plot(ax=ax2, color='k')\n",
    "\n",
    "ax3 = fig.add_subplot(143)\n",
    "ax3.set_title('average household income')\n",
    "for i, name in enumerate(['agg', 'mean']):\n",
    "    trj = trajectories[name]\n",
    "    trj['W_d'].plot(ax=ax3, color=colors[i], label=name)\n",
    "    trj['W_c'].plot(ax=ax3, color=colors[i], style='-.', label='__no_label__')\n",
    "    plt.legend()\n",
    "    \n",
    "ax4 = fig.add_subplot(144)\n",
    "ax4.set_title('number of clean households')\n",
    "for i, name in enumerate(['agg', 'mean']):\n",
    "    trj = trajectories[name]\n",
    "    trj['n_c'].plot(ax=ax4, color=colors[i], style='-.', label='__no_label__')\n",
    "    plt.legend()"
   ]
  },
  {
   "cell_type": "code",
   "execution_count": null,
   "metadata": {
    "collapsed": true
   },
   "outputs": [],
   "source": []
  },
  {
   "cell_type": "code",
   "execution_count": null,
   "metadata": {
    "collapsed": true
   },
   "outputs": [],
   "source": []
  }
 ],
 "metadata": {
  "kernelspec": {
   "display_name": "Python [default]",
   "language": "python",
   "name": "python3"
  },
  "language_info": {
   "codemirror_mode": {
    "name": "ipython",
    "version": 3
   },
   "file_extension": ".py",
   "mimetype": "text/x-python",
   "name": "python",
   "nbconvert_exporter": "python",
   "pygments_lexer": "ipython3",
   "version": "3.6.0"
  }
 },
 "nbformat": 4,
 "nbformat_minor": 0
}
