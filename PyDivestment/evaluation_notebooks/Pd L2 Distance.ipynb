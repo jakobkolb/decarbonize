{
 "cells": [
  {
   "cell_type": "code",
   "execution_count": null,
   "metadata": {},
   "outputs": [],
   "source": [
    "%matplotlib inline\n",
    "import numpy as np\n",
    "import matplotlib.pyplot as plt\n",
    "import pandas as pd\n",
    "from plot_routines import plot_routines\n",
    "from scipy.interpolate import interp1d\n",
    "import seaborn"
   ]
  },
  {
   "cell_type": "code",
   "execution_count": null,
   "metadata": {},
   "outputs": [],
   "source": [
    "# Loading the data into a plotting tool class.\n",
    "micro_path = '/home/jakob/Project_Divestment/PyDivestment/output_data/P3o2/micro/mean.h5'\n",
    "macro_path = '/home/jakob/Project_Divestment/PyDivestment/output_data/P3o2/aggregate/mean.h5'\n",
    "with pd.HDFStore(micro_path) as store:\n",
    "    micro_data = store.select('dat', 'approximate=1 & test=False & sample=0 & xi=0.01 & tau>0.5')\n",
    "with pd.HDFStore(macro_path) as store:\n",
    "    macro_data = store.select('dat', 'approximate=2 & test=False & sample=0 & xi=0.01 & tau>0.5')\n",
    "    \n",
    "for df in [micro_data, macro_data]:\n",
    "    df.index = df.index.droplevel(['approximate', 'test', 'sample', 'xi'])\n",
    "    df.index.names = [r'$\\tau$',r'$\\phi$', 'tsteps']"
   ]
  },
  {
   "cell_type": "code",
   "execution_count": null,
   "metadata": {},
   "outputs": [],
   "source": [
    "macro_data.head()"
   ]
  },
  {
   "cell_type": "code",
   "execution_count": null,
   "metadata": {},
   "outputs": [],
   "source": [
    "def l_2_distance(d1, d2, observable=None):\n",
    "    \n",
    "    d1_data = d1[[observable]]\n",
    "    d2_data = d2[[observable]]\n",
    "    \n",
    "    names = d1.index.names\n",
    "    print(names)\n",
    "    indices = {ax: list(d1.index.levels[names.index(ax)].values) for ax in names[:2]}\n",
    "    print(indices)\n",
    "    output = np.zeros((len(indices[names[0]]),len(indices[names[1]])))\n",
    "    \n",
    "    for i, n0 in enumerate(indices[names[0]]):\n",
    "        for j, n1 in enumerate(indices[names[1]]):\n",
    "            levels = names[:2]\n",
    "            tkey = [n0, n1]\n",
    "    \n",
    "            # get values and times from dataframes\n",
    "            d1_slice = d1_data.xs(key=tkey, level=levels).values.T[0][:-1]\n",
    "            #d1_times = d1_data.xs(key=tkey, level=levels).index.values[:-1]\n",
    "\n",
    "            d2_slice = d2_data.xs(key=tkey, level=levels).values.T[0][:-1]\n",
    "            #d2_times = d2_data.xs(key=tkey, level=levels).index.values[:-1]\n",
    "            \n",
    "            # interpolate to get values on equal timepoints\n",
    "            #d1_ipl = interp1d(d1_times, d1_slice)\n",
    "            #d2_ipl = interp1d(d2_times, d2_slice)\n",
    "\n",
    "            #samples = 200\n",
    "            #times = np.linspace(d1_times[0], min(d1_times[-1], d2_times[-1]), samples)\n",
    "            #d1_ipl_data = d1_ipl(times)\n",
    "            #d2_ipl_data = d2_ipl(times)\n",
    "            d1_ipl_data = d1_slice\n",
    "            d2_ipl_data = d2_slice\n",
    "            dd = d1_ipl_data - d2_ipl_data\n",
    "            l2 = np.sqrt(sum(dd*dd))\n",
    "            output[i, j] = l2\n",
    "            \n",
    "    return output, indices, names[:2]"
   ]
  },
  {
   "cell_type": "code",
   "execution_count": null,
   "metadata": {},
   "outputs": [],
   "source": [
    "levels=['eps']\n",
    "key=[0.05]\n",
    "\n",
    "data, indices, ax_names = l_2_distance(micro_data, macro_data, observable='x')\n",
    "\n",
    "fig = plt.figure()\n",
    "ax = fig.add_subplot(111)\n",
    "\n",
    "seaborn.heatmap(data,\n",
    "                yticklabels=indices[ax_names[0]],\n",
    "                xticklabels=[round(x, 3) for x in indices[ax_names[1]]],\n",
    "                ax=ax,\n",
    "                cbar_kws={'label': '$L_2$ distance'})\n",
    "ax.set_ylabel(ax_names[0])\n",
    "ax.set_xlabel(ax_names[1])\n",
    "\n",
    "fig = ax.get_figure()\n",
    "fig.tight_layout()\n",
    "fig.savefig('heatmap.png')\n",
    "fig.savefig('heatmap.pdf')"
   ]
  },
  {
   "cell_type": "code",
   "execution_count": null,
   "metadata": {},
   "outputs": [],
   "source": []
  }
 ],
 "metadata": {
  "kernelspec": {
   "display_name": "Python [conda env:forge]",
   "language": "python",
   "name": "conda-env-forge-py"
  }
 },
 "nbformat": 4,
 "nbformat_minor": 2
}
