{
 "cells": [
  {
   "cell_type": "markdown",
   "metadata": {},
   "source": [
    "## Equations for Moment Closure of Network-based micro-model for divestment of bounded rational households."
   ]
  },
  {
   "cell_type": "markdown",
   "metadata": {},
   "source": [
    "Imports and setup"
   ]
  },
  {
   "cell_type": "code",
   "execution_count": 84,
   "metadata": {},
   "outputs": [
    {
     "data": {
      "text/html": [
       "<style>.container { width:98% !important; }</style>"
      ],
      "text/plain": [
       "<IPython.core.display.HTML object>"
      ]
     },
     "metadata": {},
     "output_type": "display_data"
    }
   ],
   "source": [
    "import sympy as s\n",
    "import pickle as pkl\n",
    "from sympy.abc import epsilon, phi, tau\n",
    "from IPython.core.display import display, HTML\n",
    "display(HTML(\"<style>.container { width:98% !important; }</style>\"))\n",
    "s.init_printing()"
   ]
  },
  {
   "cell_type": "markdown",
   "metadata": {},
   "source": [
    "Define variables and parameters for the adaptive voter model"
   ]
  },
  {
   "cell_type": "code",
   "execution_count": 85,
   "metadata": {},
   "outputs": [],
   "source": [
    "# number of nodes\n",
    "N = s.Symbol('N', integer=True)\n",
    "# number of dirty nodes\n",
    "Nd = s.Symbol('N_d', integer=True)\n",
    "# number of clean nodes\n",
    "Nc = s.Symbol('N_c', integer=True)\n",
    "# number of edges\n",
    "M = s.Symbol('M', integer=True)\n",
    "# number of clean edges\n",
    "cc = s.Symbol('[cc]', integer=True)\n",
    "# number of dirty edges\n",
    "dd = s.Symbol('[dd]', integer=True)\n",
    "# number of mixed edges\n",
    "cd = s.Symbol('[cd]', integer=True)\n",
    "# average number of neighbors of clean nodes\n",
    "kc = s.Symbol('k_c', integer=True)\n",
    "# average number of neighbors of dirty nodes\n",
    "kd = s.Symbol('k_d', integer=True)\n",
    "# Nc - Nd\n",
    "X = s.Symbol('X', real=True)\n",
    "# cc - dd\n",
    "Y = s.Symbol('Y', real=True)\n",
    "# cd\n",
    "Z = s.Symbol('Z', real=True, positive=True)\n",
    "# wealth of dirty node\n",
    "Wd = s.Symbol('W_d')\n",
    "# wealth of clean node\n",
    "Wc = s.Symbol('W_c')\n",
    "# imitation probabilities\n",
    "Pcd, Pdc = s.symbols('P_{cd} P_{dc}')\n",
    "# relative fittness differences\n",
    "Wcd, Wdc = s.symbols('W_{cd} W_{dc}')\n"
   ]
  },
  {
   "cell_type": "markdown",
   "metadata": {},
   "source": [
    "Define variables and parameters for the economic subsystem:"
   ]
  },
  {
   "cell_type": "code",
   "execution_count": 86,
   "metadata": {},
   "outputs": [],
   "source": [
    "# Total labor and labor shares in sectors\n",
    "L, Lc, Ld = s.symbols('L L_c L_d', positive=True, real=True)\n",
    "# Total capital in sectors\n",
    "Kc, Kd = s.symbols('K_c K_d', positive=True, real=True)\n",
    "# Equilibrium wage and capital return rates in sectors\n",
    "w, rc, rd = s.symbols('w r_c r_d', positive=True, real=True)\n",
    "# Resource usage rage, resource stock, knowledge Stock\n",
    "R, G, C = s.symbols('R, G, C', positive=True, real=True)\n",
    "# average capital endowments of clean and dirty households\n",
    "# lower (first) index: capital type, upper (second) index: household type\n",
    "mucc, mucd, mudc, mudd = s.symbols('mu_c^c mu_c^d mu_d^c mu_d^d', positive=True, real=True)\n",
    "# savings rate, capital depreciaten rate, and elasticities of labor, capital and knowledge\n",
    "rs, delta, pi, kappac, kappad, xi = s.symbols('s delta pi kappa_c, kappa_d xi', positive=True, rational=True, real=True)\n",
    "# solow residuals of clean and dirty sector, prefactor for resource cost, energy efficiency, initial resource stock\n",
    "bc, bd, bR, e, G0 = s.symbols('b_c b_d b_R e G_0', positive=True, real=True)\n",
    "# substitutions for resolution on constraints from market clearing.\n",
    "Xc, Xd, XR = s.symbols('X_c X_d X_R', positive=True, real=True)"
   ]
  },
  {
   "cell_type": "markdown",
   "metadata": {},
   "source": [
    "Defination of relations between variables and calculation of substitution of *primitive variables* by *state variables* of the system"
   ]
  },
  {
   "cell_type": "code",
   "execution_count": 87,
   "metadata": {},
   "outputs": [
    {
     "data": {
      "image/png": "[encoded data removed]",
      "text/latex": [
       "$$\\left \\{ N_{c} : \\frac{N}{2} + \\frac{X}{2}, \\quad N_{d} : \\frac{N}{2} - \\frac{X}{2}, \\quad [cc] : \\frac{M}{2} + \\frac{Y}{2} - \\frac{Z}{2}, \\quad [cd] : Z, \\quad [dd] : \\frac{M}{2} - \\frac{Y}{2} - \\frac{Z}{2}, \\quad k_{c} : \\frac{2 \\left(M + Y\\right)}{N + X}, \\quad k_{d} : \\frac{2 \\left(M - Y\\right)}{N - X}\\right \\}$$"
      ],
      "text/plain": [
       "⎧     N   X       N   X        M   Y   Z                 M   Y   Z       2⋅(M \n",
       "⎨N_c: ─ + ─, N_d: ─ - ─, [cc]: ─ + ─ - ─, [cd]: Z, [dd]: ─ - ─ - ─, k_c: ─────\n",
       "⎩     2   2       2   2        2   2   2                 2   2   2         N +\n",
       "\n",
       "+ Y)       2⋅(M - Y)⎫\n",
       "────, k_d: ─────────⎬\n",
       " X           N - X  ⎭"
      ]
     },
     "execution_count": 87,
     "metadata": {},
     "output_type": "execute_result"
    }
   ],
   "source": [
    "eqs = [\n",
    "    # total number of households is fixed,\n",
    "    Nd+Nc-N,\n",
    "    # total number of edges is fixed,\n",
    "    cc+dd+cd-M,\n",
    "    # definition of state space variables\n",
    "    X-Nc+Nd,\n",
    "    Y-cc+dd,\n",
    "    Z-cd,\n",
    "    # mean degrees of clean and dirty nodes\n",
    "    kc-(2*cc+cd)/Nc,\n",
    "    kd-(2*dd+cd)/Nd\n",
    "]\n",
    "vars1 = (Nc, Nd, cc, dd, cd, kc, kd)\n",
    "vars2 = (N, M, X, Y, Z)\n",
    "subs1 = s.solve(eqs, vars1, dict=True)[0]\n",
    "\n",
    "\n",
    "subs1"
   ]
  },
  {
   "cell_type": "code",
   "execution_count": 88,
   "metadata": {},
   "outputs": [
    {
     "data": {
      "image/png": "[encoded data removed]",
      "text/latex": [
       "$$\\left \\{ W_{cd} : \\frac{- \\mu^{c}_{c} r_{c} + \\mu^{d}_{c} r_{c} - \\mu^{c}_{d} r_{d} + \\mu^{d}_{d} r_{d}}{\\mu^{c}_{c} r_{c} + \\mu^{d}_{c} r_{c} + \\mu^{c}_{d} r_{d} + \\mu^{d}_{d} r_{d}}, \\quad W_{dc} : \\frac{\\mu^{c}_{c} r_{c} - \\mu^{d}_{c} r_{c} + \\mu^{c}_{d} r_{d} - \\mu^{d}_{d} r_{d}}{\\mu^{c}_{c} r_{c} + \\mu^{d}_{c} r_{c} + \\mu^{c}_{d} r_{d} + \\mu^{d}_{d} r_{d}}\\right \\}$$"
      ],
      "text/plain": [
       "⎧        -μ_c__c⋅r_c + μ_c__d⋅r_c - μ_d__c⋅r_d + μ_d__d⋅r_d          μ_c__c⋅r_\n",
       "⎨W_{cd}: ──────────────────────────────────────────────────, W_{dc}: ─────────\n",
       "⎩        μ_c__c⋅r_c + μ_c__d⋅r_c + μ_d__c⋅r_d + μ_d__d⋅r_d           μ_c__c⋅r_\n",
       "\n",
       "c - μ_c__d⋅r_c + μ_d__c⋅r_d - μ_d__d⋅r_d⎫\n",
       "────────────────────────────────────────⎬\n",
       "c + μ_c__d⋅r_c + μ_d__c⋅r_d + μ_d__d⋅r_d⎭"
      ]
     },
     "execution_count": 88,
     "metadata": {},
     "output_type": "execute_result"
    }
   ],
   "source": [
    "# define expected wealth as expected income\n",
    "subsW = {}\n",
    "subsW[Wc] = rc * mucc + rd * mudc\n",
    "subsW[Wd] = rc * mucd + rd * mudd\n",
    "\n",
    "# Define substitutions for relative fitness differences\n",
    "subsDW = {}\n",
    "subsDW[Wcd] = (Wd - Wc) / (Wc + Wd)\n",
    "subsDW[Wdc] = (Wc - Wd) / (Wc + Wd)\n",
    "\n",
    "for key in subsDW.keys():\n",
    "    subsDW[key] = s.simplify(subsDW[key].subs(subsW))\n",
    "subsDW"
   ]
  },
  {
   "cell_type": "code",
   "execution_count": 89,
   "metadata": {},
   "outputs": [
    {
     "data": {
      "image/png": "[encoded data removed]",
      "text/latex": [
       "$$\\left \\{ P_{cd} : \\frac{1.0}{e^{8.0 W_{cd}} + 1}, \\quad P_{dc} : \\frac{1.0}{e^{8.0 W_{dc}} + 1}\\right \\}$$"
      ],
      "text/plain": [
       "⎧              1.0                      1.0      ⎫\n",
       "⎪P_{cd}: ───────────────, P_{dc}: ───────────────⎪\n",
       "⎨         8.0⋅W_{cd}               8.0⋅W_{dc}    ⎬\n",
       "⎪        ℯ           + 1          ℯ           + 1⎪\n",
       "⎩                                                ⎭"
      ]
     },
     "execution_count": 89,
     "metadata": {},
     "output_type": "execute_result"
    }
   ],
   "source": [
    "# Define imitation probabilities depending on agent wealth\n",
    "\n",
    "interaction = 1\n",
    "subsP = {}\n",
    "if interaction == 1:\n",
    "    subsP[Pcd] = (1. / (1 + s.exp(8. * Wcd)))\n",
    "    subsP[Pdc] = (1. / (1 + s.exp(8. * Wdc)))\n",
    "elif interaction == 2:\n",
    "    subsP[Pcd] = ((1./2)*(Wcd+1))\n",
    "    subsP[Pdc] = ((1./2)*(Wdc+1))\n",
    "    \n",
    "for key in subsP.keys():\n",
    "    subsP[key] = s.simplify(subsP[key])\n",
    "subsP"
   ]
  },
  {
   "cell_type": "markdown",
   "metadata": {},
   "source": [
    "Jumps in state space i.e. Effect of events on state vector S = (X, Y, Z) - denoted r = X-X' in van Kampen"
   ]
  },
  {
   "cell_type": "code",
   "execution_count": 90,
   "metadata": {
    "collapsed": true
   },
   "outputs": [],
   "source": [
    "# regular adaptive voter events\n",
    "s1 = s.Matrix([ 0, 1, -1]) # clean investor rewires\n",
    "s2 = s.Matrix([ 0,-1, -1]) # dirty investor rewires\n",
    "s3 = s.Matrix([-2,-kc,-1 + (1-1./kc)*((2*cc-cd)/Nc)]) # clean investor imitates c -> d\n",
    "s4 = s.Matrix([ 2, kd,-1 + (1-1./kd)*((2*dd-cd)/Nd)]) # dirty investor imitates d -> c\n",
    "\n",
    "# noise events\n",
    "\n",
    "s5 = s.Matrix([-2,-(2*cc+cd)/Nc,(2*cc-cd)/Nc]) # c -> d\n",
    "s6 = s.Matrix([ 2, (2*dd+cd)/Nd,(2*dd-cd)/Nd]) # d -> c\n",
    "s7 = s.Matrix([ 0,-1, 1]) # c-c -> c-d\n",
    "s8 = s.Matrix([ 0, 1,-1]) # c-d -> c-c\n",
    "s9 = s.Matrix([ 0, 1, 1]) # d-d -> d-c\n",
    "s10= s.Matrix([ 0,-1,-1]) # d-c -> d-d"
   ]
  },
  {
   "cell_type": "markdown",
   "metadata": {},
   "source": [
    "Probabilities per unit time for events to occur (denoted by W in van Kampen)"
   ]
  },
  {
   "cell_type": "code",
   "execution_count": 91,
   "metadata": {},
   "outputs": [],
   "source": [
    "p1 = 1./tau * (1-epsilon)*(Nc/N)*cd/(Nc * kc)*phi # clean investor rewires\n",
    "p2 = 1./tau * (1-epsilon)*(Nd/N)*cd/(Nd * kd)*phi # dirty investor rewires\n",
    "p3 = 1./tau * (1-epsilon)*(Nc/N)*cd/(Nc * kc)*(1-phi)*Pcd # clean investor imitates c -> d\n",
    "p4 = 1./tau * (1-epsilon)*(Nd/N)*cd/(Nd * kd)*(1-phi)*Pdc # dirty investor imitates d -> c\n",
    "p5 = 1./tau * epsilon * (1./2) * Nc/N # c -> d\n",
    "p6 = 1./tau * epsilon * (1./2) * Nd/N # d -> c\n",
    "p7 = 1./tau * epsilon * Nc/N * (2*cc)/(2*cc+cd) * Nd/N # c-c -> c-d\n",
    "p8 = 1./tau * epsilon * Nc/N * (cd)/(2*cc+cd) * Nc/N   # c-d -> c-c\n",
    "p9 = 1./tau * epsilon * Nd/N * (2*dd)/(2*dd+cd) * Nc/N # d-d -> d-c\n",
    "p10= 1./tau * epsilon * Nd/N * (cd)/(2*dd+cd) * Nd/N   # d-c -> d-d"
   ]
  },
  {
   "cell_type": "markdown",
   "metadata": {},
   "source": [
    "Create S and r matrices to write down rhs markov jump process for pair based proxy:"
   ]
  },
  {
   "cell_type": "code",
   "execution_count": 92,
   "metadata": {},
   "outputs": [],
   "source": [
    "r = s.Matrix(s1)\n",
    "for i, si in enumerate([s2, s3, s4, s5, s6, s7, s8, s9, s10]):\n",
    "    r = r.col_insert(i+1, si)\n",
    "\n",
    "W = s.Matrix([p1])\n",
    "for j, pj in enumerate([s.Matrix([p]) for p in[p2, p3, p4, p5, p6, p7, p8, p9, p10]]):\n",
    "    W = W.col_insert(j+1, pj)"
   ]
  },
  {
   "cell_type": "markdown",
   "metadata": {},
   "source": [
    "rhs of the pair based proxy is given by the first jump moment. This is formally given by \n",
    "\n",
    "$\\int r W(S,r) dr$\n",
    "\n",
    "which in our case is equal to \n",
    "\n",
    "$\\sum_i r_i W_{i, j}(S)$\n",
    "\n",
    "To calculate this, we first write the jumps and transition matrix in terms of X, Y, Z and then substitute with rescalled variables and eliminate N."
   ]
  },
  {
   "cell_type": "code",
   "execution_count": 93,
   "metadata": {},
   "outputs": [],
   "source": [
    "r = r.subs(subs1)\n",
    "W = W.subs(subs1)"
   ]
  },
  {
   "cell_type": "code",
   "execution_count": 94,
   "metadata": {
    "collapsed": true
   },
   "outputs": [],
   "source": [
    "x, y, z, m = s.symbols('x y z m')\n",
    "c, g, l, g0 = s.symbols('c, g, l, g_0')\n",
    "subs4 = {Kc: (N/2.*(1+x)*mucc + N/2.*(1-x)*mucd),\n",
    "         Kd: (N/2.*(1+x)*mudc + N/2.*(1-x)*mudd),\n",
    "         C: N * c,\n",
    "         L: N * l,\n",
    "         G: N * g,\n",
    "         G0: N * g0,\n",
    "         X: N*x,\n",
    "         Y: N*m*y,\n",
    "         Z: N*m*z,\n",
    "         M: N*m}"
   ]
  },
  {
   "cell_type": "code",
   "execution_count": 95,
   "metadata": {},
   "outputs": [
    {
     "name": "stdout",
     "output_type": "stream",
     "text": [
      "printing expressions that sympy cant handle to check their treatment is appropriate\n",
      "     ⎛  0.5⋅(N⋅x + N)    ⎞                        \n",
      "     ⎜- ───────────── + 1⎟⋅(N⋅m⋅y - 2⋅N⋅m⋅z + N⋅m)\n",
      "     ⎝   N⋅m⋅y + N⋅m     ⎠                        \n",
      "-1 + ─────────────────────────────────────────────\n",
      "                        N⋅x   N                   \n",
      "                        ─── + ─                   \n",
      "                         2    2                   \n",
      "printing expressions that sympy cant handle to check their treatment is appropriate\n",
      "     ⎛  0.5⋅(-N⋅x + N)    ⎞                         \n",
      "     ⎜- ────────────── + 1⎟⋅(-N⋅m⋅y - 2⋅N⋅m⋅z + N⋅m)\n",
      "     ⎝   -N⋅m⋅y + N⋅m     ⎠                         \n",
      "-1 + ───────────────────────────────────────────────\n",
      "                          N⋅x   N                   \n",
      "                        - ─── + ─                   \n",
      "                           2    2                   \n"
     ]
    }
   ],
   "source": [
    "r = r.subs(subs4)\n",
    "W = W.subs(subs4)\n",
    "for i in range(len(W)):\n",
    "    W[i] = W[i].collect(N)\n",
    "for i in range(len(r)):\n",
    "    r[i] = r[i].collect(N)\n",
    "    # flamming hack to circumvent sympies inability to collect with core.add.Add.\n",
    "    # eyeballing the expressions it is obvious that this is justified.\n",
    "    if isinstance(r[i], s.add.Add):\n",
    "        print('printing expressions that sympy cant handle to check their treatment is appropriate')\n",
    "        s.pretty_print(r[i])\n",
    "        r[i] = r[i].subs({N: 1})"
   ]
  },
  {
   "cell_type": "markdown",
   "metadata": {},
   "source": [
    "After eliminating N, we can write down the first jump moment:"
   ]
  },
  {
   "cell_type": "code",
   "execution_count": 96,
   "metadata": {},
   "outputs": [
    {
     "data": {
      "image/png": "[encoded data removed]",
      "text/latex": [
       "$$\\left[\\begin{matrix}\\frac{1.0}{\\tau \\left(y - 1\\right) \\left(y + 1\\right)} \\left(- P_{cd} z \\left(\\epsilon - 1\\right) \\left(\\phi - 1\\right) \\left(x + 1\\right) \\left(y - 1\\right) + P_{dc} z \\left(\\epsilon - 1\\right) \\left(\\phi - 1\\right) \\left(x - 1\\right) \\left(y + 1\\right) - \\epsilon x \\left(y - 1\\right) \\left(y + 1\\right)\\right)\\\\\\frac{1}{\\tau \\left(y - 1\\right) \\left(y + 1\\right)} \\left(m \\left(y - 1\\right) \\left(y + 1\\right) \\left(- 1.0 P_{cd} z \\left(\\epsilon - 1\\right) \\left(\\phi - 1\\right) + 1.0 P_{dc} z \\left(\\epsilon - 1\\right) \\left(\\phi - 1\\right) - 0.5 \\epsilon \\left(y - 1\\right) - 0.5 \\epsilon \\left(y + 1\\right)\\right) + \\left(x - 1\\right) \\left(y + 1\\right) \\left(0.25 \\epsilon z \\left(x - 1\\right) - 0.25 \\epsilon \\left(x + 1\\right) \\left(y + z - 1\\right) + 0.5 \\phi z \\left(\\epsilon - 1\\right)\\right) + \\left(x + 1\\right) \\left(y - 1\\right) \\left(0.25 \\epsilon z \\left(x + 1\\right) + 0.25 \\epsilon \\left(x - 1\\right) \\left(y - z + 1\\right) - 0.5 \\phi z \\left(\\epsilon - 1\\right)\\right)\\right)\\\\\\frac{1}{\\tau \\left(y - 1\\right)^{2} \\left(y + 1\\right)^{2}} \\left(- 0.5 P_{cd} z \\left(\\epsilon - 1\\right) \\left(\\phi - 1\\right) \\left(y - 1\\right)^{2} \\left(\\left(x + 1\\right) \\left(y + 1\\right) + 2 \\left(y - 2 z + 1\\right) \\left(- m y - m + 0.5 x + 0.5\\right)\\right) - 0.5 P_{dc} z \\left(\\epsilon - 1\\right) \\left(\\phi - 1\\right) \\left(y + 1\\right)^{2} \\left(\\left(x - 1\\right) \\left(y - 1\\right) + 2 \\left(y + 2 z - 1\\right) \\left(- m y + m + 0.5 x - 0.5\\right)\\right) + 1.0 \\epsilon m \\left(y - 1\\right)^{2} \\left(y + 1\\right)^{2} \\left(- 2 z + 1\\right) + \\left(x - 1\\right) \\left(y - 1\\right) \\left(y + 1\\right)^{2} \\left(0.25 \\epsilon z \\left(x - 1\\right) - 0.25 \\epsilon \\left(x + 1\\right) \\left(y + z - 1\\right) + 0.5 \\phi z \\left(\\epsilon - 1\\right)\\right) + \\left(x + 1\\right) \\left(y - 1\\right)^{2} \\left(y + 1\\right) \\left(- 0.25 \\epsilon z \\left(x + 1\\right) - 0.25 \\epsilon \\left(x - 1\\right) \\left(y - z + 1\\right) + 0.5 \\phi z \\left(\\epsilon - 1\\right)\\right)\\right)\\end{matrix}\\right]$$"
      ],
      "text/plain": [
       "⎡                                                                             \n",
       "⎢                                                                             \n",
       "⎢                                                                             \n",
       "⎢                                                                             \n",
       "⎢                                                                         m⋅(y\n",
       "⎢                                                                         ────\n",
       "⎢                                                                             \n",
       "⎢                                                                             \n",
       "⎢                                      2                                      \n",
       "⎢- 0.5⋅P_{cd}⋅z⋅(ε - 1)⋅(φ - 1)⋅(y - 1) ⋅((x + 1)⋅(y + 1) + 2⋅(y - 2⋅z + 1)⋅(-\n",
       "⎢─────────────────────────────────────────────────────────────────────────────\n",
       "⎢                                                                             \n",
       "⎣                                                                             \n",
       "\n",
       "                                                                              \n",
       "                                                                              \n",
       "                                                                              \n",
       "                                                                              \n",
       " - 1)⋅(y + 1)⋅(-1.0⋅P_{cd}⋅z⋅(ε - 1)⋅(φ - 1) + 1.0⋅P_{dc}⋅z⋅(ε - 1)⋅(φ - 1) - \n",
       "──────────────────────────────────────────────────────────────────────────────\n",
       "                                                                              \n",
       "                                                                              \n",
       "                                                              2               \n",
       "m⋅y - m + 0.5⋅x + 0.5)) - 0.5⋅P_{dc}⋅z⋅(ε - 1)⋅(φ - 1)⋅(y + 1) ⋅((x - 1)⋅(y - \n",
       "──────────────────────────────────────────────────────────────────────────────\n",
       "                                                                              \n",
       "                                                                              \n",
       "\n",
       "  1.0⋅(-P_{cd}⋅z⋅(ε - 1)⋅(φ - 1)⋅(x + 1)⋅(y - 1) + P_{dc}⋅z⋅(ε - 1)⋅(φ - 1)⋅(x\n",
       "  ────────────────────────────────────────────────────────────────────────────\n",
       "                                                 τ⋅(y - 1)⋅(y + 1)            \n",
       "                                                                              \n",
       "0.5⋅ε⋅(y - 1) - 0.5⋅ε⋅(y + 1)) + (x - 1)⋅(y + 1)⋅(0.25⋅ε⋅z⋅(x - 1) - 0.25⋅ε⋅(x\n",
       "──────────────────────────────────────────────────────────────────────────────\n",
       "                                                 τ⋅(y - 1)⋅(y + 1)            \n",
       "                                                                              \n",
       "                                                                2        2    \n",
       "1) + 2⋅(y + 2⋅z - 1)⋅(-m⋅y + m + 0.5⋅x - 0.5)) + 1.0⋅ε⋅m⋅(y - 1) ⋅(y + 1) ⋅(-2\n",
       "──────────────────────────────────────────────────────────────────────────────\n",
       "                                                          2        2          \n",
       "                                                 τ⋅(y - 1) ⋅(y + 1)           \n",
       "\n",
       " - 1)⋅(y + 1) - ε⋅x⋅(y - 1)⋅(y + 1))                                          \n",
       "────────────────────────────────────                                          \n",
       "                                                                              \n",
       "                                                                              \n",
       " + 1)⋅(y + z - 1) + 0.5⋅φ⋅z⋅(ε - 1)) + (x + 1)⋅(y - 1)⋅(0.25⋅ε⋅z⋅(x + 1) + 0.2\n",
       "──────────────────────────────────────────────────────────────────────────────\n",
       "                                                                              \n",
       "                                                                              \n",
       "                                 2                                            \n",
       "⋅z + 1) + (x - 1)⋅(y - 1)⋅(y + 1) ⋅(0.25⋅ε⋅z⋅(x - 1) - 0.25⋅ε⋅(x + 1)⋅(y + z -\n",
       "──────────────────────────────────────────────────────────────────────────────\n",
       "                                                                              \n",
       "                                                                              \n",
       "\n",
       "                                                                              \n",
       "                                                                              \n",
       "                                                                              \n",
       "                                                                              \n",
       "5⋅ε⋅(x - 1)⋅(y - z + 1) - 0.5⋅φ⋅z⋅(ε - 1))                                    \n",
       "──────────────────────────────────────────                                    \n",
       "                                                                              \n",
       "                                                                              \n",
       "                                        2                                     \n",
       " 1) + 0.5⋅φ⋅z⋅(ε - 1)) + (x + 1)⋅(y - 1) ⋅(y + 1)⋅(-0.25⋅ε⋅z⋅(x + 1) - 0.25⋅ε⋅\n",
       "──────────────────────────────────────────────────────────────────────────────\n",
       "                                                                              \n",
       "                                                                              \n",
       "\n",
       "                                      ⎤\n",
       "                                      ⎥\n",
       "                                      ⎥\n",
       "                                      ⎥\n",
       "                                      ⎥\n",
       "                                      ⎥\n",
       "                                      ⎥\n",
       "                                      ⎥\n",
       "                                      ⎥\n",
       "(x - 1)⋅(y - z + 1) + 0.5⋅φ⋅z⋅(ε - 1))⎥\n",
       "──────────────────────────────────────⎥\n",
       "                                      ⎥\n",
       "                                      ⎦"
      ]
     },
     "execution_count": 96,
     "metadata": {},
     "output_type": "execute_result"
    }
   ],
   "source": [
    "rhsPBP = s.Matrix(r*s.Transpose(W))\n",
    "rhsPBP = s.Matrix(s.simplify(rhsPBP))\n",
    "rhsPBP"
   ]
  },
  {
   "cell_type": "markdown",
   "metadata": {},
   "source": [
    "**Next, we treat the equations describing economic production and capital accumulation**\n",
    "\n",
    "Substitutute solutions to algebraic constraints of economic system (market clearing for labor and expressions for capital rent and resource flow)"
   ]
  },
  {
   "cell_type": "code",
   "execution_count": 97,
   "metadata": {},
   "outputs": [],
   "source": [
    "subs2 = {w: pi * L**(pi-1.) * (Xc + Xd*XR)**(1.-pi),\n",
    "        rc: kappac/Kc*Xc*L**pi*(Xc + Xd*XR)**(-pi),\n",
    "        rd: kappad/Kd*Xd*XR*L**pi*(Xc + Xd*XR)**(-pi),\n",
    "        R:  bd/e*Kd**kappad*L**pi*(Xd*XR/(Xc + Xd*XR))**pi,\n",
    "        Lc: L*Xc/(Xc + Xd*XR),\n",
    "        Ld: L*Xd*XR/(Xc + Xd*XR)}"
   ]
  },
  {
   "cell_type": "code",
   "execution_count": 98,
   "metadata": {},
   "outputs": [
    {
     "data": {
      "image/png": "[encoded data removed]",
      "text/latex": [
       "$$\\left \\{ L_{c} : \\frac{N l \\left(K_{d}^{\\kappa_{d}} b_{d} \\left(G^{2} e - G_{0}^{2} b_{R}\\right)\\right)^{\\frac{1.0}{\\pi - 1.0}}}{\\left(G^{2} e\\right)^{\\frac{1.0}{\\pi - 1.0}} \\left(C^{\\xi} K_{c}^{\\kappa_{c}} b_{c}\\right)^{\\frac{1.0}{\\pi - 1.0}} + \\left(K_{d}^{\\kappa_{d}} b_{d}\\right)^{\\frac{1.0}{\\pi - 1.0}} \\left(G^{2} e - G_{0}^{2} b_{R}\\right)^{\\frac{1.0}{\\pi - 1.0}}}, \\quad L_{d} : \\frac{N l \\left(C^{\\xi} G^{2} K_{c}^{\\kappa_{c}} b_{c} e\\right)^{\\frac{1.0}{\\pi - 1.0}}}{\\left(G^{2} e\\right)^{\\frac{1.0}{\\pi - 1.0}} \\left(C^{\\xi} K_{c}^{\\kappa_{c}} b_{c}\\right)^{\\frac{1.0}{\\pi - 1.0}} + \\left(K_{d}^{\\kappa_{d}} b_{d}\\right)^{\\frac{1.0}{\\pi - 1.0}} \\left(G^{2} e - G_{0}^{2} b_{R}\\right)^{\\frac{1.0}{\\pi - 1.0}}}, \\quad R : \\frac{b_{d}}{e} \\left(N l\\right)^{\\pi} \\left(0.5 N \\left(\\mu^{c}_{d} \\left(x + 1\\right) - \\mu^{d}_{d} \\left(x - 1\\right)\\right)\\right)^{\\kappa_{d}} \\left(\\frac{\\left(G^{2} e\\right)^{\\frac{1.0}{\\pi - 1.0}} \\left(C^{\\xi} K_{c}^{\\kappa_{c}} b_{c}\\right)^{\\frac{1.0}{\\pi - 1.0}}}{\\left(G^{2} e\\right)^{\\frac{1.0}{\\pi - 1.0}} \\left(C^{\\xi} K_{c}^{\\kappa_{c}} b_{c}\\right)^{\\frac{1.0}{\\pi - 1.0}} + \\left(K_{d}^{\\kappa_{d}} b_{d}\\right)^{\\frac{1.0}{\\pi - 1.0}} \\left(G^{2} e - G_{0}^{2} b_{R}\\right)^{\\frac{1.0}{\\pi - 1.0}}}\\right)^{\\pi}, \\quad r_{c} : \\frac{2.0 \\kappa_{c} \\left(N l\\right)^{\\pi} \\left(\\frac{C^{- \\xi}}{b_{c}} K_{c}^{- \\kappa_{c}}\\right)^{\\frac{1.0}{\\pi - 1.0}}}{N \\left(\\mu^{c}_{c} \\left(x + 1\\right) - \\mu^{d}_{c} \\left(x - 1\\right)\\right)} \\left(\\left(K_{d}^{\\kappa_{d}} b_{d}\\right)^{\\frac{1.0}{\\pi - 1.0}} \\left(C^{\\xi} K_{c}^{\\kappa_{c}} b_{c}\\right)^{\\frac{1.0}{\\pi - 1.0}} \\left(G^{2} e - G_{0}^{2} b_{R}\\right)^{\\frac{1.0}{\\pi - 1.0}}\\right)^{\\pi} \\left(\\frac{1}{\\left(G^{2} e\\right)^{\\frac{1.0}{\\pi - 1.0}} \\left(C^{\\xi} K_{c}^{\\kappa_{c}} b_{c}\\right)^{\\frac{1.0}{\\pi - 1.0}} + \\left(K_{d}^{\\kappa_{d}} b_{d}\\right)^{\\frac{1.0}{\\pi - 1.0}} \\left(G^{2} e - G_{0}^{2} b_{R}\\right)^{\\frac{1.0}{\\pi - 1.0}}}\\right)^{\\pi}, \\quad r_{d} : \\frac{2.0 \\kappa_{d} \\left(N l\\right)^{\\pi} \\left(\\left(K_{d}^{\\kappa_{d}} b_{d}\\right)^{\\frac{1.0}{\\pi - 1.0}} \\left(C^{\\xi} K_{c}^{\\kappa_{c}} b_{c}\\right)^{\\frac{1.0}{\\pi - 1.0}} \\left(G^{2} e - G_{0}^{2} b_{R}\\right)^{\\frac{1.0}{\\pi - 1.0}}\\right)^{\\pi}}{N \\left(\\mu^{c}_{d} \\left(x + 1\\right) - \\mu^{d}_{d} \\left(x - 1\\right)\\right)} \\left(\\frac{G^{2} e}{b_{d}} K_{d}^{- \\kappa_{d}}\\right)^{\\frac{1.0}{\\pi - 1.0}} \\left(G^{2} e - G_{0}^{2} b_{R}\\right)^{- \\frac{1.0}{\\pi - 1.0}} \\left(\\frac{1}{\\left(G^{2} e\\right)^{\\frac{1.0}{\\pi - 1.0}} \\left(C^{\\xi} K_{c}^{\\kappa_{c}} b_{c}\\right)^{\\frac{1.0}{\\pi - 1.0}} + \\left(K_{d}^{\\kappa_{d}} b_{d}\\right)^{\\frac{1.0}{\\pi - 1.0}} \\left(G^{2} e - G_{0}^{2} b_{R}\\right)^{\\frac{1.0}{\\pi - 1.0}}}\\right)^{\\pi}, \\quad w : \\pi \\left(N l\\right)^{\\pi - 1.0} \\left(\\left(K_{d}^{\\kappa_{d}} b_{d}\\right)^{- \\frac{1.0}{\\pi - 1.0}} \\left(C^{\\xi} K_{c}^{\\kappa_{c}} b_{c}\\right)^{- \\frac{1.0}{\\pi - 1.0}} \\left(G^{2} e - G_{0}^{2} b_{R}\\right)^{- \\frac{1.0}{\\pi - 1.0}} \\left(\\left(G^{2} e\\right)^{\\frac{1.0}{\\pi - 1.0}} \\left(C^{\\xi} K_{c}^{\\kappa_{c}} b_{c}\\right)^{\\frac{1.0}{\\pi - 1.0}} + \\left(K_{d}^{\\kappa_{d}} b_{d}\\right)^{\\frac{1.0}{\\pi - 1.0}} \\left(G^{2} e - G_{0}^{2} b_{R}\\right)^{\\frac{1.0}{\\pi - 1.0}}\\right)\\right)^{- \\pi + 1.0}\\right \\}$$"
      ],
      "text/plain": [
       "⎧                                                                             \n",
       "⎪                                                                             \n",
       "⎪                                                                             \n",
       "⎪                                                                             \n",
       "⎪                                                                             \n",
       "⎪                                                                             \n",
       "⎪                                                                             \n",
       "⎪                                                             1.0             \n",
       "⎪                                                           ───────           \n",
       "⎨                                                           π - 1.0           \n",
       "⎪                              ⎛   κ_d     ⎛ 2       2    ⎞⎞                  \n",
       "⎪                          N⋅l⋅⎝K_d   ⋅b_d⋅⎝G ⋅e - G₀ ⋅b_R⎠⎠                  \n",
       "⎪L_c: ────────────────────────────────────────────────────────────────────────\n",
       "⎪             1.0                    1.0                   1.0                \n",
       "⎪           ───────                ───────               ───────              \n",
       "⎪           π - 1.0                π - 1.0               π - 1.0              \n",
       "⎪     ⎛ 2  ⎞        ⎛ ξ    κ_c    ⎞          ⎛   κ_d    ⎞        ⎛ 2       2  \n",
       "⎪     ⎝G ⋅e⎠       ⋅⎝C ⋅K_c   ⋅b_c⎠        + ⎝K_d   ⋅b_d⎠       ⋅⎝G ⋅e - G₀ ⋅b\n",
       "⎩                                                                             \n",
       "\n",
       "                                                                              \n",
       "                                                                              \n",
       "                                                                              \n",
       "                                                                              \n",
       "                                                                              \n",
       "                                                                              \n",
       "                                                                              \n",
       "                                                                    1.0       \n",
       "                                                                  ───────     \n",
       "                                                                  π - 1.0     \n",
       "                                              ⎛ ξ  2    κ_c      ⎞            \n",
       "                                          N⋅l⋅⎝C ⋅G ⋅K_c   ⋅b_c⋅e⎠            \n",
       "──────────, L_d: ─────────────────────────────────────────────────────────────\n",
       "     1.0                 1.0                    1.0                   1.0     \n",
       "   ───────             ───────                ───────               ───────   \n",
       "   π - 1.0             π - 1.0                π - 1.0               π - 1.0   \n",
       "  ⎞              ⎛ 2  ⎞        ⎛ ξ    κ_c    ⎞          ⎛   κ_d    ⎞        ⎛ \n",
       "_R⎠              ⎝G ⋅e⎠       ⋅⎝C ⋅K_c   ⋅b_c⎠        + ⎝K_d   ⋅b_d⎠       ⋅⎝G\n",
       "                                                                              \n",
       "\n",
       "                                                                              \n",
       "                                                                              \n",
       "                                                                              \n",
       "                                                                              \n",
       "                                                                              \n",
       "                                   π                                          \n",
       "                          b_d⋅(N⋅l) ⋅(0.5⋅N⋅(μ_d__c⋅(x + 1) - μ_d__d⋅(x - 1)))\n",
       "                                                                              \n",
       "                                                                              \n",
       "                                                                              \n",
       "                                                                              \n",
       "                                                                              \n",
       "─────────────────────, R: ────────────────────────────────────────────────────\n",
       "                1.0                                                           \n",
       "              ───────                                                         \n",
       "              π - 1.0                                                         \n",
       "2       2    ⎞                                                                \n",
       " ⋅e - G₀ ⋅b_R⎠                                                                \n",
       "                                                                              \n",
       "\n",
       "                                                                              \n",
       "    ⎛                               1.0                    1.0                \n",
       "    ⎜                             ───────                ───────              \n",
       "    ⎜                             π - 1.0                π - 1.0              \n",
       "    ⎜                       ⎛ 2  ⎞        ⎛ ξ    κ_c    ⎞                     \n",
       "κ_d ⎜                       ⎝G ⋅e⎠       ⋅⎝C ⋅K_c   ⋅b_c⎠                     \n",
       "   ⋅⎜─────────────────────────────────────────────────────────────────────────\n",
       "    ⎜        1.0                    1.0                   1.0                 \n",
       "    ⎜      ───────                ───────               ───────               \n",
       "    ⎜      π - 1.0                π - 1.0               π - 1.0               \n",
       "    ⎜⎛ 2  ⎞        ⎛ ξ    κ_c    ⎞          ⎛   κ_d    ⎞        ⎛ 2       2   \n",
       "    ⎝⎝G ⋅e⎠       ⋅⎝C ⋅K_c   ⋅b_c⎠        + ⎝K_d   ⋅b_d⎠       ⋅⎝G ⋅e - G₀ ⋅b_\n",
       "──────────────────────────────────────────────────────────────────────────────\n",
       "                  e                                                           \n",
       "                                                                              \n",
       "                                                                              \n",
       "                                                                              \n",
       "                                                                              \n",
       "                                                                              \n",
       "\n",
       "          π                                                                   \n",
       "         ⎞                                      1.0                           \n",
       "         ⎟                                    ─────── ⎛              1.0      \n",
       "         ⎟                                    π - 1.0 ⎜            ───────    \n",
       "         ⎟                       ⎛ -ξ    -κ_c⎞        ⎜            π - 1.0    \n",
       "         ⎟                     π ⎜C  ⋅K_c    ⎟        ⎜⎛   κ_d    ⎞        ⎛ ξ\n",
       "─────────⎟        2.0⋅κ_c⋅(N⋅l) ⋅⎜───────────⎟       ⋅⎝⎝K_d   ⋅b_d⎠       ⋅⎝C \n",
       "    1.0  ⎟                       ⎝    b_c    ⎠                                \n",
       "  ───────⎟                                                                    \n",
       "  π - 1.0⎟                                                                    \n",
       " ⎞       ⎟                                                                    \n",
       "R⎠       ⎠                                                                    \n",
       "───────────, r_c: ────────────────────────────────────────────────────────────\n",
       "                                                                              \n",
       "                                                                              \n",
       "                                                                              \n",
       "                                                                              \n",
       "                                                                              \n",
       "                                                                              \n",
       "\n",
       "                                                                              \n",
       "                                            π                                 \n",
       "              1.0                     1.0  ⎞                                  \n",
       "            ───────                 ───────⎟                                  \n",
       "            π - 1.0                 π - 1.0⎟                                  \n",
       "    κ_c    ⎞        ⎛ 2       2    ⎞       ⎟  ⎛                               \n",
       "⋅K_c   ⋅b_c⎠       ⋅⎝G ⋅e - G₀ ⋅b_R⎠       ⎠ ⋅⎜───────────────────────────────\n",
       "                                              ⎜        1.0                    \n",
       "                                              ⎜      ───────                ──\n",
       "                                              ⎜      π - 1.0                π \n",
       "                                              ⎜⎛ 2  ⎞        ⎛ ξ    κ_c    ⎞  \n",
       "                                              ⎝⎝G ⋅e⎠       ⋅⎝C ⋅K_c   ⋅b_c⎠  \n",
       "──────────────────────────────────────────────────────────────────────────────\n",
       "                  N⋅(μ_c__c⋅(x + 1) - μ_c__d⋅(x - 1))                         \n",
       "                                                                              \n",
       "                                                                              \n",
       "                                                                              \n",
       "                                                                              \n",
       "                                                                              \n",
       "\n",
       "                                                                              \n",
       "                                                                              \n",
       "                                                                           ⎛  \n",
       "                                                                           ⎜  \n",
       "                                                    π                      ⎜  \n",
       "         1                                         ⎞                     π ⎜⎛ \n",
       "───────────────────────────────────────────────────⎟        2.0⋅κ_d⋅(N⋅l) ⋅⎝⎝K\n",
       "1.0                   1.0                     1.0  ⎟                          \n",
       "─────               ───────                 ───────⎟                          \n",
       "- 1.0               π - 1.0                 π - 1.0⎟                          \n",
       "        ⎛   κ_d    ⎞        ⎛ 2       2    ⎞       ⎟                          \n",
       "      + ⎝K_d   ⋅b_d⎠       ⋅⎝G ⋅e - G₀ ⋅b_R⎠       ⎠                          \n",
       "─────────────────────────────────────────────────────, r_d: ──────────────────\n",
       "                                                                              \n",
       "                                                                              \n",
       "                                                                              \n",
       "                                                                              \n",
       "                                                                              \n",
       "                                                                              \n",
       "\n",
       "                                                                              \n",
       "                                                                 π            \n",
       "            1.0                    1.0                     1.0  ⎞             \n",
       "          ───────                ───────                 ───────⎟             \n",
       "          π - 1.0                π - 1.0                 π - 1.0⎟  ⎛ 2    -κ_d\n",
       "  κ_d    ⎞        ⎛ ξ    κ_c    ⎞        ⎛ 2       2    ⎞       ⎟  ⎜G ⋅K_d    \n",
       "_d   ⋅b_d⎠       ⋅⎝C ⋅K_c   ⋅b_c⎠       ⋅⎝G ⋅e - G₀ ⋅b_R⎠       ⎠ ⋅⎜──────────\n",
       "                                                                   ⎝    b_d   \n",
       "                                                                              \n",
       "                                                                              \n",
       "                                                                              \n",
       "                                                                              \n",
       "──────────────────────────────────────────────────────────────────────────────\n",
       "                                                                        N⋅(μ_d\n",
       "                                                                              \n",
       "                                                                              \n",
       "                                                                              \n",
       "                                                                              \n",
       "                                                                              \n",
       "\n",
       "                                                                              \n",
       "     1.0                                                                      \n",
       "   ───────                  -1.0                                              \n",
       "   π - 1.0                 ───────                                            \n",
       "  ⎞                        π - 1.0                                            \n",
       "⋅e⎟        ⎛ 2       2    ⎞        ⎛                                        1 \n",
       "──⎟       ⋅⎝G ⋅e - G₀ ⋅b_R⎠       ⋅⎜──────────────────────────────────────────\n",
       "  ⎠                                ⎜        1.0                    1.0        \n",
       "                                   ⎜      ───────                ───────      \n",
       "                                   ⎜      π - 1.0                π - 1.0      \n",
       "                                   ⎜⎛ 2  ⎞        ⎛ ξ    κ_c    ⎞          ⎛  \n",
       "                                   ⎝⎝G ⋅e⎠       ⋅⎝C ⋅K_c   ⋅b_c⎠        + ⎝K_\n",
       "──────────────────────────────────────────────────────────────────────────────\n",
       "__c⋅(x + 1) - μ_d__d⋅(x - 1))                                                 \n",
       "                                                                              \n",
       "                                                                              \n",
       "                                                                              \n",
       "                                                                              \n",
       "                                                                              \n",
       "\n",
       "                                                                              \n",
       "                                                                              \n",
       "                                                                              \n",
       "                                                                              \n",
       "                                         π                                    \n",
       "                                        ⎞                                     \n",
       "────────────────────────────────────────⎟                                     \n",
       "           1.0                     1.0  ⎟                                     \n",
       "         ───────                 ───────⎟                     ⎛             -1\n",
       "         π - 1.0                 π - 1.0⎟                     ⎜            ───\n",
       " κ_d    ⎞        ⎛ 2       2    ⎞       ⎟                     ⎜            π -\n",
       "d   ⋅b_d⎠       ⋅⎝G ⋅e - G₀ ⋅b_R⎠       ⎠             π - 1.0 ⎜⎛   κ_d    ⎞   \n",
       "──────────────────────────────────────────, w: π⋅(N⋅l)       ⋅⎝⎝K_d   ⋅b_d⎠   \n",
       "                                                                              \n",
       "                                                                              \n",
       "                                                                              \n",
       "                                                                              \n",
       "                                                                              \n",
       "                                                                              \n",
       "\n",
       "                                                                              \n",
       "                                                                              \n",
       "                                                                              \n",
       "                                                                              \n",
       "                                                                              \n",
       "                                                                              \n",
       "                                                                              \n",
       "                                                                              \n",
       ".0                   -1.0                    -1.0   ⎛        1.0              \n",
       "────                ───────                 ─────── ⎜      ───────            \n",
       " 1.0                π - 1.0                 π - 1.0 ⎜      π - 1.0            \n",
       "     ⎛ ξ    κ_c    ⎞        ⎛ 2       2    ⎞        ⎜⎛ 2  ⎞        ⎛ ξ    κ_c \n",
       "    ⋅⎝C ⋅K_c   ⋅b_c⎠       ⋅⎝G ⋅e - G₀ ⋅b_R⎠       ⋅⎝⎝G ⋅e⎠       ⋅⎝C ⋅K_c   ⋅\n",
       "                                                                              \n",
       "                                                                              \n",
       "                                                                              \n",
       "                                                                              \n",
       "                                                                              \n",
       "                                                                              \n",
       "\n",
       "                                                                   ⎫\n",
       "                                                                   ⎪\n",
       "                                                                   ⎪\n",
       "                                                                   ⎪\n",
       "                                                                   ⎪\n",
       "                                                                   ⎪\n",
       "                                                                   ⎪\n",
       "                                                           -π + 1.0⎪\n",
       "      1.0                   1.0                     1.0  ⎞⎞        ⎪\n",
       "    ───────               ───────                 ───────⎟⎟        ⎬\n",
       "    π - 1.0               π - 1.0                 π - 1.0⎟⎟        ⎪\n",
       "   ⎞          ⎛   κ_d    ⎞        ⎛ 2       2    ⎞       ⎟⎟        ⎪\n",
       "b_c⎠        + ⎝K_d   ⋅b_d⎠       ⋅⎝G ⋅e - G₀ ⋅b_R⎠       ⎠⎠        ⎪\n",
       "                                                                   ⎪\n",
       "                                                                   ⎪\n",
       "                                                                   ⎪\n",
       "                                                                   ⎪\n",
       "                                                                   ⎪\n",
       "                                                                   ⎭"
      ]
     },
     "execution_count": 98,
     "metadata": {},
     "output_type": "execute_result"
    }
   ],
   "source": [
    "subsX = {Xc: (bc*Kc**kappac * C**xi)**(1./(1.-pi)),\n",
    "         Xd: (bd*Kd**kappad)**(1./(1.-pi)),\n",
    "         XR: (1-bR/e*(G0/G)**2)**(1./(1.-pi))}\n",
    "for key in subs2.keys():\n",
    "    subs2[key] = subs2[key].subs(subs4)\n",
    "    subs2[key] = s.simplify(subs2[key].subs(subsX))\n",
    "subs2"
   ]
  },
  {
   "cell_type": "markdown",
   "metadata": {},
   "source": [
    "Substitutions to ensure constant returns to scale:"
   ]
  },
  {
   "cell_type": "code",
   "execution_count": 99,
   "metadata": {
    "collapsed": true
   },
   "outputs": [],
   "source": [
    "subs5 = {kappac: 1. - pi - xi,\n",
    "         kappad: 1. - pi}"
   ]
  },
  {
   "cell_type": "code",
   "execution_count": 100,
   "metadata": {},
   "outputs": [
    {
     "data": {
      "image/png": "[encoded data removed]",
      "text/latex": [
       "$$\\left \\{ W_{cd} : \\frac{1.0 \\left(\\left(N^{2} \\left(- b_{R} g_{0}^{2} + e g^{2}\\right)\\right)^{\\frac{1.0}{\\pi - 1.0}} \\left(b_{d} \\left(0.5 N \\left(\\mu^{c}_{d} \\left(x + 1\\right) - \\mu^{d}_{d} \\left(x - 1\\right)\\right)\\right)^{- \\pi + 1.0}\\right)^{\\frac{1.0}{\\pi - 1.0}} + \\left(N^{2} e g^{2}\\right)^{\\frac{1.0}{\\pi - 1.0}} \\left(b_{c} \\left(N c\\right)^{\\xi} \\left(0.5 N \\left(\\mu^{c}_{c} \\left(x + 1\\right) - \\mu^{d}_{c} \\left(x - 1\\right)\\right)\\right)^{- \\pi - \\xi + 1.0}\\right)^{\\frac{1.0}{\\pi - 1.0}}\\right)^{\\pi} \\left(\\frac{1}{\\left(N^{2} \\left(- b_{R} g_{0}^{2} + e g^{2}\\right)\\right)^{\\frac{1.0}{\\pi - 1.0}} \\left(b_{d} \\left(0.5 N \\left(\\mu^{c}_{d} \\left(x + 1\\right) - \\mu^{d}_{d} \\left(x - 1\\right)\\right)\\right)^{- \\pi + 1.0}\\right)^{\\frac{1.0}{\\pi - 1.0}} + \\left(N^{2} e g^{2}\\right)^{\\frac{1.0}{\\pi - 1.0}} \\left(b_{c} \\left(N c\\right)^{\\xi} \\left(0.5 N \\left(\\mu^{c}_{c} \\left(x + 1\\right) - \\mu^{d}_{c} \\left(x - 1\\right)\\right)\\right)^{- \\pi - \\xi + 1.0}\\right)^{\\frac{1.0}{\\pi - 1.0}}}\\right)^{\\pi}}{b_{d}^{\\frac{1.0}{\\pi - 1.0}} \\left(N^{2} \\left(- b_{R} g_{0}^{2} + e g^{2}\\right)\\right)^{\\frac{1.0}{\\pi - 1.0}} \\left(\\frac{1}{b_{c}} \\left(N c\\right)^{- \\xi} \\left(0.5 N \\left(\\mu^{c}_{c} \\left(x + 1\\right) - \\mu^{d}_{c} \\left(x - 1\\right)\\right)\\right)^{\\pi + \\xi - 1.0}\\right)^{\\frac{1.0}{\\pi - 1.0}} \\left(\\mu^{c}_{c} + \\mu^{d}_{c}\\right) \\left(\\mu^{c}_{d} \\left(x + 1\\right) - \\mu^{d}_{d} \\left(x - 1\\right)\\right) \\left(\\pi + \\xi - 1.0\\right) + \\left(N^{2} e g^{2} \\left(0.5 N \\left(\\mu^{c}_{d} \\left(x + 1\\right) - \\mu^{d}_{d} \\left(x - 1\\right)\\right)\\right)^{\\pi - 1.0}\\right)^{\\frac{1.0}{\\pi - 1.0}} \\left(\\mu^{c}_{d} + \\mu^{d}_{d}\\right) \\left(\\pi - 1.0\\right) \\left(\\mu^{c}_{c} \\left(x + 1\\right) - \\mu^{d}_{c} \\left(x - 1\\right)\\right)} \\left(\\left(N^{2} b_{d} \\left(- b_{R} g_{0}^{2} + e g^{2}\\right)\\right)^{\\frac{1.0}{\\pi - 1.0}} \\left(\\frac{1}{b_{c}} \\left(N c\\right)^{- \\xi} \\left(0.5 N \\left(\\mu^{c}_{c} \\left(x + 1\\right) - \\mu^{d}_{c} \\left(x - 1\\right)\\right)\\right)^{\\pi + \\xi - 1.0}\\right)^{\\frac{1.0}{\\pi - 1.0}} \\left(- \\mu^{c}_{c} + \\mu^{d}_{c}\\right) \\left(\\mu^{c}_{d} \\left(x + 1\\right) - \\mu^{d}_{d} \\left(x - 1\\right)\\right) \\left(\\pi + \\xi - 1.0\\right) + \\left(N^{2} e g^{2} \\left(0.5 N \\left(\\mu^{c}_{d} \\left(x + 1\\right) - \\mu^{d}_{d} \\left(x - 1\\right)\\right)\\right)^{\\pi - 1.0}\\right)^{\\frac{1.0}{\\pi - 1.0}} \\left(- \\mu^{c}_{d} + \\mu^{d}_{d}\\right) \\left(\\pi - 1.0\\right) \\left(\\mu^{c}_{c} \\left(x + 1\\right) - \\mu^{d}_{c} \\left(x - 1\\right)\\right)\\right), \\quad W_{dc} : \\frac{1.0 \\left(\\left(N^{2} \\left(- b_{R} g_{0}^{2} + e g^{2}\\right)\\right)^{\\frac{1.0}{\\pi - 1.0}} \\left(b_{d} \\left(0.5 N \\left(\\mu^{c}_{d} \\left(x + 1\\right) - \\mu^{d}_{d} \\left(x - 1\\right)\\right)\\right)^{- \\pi + 1.0}\\right)^{\\frac{1.0}{\\pi - 1.0}} + \\left(N^{2} e g^{2}\\right)^{\\frac{1.0}{\\pi - 1.0}} \\left(b_{c} \\left(N c\\right)^{\\xi} \\left(0.5 N \\left(\\mu^{c}_{c} \\left(x + 1\\right) - \\mu^{d}_{c} \\left(x - 1\\right)\\right)\\right)^{- \\pi - \\xi + 1.0}\\right)^{\\frac{1.0}{\\pi - 1.0}}\\right)^{\\pi} \\left(\\frac{1}{\\left(N^{2} \\left(- b_{R} g_{0}^{2} + e g^{2}\\right)\\right)^{\\frac{1.0}{\\pi - 1.0}} \\left(b_{d} \\left(0.5 N \\left(\\mu^{c}_{d} \\left(x + 1\\right) - \\mu^{d}_{d} \\left(x - 1\\right)\\right)\\right)^{- \\pi + 1.0}\\right)^{\\frac{1.0}{\\pi - 1.0}} + \\left(N^{2} e g^{2}\\right)^{\\frac{1.0}{\\pi - 1.0}} \\left(b_{c} \\left(N c\\right)^{\\xi} \\left(0.5 N \\left(\\mu^{c}_{c} \\left(x + 1\\right) - \\mu^{d}_{c} \\left(x - 1\\right)\\right)\\right)^{- \\pi - \\xi + 1.0}\\right)^{\\frac{1.0}{\\pi - 1.0}}}\\right)^{\\pi}}{b_{d}^{\\frac{1.0}{\\pi - 1.0}} \\left(N^{2} \\left(- b_{R} g_{0}^{2} + e g^{2}\\right)\\right)^{\\frac{1.0}{\\pi - 1.0}} \\left(\\frac{1}{b_{c}} \\left(N c\\right)^{- \\xi} \\left(0.5 N \\left(\\mu^{c}_{c} \\left(x + 1\\right) - \\mu^{d}_{c} \\left(x - 1\\right)\\right)\\right)^{\\pi + \\xi - 1.0}\\right)^{\\frac{1.0}{\\pi - 1.0}} \\left(\\mu^{c}_{c} + \\mu^{d}_{c}\\right) \\left(\\mu^{c}_{d} \\left(x + 1\\right) - \\mu^{d}_{d} \\left(x - 1\\right)\\right) \\left(\\pi + \\xi - 1.0\\right) + \\left(N^{2} e g^{2} \\left(0.5 N \\left(\\mu^{c}_{d} \\left(x + 1\\right) - \\mu^{d}_{d} \\left(x - 1\\right)\\right)\\right)^{\\pi - 1.0}\\right)^{\\frac{1.0}{\\pi - 1.0}} \\left(\\mu^{c}_{d} + \\mu^{d}_{d}\\right) \\left(\\pi - 1.0\\right) \\left(\\mu^{c}_{c} \\left(x + 1\\right) - \\mu^{d}_{c} \\left(x - 1\\right)\\right)} \\left(\\left(N^{2} b_{d} \\left(- b_{R} g_{0}^{2} + e g^{2}\\right)\\right)^{\\frac{1.0}{\\pi - 1.0}} \\left(\\frac{1}{b_{c}} \\left(N c\\right)^{- \\xi} \\left(0.5 N \\left(\\mu^{c}_{c} \\left(x + 1\\right) - \\mu^{d}_{c} \\left(x - 1\\right)\\right)\\right)^{\\pi + \\xi - 1.0}\\right)^{\\frac{1.0}{\\pi - 1.0}} \\left(\\mu^{c}_{c} - \\mu^{d}_{c}\\right) \\left(\\mu^{c}_{d} \\left(x + 1\\right) - \\mu^{d}_{d} \\left(x - 1\\right)\\right) \\left(\\pi + \\xi - 1.0\\right) + \\left(N^{2} e g^{2} \\left(0.5 N \\left(\\mu^{c}_{d} \\left(x + 1\\right) - \\mu^{d}_{d} \\left(x - 1\\right)\\right)\\right)^{\\pi - 1.0}\\right)^{\\frac{1.0}{\\pi - 1.0}} \\left(\\mu^{c}_{d} - \\mu^{d}_{d}\\right) \\left(\\pi - 1.0\\right) \\left(\\mu^{c}_{c} \\left(x + 1\\right) - \\mu^{d}_{c} \\left(x - 1\\right)\\right)\\right)\\right \\}$$"
      ],
      "text/plain": [
       "⎧                                                                             \n",
       "⎪            ⎛                         1.0                                    \n",
       "⎪            ⎜                       ───────                                  \n",
       "⎪            ⎜                       π - 1.0                                  \n",
       "⎪            ⎜⎛ 2 ⎛        2      2⎞⎞        ⎛                                \n",
       "⎪        1.0⋅⎝⎝N ⋅⎝- b_R⋅g₀  + e⋅g ⎠⎠       ⋅⎝b_d⋅(0.5⋅N⋅(μ_d__c⋅(x + 1) - μ_d\n",
       "⎪                                                                             \n",
       "⎪                                                                             \n",
       "⎪                                                                             \n",
       "⎨                                                                             \n",
       "⎪                                                                             \n",
       "⎪W_{cd}: ─────────────────────────────────────────────────────────────────────\n",
       "⎪                                                                             \n",
       "⎪                                                                             \n",
       "⎪                                                                             \n",
       "⎪                                                                             \n",
       "⎪                                                                             \n",
       "⎪                                                                             \n",
       "⎩                                                                             \n",
       "\n",
       "                                                                              \n",
       "                        1.0                1.0                                \n",
       "                      ───────            ───────                              \n",
       "                      π - 1.0            π - 1.0                              \n",
       "             -π + 1.0⎞          ⎛ 2    2⎞        ⎛         ξ                  \n",
       "__d⋅(x - 1)))        ⎠        + ⎝N ⋅e⋅g ⎠       ⋅⎝b_c⋅(N⋅c) ⋅(0.5⋅N⋅(μ_c__c⋅(x\n",
       "                                                                              \n",
       "                                                                              \n",
       "                                                                              \n",
       "                                                                              \n",
       "                                                                              \n",
       "──────────────────────────────────────────────────────────────────────────────\n",
       "                                                                              \n",
       "                                                                              \n",
       "                                                                              \n",
       "                                                                              \n",
       "                                                                              \n",
       "                                                                              \n",
       "                                                                              \n",
       "\n",
       "                                             π ⎛                              \n",
       "                                       1.0  ⎞  ⎜                             1\n",
       "                                     ───────⎟  ⎜                           ───\n",
       "                                     π - 1.0⎟  ⎜                           π -\n",
       "                        -π - ξ + 1.0⎞       ⎟  ⎜⎛ 2     ⎛        2      2⎞⎞   \n",
       " + 1) - μ_c__d⋅(x - 1)))            ⎠       ⎠ ⋅⎜⎝N ⋅b_d⋅⎝- b_R⋅g₀  + e⋅g ⎠⎠   \n",
       "                                               ⎝                              \n",
       "                                                                              \n",
       "                                                                              \n",
       "                                                                              \n",
       "                                                                              \n",
       "──────────────────────────────────────────────────────────────────────────────\n",
       "                                                                              \n",
       "                                                                              \n",
       "                                                1.0                          ─\n",
       "                                              ───────                        π\n",
       "                                              π - 1.0 ⎛ 2 ⎛        2      2⎞⎞ \n",
       "                                           b_d       ⋅⎝N ⋅⎝- b_R⋅g₀  + e⋅g ⎠⎠ \n",
       "                                                                              \n",
       "\n",
       "                                                                     1.0      \n",
       ".0                                                                 ───────    \n",
       "────                                                               π - 1.0    \n",
       " 1.0 ⎛     -ξ                                          π + ξ - 1.0⎞           \n",
       "     ⎜(N⋅c)  ⋅(0.5⋅N⋅(μ_c__c⋅(x + 1) - μ_c__d⋅(x - 1)))           ⎟           \n",
       "    ⋅⎜────────────────────────────────────────────────────────────⎟       ⋅(-μ\n",
       "     ⎝                            b_c                             ⎠           \n",
       "                                                                              \n",
       "                                                                              \n",
       "                                                                              \n",
       "                                                                              \n",
       "──────────────────────────────────────────────────────────────────────────────\n",
       "                                                                       1.0    \n",
       " 1.0                                                                 ───────  \n",
       "──────                                                               π - 1.0  \n",
       " - 1.0 ⎛     -ξ                                          π + ξ - 1.0⎞         \n",
       "       ⎜(N⋅c)  ⋅(0.5⋅N⋅(μ_c__c⋅(x + 1) - μ_c__d⋅(x - 1)))           ⎟         \n",
       "      ⋅⎜────────────────────────────────────────────────────────────⎟       ⋅(\n",
       "       ⎝                            b_c                             ⎠         \n",
       "\n",
       "                                                                              \n",
       "                                                                              \n",
       "                                                                              \n",
       "                                                                              \n",
       "                                                                  ⎛ 2    2    \n",
       "_c__c + μ_c__d)⋅(μ_d__c⋅(x + 1) - μ_d__d⋅(x - 1))⋅(π + ξ - 1.0) + ⎝N ⋅e⋅g ⋅(0.\n",
       "                                                                              \n",
       "                                                                              \n",
       "                                                                              \n",
       "                                                                              \n",
       "                                                                              \n",
       "──────────────────────────────────────────────────────────────────────────────\n",
       "                                                                              \n",
       "                                                                              \n",
       "                                                                              \n",
       "                                                                              \n",
       "                                                                   ⎛ 2    2   \n",
       "μ_c__c + μ_c__d)⋅(μ_d__c⋅(x + 1) - μ_d__d⋅(x - 1))⋅(π + ξ - 1.0) + ⎝N ⋅e⋅g ⋅(0\n",
       "                                                                              \n",
       "\n",
       "                                                                              \n",
       "                                                1.0                           \n",
       "                                              ───────                         \n",
       "                                              π - 1.0                         \n",
       "                                      π - 1.0⎞                                \n",
       "5⋅N⋅(μ_d__c⋅(x + 1) - μ_d__d⋅(x - 1)))       ⎠       ⋅(-μ_d__c + μ_d__d)⋅(π - \n",
       "                                                                              \n",
       "                                                                              \n",
       "                                                                              \n",
       "                                                                              \n",
       "                                                                              \n",
       "──────────────────────────────────────────────────────────────────────────────\n",
       "                                                                              \n",
       "                                                 1.0                          \n",
       "                                               ───────                        \n",
       "                                               π - 1.0                        \n",
       "                                       π - 1.0⎞                               \n",
       ".5⋅N⋅(μ_d__c⋅(x + 1) - μ_d__d⋅(x - 1)))       ⎠       ⋅(μ_d__c + μ_d__d)⋅(π - \n",
       "                                                                              \n",
       "\n",
       "                                      ⎞                                       \n",
       "                                      ⎟                                       \n",
       "                                      ⎟                                       \n",
       "                                      ⎟                                       \n",
       "                                      ⎟ ⎛                                     \n",
       "1.0)⋅(μ_c__c⋅(x + 1) - μ_c__d⋅(x - 1))⎟⋅⎜─────────────────────────────────────\n",
       "                                      ⎠ ⎜                         1.0         \n",
       "                                        ⎜                       ───────       \n",
       "                                        ⎜                       π - 1.0       \n",
       "                                        ⎜⎛ 2 ⎛        2      2⎞⎞        ⎛     \n",
       "                                        ⎝⎝N ⋅⎝- b_R⋅g₀  + e⋅g ⎠⎠       ⋅⎝b_d⋅(\n",
       "──────────────────────────────────────────────────────────────────────────────\n",
       "                                                                              \n",
       "                                                                              \n",
       "                                                                              \n",
       "                                                                              \n",
       "                                                                              \n",
       "1.0)⋅(μ_c__c⋅(x + 1) - μ_c__d⋅(x - 1))                                        \n",
       "                                                                              \n",
       "\n",
       "                                                                              \n",
       "                                                                              \n",
       "                                                                              \n",
       "                                                                              \n",
       "                                                       1                      \n",
       "──────────────────────────────────────────────────────────────────────────────\n",
       "                                                   1.0                1.0     \n",
       "                                                 ───────            ───────   \n",
       "                                                 π - 1.0            π - 1.0   \n",
       "                                        -π + 1.0⎞          ⎛ 2    2⎞        ⎛ \n",
       "0.5⋅N⋅(μ_d__c⋅(x + 1) - μ_d__d⋅(x - 1)))        ⎠        + ⎝N ⋅e⋅g ⎠       ⋅⎝b\n",
       "──────────────────────────────────────────────────────────────────────────────\n",
       "                                                                              \n",
       "                                                                              \n",
       "                                                                              \n",
       "                                                                              \n",
       "                                                                              \n",
       "                                                                              \n",
       "                                                                              \n",
       "\n",
       "                                                                              \n",
       "                                                                              \n",
       "                                                                              \n",
       "                                                                        π     \n",
       "                                                                       ⎞      \n",
       "───────────────────────────────────────────────────────────────────────⎟      \n",
       "                                                                  1.0  ⎟      \n",
       "                                                                ───────⎟      \n",
       "                                                                π - 1.0⎟      \n",
       "        ξ                                          -π - ξ + 1.0⎞       ⎟      \n",
       "_c⋅(N⋅c) ⋅(0.5⋅N⋅(μ_c__c⋅(x + 1) - μ_c__d⋅(x - 1)))            ⎠       ⎠      \n",
       "─────────────────────────────────────────────────────────────────────────, W_{\n",
       "                                                                              \n",
       "                                                                              \n",
       "                                                                              \n",
       "                                                                              \n",
       "                                                                              \n",
       "                                                                              \n",
       "                                                                              \n",
       "\n",
       "                                                                              \n",
       "         ⎛                         1.0                                        \n",
       "         ⎜                       ───────                                      \n",
       "         ⎜                       π - 1.0                                      \n",
       "         ⎜⎛ 2 ⎛        2      2⎞⎞        ⎛                                    \n",
       "     1.0⋅⎝⎝N ⋅⎝- b_R⋅g₀  + e⋅g ⎠⎠       ⋅⎝b_d⋅(0.5⋅N⋅(μ_d__c⋅(x + 1) - μ_d__d⋅\n",
       "                                                                              \n",
       "                                                                              \n",
       "                                                                              \n",
       "                                                                              \n",
       "                                                                              \n",
       "dc}: ─────────────────────────────────────────────────────────────────────────\n",
       "                                                                              \n",
       "                                                                              \n",
       "                                                                              \n",
       "                                                                              \n",
       "                                                                              \n",
       "                                                                              \n",
       "                                                                              \n",
       "\n",
       "                                                                              \n",
       "                    1.0                1.0                                    \n",
       "                  ───────            ───────                                  \n",
       "                  π - 1.0            π - 1.0                                  \n",
       "         -π + 1.0⎞          ⎛ 2    2⎞        ⎛         ξ                      \n",
       "(x - 1)))        ⎠        + ⎝N ⋅e⋅g ⎠       ⋅⎝b_c⋅(N⋅c) ⋅(0.5⋅N⋅(μ_c__c⋅(x + 1\n",
       "                                                                              \n",
       "                                                                              \n",
       "                                                                              \n",
       "                                                                              \n",
       "                                                                              \n",
       "──────────────────────────────────────────────────────────────────────────────\n",
       "                                                                              \n",
       "                                                                              \n",
       "                                                                              \n",
       "                                                                              \n",
       "                                                                              \n",
       "                                                                              \n",
       "                                                                              \n",
       "\n",
       "                                         π ⎛                                  \n",
       "                                   1.0  ⎞  ⎜                             1.0  \n",
       "                                 ───────⎟  ⎜                           ───────\n",
       "                                 π - 1.0⎟  ⎜                           π - 1.0\n",
       "                    -π - ξ + 1.0⎞       ⎟  ⎜⎛ 2     ⎛        2      2⎞⎞       \n",
       ") - μ_c__d⋅(x - 1)))            ⎠       ⎠ ⋅⎜⎝N ⋅b_d⋅⎝- b_R⋅g₀  + e⋅g ⎠⎠       \n",
       "                                           ⎝                                  \n",
       "                                                                              \n",
       "                                                                              \n",
       "                                                                              \n",
       "                                                                              \n",
       "──────────────────────────────────────────────────────────────────────────────\n",
       "                                                                              \n",
       "                                                                          1.0 \n",
       "                                           1.0                          ──────\n",
       "                                         ───────                        π - 1.\n",
       "                                         π - 1.0 ⎛ 2 ⎛        2      2⎞⎞      \n",
       "                                      b_d       ⋅⎝N ⋅⎝- b_R⋅g₀  + e⋅g ⎠⎠      \n",
       "                                                                              \n",
       "\n",
       "                                                                 1.0          \n",
       "                                                               ───────        \n",
       "                                                               π - 1.0        \n",
       " ⎛     -ξ                                          π + ξ - 1.0⎞               \n",
       " ⎜(N⋅c)  ⋅(0.5⋅N⋅(μ_c__c⋅(x + 1) - μ_c__d⋅(x - 1)))           ⎟               \n",
       "⋅⎜────────────────────────────────────────────────────────────⎟       ⋅(μ_c__c\n",
       " ⎝                            b_c                             ⎠               \n",
       "                                                                              \n",
       "                                                                              \n",
       "                                                                              \n",
       "                                                                              \n",
       "──────────────────────────────────────────────────────────────────────────────\n",
       "                                                                  1.0         \n",
       "                                                                ───────       \n",
       "─                                                               π - 1.0       \n",
       "0 ⎛     -ξ                                          π + ξ - 1.0⎞              \n",
       "  ⎜(N⋅c)  ⋅(0.5⋅N⋅(μ_c__c⋅(x + 1) - μ_c__d⋅(x - 1)))           ⎟              \n",
       " ⋅⎜────────────────────────────────────────────────────────────⎟       ⋅(μ_c__\n",
       "  ⎝                            b_c                             ⎠              \n",
       "\n",
       "                                                                              \n",
       "                                                                              \n",
       "                                                                              \n",
       "                                                                              \n",
       "                                                             ⎛ 2    2         \n",
       " - μ_c__d)⋅(μ_d__c⋅(x + 1) - μ_d__d⋅(x - 1))⋅(π + ξ - 1.0) + ⎝N ⋅e⋅g ⋅(0.5⋅N⋅(\n",
       "                                                                              \n",
       "                                                                              \n",
       "                                                                              \n",
       "                                                                              \n",
       "                                                                              \n",
       "──────────────────────────────────────────────────────────────────────────────\n",
       "                                                                              \n",
       "                                                                              \n",
       "                                                                              \n",
       "                                                                              \n",
       "                                                              ⎛ 2    2        \n",
       "c + μ_c__d)⋅(μ_d__c⋅(x + 1) - μ_d__d⋅(x - 1))⋅(π + ξ - 1.0) + ⎝N ⋅e⋅g ⋅(0.5⋅N⋅\n",
       "                                                                              \n",
       "\n",
       "                                                                              \n",
       "                                           1.0                                \n",
       "                                         ───────                              \n",
       "                                         π - 1.0                              \n",
       "                                 π - 1.0⎞                                     \n",
       "μ_d__c⋅(x + 1) - μ_d__d⋅(x - 1)))       ⎠       ⋅(μ_d__c - μ_d__d)⋅(π - 1.0)⋅(\n",
       "                                                                              \n",
       "                                                                              \n",
       "                                                                              \n",
       "                                                                              \n",
       "                                                                              \n",
       "──────────────────────────────────────────────────────────────────────────────\n",
       "                                                                              \n",
       "                                            1.0                               \n",
       "                                          ───────                             \n",
       "                                          π - 1.0                             \n",
       "                                  π - 1.0⎞                                    \n",
       "(μ_d__c⋅(x + 1) - μ_d__d⋅(x - 1)))       ⎠       ⋅(μ_d__c + μ_d__d)⋅(π - 1.0)⋅\n",
       "                                                                              \n",
       "\n",
       "                                ⎞                                             \n",
       "                                ⎟                                             \n",
       "                                ⎟                                             \n",
       "                                ⎟                                             \n",
       "                                ⎟ ⎛                                           \n",
       "μ_c__c⋅(x + 1) - μ_c__d⋅(x - 1))⎟⋅⎜───────────────────────────────────────────\n",
       "                                ⎠ ⎜                         1.0               \n",
       "                                  ⎜                       ───────             \n",
       "                                  ⎜                       π - 1.0             \n",
       "                                  ⎜⎛ 2 ⎛        2      2⎞⎞        ⎛           \n",
       "                                  ⎝⎝N ⋅⎝- b_R⋅g₀  + e⋅g ⎠⎠       ⋅⎝b_d⋅(0.5⋅N⋅\n",
       "──────────────────────────────────────────────────────────────────────────────\n",
       "                                                                              \n",
       "                                                                              \n",
       "                                                                              \n",
       "                                                                              \n",
       "                                                                              \n",
       "(μ_c__c⋅(x + 1) - μ_c__d⋅(x - 1))                                             \n",
       "                                                                              \n",
       "\n",
       "                                                                              \n",
       "                                                                              \n",
       "                                                                              \n",
       "                                                                              \n",
       "                                                 1                            \n",
       "──────────────────────────────────────────────────────────────────────────────\n",
       "                                             1.0                1.0           \n",
       "                                           ───────            ───────         \n",
       "                                           π - 1.0            π - 1.0         \n",
       "                                  -π + 1.0⎞          ⎛ 2    2⎞        ⎛       \n",
       "(μ_d__c⋅(x + 1) - μ_d__d⋅(x - 1)))        ⎠        + ⎝N ⋅e⋅g ⎠       ⋅⎝b_c⋅(N⋅\n",
       "──────────────────────────────────────────────────────────────────────────────\n",
       "                                                                              \n",
       "                                                                              \n",
       "                                                                              \n",
       "                                                                              \n",
       "                                                                              \n",
       "                                                                              \n",
       "                                                                              \n",
       "\n",
       "                                                                   ⎫\n",
       "                                                                   ⎪\n",
       "                                                                   ⎪\n",
       "                                                                  π⎪\n",
       "                                                                 ⎞ ⎪\n",
       "─────────────────────────────────────────────────────────────────⎟ ⎪\n",
       "                                                            1.0  ⎟ ⎪\n",
       "                                                          ───────⎟ ⎪\n",
       "                                                          π - 1.0⎟ ⎪\n",
       "  ξ                                          -π - ξ + 1.0⎞       ⎟ ⎬\n",
       "c) ⋅(0.5⋅N⋅(μ_c__c⋅(x + 1) - μ_c__d⋅(x - 1)))            ⎠       ⎠ ⎪\n",
       "───────────────────────────────────────────────────────────────────⎪\n",
       "                                                                   ⎪\n",
       "                                                                   ⎪\n",
       "                                                                   ⎪\n",
       "                                                                   ⎪\n",
       "                                                                   ⎪\n",
       "                                                                   ⎪\n",
       "                                                                   ⎭"
      ]
     },
     "execution_count": 100,
     "metadata": {},
     "output_type": "execute_result"
    }
   ],
   "source": [
    "with s.assuming((1-bR/e*(g0/g)**2) > 0, mucd*(x+1) - mudd*(x-1) > 0, mucc*(x-1) - mudc(x-1) > 0):\n",
    "    for key in subsDW.keys():\n",
    "        subsDW[key] = s.simplify(s.powdenest(subsDW[key].subs(subs2).subs(subs4).subs(subs5), force=True))\n",
    "subsDW"
   ]
  },
  {
   "cell_type": "markdown",
   "metadata": {},
   "source": [
    "Write down dynamic equations for the economic subsystem in terms of means of clean and dirty capital stocks for clean and dirty households"
   ]
  },
  {
   "cell_type": "code",
   "execution_count": 101,
   "metadata": {},
   "outputs": [],
   "source": [
    "rhsECO = s.Matrix([(rs*rc-delta)*mucc + rs*rd*mudc + rs*w*L/N,\n",
    "                  -delta*mudc,\n",
    "                  -delta*mucd,\n",
    "                  rs*rc*mucd + (rs*rd-delta)*mudd + rs*w*L/N,\n",
    "                  bc*Lc**pi*(Nc*mucc + Nd*mucd)**kappac * C**xi - delta*C,\n",
    "                  -R])\n"
   ]
  },
  {
   "cell_type": "markdown",
   "metadata": {},
   "source": [
    "Write down changes in means of capital stocks through agents' switching of opinions and add them to the capital accumulation terms"
   ]
  },
  {
   "cell_type": "code",
   "execution_count": 102,
   "metadata": {},
   "outputs": [],
   "source": [
    "\n",
    "dtNcd = 1./tau*Nc*(Nc/N*cd/(2*cc+cd)*(1-phi)*(1-epsilon)*Pcd + epsilon*1./2*Nc/N)\n",
    "dtNdc = 1./tau*Nd*(Nd/N*cd/(2*dd+cd)*(1-phi)*(1-epsilon)*Pdc + epsilon*1./2*Nd/N)\n",
    "\n",
    "rhsECO_switch = s.Matrix([(mucd-mucc)*dtNdc/Nc,\n",
    "                         (mudd-mudc)*dtNdc/Nc,\n",
    "                         (mucc-mucd)*dtNcd/Nd,\n",
    "                         (mudc-mudd)*dtNcd/Nd,\n",
    "                         0,\n",
    "                         0])\n",
    "rhsECO_switch = s.simplify(rhsECO_switch.subs(subs1))"
   ]
  },
  {
   "cell_type": "code",
   "execution_count": 103,
   "metadata": {
    "scrolled": true
   },
   "outputs": [],
   "source": [
    "rhsECO = rhsECO + rhsECO_switch"
   ]
  },
  {
   "cell_type": "markdown",
   "metadata": {},
   "source": [
    "Next, we have to write the economic system in terms of X, Y, Z and then in terms of rescalled variables and ckeck the dependency on the system size N: \n",
    "- 1) substitute primitive variables for dependent variables (subs1)\n",
    "- 2) substitute dependent variables for system variables (subs4)"
   ]
  },
  {
   "cell_type": "code",
   "execution_count": 104,
   "metadata": {
    "scrolled": true
   },
   "outputs": [
    {
     "ename": "NameError",
     "evalue": "name 'subs3' is not defined",
     "output_type": "error",
     "traceback": [
      "\u001b[0;31m---------------------------------------------------------------------------\u001b[0m",
      "\u001b[0;31mNameError\u001b[0m                                 Traceback (most recent call last)",
      "\u001b[0;32m<ipython-input-104-b5b34c3d4610>\u001b[0m in \u001b[0;36m<module>\u001b[0;34m()\u001b[0m\n\u001b[0;32m----> 1\u001b[0;31m \u001b[0mrhsECO\u001b[0m \u001b[0;34m=\u001b[0m \u001b[0mrhsECO\u001b[0m\u001b[0;34m.\u001b[0m\u001b[0msubs\u001b[0m\u001b[0;34m(\u001b[0m\u001b[0msubs1\u001b[0m\u001b[0;34m)\u001b[0m\u001b[0;34m.\u001b[0m\u001b[0msubs\u001b[0m\u001b[0;34m(\u001b[0m\u001b[0msubs2\u001b[0m\u001b[0;34m)\u001b[0m\u001b[0;34m.\u001b[0m\u001b[0msubs\u001b[0m\u001b[0;34m(\u001b[0m\u001b[0msubs3\u001b[0m\u001b[0;34m)\u001b[0m\u001b[0;34m.\u001b[0m\u001b[0msubs\u001b[0m\u001b[0;34m(\u001b[0m\u001b[0msubs4\u001b[0m\u001b[0;34m)\u001b[0m\u001b[0;34m.\u001b[0m\u001b[0msubs\u001b[0m\u001b[0;34m(\u001b[0m\u001b[0msubs5\u001b[0m\u001b[0;34m)\u001b[0m\u001b[0;34m\u001b[0m\u001b[0m\n\u001b[0m",
      "\u001b[0;31mNameError\u001b[0m: name 'subs3' is not defined"
     ]
    }
   ],
   "source": [
    "rhsECO = rhsECO.subs(subs1).subs(subs2).subs(subs3).subs(subs4).subs(subs5)"
   ]
  },
  {
   "cell_type": "markdown",
   "metadata": {},
   "source": [
    "In the PBP rhs substitute economic variables for their propper expressions ($r_c$, $r_d$ ect.) and then again substitute lingering 'primitive' variables with rescalled ones"
   ]
  },
  {
   "cell_type": "code",
   "execution_count": null,
   "metadata": {},
   "outputs": [],
   "source": [
    "rhsPBP = rhsPBP.subs(subs2).subs(subs3).subs(subs5)\n",
    "rhsPBP = rhsPBP.subs(subs1).subs(subs4).subs({N: 1})"
   ]
  },
  {
   "cell_type": "markdown",
   "metadata": {},
   "source": [
    "Check expressions to assure eliminating N the evil way does not break stuff"
   ]
  },
  {
   "cell_type": "code",
   "execution_count": null,
   "metadata": {},
   "outputs": [],
   "source": [
    "subs2[w].subs(subs3).subs(subs5).subs(subs1).subs(subs4).collect(N)"
   ]
  },
  {
   "cell_type": "code",
   "execution_count": null,
   "metadata": {},
   "outputs": [],
   "source": [
    "subs2[rc].subs(subs3).subs(subs5).subs(subs1).subs(subs4).collect(N)"
   ]
  },
  {
   "cell_type": "code",
   "execution_count": null,
   "metadata": {},
   "outputs": [],
   "source": [
    "subs2[rd].subs(subs3).subs(subs5).subs(subs1).subs(subs4).collect(N)"
   ]
  },
  {
   "cell_type": "markdown",
   "metadata": {},
   "source": [
    "This checks out. Capital return rates and wages do not depend on N (even if sympy is too stupid to see this)"
   ]
  },
  {
   "cell_type": "markdown",
   "metadata": {},
   "source": [
    "Combine dynamic equations of economic and social subsystem:"
   ]
  },
  {
   "cell_type": "code",
   "execution_count": null,
   "metadata": {},
   "outputs": [],
   "source": [
    "rhsECO = rhsECO.subs({N: 1})\n",
    "rhs = s.Matrix([rhsPBP,rhsECO]).subs(subs1)\n",
    "rhs"
   ]
  },
  {
   "cell_type": "code",
   "execution_count": null,
   "metadata": {},
   "outputs": [],
   "source": [
    "with open('res_mean_raw.pkl', 'wb') as outf:\n",
    "    pkl.dump(rhs, outf)"
   ]
  },
  {
   "cell_type": "code",
   "execution_count": null,
   "metadata": {},
   "outputs": [],
   "source": [
    "rhs[4]"
   ]
  },
  {
   "cell_type": "code",
   "execution_count": null,
   "metadata": {
    "collapsed": true
   },
   "outputs": [],
   "source": []
  }
 ],
 "metadata": {
  "kernelspec": {
   "display_name": "Python 3",
   "language": "python",
   "name": "python3"
  },
  "language_info": {
   "codemirror_mode": {
    "name": "ipython",
    "version": 3
   },
   "file_extension": ".py",
   "mimetype": "text/x-python",
   "name": "python",
   "nbconvert_exporter": "python",
   "pygments_lexer": "ipython3",
   "version": "3.6.0"
  }
 },
 "nbformat": 4,
 "nbformat_minor": 1
}
