{
 "cells": [
  {
   "cell_type": "markdown",
   "metadata": {},
   "source": [
    "## Equations for Moment Closure of Network-based micro-model for divestment of bounded rational households."
   ]
  },
  {
   "cell_type": "markdown",
   "metadata": {},
   "source": [
    "Imports and setup"
   ]
  },
  {
   "cell_type": "code",
   "execution_count": 1,
   "metadata": {
    "collapsed": false
   },
   "outputs": [
    {
     "data": {
      "text/html": [
       "<style>.container { width:98% !important; }</style>"
      ],
      "text/plain": [
       "<IPython.core.display.HTML object>"
      ]
     },
     "metadata": {},
     "output_type": "display_data"
    }
   ],
   "source": [
    "import sympy as s\n",
    "import pickle as pkl\n",
    "from sympy.abc import epsilon, phi, tau\n",
    "from IPython.core.display import display, HTML\n",
    "display(HTML(\"<style>.container { width:98% !important; }</style>\"))\n",
    "s.init_printing()"
   ]
  },
  {
   "cell_type": "markdown",
   "metadata": {},
   "source": [
    "Define variables and parameters for the adaptive voter model"
   ]
  },
  {
   "cell_type": "code",
   "execution_count": 2,
   "metadata": {
    "collapsed": false
   },
   "outputs": [],
   "source": [
    "# number of nodes\n",
    "N = s.Symbol('N', integer=True)\n",
    "# number of dirty nodes\n",
    "Nd = s.Symbol('N_d', integer=True)\n",
    "# number of clean nodes\n",
    "Nc = s.Symbol('N_c', integer=True)\n",
    "# number of edges\n",
    "K = s.Symbol('K', integer=True)\n",
    "# number of clean edges\n",
    "cc = s.Symbol('[cc]', integer=True)\n",
    "# number of dirty edges\n",
    "dd = s.Symbol('[dd]', integer=True)\n",
    "# number of mixed edges\n",
    "cd = s.Symbol('[cd]', integer=True)\n",
    "# average number of neighbors of clean nodes\n",
    "kc = s.Symbol('k_c', integer=True)\n",
    "# average number of neighbors of dirty nodes\n",
    "kd = s.Symbol('k_d', integer=True)\n",
    "# Nc - Nd\n",
    "X = s.Symbol('X', real=True)\n",
    "# cc - dd\n",
    "Y = s.Symbol('Y', real=True)\n",
    "# cd\n",
    "Z = s.Symbol('Z', real=True, positive=True)\n",
    "# wealth of dirty node\n",
    "Wd = s.Symbol('W_d')\n",
    "# wealth of clean node\n",
    "Wc = s.Symbol('W_c')\n"
   ]
  },
  {
   "cell_type": "markdown",
   "metadata": {},
   "source": [
    "Define variables and parameters for the economic subsystem:"
   ]
  },
  {
   "cell_type": "code",
   "execution_count": 3,
   "metadata": {
    "collapsed": false
   },
   "outputs": [],
   "source": [
    "P, Pc, Pd = s.symbols('P P_c P_d', positive=True, real=True)\n",
    "Kc, Kd = s.symbols('K_c K_d', positive=True, real=True)\n",
    "w, rc, rd = s.symbols('w r_c r_d', positive=True, real=True)\n",
    "R, G, C = s.symbols('R, G, C', positive=True, real=True)\n",
    "mucc, mucd, mudc, mudd = s.symbols('mu_c^c mu_c^d mu_d^c mu_d^d', positive=True, real=True)\n",
    "rs, delta, pi, kappac, kappad, xi = s.symbols('s delta pi kappa_c, kappa_d xi', positive=True, rational=True, real=True)\n",
    "bc, bd, bR, e, G0 = s.symbols('b_c b_d b_R e G_0', positive=True, real=True)\n",
    "Xc, Xd, XR = s.symbols('X_c X_d X_R', positive=True, real=True)"
   ]
  },
  {
   "cell_type": "markdown",
   "metadata": {},
   "source": [
    "Defination of relations between variables and calculation of substitution of *primitive variables* by *state variables* of the system"
   ]
  },
  {
   "cell_type": "code",
   "execution_count": 4,
   "metadata": {
    "collapsed": false
   },
   "outputs": [
    {
     "data": {
      "image/png": "[encoded data removed]",
      "text/latex": [
       "$$\\left \\{ N_{c} : \\frac{N}{2} + \\frac{X}{2}, \\quad N_{d} : \\frac{N}{2} - \\frac{X}{2}, \\quad [cc] : \\frac{K}{2} + \\frac{Y}{2} - \\frac{Z}{2}, \\quad [cd] : Z, \\quad [dd] : \\frac{K}{2} - \\frac{Y}{2} - \\frac{Z}{2}, \\quad k_{c} : \\frac{2 K + 2 Y}{N + X}, \\quad k_{d} : \\frac{2 K - 2 Y}{N - X}, \\quad \\tanh{\\left (- W_{c} + W_{d} \\right )} : r_{c} \\left(- \\mu^{c}_{c} + \\mu^{c}_{d}\\right) + r_{d} \\left(- \\mu^{d}_{c} + \\mu^{d}_{d}\\right), \\quad \\tanh{\\left (W_{c} - W_{d} \\right )} : r_{c} \\left(\\mu^{c}_{c} - \\mu^{c}_{d}\\right) + r_{d} \\left(\\mu^{d}_{c} - \\mu^{d}_{d}\\right)\\right \\}$$"
      ],
      "text/plain": [
       "⎧     N   X       N   X        K   Y   Z                 K   Y   Z       2⋅(K \n",
       "⎨N_c: ─ + ─, N_d: ─ - ─, [cc]: ─ + ─ - ─, [cd]: Z, [dd]: ─ - ─ - ─, k_c: ─────\n",
       "⎩     2   2       2   2        2   2   2                 2   2   2         N +\n",
       "\n",
       "+ Y)       2⋅(K - Y)                                                          \n",
       "────, k_d: ─────────, tanh(-W_c + W_d): r_c⋅(-μ_c__c + μ_d__c) + r_d⋅(-μ_c__d \n",
       " X           N - X                                                            \n",
       "\n",
       "                                                                         ⎫\n",
       "+ μ_d__d), tanh(W_c - W_d): r_c⋅(μ_c__c - μ_d__c) + r_d⋅(μ_c__d - μ_d__d)⎬\n",
       "                                                                         ⎭"
      ]
     },
     "execution_count": 4,
     "metadata": {},
     "output_type": "execute_result"
    }
   ],
   "source": [
    "eqs = [\n",
    "    Nd+Nc-N,\n",
    "    cc+dd+cd-K,\n",
    "    X-Nc+Nd,\n",
    "    Y-cc+dd,\n",
    "    Z-cd,\n",
    "    kc-(2*cc+cd)/Nc,\n",
    "    kd-(2*dd+cd)/Nd\n",
    "]\n",
    "vars1 = (Nc, Nd, cc, dd, cd, kc, kd)\n",
    "vars2 = (N, K, X, Y, Z)\n",
    "subs1 = s.solve(eqs, vars1, dict=True)[0]\n",
    "\n",
    "# define expected wealth as expected income\n",
    "subs1[s.tanh(Wd-Wc)] = rc*(mudc-mucc) + rd*(mudd-mucd)\n",
    "subs1[s.tanh(Wc-Wd)] = rc*(mucc-mudc) + rd*(mucd-mudd)\n",
    "subs1"
   ]
  },
  {
   "cell_type": "markdown",
   "metadata": {},
   "source": [
    "Effect of events on state vector S = (X, Y, Z)"
   ]
  },
  {
   "cell_type": "code",
   "execution_count": 5,
   "metadata": {
    "collapsed": true
   },
   "outputs": [],
   "source": [
    "# regular adaptive voter events\n",
    "s1 = s.Matrix([ 0, 1, -1]) # clean investor rewires\n",
    "s2 = s.Matrix([ 0,-1, -1]) # dirty investor rewires\n",
    "s3 = s.Matrix([-2,-kc,-1 + (1-1./kc)*((2*cc-cd)/Nc)]) # clean investor imitates c -> d\n",
    "s4 = s.Matrix([ 2, kd,-1 + (1-1./kd)*((2*dd-cd)/Nd)]) # dirty investor imitates d -> c\n",
    "\n",
    "# noise events\n",
    "\n",
    "s5 = s.Matrix([-2,-(2*cc+cd)/Nc,(2*cc-cd)/Nc]) # c -> d\n",
    "s6 = s.Matrix([ 2, (2*dd+cd)/Nd,(2*dd-cd)/Nd]) # d -> c\n",
    "s7 = s.Matrix([ 0,-1, 1]) # c-c -> c-d\n",
    "s8 = s.Matrix([ 0, 1,-1]) # c-d -> c-c\n",
    "s9 = s.Matrix([ 0, 1, 1]) # d-d -> d-c\n",
    "s10= s.Matrix([ 0,-1,-1]) # d-c -> d-d"
   ]
  },
  {
   "cell_type": "markdown",
   "metadata": {},
   "source": [
    "Probabilities for events to occur:"
   ]
  },
  {
   "cell_type": "code",
   "execution_count": 6,
   "metadata": {
    "collapsed": false
   },
   "outputs": [],
   "source": [
    "p1 = (1-epsilon)*(Nc/N)*cd/(Nc * kc)*phi # clean investor rewires\n",
    "p2 = (1-epsilon)*(Nd/N)*cd/(Nd * kd)*phi # dirty investor rewires\n",
    "p3 = (1-epsilon)*(Nc/N)*cd/(Nc * kc)*(1-phi)*(1./2)*(s.tanh(Wd-Wc)+1) # clean investor imitates c -> d\n",
    "p4 = (1-epsilon)*(Nd/N)*cd/(Nd * kd)*(1-phi)*(1./2)*(s.tanh(Wc-Wd)+1) # dirty investor imitates d -> c\n",
    "p5 = epsilon * (1./2) * Nc/N # c -> d\n",
    "p6 = epsilon * (1./2) * Nd/N # d -> c\n",
    "p7 = epsilon * Nc/N * (2*cc)/(2*cc+cd) * Nd/N # c-c -> c-d\n",
    "p8 = epsilon * Nc/N * (cd)/(2*cc+cd) * Nc/N   # c-d -> c-c\n",
    "p9 = epsilon * Nd/N * (2*dd)/(2*dd+cd) * Nc/N # d-d -> d-c\n",
    "p10= epsilon * Nd/N * (cd)/(2*dd+cd) * Nd/N   # d-c -> d-d"
   ]
  },
  {
   "cell_type": "markdown",
   "metadata": {},
   "source": [
    "Create S and r matrices to write down rhs markov jump process for pair based proxy:"
   ]
  },
  {
   "cell_type": "code",
   "execution_count": 7,
   "metadata": {
    "collapsed": false
   },
   "outputs": [],
   "source": [
    "S = s.Matrix(s1)\n",
    "for i, si in enumerate([s2, s3, s4, s5, s6, s7, s8, s9, s10]):\n",
    "    S = S.col_insert(i+1, si)\n",
    "\n",
    "r = s.Matrix([p1])\n",
    "for j, pj in enumerate([s.Matrix([p]) for p in[p2, p3, p4, p5, p6, p7, p8, p9, p10]]):\n",
    "    r = r.col_insert(j+1, pj)"
   ]
  },
  {
   "cell_type": "code",
   "execution_count": 8,
   "metadata": {
    "collapsed": false
   },
   "outputs": [
    {
     "data": {
      "image/png": "[encoded data removed]",
      "text/latex": [
       "$$\\left[\\begin{matrix}- \\frac{1.0 \\epsilon}{N} N_{c} + \\frac{1.0 \\epsilon}{N} N_{d} + \\frac{1.0 [cd]}{N k_{d}} \\left(- \\epsilon + 1\\right) \\left(- \\phi + 1\\right) \\left(\\tanh{\\left (W_{c} - W_{d} \\right )} + 1\\right) - \\frac{1.0 [cd]}{N k_{c}} \\left(- \\epsilon + 1\\right) \\left(- \\phi + 1\\right) \\left(\\tanh{\\left (- W_{c} + W_{d} \\right )} + 1\\right)\\\\- \\frac{0.5 [cd]}{N} \\left(- \\epsilon + 1\\right) \\left(- \\phi + 1\\right) \\left(\\tanh{\\left (- W_{c} + W_{d} \\right )} + 1\\right) + \\frac{0.5 [cd]}{N} \\left(- \\epsilon + 1\\right) \\left(- \\phi + 1\\right) \\left(\\tanh{\\left (W_{c} - W_{d} \\right )} + 1\\right) - \\frac{[cd] \\phi}{N k_{d}} \\left(- \\epsilon + 1\\right) + \\frac{[cd] \\phi}{N k_{c}} \\left(- \\epsilon + 1\\right) + \\frac{0.5 \\epsilon}{N} \\left(- 2 [cc] - [cd]\\right) + \\frac{0.5 \\epsilon}{N} \\left([cd] + 2 [dd]\\right) + \\frac{N_{c}^{2} [cd] \\epsilon}{N^{2} \\left(2 [cc] + [cd]\\right)} - \\frac{2 N_{c} N_{d} [cc] \\epsilon}{N^{2} \\left(2 [cc] + [cd]\\right)} + \\frac{2 N_{c} N_{d} [dd] \\epsilon}{N^{2} \\left([cd] + 2 [dd]\\right)} - \\frac{N_{d}^{2} [cd] \\epsilon}{N^{2} \\left([cd] + 2 [dd]\\right)}\\\\- \\frac{[cd] \\phi}{N k_{d}} \\left(- \\epsilon + 1\\right) + \\frac{0.5 [cd]}{N k_{d}} \\left(-1 + \\frac{1}{N_{d}} \\left(1 - \\frac{1.0}{k_{d}}\\right) \\left(- [cd] + 2 [dd]\\right)\\right) \\left(- \\epsilon + 1\\right) \\left(- \\phi + 1\\right) \\left(\\tanh{\\left (W_{c} - W_{d} \\right )} + 1\\right) - \\frac{[cd] \\phi}{N k_{c}} \\left(- \\epsilon + 1\\right) + \\frac{0.5 [cd]}{N k_{c}} \\left(-1 + \\frac{1}{N_{c}} \\left(1 - \\frac{1.0}{k_{c}}\\right) \\left(2 [cc] - [cd]\\right)\\right) \\left(- \\epsilon + 1\\right) \\left(- \\phi + 1\\right) \\left(\\tanh{\\left (- W_{c} + W_{d} \\right )} + 1\\right) + \\frac{0.5 \\epsilon}{N} \\left(2 [cc] - [cd]\\right) + \\frac{0.5 \\epsilon}{N} \\left(- [cd] + 2 [dd]\\right) - \\frac{N_{c}^{2} [cd] \\epsilon}{N^{2} \\left(2 [cc] + [cd]\\right)} + \\frac{2 N_{c} N_{d} [cc] \\epsilon}{N^{2} \\left(2 [cc] + [cd]\\right)} + \\frac{2 N_{c} N_{d} [dd] \\epsilon}{N^{2} \\left([cd] + 2 [dd]\\right)} - \\frac{N_{d}^{2} [cd] \\epsilon}{N^{2} \\left([cd] + 2 [dd]\\right)}\\end{matrix}\\right]$$"
      ],
      "text/plain": [
       "⎡                                                                             \n",
       "⎢                                                                             \n",
       "⎢                                                                             \n",
       "⎢                                                                             \n",
       "⎢                                                                             \n",
       "⎢                                   0.5⋅[cd]⋅(-ε + 1)⋅(-φ + 1)⋅(tanh(-W_c + W_\n",
       "⎢                                 - ──────────────────────────────────────────\n",
       "⎢                                                           N                 \n",
       "⎢                                                                             \n",
       "⎢                                                                             \n",
       "⎢                             ⎛     ⎛    1.0⎞                 ⎞               \n",
       "⎢                             ⎜     ⎜1 - ───⎟⋅(-[cd] + 2⋅[dd])⎟               \n",
       "⎢                             ⎜     ⎝    k_d⎠                 ⎟               \n",
       "⎢                    0.5⋅[cd]⋅⎜-1 + ──────────────────────────⎟⋅(-ε + 1)⋅(-φ +\n",
       "⎢  [cd]⋅φ⋅(-ε + 1)            ⎝                N_d            ⎠               \n",
       "⎢- ─────────────── + ─────────────────────────────────────────────────────────\n",
       "⎢       N⋅k_d                                              N⋅k_d              \n",
       "⎣                                                                             \n",
       "\n",
       "                               1.0⋅N_c⋅ε   1.0⋅N_d⋅ε   1.0⋅[cd]⋅(-ε + 1)⋅(-φ +\n",
       "                             - ───────── + ───────── + ───────────────────────\n",
       "                                   N           N                            N⋅\n",
       "                                                                              \n",
       "                                                                              \n",
       "d) + 1)   0.5⋅[cd]⋅(-ε + 1)⋅(-φ + 1)⋅(tanh(W_c - W_d) + 1)   [cd]⋅φ⋅(-ε + 1)  \n",
       "─────── + ──────────────────────────────────────────────── - ─────────────── +\n",
       "                                 N                                N⋅k_d       \n",
       "                                                                              \n",
       "                                                                              \n",
       "                                                       ⎛     ⎛    1.0⎞        \n",
       "                                                       ⎜     ⎜1 - ───⎟⋅(2⋅[cc]\n",
       "                                                       ⎜     ⎝    k_c⎠        \n",
       " 1)⋅(tanh(W_c - W_d) + 1)                     0.5⋅[cd]⋅⎜-1 + ─────────────────\n",
       "                            [cd]⋅φ⋅(-ε + 1)            ⎝                N_c   \n",
       "───────────────────────── - ─────────────── + ────────────────────────────────\n",
       "                                 N⋅k_c                                        \n",
       "                                                                              \n",
       "\n",
       " 1)⋅(tanh(W_c - W_d) + 1)   1.0⋅[cd]⋅(-ε + 1)⋅(-φ + 1)⋅(tanh(-W_c + W_d) + 1) \n",
       "───────────────────────── - ───────────────────────────────────────────────── \n",
       "k_d                                               N⋅k_c                       \n",
       "                                                                              \n",
       "                                                                          2   \n",
       " [cd]⋅φ⋅(-ε + 1)   0.5⋅ε⋅(-2⋅[cc] - [cd])   0.5⋅ε⋅([cd] + 2⋅[dd])      N_c ⋅[c\n",
       " ─────────────── + ────────────────────── + ───────────────────── + ──────────\n",
       "      N⋅k_c                  N                        N              2        \n",
       "                                                                    N ⋅(2⋅[cc]\n",
       "                                                                              \n",
       "        ⎞                                                                     \n",
       " - [cd])⎟                                                                     \n",
       "        ⎟                                                                     \n",
       "────────⎟⋅(-ε + 1)⋅(-φ + 1)⋅(tanh(-W_c + W_d) + 1)                            \n",
       "        ⎠                                            0.5⋅ε⋅(2⋅[cc] - [cd])   0\n",
       "────────────────────────────────────────────────── + ───────────────────── + ─\n",
       "      N⋅k_c                                                    N              \n",
       "                                                                              \n",
       "\n",
       "                                                                              \n",
       "                                                                              \n",
       "                                                                              \n",
       "                                                                              \n",
       "                                                           2                  \n",
       "d]⋅ε        2⋅N_c⋅N_d⋅[cc]⋅ε     2⋅N_c⋅N_d⋅[dd]⋅ε       N_d ⋅[cd]⋅ε           \n",
       "──────── - ────────────────── + ────────────────── - ──────────────────       \n",
       "            2                    2                    2                       \n",
       " + [cd])   N ⋅(2⋅[cc] + [cd])   N ⋅([cd] + 2⋅[dd])   N ⋅([cd] + 2⋅[dd])       \n",
       "                                                                              \n",
       "                                                                              \n",
       "                                                                              \n",
       "                                                                              \n",
       "                              2                                               \n",
       ".5⋅ε⋅(-[cd] + 2⋅[dd])      N_c ⋅[cd]⋅ε        2⋅N_c⋅N_d⋅[cc]⋅ε     2⋅N_c⋅N_d⋅[\n",
       "───────────────────── - ────────────────── + ────────────────── + ────────────\n",
       "         N               2                    2                    2          \n",
       "                        N ⋅(2⋅[cc] + [cd])   N ⋅(2⋅[cc] + [cd])   N ⋅([cd] + 2\n",
       "\n",
       "                           ⎤\n",
       "                           ⎥\n",
       "                           ⎥\n",
       "                           ⎥\n",
       "                           ⎥\n",
       "                           ⎥\n",
       "                           ⎥\n",
       "                           ⎥\n",
       "                           ⎥\n",
       "                           ⎥\n",
       "                           ⎥\n",
       "                           ⎥\n",
       "                           ⎥\n",
       "               2           ⎥\n",
       "dd]⋅ε       N_d ⋅[cd]⋅ε    ⎥\n",
       "────── - ──────────────────⎥\n",
       "          2                ⎥\n",
       "⋅[dd])   N ⋅([cd] + 2⋅[dd])⎦"
      ]
     },
     "execution_count": 8,
     "metadata": {},
     "output_type": "execute_result"
    }
   ],
   "source": [
    "rhsPBP = S*s.Transpose(r)\n",
    "rhsPBP"
   ]
  },
  {
   "cell_type": "markdown",
   "metadata": {},
   "source": [
    "Write down right hand side for PBP and substitute primitive with system state variables:"
   ]
  },
  {
   "cell_type": "code",
   "execution_count": 9,
   "metadata": {
    "collapsed": false,
    "scrolled": true
   },
   "outputs": [],
   "source": [
    "rhsPBP = s.simplify(1./tau*rhsPBP.subs(subs1))"
   ]
  },
  {
   "cell_type": "markdown",
   "metadata": {},
   "source": [
    "Show resulting dynamic equations for PBP"
   ]
  },
  {
   "cell_type": "code",
   "execution_count": 10,
   "metadata": {
    "collapsed": false
   },
   "outputs": [
    {
     "data": {
      "image/png": "[encoded data removed]",
      "text/latex": [
       "$$\\left[\\begin{matrix}\\frac{1}{N \\tau \\left(K - Y\\right) \\left(K + Y\\right)} \\left(- 1.0 X \\epsilon \\left(K - Y\\right) \\left(K + Y\\right) - 0.5 Z \\left(K - Y\\right) \\left(N + X\\right) \\left(\\epsilon - 1\\right) \\left(\\phi - 1\\right) \\left(- r_{c} \\left(\\mu^{c}_{c} - \\mu^{c}_{d}\\right) - r_{d} \\left(\\mu^{d}_{c} - \\mu^{d}_{d}\\right) + 1\\right) + 0.5 Z \\left(K + Y\\right) \\left(N - X\\right) \\left(\\epsilon - 1\\right) \\left(\\phi - 1\\right) \\left(r_{c} \\left(\\mu^{c}_{c} - \\mu^{c}_{d}\\right) + r_{d} \\left(\\mu^{d}_{c} - \\mu^{d}_{d}\\right) + 1\\right)\\right)\\\\\\frac{1}{N^{2} \\tau \\left(K - Y\\right) \\left(K + Y\\right)} \\left(- 0.5 N Z \\phi \\left(K - Y\\right) \\left(N + X\\right) \\left(\\epsilon - 1\\right) + 0.5 N Z \\phi \\left(K + Y\\right) \\left(N - X\\right) \\left(\\epsilon - 1\\right) + 0.5 N \\left(K - Y\\right) \\left(K + Y\\right) \\left(- Z \\left(\\epsilon - 1\\right) \\left(\\phi - 1\\right) \\left(- r_{c} \\left(\\mu^{c}_{c} - \\mu^{c}_{d}\\right) - r_{d} \\left(\\mu^{d}_{c} - \\mu^{d}_{d}\\right) + 1\\right) + Z \\left(\\epsilon - 1\\right) \\left(\\phi - 1\\right) \\left(r_{c} \\left(\\mu^{c}_{c} - \\mu^{c}_{d}\\right) + r_{d} \\left(\\mu^{d}_{c} - \\mu^{d}_{d}\\right) + 1\\right) + \\epsilon \\left(K - Y\\right) - \\epsilon \\left(K + Y\\right)\\right) - 0.25 \\epsilon \\left(K - Y\\right) \\left(N + X\\right) \\left(- Z \\left(N + X\\right) + \\left(N - X\\right) \\left(K + Y - Z\\right)\\right) - 0.25 \\epsilon \\left(K + Y\\right) \\left(N - X\\right) \\left(Z \\left(N - X\\right) + \\left(N + X\\right) \\left(- K + Y + Z\\right)\\right)\\right)\\\\\\frac{1}{N^{2} \\tau \\left(K - Y\\right)^{2} \\left(K + Y\\right)^{2}} \\left(0.5 N Z \\phi \\left(K - Y\\right)^{2} \\left(K + Y\\right) \\left(N + X\\right) \\left(\\epsilon - 1\\right) + 0.5 N Z \\phi \\left(K - Y\\right) \\left(K + Y\\right)^{2} \\left(N - X\\right) \\left(\\epsilon - 1\\right) - 0.25 N Z \\left(K - Y\\right)^{2} \\left(\\epsilon - 1\\right) \\left(\\phi - 1\\right) \\left(- \\left(K + Y\\right) \\left(N + X\\right) + 2 \\left(K + Y - 2 Z\\right) \\left(K - 0.5 N - 0.5 X + Y\\right)\\right) \\left(r_{c} \\left(\\mu^{c}_{c} - \\mu^{c}_{d}\\right) + r_{d} \\left(\\mu^{d}_{c} - \\mu^{d}_{d}\\right) - 1\\right) - 0.25 N Z \\left(K + Y\\right)^{2} \\left(\\epsilon - 1\\right) \\left(\\phi - 1\\right) \\left(\\left(K - Y\\right) \\left(N - X\\right) + 2 \\left(- K + Y + 2 Z\\right) \\left(K - 0.5 N + 0.5 X - Y\\right)\\right) \\left(r_{c} \\left(\\mu^{c}_{c} - \\mu^{c}_{d}\\right) + r_{d} \\left(\\mu^{d}_{c} - \\mu^{d}_{d}\\right) + 1\\right) + 1.0 N \\epsilon \\left(K - Y\\right)^{2} \\left(K + Y\\right)^{2} \\left(K - 2 Z\\right) + 0.25 \\epsilon \\left(K - Y\\right)^{2} \\left(K + Y\\right) \\left(N + X\\right) \\left(- Z \\left(N + X\\right) + \\left(N - X\\right) \\left(K + Y - Z\\right)\\right) - 0.25 \\epsilon \\left(K - Y\\right) \\left(K + Y\\right)^{2} \\left(N - X\\right) \\left(Z \\left(N - X\\right) + \\left(N + X\\right) \\left(- K + Y + Z\\right)\\right)\\right)\\end{matrix}\\right]$$"
      ],
      "text/plain": [
       "⎡                                                                             \n",
       "⎢                                                                             \n",
       "⎢                                                                             \n",
       "⎢                                                                             \n",
       "⎢                                                                             \n",
       "⎢                                                                             \n",
       "⎢                                                                             \n",
       "⎢                                                                             \n",
       "⎢                                                                             \n",
       "⎢                 2                                                    2      \n",
       "⎢0.5⋅N⋅Z⋅φ⋅(K - Y) ⋅(K + Y)⋅(N + X)⋅(ε - 1) + 0.5⋅N⋅Z⋅φ⋅(K - Y)⋅(K + Y) ⋅(N - \n",
       "⎢─────────────────────────────────────────────────────────────────────────────\n",
       "⎢                                                                             \n",
       "⎣                                                                             \n",
       "\n",
       "                                                                              \n",
       "                                                                              \n",
       "                                                                              \n",
       "                                                                              \n",
       "           -0.5⋅N⋅Z⋅φ⋅(K - Y)⋅(N + X)⋅(ε - 1) + 0.5⋅N⋅Z⋅φ⋅(K + Y)⋅(N - X)⋅(ε -\n",
       "           ───────────────────────────────────────────────────────────────────\n",
       "                                                                              \n",
       "                                                                              \n",
       "                                                                              \n",
       "                             2                                                \n",
       "X)⋅(ε - 1) - 0.25⋅N⋅Z⋅(K - Y) ⋅(ε - 1)⋅(φ - 1)⋅(-(K + Y)⋅(N + X) + 2⋅(K + Y - \n",
       "──────────────────────────────────────────────────────────────────────────────\n",
       "                                                                              \n",
       "                                                                              \n",
       "\n",
       "                     -1.0⋅X⋅ε⋅(K - Y)⋅(K + Y) - 0.5⋅Z⋅(K - Y)⋅(N + X)⋅(ε - 1)⋅\n",
       "                     ─────────────────────────────────────────────────────────\n",
       "                                                                              \n",
       "                                                                              \n",
       " 1) + 0.5⋅N⋅(K - Y)⋅(K + Y)⋅(-Z⋅(ε - 1)⋅(φ - 1)⋅(-r_c⋅(μ_c__c - μ_d__c) - r_d⋅\n",
       "──────────────────────────────────────────────────────────────────────────────\n",
       "                                                                              \n",
       "                                                                              \n",
       "                                                                              \n",
       "                                                                              \n",
       "2⋅Z)⋅(K - 0.5⋅N - 0.5⋅X + Y))⋅(r_c⋅(μ_c__c - μ_d__c) + r_d⋅(μ_c__d - μ_d__d) -\n",
       "──────────────────────────────────────────────────────────────────────────────\n",
       "                                                                              \n",
       "                                                                              \n",
       "\n",
       "(φ - 1)⋅(-r_c⋅(μ_c__c - μ_d__c) - r_d⋅(μ_c__d - μ_d__d) + 1) + 0.5⋅Z⋅(K + Y)⋅(\n",
       "──────────────────────────────────────────────────────────────────────────────\n",
       "                                      N⋅τ⋅(K - Y)⋅(K + Y)                     \n",
       "                                                                              \n",
       "(μ_c__d - μ_d__d) + 1) + Z⋅(ε - 1)⋅(φ - 1)⋅(r_c⋅(μ_c__c - μ_d__c) + r_d⋅(μ_c__\n",
       "──────────────────────────────────────────────────────────────────────────────\n",
       "                                      2                                       \n",
       "                                     N ⋅τ⋅(K - Y)⋅(K + Y)                     \n",
       "                                                                              \n",
       "                      2                                                       \n",
       " 1) - 0.25⋅N⋅Z⋅(K + Y) ⋅(ε - 1)⋅(φ - 1)⋅((K - Y)⋅(N - X) + 2⋅(-K + Y + 2⋅Z)⋅(K\n",
       "──────────────────────────────────────────────────────────────────────────────\n",
       "                                      2          2        2                   \n",
       "                                     N ⋅τ⋅(K - Y) ⋅(K + Y)                    \n",
       "\n",
       "N - X)⋅(ε - 1)⋅(φ - 1)⋅(r_c⋅(μ_c__c - μ_d__c) + r_d⋅(μ_c__d - μ_d__d) + 1)    \n",
       "──────────────────────────────────────────────────────────────────────────    \n",
       "                                                                              \n",
       "                                                                              \n",
       "d - μ_d__d) + 1) + ε⋅(K - Y) - ε⋅(K + Y)) - 0.25⋅ε⋅(K - Y)⋅(N + X)⋅(-Z⋅(N + X)\n",
       "──────────────────────────────────────────────────────────────────────────────\n",
       "                                                                              \n",
       "                                                                              \n",
       "                                                                              \n",
       "                                                                              \n",
       " - 0.5⋅N + 0.5⋅X - Y))⋅(r_c⋅(μ_c__c - μ_d__c) + r_d⋅(μ_c__d - μ_d__d) + 1) + 1\n",
       "──────────────────────────────────────────────────────────────────────────────\n",
       "                                                                              \n",
       "                                                                              \n",
       "\n",
       "                                                                              \n",
       "                                                                              \n",
       "                                                                              \n",
       "                                                                              \n",
       " + (N - X)⋅(K + Y - Z)) - 0.25⋅ε⋅(K + Y)⋅(N - X)⋅(Z⋅(N - X) + (N + X)⋅(-K + Y \n",
       "──────────────────────────────────────────────────────────────────────────────\n",
       "                                                                              \n",
       "                                                                              \n",
       "                                                                              \n",
       "              2        2                           2                          \n",
       ".0⋅N⋅ε⋅(K - Y) ⋅(K + Y) ⋅(K - 2⋅Z) + 0.25⋅ε⋅(K - Y) ⋅(K + Y)⋅(N + X)⋅(-Z⋅(N + \n",
       "──────────────────────────────────────────────────────────────────────────────\n",
       "                                                                              \n",
       "                                                                              \n",
       "\n",
       "                                                                              \n",
       "                                                                              \n",
       "                                                                              \n",
       "                                                                              \n",
       "+ Z))                                                                         \n",
       "─────                                                                         \n",
       "                                                                              \n",
       "                                                                              \n",
       "                                                                              \n",
       "                                                  2                           \n",
       "X) + (N - X)⋅(K + Y - Z)) - 0.25⋅ε⋅(K - Y)⋅(K + Y) ⋅(N - X)⋅(Z⋅(N - X) + (N + \n",
       "──────────────────────────────────────────────────────────────────────────────\n",
       "                                                                              \n",
       "                                                                              \n",
       "\n",
       "                ⎤\n",
       "                ⎥\n",
       "                ⎥\n",
       "                ⎥\n",
       "                ⎥\n",
       "                ⎥\n",
       "                ⎥\n",
       "                ⎥\n",
       "                ⎥\n",
       "                ⎥\n",
       "X)⋅(-K + Y + Z))⎥\n",
       "────────────────⎥\n",
       "                ⎥\n",
       "                ⎦"
      ]
     },
     "execution_count": 10,
     "metadata": {},
     "output_type": "execute_result"
    }
   ],
   "source": [
    "rhsPBP"
   ]
  },
  {
   "cell_type": "markdown",
   "metadata": {},
   "source": [
    "Substitutions of rescalled quantities to allow for N -> oo limit:"
   ]
  },
  {
   "cell_type": "code",
   "execution_count": 11,
   "metadata": {
    "collapsed": false
   },
   "outputs": [],
   "source": [
    "x, y, z, k = s.symbols('x y z k')\n",
    "c, g, p, g0 = s.symbols('c, g, p, g_0')\n",
    "subs4 = {Kc: (N/2.*(1+x)*mucc + N/2.*(1-x)*mudc),\n",
    "         Kd: (N/2.*(1+x)*mucd + N/2.*(1-x)*mudd),\n",
    "         C: N * c,\n",
    "         P: N * p,\n",
    "         G: N * g,\n",
    "         G0: N * g0,\n",
    "         X: N*x,\n",
    "         Y: N*k*y,\n",
    "         Z: N*k*z,\n",
    "         K: N*k}"
   ]
  },
  {
   "cell_type": "markdown",
   "metadata": {},
   "source": [
    "Substitutute solutions to algebraic constraints of economic system (market clearing for labor and expressions for capital rent and resource flow)"
   ]
  },
  {
   "cell_type": "code",
   "execution_count": 12,
   "metadata": {
    "collapsed": false
   },
   "outputs": [],
   "source": [
    "subs3 = {Xc: (bc*Kc**kappac * C**xi)**(1./(1-pi)),\n",
    "         Xd: (bd*Kd**kappad)**(1./(1-pi)),\n",
    "         XR: (1.-bR/e*(G0/G)**2)**(1./(1-pi))}"
   ]
  },
  {
   "cell_type": "code",
   "execution_count": 13,
   "metadata": {
    "collapsed": false
   },
   "outputs": [],
   "source": [
    "subs2 = {w: pi * P**(pi-1) * (Xc + Xd*XR)**(1-pi),\n",
    "        rc: kappac/Kc*Xc*P**pi*(Xc + Xd*XR)**(-pi),\n",
    "        rd: kappad/Kd*Xd*XR*P**pi*(Xc + Xd*XR)**(-pi),\n",
    "        R:  bd/e*Kd**kappad*P**pi*(Xd*XR/(Xc + Xd*XR))**pi,\n",
    "        Pc: P*Xc/(Xc + Xd*XR),\n",
    "        Pd: P*Xd*XR/(Xc + Xd*XR),\n",
    "        s.tanh(Wd-Wc): rc*(mudc-mucc) + rd*(mudd-mucd),\n",
    "        s.tanh(Wc-Wd): rc*(mucc-mudc) + rd*(mucd-mudd)}"
   ]
  },
  {
   "cell_type": "markdown",
   "metadata": {},
   "source": [
    "Substitutions to ensure constant returns to scale:"
   ]
  },
  {
   "cell_type": "code",
   "execution_count": 14,
   "metadata": {
    "collapsed": true
   },
   "outputs": [],
   "source": [
    "subs5 = {kappac: 1. - pi - xi,\n",
    "         kappad: 1. - pi}"
   ]
  },
  {
   "cell_type": "markdown",
   "metadata": {},
   "source": [
    "Write down dynamic equations for the economic subsystem in terms of means of clean and dirty capital stocks for clean and dirty households"
   ]
  },
  {
   "cell_type": "code",
   "execution_count": 15,
   "metadata": {
    "collapsed": false
   },
   "outputs": [],
   "source": [
    "rhsECO = s.Matrix([(rs*rc-delta)*mucc + rs*rd*mucd + rs*w*P/N,\n",
    "                  -delta*mucd,\n",
    "                  -delta*mudc,\n",
    "                  rs*rc*mudc + (rs*rd-delta)*mudd + rs*w*P/N,\n",
    "                  bc*Pc**pi*(Nc*mucc + Nd*mudc)**kappac * C**xi - delta*C,\n",
    "                  -R])\n"
   ]
  },
  {
   "cell_type": "markdown",
   "metadata": {},
   "source": [
    "Write down changes in means of capital stocks through agents' switching of opinions"
   ]
  },
  {
   "cell_type": "code",
   "execution_count": 16,
   "metadata": {
    "collapsed": false
   },
   "outputs": [],
   "source": [
    "\n",
    "dtNcd = 1./tau*Nc*(Nc/N*cd/(2*cc+cd)*(1-phi)*(1-epsilon)*1./2*(s.tanh(Wd-Wc)+1) + epsilon*1./2*Nc/N)\n",
    "dtNdc = 1./tau*Nd*(Nd/N*cd/(2*dd+cd)*(1-phi)*(1-epsilon)*1./2*(s.tanh(Wc-Wd)+1) + epsilon*1./2*Nd/N)\n",
    "\n",
    "rhsECO_switch = s.Matrix([(mudc-mucc)*dtNdc/Nc,\n",
    "                         (mudd-mucd)*dtNdc/Nc,\n",
    "                         (mucc-mudc)*dtNcd/Nd,\n",
    "                         (mucd-mudd)*dtNcd/Nd,\n",
    "                         0,\n",
    "                         0])\n",
    "rhsECO_switch = s.simplify(rhsECO_switch.subs(subs1))"
   ]
  },
  {
   "cell_type": "code",
   "execution_count": 17,
   "metadata": {
    "collapsed": false,
    "scrolled": true
   },
   "outputs": [],
   "source": [
    "rhsECO = rhsECO + rhsECO_switch"
   ]
  },
  {
   "cell_type": "markdown",
   "metadata": {},
   "source": [
    "In the economic system, substitute: \n",
    "1)primitive variables for dependent variables (subs2)\n",
    "2)dependent variables for system variables (subs3)"
   ]
  },
  {
   "cell_type": "code",
   "execution_count": 18,
   "metadata": {
    "collapsed": false,
    "scrolled": true
   },
   "outputs": [],
   "source": [
    "rhsECO = rhsECO.subs(subs1).subs(subs2).subs(subs3).subs(subs4).subs(subs5)"
   ]
  },
  {
   "cell_type": "markdown",
   "metadata": {},
   "source": [
    "In the PBP rhs substitute:\n",
    "dependent variables for system variables"
   ]
  },
  {
   "cell_type": "code",
   "execution_count": 19,
   "metadata": {
    "collapsed": false
   },
   "outputs": [],
   "source": [
    "rhsPBP = rhsPBP.subs(subs1).subs(subs2).subs(subs3).subs(subs4).subs(subs5)"
   ]
  },
  {
   "cell_type": "markdown",
   "metadata": {},
   "source": [
    "Combine dynamic equations of economic and social subsystem:"
   ]
  },
  {
   "cell_type": "code",
   "execution_count": 20,
   "metadata": {
    "collapsed": false
   },
   "outputs": [],
   "source": [
    "rhs = s.Matrix([rhsPBP,rhsECO]).subs(subs1)"
   ]
  },
  {
   "cell_type": "code",
   "execution_count": 22,
   "metadata": {
    "collapsed": false
   },
   "outputs": [],
   "source": [
    "with open('res_raw.pkl', 'wb') as outf:\n",
    "    pkl.dump(rhs, outf)"
   ]
  },
  {
   "cell_type": "code",
   "execution_count": 25,
   "metadata": {
    "collapsed": false
   },
   "outputs": [
    {
     "data": {
      "image/png": "[encoded data removed]",
      "text/latex": [
       "$$- \\delta \\mu^{d}_{c} - \\frac{0.25 \\left(- x + 1\\right)^{2}}{\\tau \\left(x + 1\\right) \\left(- k y + k\\right)} \\left(\\mu^{d}_{c} - \\mu^{d}_{d}\\right) \\left(\\epsilon \\left(- k y + k\\right) + k z \\left(\\epsilon - 1\\right) \\left(\\phi - 1\\right) \\left(\\frac{p^{\\pi} \\left(b_{d} \\left(0.5 \\mu^{d}_{c} \\left(x + 1\\right) + 0.5 \\mu^{d}_{d} \\left(- x + 1\\right)\\right)^{- \\pi + 1.0}\\right)^{\\frac{1.0}{- \\pi + 1}} \\left(\\mu^{d}_{c} - \\mu^{d}_{d}\\right) \\left(- \\pi + 1.0\\right) \\left(- \\frac{b_{R} g_{0}^{2}}{e g^{2}} + 1.0\\right)^{\\frac{1.0}{- \\pi + 1}}}{\\left(0.5 \\mu^{d}_{c} \\left(x + 1\\right) + 0.5 \\mu^{d}_{d} \\left(- x + 1\\right)\\right) \\left(\\left(b_{d} \\left(0.5 \\mu^{d}_{c} \\left(x + 1\\right) + 0.5 \\mu^{d}_{d} \\left(- x + 1\\right)\\right)^{- \\pi + 1.0}\\right)^{\\frac{1.0}{- \\pi + 1}} \\left(- \\frac{b_{R} g_{0}^{2}}{e g^{2}} + 1.0\\right)^{\\frac{1.0}{- \\pi + 1}} + \\left(b_{c} c^{\\xi} \\left(0.5 \\mu^{c}_{c} \\left(x + 1\\right) + 0.5 \\mu^{c}_{d} \\left(- x + 1\\right)\\right)^{- \\pi - \\xi + 1.0}\\right)^{\\frac{1.0}{- \\pi + 1}}\\right)^{\\pi}} + \\frac{p^{\\pi} \\left(b_{c} c^{\\xi} \\left(0.5 \\mu^{c}_{c} \\left(x + 1\\right) + 0.5 \\mu^{c}_{d} \\left(- x + 1\\right)\\right)^{- \\pi - \\xi + 1.0}\\right)^{\\frac{1.0}{- \\pi + 1}} \\left(\\mu^{c}_{c} - \\mu^{c}_{d}\\right) \\left(- \\pi - \\xi + 1.0\\right)}{\\left(0.5 \\mu^{c}_{c} \\left(x + 1\\right) + 0.5 \\mu^{c}_{d} \\left(- x + 1\\right)\\right) \\left(\\left(b_{d} \\left(0.5 \\mu^{d}_{c} \\left(x + 1\\right) + 0.5 \\mu^{d}_{d} \\left(- x + 1\\right)\\right)^{- \\pi + 1.0}\\right)^{\\frac{1.0}{- \\pi + 1}} \\left(- \\frac{b_{R} g_{0}^{2}}{e g^{2}} + 1.0\\right)^{\\frac{1.0}{- \\pi + 1}} + \\left(b_{c} c^{\\xi} \\left(0.5 \\mu^{c}_{c} \\left(x + 1\\right) + 0.5 \\mu^{c}_{d} \\left(- x + 1\\right)\\right)^{- \\pi - \\xi + 1.0}\\right)^{\\frac{1.0}{- \\pi + 1}}\\right)^{\\pi}} + 1\\right)\\right)$$"
      ],
      "text/plain": [
       "                                             ⎛                                \n",
       "                                             ⎜                                \n",
       "                                             ⎜                                \n",
       "                                             ⎜                                \n",
       "                                             ⎜                                \n",
       "                                             ⎜                                \n",
       "                                             ⎜                                \n",
       "                                             ⎜                                \n",
       "                                           2 ⎜                                \n",
       "            0.25⋅(μ_c__d - μ_d__d)⋅(-x + 1) ⋅⎜ε⋅(-k⋅y + k) + k⋅z⋅(ε - 1)⋅(φ - \n",
       "                                             ⎝                                \n",
       "-δ⋅μ_c__d - ──────────────────────────────────────────────────────────────────\n",
       "                                                                              \n",
       "\n",
       "   ⎛                                                                          \n",
       "   ⎜                                                                          \n",
       "   ⎜                                                            1.0           \n",
       "   ⎜                                                           ──────         \n",
       "   ⎜                                                           -π + 1         \n",
       "   ⎜ π ⎛                                              -π + 1.0⎞               \n",
       "   ⎜p ⋅⎝b_d⋅(0.5⋅μ_c__d⋅(x + 1) + 0.5⋅μ_d__d⋅(-x + 1))        ⎠      ⋅(μ_c__d \n",
       "   ⎜                                                                          \n",
       "   ⎜                                                                          \n",
       "1)⋅⎜──────────────────────────────────────────────────────────────────────────\n",
       "   ⎝                                                                          \n",
       "──────────────────────────────────────────────────────────────────────────────\n",
       "                                                                              \n",
       "\n",
       "                                                                              \n",
       "                     ⎛                                                        \n",
       "                     ⎜                                                        \n",
       "                     ⎜                                                        \n",
       "                     ⎜                                                        \n",
       "                     ⎜⎛                                              -π + 1.0⎞\n",
       "- μ_d__d)⋅(-π + 1.0)⋅⎜⎝b_d⋅(0.5⋅μ_c__d⋅(x + 1) + 0.5⋅μ_d__d⋅(-x + 1))        ⎠\n",
       "                     ⎜                                                        \n",
       "                     ⎝                                                        \n",
       "──────────────────────────────────────────────────────────────────────────────\n",
       "                                               0.5⋅μ_c__d⋅(x + 1) + 0.5⋅μ_d__d\n",
       "──────────────────────────────────────────────────────────────────────────────\n",
       "                                                                              \n",
       "\n",
       "                                                                              \n",
       "                         1.0                                                  \n",
       " 1.0                    ──────                                                \n",
       "──────                  -π + 1                                                \n",
       "-π + 1 ⎛        2      ⎞                                                      \n",
       "       ⎜  b_R⋅g₀       ⎟         ⎛     ξ                                      \n",
       "      ⋅⎜- ─────── + 1.0⎟       + ⎝b_c⋅c ⋅(0.5⋅μ_c__c⋅(x + 1) + 0.5⋅μ_d__c⋅(-x \n",
       "       ⎜       2       ⎟                                                      \n",
       "       ⎝    e⋅g        ⎠                                                      \n",
       "──────────────────────────────────────────────────────────────────────────────\n",
       "⋅(-x + 1)                                                                     \n",
       "──────────────────────────────────────────────────────────────────────────────\n",
       "                                                                              \n",
       "\n",
       "                         -π                                                   \n",
       "                        ⎞                     1.0                             \n",
       "                   1.0  ⎟                    ──────                           \n",
       "                  ──────⎟                    -π + 1                           \n",
       "                  -π + 1⎟   ⎛        2      ⎞                                 \n",
       "     -π - ξ + 1.0⎞      ⎟   ⎜  b_R⋅g₀       ⎟          π ⎛     ξ              \n",
       "+ 1))            ⎠      ⎟  ⋅⎜- ─────── + 1.0⎟         p ⋅⎝b_c⋅c ⋅(0.5⋅μ_c__c⋅(\n",
       "                        ⎟   ⎜       2       ⎟                                 \n",
       "                        ⎠   ⎝    e⋅g        ⎠                                 \n",
       "─────────────────────────────────────────────────── + ────────────────────────\n",
       "                                                                              \n",
       "──────────────────────────────────────────────────────────────────────────────\n",
       "    τ⋅(x + 1)⋅(-k⋅y + k)                                                      \n",
       "\n",
       "                                                                              \n",
       "                                                                   ⎛          \n",
       "                                           1.0                     ⎜          \n",
       "                                          ──────                   ⎜          \n",
       "                                          -π + 1                   ⎜          \n",
       "                             -π - ξ + 1.0⎞                         ⎜⎛         \n",
       "x + 1) + 0.5⋅μ_d__c⋅(-x + 1))            ⎠      ⋅(μ_c__c - μ_d__c)⋅⎜⎝b_d⋅(0.5⋅\n",
       "                                                                   ⎜          \n",
       "                                                                   ⎝          \n",
       "──────────────────────────────────────────────────────────────────────────────\n",
       "                                                                              \n",
       "──────────────────────────────────────────────────────────────────────────────\n",
       "                                                                              \n",
       "\n",
       "                                                                              \n",
       "                                                                       1.0    \n",
       "                                               1.0                    ──────  \n",
       "                                              ──────                  -π + 1  \n",
       "                                              -π + 1 ⎛        2      ⎞        \n",
       "                                     -π + 1.0⎞       ⎜  b_R⋅g₀       ⎟        \n",
       "μ_c__d⋅(x + 1) + 0.5⋅μ_d__d⋅(-x + 1))        ⎠      ⋅⎜- ─────── + 1.0⎟       +\n",
       "                                                     ⎜       2       ⎟        \n",
       "                                                     ⎝    e⋅g        ⎠        \n",
       "──────────────────────────────────────────────────────────────────────────────\n",
       "            0.5⋅μ_c__c⋅(x + 1) + 0.5⋅μ_d__c⋅(-x + 1)                          \n",
       "──────────────────────────────────────────────────────────────────────────────\n",
       "                                                                              \n",
       "\n",
       "                                                                       -π     \n",
       "                                                                      ⎞       \n",
       "                                                                 1.0  ⎟       \n",
       "                                                                ──────⎟       \n",
       "                                                                -π + 1⎟       \n",
       " ⎛     ξ                                           -π - ξ + 1.0⎞      ⎟       \n",
       " ⎝b_c⋅c ⋅(0.5⋅μ_c__c⋅(x + 1) + 0.5⋅μ_d__c⋅(-x + 1))            ⎠      ⎟  ⋅(-π \n",
       "                                                                      ⎟       \n",
       "                                                                      ⎠       \n",
       "──────────────────────────────────────────────────────────────────────────────\n",
       "                                                                              \n",
       "──────────────────────────────────────────────────────────────────────────────\n",
       "                                                                              \n",
       "\n",
       "              ⎞⎞\n",
       "              ⎟⎟\n",
       "              ⎟⎟\n",
       "              ⎟⎟\n",
       "              ⎟⎟\n",
       "              ⎟⎟\n",
       "- ξ + 1.0)    ⎟⎟\n",
       "              ⎟⎟\n",
       "              ⎟⎟\n",
       "────────── + 1⎟⎟\n",
       "              ⎠⎠\n",
       "────────────────\n",
       "                "
      ]
     },
     "execution_count": 25,
     "metadata": {},
     "output_type": "execute_result"
    }
   ],
   "source": [
    "rhs[4].subs(N, 1)"
   ]
  },
  {
   "cell_type": "code",
   "execution_count": null,
   "metadata": {
    "collapsed": true
   },
   "outputs": [],
   "source": []
  }
 ],
 "metadata": {
  "kernelspec": {
   "display_name": "Python 2",
   "language": "python",
   "name": "python2"
  },
  "language_info": {
   "codemirror_mode": {
    "name": "ipython",
    "version": 2
   },
   "file_extension": ".py",
   "mimetype": "text/x-python",
   "name": "python",
   "nbconvert_exporter": "python",
   "pygments_lexer": "ipython2",
   "version": "2.7.12"
  }
 },
 "nbformat": 4,
 "nbformat_minor": 0
}
