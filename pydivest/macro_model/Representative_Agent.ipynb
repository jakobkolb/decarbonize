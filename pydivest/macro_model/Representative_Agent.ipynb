{
 "cells": [
  {
   "cell_type": "markdown",
   "metadata": {},
   "source": [
    "## Equations for Moment Closure of Network-based micro-model for divestment of bounded rational households."
   ]
  },
  {
   "cell_type": "markdown",
   "metadata": {},
   "source": [
    "Imports and setup"
   ]
  },
  {
   "cell_type": "code",
   "execution_count": null,
   "metadata": {
    "collapsed": true
   },
   "outputs": [],
   "source": [
    "# Copyright (C) 2016-2018 by Jakob J. Kolb at Potsdam Institute for Climate\n",
    "# Impact Research\n",
    "#\n",
    "# Contact: kolb@pik-potsdam.de\n",
    "# License: GNU AGPL Version 3\n",
    "\n",
    "%matplotlib notebook\n",
    "\n",
    "#import numpy as np\n",
    "import sympy as s\n",
    "import pickle as pkl\n",
    "from sympy.abc import epsilon, phi, tau\n",
    "from IPython.core.display import display, HTML\n",
    "display(HTML(\"<style>.container { width:98% !important; }</style>\"))\n",
    "s.init_printing()\n",
    "import numpy as np\n",
    "import matplotlib.pyplot as plt\n",
    "from assimulo.solvers import IDA\n",
    "from assimulo.problem import Implicit_Problem\n",
    "from scipy.optimize import root"
   ]
  },
  {
   "cell_type": "markdown",
   "metadata": {},
   "source": [
    "Define variables and parameters for the economic subsystem:"
   ]
  },
  {
   "cell_type": "code",
   "execution_count": null,
   "metadata": {
    "collapsed": true
   },
   "outputs": [],
   "source": [
    "# Total labor and labor shares in sectors\n",
    "L, Lc, Ld = s.symbols('L L_c L_d', positive=True, real=True)\n",
    "# Total capital in sectors\n",
    "Kc, Kd = s.symbols('K_c K_d', positive=True, real=True)\n",
    "# Equilibrium wage and capital return rates in sectors\n",
    "w, rc, rd = s.symbols('w r_c r_d', positive=True, real=True)\n",
    "# Resource usage rage, resource stock, knowledge Stock\n",
    "R, G, C = s.symbols('R, G, C', positive=True, real=True)\n",
    "# savings rate, capital depreciaten rate, and elasticities of labor, capital and knowledge\n",
    "rs, delta, pi, kappac, kappad, xi, mu = s.symbols('s delta pi kappa_c, kappa_d xi, mu', positive=True, real=True, integer=True)\n",
    "# solow residuals of clean and dirty sector, prefactor for resource cost, energy efficiency, initial resource stock\n",
    "bc, bd, bR, e, G0 = s.symbols('b_c b_d b_R e G_0', positive=True, real=True)\n",
    "# substitutions for resolution on constraints from market clearing.\n",
    "Xc, Xd, XR = s.symbols('X_c X_d X_R', positive=True, real=True)\n",
    "# and their time derivatives.\n",
    "dXc, dXd, dXR = s.symbols('\\dot{X}_c \\dot{X}_d \\dot{X}_R', real=True)\n",
    "# fraction of savings going into clean sector\n",
    "n = s.symbols('n', positive=True, real=True)\n",
    "# time derivatives\n",
    "dKc, dKd, dC, dG = s.symbols('\\dot{K}_c \\dot{K}_d \\dot{C} \\dot{G}')\n",
    "# implicit condition for n\n",
    "F = s.symbols('F')\n",
    "zero = s.symbols('zo')"
   ]
  },
  {
   "cell_type": "markdown",
   "metadata": {},
   "source": [
    "**Treatment the equations describing economic production and capital accumulation**\n",
    "\n",
    "Substitutute solutions to algebraic constraints of economic system (market clearing for labor and expressions for capital rent and resource flow)"
   ]
  },
  {
   "cell_type": "code",
   "execution_count": null,
   "metadata": {
    "collapsed": true
   },
   "outputs": [],
   "source": [
    "# These are double checked\n",
    "subs2 = {w: pi * L**(pi-1.) * (Xc + Xd*XR)**(1.-pi),\n",
    "        rc: kappac/Kc*Xc*L**pi*(Xc + Xd*XR)**(-pi),\n",
    "        rd: kappad/Kd*Xd*XR*L**pi*(Xc + Xd*XR)**(-pi),\n",
    "        R:  bd/e*Kd**kappad*L**pi*(Xd*XR/(Xc + Xd*XR))**pi,\n",
    "        Lc: L*Xc/(Xc + Xd*XR),\n",
    "        Ld: L*Xd*XR/(Xc + Xd*XR)}"
   ]
  },
  {
   "cell_type": "code",
   "execution_count": null,
   "metadata": {
    "collapsed": true
   },
   "outputs": [],
   "source": [
    "# These are double checked\n",
    "subs3 = {Xc: (bc*Kc**kappac * C**xi)**(1./(1.-pi)),\n",
    "         Xd: (bd*Kd**kappad)**(1./(1.-pi)),\n",
    "         XR: (1.-bR/e*(G0/G)**mu)**(1./(1.-pi))}\n",
    "# Those too\n",
    "subs4 = {dXc: (1./(1.-pi))*(bc*Kc**kappac * C**xi)**(pi/(1.-pi))*bc*(kappac*Kc**(kappac-1)*dKc*C**xi + Kc**kappac*xi*C**(xi-1)*dC),\n",
    "         dXd: (1./(1.-pi))*(bd*Kd**kappad)**(pi/(1.-pi))*bd*kappad*Kd**(kappad-1)*dKd,\n",
    "         dXR: (1./(1.-pi))*(1.-bR/e*(G0/G)**mu)**(pi/(1.-pi))*(mu*bR/e*(G0**mu/G**(mu+1))*dG)}"
   ]
  },
  {
   "cell_type": "markdown",
   "metadata": {},
   "source": [
    "Dynamic equations for the economic variables depending on n, the fraction of savings going into the clean sector"
   ]
  },
  {
   "cell_type": "code",
   "execution_count": null,
   "metadata": {
    "collapsed": true
   },
   "outputs": [],
   "source": [
    "subs5 = {dKc: n*rs*(rc*Kc + rd*Kd + w*L) - delta*Kc,\n",
    "         dKd: - delta*Kd + (1-n)*rs*(rc*Kc + rd*Kd + w*L),\n",
    "         dC: bc*Lc**pi*Kc**kappac * C**xi - delta*C,\n",
    "         dG: -R}"
   ]
  },
  {
   "cell_type": "markdown",
   "metadata": {},
   "source": [
    "We want returns to capital to be equal in the clean and the dirty sector. This means, that for the initial conditions the returns and their derivatives with respect to time have to be equal. Then, for the integration, it is suficient to keep the condition for the time derivatives of the returns. \n",
    "This defines implicit condition for n, the fraction of savings invested in the clean sector."
   ]
  },
  {
   "cell_type": "code",
   "execution_count": null,
   "metadata": {
    "collapsed": true
   },
   "outputs": [],
   "source": [
    "raw_rdiff = (rc - rd).subs(subs2)\n",
    "rdiff = raw_rdiff.subs(subs3)\n",
    "raw_drdiff = L**pi*(-pi)*(Xc + Xd*XR)**(-pi-1)*(dXc + dXd*XR+ Xd*dXR)*(kappac/Kc*Xc - kappad/Kd*Xd*XR) + L**pi*(Xc + Xd*XR)**(-pi)*(kappac*(dXc*Kc - Xc*dKc)/(Kc**2.) - kappad*((dXd*XR + Xd*dXR)*Kd - Xd*XR*dKd)/(Kd**2.))\n",
    "drdiff = raw_drdiff.subs(subs4).subs(subs5).subs(subs2).subs(subs3)"
   ]
  },
  {
   "cell_type": "markdown",
   "metadata": {},
   "source": [
    "To double check: the difference of capital returns:"
   ]
  },
  {
   "cell_type": "code",
   "execution_count": null,
   "metadata": {
    "collapsed": true
   },
   "outputs": [],
   "source": [
    "s.simplify(raw_rdiff)"
   ]
  },
  {
   "cell_type": "markdown",
   "metadata": {},
   "source": [
    "And the time derivative of the difference of capital returns"
   ]
  },
  {
   "cell_type": "code",
   "execution_count": null,
   "metadata": {
    "collapsed": true
   },
   "outputs": [],
   "source": [
    "raw_drdiff"
   ]
  },
  {
   "cell_type": "markdown",
   "metadata": {},
   "source": [
    "List of dynamic variables and the right hand side of their dynamic equations as well as a list of indicators of whether these equations are explicit of implicit"
   ]
  },
  {
   "cell_type": "code",
   "execution_count": null,
   "metadata": {
    "collapsed": true
   },
   "outputs": [],
   "source": [
    "var_symbols = [Kc, Kd, G, C, n]\n",
    "\n",
    "rhs_1 = s.Matrix([dKc, dKd, dG, dC, drdiff]).subs(subs5).subs(subs2).subs(subs3)\n",
    "rhs_2 = s.Matrix([dKc, dKd, dG, dC, n - 1]).subs(subs5).subs(subs2).subs(subs3)\n",
    "\n",
    "eq_implicit = [False, False, False, False, True]"
   ]
  },
  {
   "cell_type": "markdown",
   "metadata": {},
   "source": [
    "Values for parameters"
   ]
  },
  {
   "cell_type": "code",
   "execution_count": null,
   "metadata": {
    "collapsed": true
   },
   "outputs": [],
   "source": [
    "param_symbols = [bc, bd, bR, e, rs, delta, pi, kappac, kappad, xi, mu, G0, L]\n",
    "param_values = [1., 1.5, 1., 5., 0.25, 0.06, 0.5, 0.5-1./8., 0.5, 1./8., 1., 3000., 100.]\n",
    "subs_params = {symbol: value for symbol, value in zip(param_symbols, param_values)}\n",
    "\n",
    "rhs_1 = rhs_1.subs(subs_params)\n",
    "rhs_2 = rhs_2.subs(subs_params)\n",
    "rdiff = rdiff.subs(subs_params)\n",
    "drdiff = drdiff.subs(subs_params)"
   ]
  },
  {
   "cell_type": "code",
   "execution_count": null,
   "metadata": {
    "collapsed": true
   },
   "outputs": [],
   "source": [
    "dependent_vars = {'w': w, 'rc': rc, 'rd': rd, 'R': R, 'Lc': Lc, 'Ld': Ld}\n",
    "for key in dependent_vars.keys():\n",
    "    dependent_vars[key] = dependent_vars[key].subs(subs2).subs(subs3).subs(subs_params)\n",
    "dependent_vars"
   ]
  },
  {
   "cell_type": "code",
   "execution_count": null,
   "metadata": {
    "collapsed": true
   },
   "outputs": [],
   "source": [
    "s.simplify(drdiff.subs({var: val for var, val in zip([Kc, Kd, C, G], [1, 1, 1, 1])}))"
   ]
  },
  {
   "cell_type": "code",
   "execution_count": null,
   "metadata": {
    "collapsed": true
   },
   "outputs": [],
   "source": [
    "def prep_rhs(t, Y, Yd, sw):\n",
    "    \n",
    "    var_symbols = [Kc, Kd, G, C, n]\n",
    "    sbs = {var: val for (var, val) in zip(var_symbols, Y)}\n",
    "    if sw[0] or sw[2]:\n",
    "        rval = rhs_1.subs(sbs)\n",
    "    else:\n",
    "        rval = rhs_2.subs(sbs)\n",
    "        \n",
    "    for i in [0, 1, 2, 3]:\n",
    "        rval[i] = Yd[i] - s.simplify(rval[i])\n",
    "    rval = np.array([float(x) for x in rval.evalf()])\n",
    "    print(t)\n",
    "    return rval\n",
    "\n",
    "def state_events(t, Y, Yd, sw):\n",
    "    \n",
    "    var_symbols = [Kc, Kd, G, C, n]\n",
    "    sbs = {var: val for (var, val) in zip(var_symbols, Y)}\n",
    "    \n",
    "    event_1 = Y[-1]-1\n",
    "    event_2 = Y[0]#float(rdiff.subs(sbs).evalf())\n",
    "    \n",
    "    # print('events', event_1, event_2, sw)\n",
    "    return np.array([event_1, event_2, 0])\n",
    "\n",
    "def handle_event(solver, event_info):\n",
    "    if event_info[0] != 0:\n",
    "        solver.sw[0] = False\n",
    "        solver.sw[1] = True\n",
    "        subs_ini = {symbol: value for symbol, value in zip(var_symbols, solver.y)}\n",
    "        solver.yd = np.array([float(x) for x in list(rhs_2.subs(subs_ini).evalf())])\n",
    "        print('first event, n reaching 1')\n",
    "        print(solver.y)\n",
    "        print(solver.yd)\n",
    "        solver.re_init(solver.t, solver.y, solver.yd, sw0=solver.sw)\n",
    "    elif event_info[1] != 0:\n",
    "        solver.sw[1] = False\n",
    "        solver.sw[2] = True\n",
    "    pass\n",
    "\n"
   ]
  },
  {
   "cell_type": "markdown",
   "metadata": {},
   "source": [
    "Define sane initial conditions, that solve the residue function (as Frank called it).\n",
    "This means in my case, that rc-rd as well as d/dt (rc-rd) have to be zero."
   ]
  },
  {
   "cell_type": "code",
   "execution_count": null,
   "metadata": {
    "collapsed": true
   },
   "outputs": [],
   "source": [
    "# define initial values for Kc, Kd, C and G\n",
    "Y0 = [1., 1000., 3000.]\n",
    "sym = [Kc, Kd, G]\n",
    "subs_ini = {symbol: value for symbol, value in zip(sym, Y0)}\n",
    "\n",
    "sbi0 = subs_ini.copy()\n",
    "\n",
    "F_ini_1 = s.simplify(rdiff.subs(subs_ini))\n",
    "fun1 = lambda x: F_ini_1.subs({C: x}).evalf()\n",
    "r1 = root(fun1, 1)\n",
    "subs_ini[C] = r1.x[0]\n",
    "\n",
    "sbi1 = subs_ini.copy()\n",
    "\n",
    "F_ini_2 = s.simplify(drdiff.subs(subs_ini))\n",
    "fun2 = lambda x: F_ini_2.subs({n: x}).evalf()\n",
    "r2 = root(fun2, .5)\n",
    "subs_ini[n] = r2.x[0]\n",
    "\n",
    "sbi2 = subs_ini.copy()\n",
    "\n",
    "Y0 = np.array([subs_ini[var] for var in var_symbols])\n",
    "Yd0 = np.array(list(rhs_1.subs(subs_ini)))\n",
    "t0 = 0\n",
    "sw0 = [True, False, False]\n",
    "print([rdiff.subs(subs_ini), drdiff.subs(subs_ini)])\n",
    "print(subs_ini)\n",
    "print(rc.subs(subs2).subs(subs3).subs(subs_params).subs(subs_ini), rd.subs(subs2).subs(subs3).subs(subs_params).subs(subs_ini))\n",
    "s.simplify(rdiff.subs(sbi0)), s.simplify(drdiff.subs(sbi1))"
   ]
  },
  {
   "cell_type": "markdown",
   "metadata": {},
   "source": [
    "Define the problem for assimulo and run the simulation"
   ]
  },
  {
   "cell_type": "code",
   "execution_count": null,
   "metadata": {
    "collapsed": true
   },
   "outputs": [],
   "source": [
    "mod = Implicit_Problem(prep_rhs, Y0, Yd0, t0, sw0=sw0)\n",
    "mod.algvar = eq_implicit\n",
    "mod.state_events = state_events\n",
    "mod.handle_event = handle_event\n",
    "sim = IDA(mod)\n",
    "sim.rtol = 1.e-8        #Sets the relative tolerance\n",
    "sim.atol = 1.e-6        #Sets the absolute tolerance\n",
    "t, Y, Yd = sim.simulate(40)"
   ]
  },
  {
   "cell_type": "markdown",
   "metadata": {},
   "source": [
    "Plot the results"
   ]
  },
  {
   "cell_type": "code",
   "execution_count": null,
   "metadata": {
    "collapsed": true
   },
   "outputs": [],
   "source": [
    "fig, axes = plt.subplots()\n",
    "for i, lab in enumerate(['Kc', 'Kd', 'G', 'C', 'n']):\n",
    "    axes.plot(t,Y[:,i],label=lab)\n",
    "plt.legend()"
   ]
  },
  {
   "cell_type": "code",
   "execution_count": null,
   "metadata": {
    "collapsed": true
   },
   "outputs": [],
   "source": [
    "fig, axes = plt.subplots()\n",
    "i = 0\n",
    "axes.plot(t[i:],Y[i:,4],label='n')\n",
    "plt.legend()"
   ]
  },
  {
   "cell_type": "markdown",
   "metadata": {},
   "source": [
    "So, apparently, the representative agent is unable to satisfy the optimality condition if n is between zero and one and solves this problem by sneakily reallocating capital from the dirty to the clean sector. This is bad behavior. I command it not to do this! Therefore, I will have to define the problem in pieces."
   ]
  },
  {
   "cell_type": "code",
   "execution_count": null,
   "metadata": {
    "collapsed": true
   },
   "outputs": [],
   "source": [
    "N = len(t)\n",
    "rvalues = np.zeros((N,3))\n",
    "rceq = rc.subs(subs2).subs(subs3).subs(subs_params)\n",
    "rdeq = rd.subs(subs2).subs(subs3).subs(subs_params)\n",
    "\n",
    "for i in range(N):\n",
    "    sbs = {var: val for (var, val) in zip(var_symbols, Y[i,:])}\n",
    "    rvalues[i,:] = (rceq.subs(sbs).evalf(), rdeq.subs(sbs).evalf(), Y[i,4])\n",
    "\n",
    "fig, ax = plt.subplots()\n",
    "ax.plot(t, rvalues)\n",
    "\n",
    "rceq, rdeq"
   ]
  },
  {
   "cell_type": "code",
   "execution_count": null,
   "metadata": {
    "collapsed": true
   },
   "outputs": [],
   "source": []
  }
 ],
 "metadata": {
  "kernelspec": {
   "display_name": "Python [conda env:divest]",
   "language": "python",
   "name": "conda-env-divest-py"
  },
  "language_info": {
   "codemirror_mode": {
    "name": "ipython",
    "version": 3
   },
   "file_extension": ".py",
   "mimetype": "text/x-python",
   "name": "python",
   "nbconvert_exporter": "python",
   "pygments_lexer": "ipython3",
   "version": "3.6.0"
  }
 },
 "nbformat": 4,
 "nbformat_minor": 1
}
