{
 "cells": [
  {
   "cell_type": "markdown",
   "metadata": {},
   "source": [
    "# Parameter scan / Bifurcation analysis P4"
   ]
  },
  {
   "cell_type": "code",
   "execution_count": 1,
   "metadata": {
    "collapsed": true
   },
   "outputs": [],
   "source": [
    "import pandas as pd\n",
    "import seaborn as sbn\n",
    "%matplotlib inline"
   ]
  },
  {
   "cell_type": "code",
   "execution_count": 2,
   "metadata": {
    "collapsed": true
   },
   "outputs": [],
   "source": [
    "macro_path = '/home/jakob/Project_Divestment/PyDivestment/output_data/P4/aggregate/mean.h5'\n",
    "with pd.HDFStore(macro_path) as store:\n",
    "    macro_data = store.select('dat', 'approximate=2 & test=False & sample=0 & tstep=199.')"
   ]
  },
  {
   "cell_type": "code",
   "execution_count": null,
   "metadata": {
    "collapsed": true
   },
   "outputs": [],
   "source": [
    "macro_data.index = macro_data.index.droplevel(['approximate', 'test', 'sample', 'tstep'])"
   ]
  },
  {
   "cell_type": "code",
   "execution_count": null,
   "metadata": {
    "collapsed": true
   },
   "outputs": [],
   "source": [
    "dt = macro_data['g']"
   ]
  },
  {
   "cell_type": "code",
   "execution_count": null,
   "metadata": {
    "collapsed": true
   },
   "outputs": [],
   "source": [
    "filenames = []\n",
    "for b_R in dt.index.levels[1]:\n",
    "    dt_tmp=dt.xs(level='b_R',key=b_R).unstack('b_d')\n",
    "    subplot = sbn.heatmap(dt_tmp)\n",
    "    fig = subplot.get_figure()\n",
    "    title = f'remaining_resource_for_b_R={b_R:.2f}'\n",
    "    subplot.set_title(title)\n",
    "    fig.savefig(title+'.png')\n",
    "    filenames.append(title+'.png')\n",
    "    fig.clear()"
   ]
  },
  {
   "cell_type": "code",
   "execution_count": null,
   "metadata": {
    "collapsed": true
   },
   "outputs": [],
   "source": [
    "import imageio\n",
    "images = []\n",
    "for filename in filenames:\n",
    "    images.append(imageio.imread(filename))\n",
    "imageio.mimsave('final_resource.gif', images)"
   ]
  },
  {
   "cell_type": "code",
   "execution_count": null,
   "metadata": {
    "collapsed": true
   },
   "outputs": [],
   "source": [
    "with pd.HDFStore(macro_path) as store:\n",
    "    macro_trajectories = store.select('dat', 'approximate=2 & test=False & sample=0 & xi=0.05 & b_R=0.1 & b_d=3.')\n",
    "macro_trajectories.index = macro_trajectories.index.droplevel(['approximate', 'test', 'sample', 'xi', 'b_R', 'b_d'])"
   ]
  },
  {
   "cell_type": "code",
   "execution_count": null,
   "metadata": {
    "collapsed": true
   },
   "outputs": [],
   "source": [
    "macro_trajectories['g'].plot()"
   ]
  },
  {
   "cell_type": "code",
   "execution_count": null,
   "metadata": {
    "collapsed": true
   },
   "outputs": [],
   "source": []
  }
 ],
 "metadata": {
  "kernelspec": {
   "display_name": "Python [conda env:py36]",
   "language": "python",
   "name": "conda-env-py36-py"
  },
  "language_info": {
   "codemirror_mode": {
    "name": "ipython",
    "version": 3
   },
   "file_extension": ".py",
   "mimetype": "text/x-python",
   "name": "python",
   "nbconvert_exporter": "python",
   "pygments_lexer": "ipython3",
   "version": "3.6.0"
  }
 },
 "nbformat": 4,
 "nbformat_minor": 2
}
