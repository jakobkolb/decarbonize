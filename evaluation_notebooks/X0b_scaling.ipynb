{
 "cells": [
  {
   "cell_type": "code",
   "execution_count": null,
   "metadata": {},
   "outputs": [],
   "source": [
    "%matplotlib notebook\n",
    "import matplotlib.pyplot as plt\n",
    "import pandas as pd\n",
    "import numpy as np\n",
    "from scipy.interpolate import interp1d"
   ]
  },
  {
   "cell_type": "code",
   "execution_count": null,
   "metadata": {},
   "outputs": [],
   "source": [
    "data_path = '../output_data/X0b_ffh.h5'\n",
    "\n",
    "with pd.HDFStore(data_path) as store:\n",
    "    data = store.select('dat_1')\n",
    "    \n",
    "data.index = data.index.droplevel(['ffh', 'test', 'sample', 'i'])"
   ]
  },
  {
   "cell_type": "code",
   "execution_count": null,
   "metadata": {},
   "outputs": [],
   "source": [
    "data"
   ]
  },
  {
   "cell_type": "code",
   "execution_count": null,
   "metadata": {},
   "outputs": [],
   "source": [
    "fig, ax = plt.subplots(figsize=(3.5,3.5))\n",
    "data['runtime'].plot(ax=ax, style=['.'])\n",
    "ax.set_ylabel('runtime in sec.')\n",
    "ax.set_xlabel('number of households')\n",
    "fig.tight_layout()\n",
    "fig.savefig('runtime.pdf')"
   ]
  },
  {
   "cell_type": "code",
   "execution_count": null,
   "metadata": {},
   "outputs": [],
   "source": [
    "itp = interp1d(x=np.log(data.index.values), y=np.log(data['runtime'].values), fill_value='extrapolate')"
   ]
  },
  {
   "cell_type": "code",
   "execution_count": null,
   "metadata": {},
   "outputs": [],
   "source": [
    "ns = np.arange(1, 10, 1)\n",
    "fig, ax = plt.subplots()\n",
    "ax.plot(ns, itp(ns), '.')"
   ]
  },
  {
   "cell_type": "code",
   "execution_count": null,
   "metadata": {},
   "outputs": [],
   "source": [
    "data_path = '../output_data/X0b_ffh/std_trj.h5'\n",
    "\n",
    "with pd.HDFStore(data_path) as store:\n",
    "    data = store.select('dat_0')\n",
    "data.index = data.index.droplevel(['ffh', 'test', 'sample'])\n",
    "data.head()"
   ]
  },
  {
   "cell_type": "code",
   "execution_count": null,
   "metadata": {},
   "outputs": [],
   "source": [
    "fig, ax = plt.subplots()\n",
    "tmp = data[['C']]\n",
    "tmp = tmp.unstack(['N'])\n",
    "tmp.columns = tmp.columns.droplevel()\n",
    "tmp.sum(axis=0).plot()"
   ]
  },
  {
   "cell_type": "code",
   "execution_count": null,
   "metadata": {},
   "outputs": [],
   "source": [
    "tmp.sum(axis=0).plot()"
   ]
  },
  {
   "cell_type": "code",
   "execution_count": null,
   "metadata": {},
   "outputs": [],
   "source": []
  }
 ],
 "metadata": {
  "kernelspec": {
   "display_name": "Python [conda env:py36]",
   "language": "python",
   "name": "conda-env-py36-py"
  },
  "language_info": {
   "codemirror_mode": {
    "name": "ipython",
    "version": 3
   },
   "file_extension": ".py",
   "mimetype": "text/x-python",
   "name": "python",
   "nbconvert_exporter": "python",
   "pygments_lexer": "ipython3",
   "version": "3.6.4"
  }
 },
 "nbformat": 4,
 "nbformat_minor": 2
}
