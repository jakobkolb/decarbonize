{
 "cells": [
  {
   "cell_type": "markdown",
   "metadata": {},
   "source": [
    "## Equations for Moment Closure of Network-based micro-model for divestment of bounded rational households."
   ]
  },
  {
   "cell_type": "markdown",
   "metadata": {},
   "source": [
    "Imports and setup"
   ]
  },
  {
   "cell_type": "code",
   "execution_count": 67,
   "metadata": {},
   "outputs": [
    {
     "data": {
      "text/html": [
       "<style>.container { width:98% !important; }</style>"
      ],
      "text/plain": [
       "<IPython.core.display.HTML object>"
      ]
     },
     "metadata": {},
     "output_type": "execute_result"
    }
   ],
   "source": [
    "import sympy as s\n",
    "import pickle as pkl\n",
    "from sympy.abc import epsilon, phi, tau\n",
    "from IPython.core.display import display, HTML\n",
    "display(HTML(\"<style>.container { width:98% !important; }</style>\"))\n",
    "s.init_printing()"
   ]
  },
  {
   "cell_type": "markdown",
   "metadata": {},
   "source": [
    "Define variables and parameters for the adaptive voter model"
   ]
  },
  {
   "cell_type": "code",
   "execution_count": 68,
   "metadata": {},
   "outputs": [],
   "source": [
    "# number of nodes\n",
    "N = s.Symbol('N', integer=True)\n",
    "# number of dirty nodes\n",
    "Nd = s.Symbol('N_d', integer=True)\n",
    "# number of clean nodes\n",
    "Nc = s.Symbol('N_c', integer=True)\n",
    "# number of edges\n",
    "K = s.Symbol('K', integer=True)\n",
    "# number of clean edges\n",
    "cc = s.Symbol('[cc]', integer=True)\n",
    "# number of dirty edges\n",
    "dd = s.Symbol('[dd]', integer=True)\n",
    "# number of mixed edges\n",
    "cd = s.Symbol('[cd]', integer=True)\n",
    "# average number of neighbors of clean nodes\n",
    "kc = s.Symbol('k_c', integer=True)\n",
    "# average number of neighbors of dirty nodes\n",
    "kd = s.Symbol('k_d', integer=True)\n",
    "# Nc - Nd\n",
    "X = s.Symbol('X', real=True)\n",
    "# cc - dd\n",
    "Y = s.Symbol('Y', real=True)\n",
    "# cd\n",
    "Z = s.Symbol('Z', real=True, positive=True)\n",
    "# wealth of dirty node\n",
    "Wd = s.Symbol('W_d')\n",
    "# wealth of clean node\n",
    "Wc = s.Symbol('W_c')\n"
   ]
  },
  {
   "cell_type": "markdown",
   "metadata": {},
   "source": [
    "Define variables and parameters for the economic subsystem:"
   ]
  },
  {
   "cell_type": "code",
   "execution_count": 69,
   "metadata": {},
   "outputs": [],
   "source": [
    "P, Pc, Pd = s.symbols('P P_c P_d', positive=True, real=True)\n",
    "Kc, Kd = s.symbols('K_c K_d', positive=True, real=True)\n",
    "w, rc, rd = s.symbols('w r_c r_d', positive=True, real=True)\n",
    "R, G, C = s.symbols('R, G, C', positive=True, real=True)\n",
    "mucc, mucd, mudc, mudd = s.symbols('mu_c^c mu_c^d mu_d^c mu_d^d', positive=True, real=True)\n",
    "rs, delta, pi, kappac, kappad, xi = s.symbols('s delta pi kappa_c, kappa_d xi', positive=True, rational=True, real=True)\n",
    "bc, bd, bR, e, G0 = s.symbols('b_c b_d b_R e G_0', positive=True, real=True)\n",
    "Xc, Xd, XR = s.symbols('X_c X_d X_R', positive=True, real=True)"
   ]
  },
  {
   "cell_type": "markdown",
   "metadata": {},
   "source": [
    "Defination of relations between variables and calculation of substitution of *primitive variables* by *state variables* of the system"
   ]
  },
  {
   "cell_type": "code",
   "execution_count": 70,
   "metadata": {},
   "outputs": [
    {
     "data": {
      "image/png": "[encoded data removed]",
      "text/plain": [
       "⎧     N   X       N   X        K   Y   Z                 K   Y   Z       2⋅(K \n",
       "⎨N_c: ─ + ─, N_d: ─ - ─, [cc]: ─ + ─ - ─, [cd]: Z, [dd]: ─ - ─ - ─, k_c: ─────\n",
       "⎩     2   2       2   2        2   2   2                 2   2   2         N +\n",
       "\n",
       "+ Y)       2⋅(K - Y)                                                          \n",
       "────, k_d: ─────────, tanh(-W_c + W_d): r_c⋅(-μ_c__c + μ_d__c) + r_d⋅(-μ_c__d \n",
       " X           N - X                                                            \n",
       "\n",
       "                                                                         ⎫\n",
       "+ μ_d__d), tanh(W_c - W_d): r_c⋅(μ_c__c - μ_d__c) + r_d⋅(μ_c__d - μ_d__d)⎬\n",
       "                                                                         ⎭"
      ]
     },
     "execution_count": 70,
     "metadata": {},
     "output_type": "execute_result"
    }
   ],
   "source": [
    "eqs = [\n",
    "    Nd+Nc-N,\n",
    "    cc+dd+cd-K,\n",
    "    X-Nc+Nd,\n",
    "    Y-cc+dd,\n",
    "    Z-cd,\n",
    "    kc-(2*cc+cd)/Nc,\n",
    "    kd-(2*dd+cd)/Nd\n",
    "]\n",
    "vars1 = (Nc, Nd, cc, dd, cd, kc, kd)\n",
    "vars2 = (N, K, X, Y, Z)\n",
    "subs1 = s.solve(eqs, vars1, dict=True)[0]\n",
    "\n",
    "# define expected wealth as expected income\n",
    "subs1[s.tanh(Wd-Wc)] = rc*(mudc-mucc) + rd*(mudd-mucd)\n",
    "subs1[s.tanh(Wc-Wd)] = rc*(mucc-mudc) + rd*(mucd-mudd)\n",
    "subs1"
   ]
  },
  {
   "cell_type": "markdown",
   "metadata": {},
   "source": [
    "Effect of events on state vector S = (X, Y, Z)"
   ]
  },
  {
   "cell_type": "code",
   "execution_count": 71,
   "metadata": {},
   "outputs": [],
   "source": [
    "# regular adaptive voter events\n",
    "s1 = s.Matrix([ 0, 1, -1]) # clean investor rewires\n",
    "s2 = s.Matrix([ 0,-1, -1]) # dirty investor rewires\n",
    "s3 = s.Matrix([-2,-kc,-1 + (1-1./kc)*((2*cc-cd)/Nc)]) # clean investor imitates c -> d\n",
    "s4 = s.Matrix([ 2, kd,-1 + (1-1./kd)*((2*dd-cd)/Nd)]) # dirty investor imitates d -> c\n",
    "\n",
    "# noise events\n",
    "\n",
    "s5 = s.Matrix([-2,-(2*cc+cd)/Nc,(2*cc-cd)/Nc]) # c -> d\n",
    "s6 = s.Matrix([ 2, (2*dd+cd)/Nd,(2*dd-cd)/Nd]) # d -> c\n",
    "s7 = s.Matrix([ 0,-1, 1]) # c-c -> c-d\n",
    "s8 = s.Matrix([ 0, 1,-1]) # c-d -> c-c\n",
    "s9 = s.Matrix([ 0, 1, 1]) # d-d -> d-c\n",
    "s10= s.Matrix([ 0,-1,-1]) # d-c -> d-d"
   ]
  },
  {
   "cell_type": "markdown",
   "metadata": {},
   "source": [
    "Probabilities for events to occur:"
   ]
  },
  {
   "cell_type": "code",
   "execution_count": 72,
   "metadata": {},
   "outputs": [],
   "source": [
    "p1 = (1-epsilon)*(Nc/N)*cd/(Nc * kc)*phi # clean investor rewires\n",
    "p2 = (1-epsilon)*(Nd/N)*cd/(Nd * kd)*phi # dirty investor rewires\n",
    "p3 = (1-epsilon)*(Nc/N)*cd/(Nc * kc)*(1-phi)*(1./2)*(s.tanh(Wd-Wc)+1) # clean investor imitates c -> d\n",
    "p4 = (1-epsilon)*(Nd/N)*cd/(Nd * kd)*(1-phi)*(1./2)*(s.tanh(Wc-Wd)+1) # dirty investor imitates d -> c\n",
    "p5 = epsilon * (1 - phi) * (1./2) * Nc/N # c -> d\n",
    "p6 = epsilon * (1 - phi) * (1./2) * Nd/N # d -> c\n",
    "p7 = epsilon * phi * Nc/N * (2*cc)/(2*cc+cd) * Nd/N # c-c -> c-d\n",
    "p8 = epsilon * phi * Nc/N * (cd)/(2*cc+cd) * Nc/N   # c-d -> c-c\n",
    "p9 = epsilon * phi * Nd/N * (2*dd)/(2*dd+cd) * Nc/N # d-d -> d-c\n",
    "p10= epsilon * phi * Nd/N * (cd)/(2*dd+cd) * Nd/N   # d-c -> d-d"
   ]
  },
  {
   "cell_type": "markdown",
   "metadata": {},
   "source": [
    "Create S and r matrices to write down rhs markov jump process for pair based proxy:"
   ]
  },
  {
   "cell_type": "code",
   "execution_count": 73,
   "metadata": {},
   "outputs": [],
   "source": [
    "S = s.Matrix(s1)\n",
    "for i, si in enumerate([s2, s3, s4, s5, s6, s7, s8, s9, s10]):\n",
    "    S = S.col_insert(i+1, si)\n",
    "\n",
    "r = s.Matrix([p1])\n",
    "for j, pj in enumerate([s.Matrix([p]) for p in[p2, p3, p4, p5, p6, p7, p8, p9, p10]]):\n",
    "    r = r.col_insert(j+1, pj)"
   ]
  },
  {
   "cell_type": "code",
   "execution_count": 74,
   "metadata": {},
   "outputs": [
    {
     "data": {
      "text/latex": [
       "$$\\left[\\begin{matrix}- \\frac{1.0 \\epsilon}{N} N_{c} + \\frac{1.0 \\epsilon}{N} N_{d} + \\frac{1.0 [cd]}{N k_{d}} \\left(- \\epsilon + 1\\right) \\left(- \\phi + 1\\right) \\left(\\tanh{\\left (W_{c} - W_{d} \\right )} + 1\\right) - \\frac{1.0 [cd]}{N k_{c}} \\left(- \\epsilon + 1\\right) \\left(- \\phi + 1\\right) \\left(\\tanh{\\left (- W_{c} + W_{d} \\right )} + 1\\right)\\\\- \\frac{0.5 [cd]}{N} \\left(- \\epsilon + 1\\right) \\left(- \\phi + 1\\right) \\left(\\tanh{\\left (- W_{c} + W_{d} \\right )} + 1\\right) + \\frac{0.5 [cd]}{N} \\left(- \\epsilon + 1\\right) \\left(- \\phi + 1\\right) \\left(\\tanh{\\left (W_{c} - W_{d} \\right )} + 1\\right) - \\frac{[cd] \\phi}{N k_{d}} \\left(- \\epsilon + 1\\right) + \\frac{[cd] \\phi}{N k_{c}} \\left(- \\epsilon + 1\\right) + \\frac{0.5 \\epsilon}{N} \\left(- 2 [cc] - [cd]\\right) + \\frac{0.5 \\epsilon}{N} \\left([cd] + 2 [dd]\\right) + \\frac{N_{c}^{2} [cd] \\epsilon}{N^{2} \\left(2 [cc] + [cd]\\right)} - \\frac{2 N_{c} N_{d} [cc] \\epsilon}{N^{2} \\left(2 [cc] + [cd]\\right)} + \\frac{2 N_{c} N_{d} [dd] \\epsilon}{N^{2} \\left([cd] + 2 [dd]\\right)} - \\frac{N_{d}^{2} [cd] \\epsilon}{N^{2} \\left([cd] + 2 [dd]\\right)}\\\\- \\frac{[cd] \\phi}{N k_{d}} \\left(- \\epsilon + 1\\right) + \\frac{0.5 [cd]}{N k_{d}} \\left(-1 + \\frac{1}{N_{d}} \\left(1 - \\frac{1.0}{k_{d}}\\right) \\left(- [cd] + 2 [dd]\\right)\\right) \\left(- \\epsilon + 1\\right) \\left(- \\phi + 1\\right) \\left(\\tanh{\\left (W_{c} - W_{d} \\right )} + 1\\right) - \\frac{[cd] \\phi}{N k_{c}} \\left(- \\epsilon + 1\\right) + \\frac{0.5 [cd]}{N k_{c}} \\left(-1 + \\frac{1}{N_{c}} \\left(1 - \\frac{1.0}{k_{c}}\\right) \\left(2 [cc] - [cd]\\right)\\right) \\left(- \\epsilon + 1\\right) \\left(- \\phi + 1\\right) \\left(\\tanh{\\left (- W_{c} + W_{d} \\right )} + 1\\right) + \\frac{0.5 \\epsilon}{N} \\left(2 [cc] - [cd]\\right) + \\frac{0.5 \\epsilon}{N} \\left(- [cd] + 2 [dd]\\right) - \\frac{N_{c}^{2} [cd] \\epsilon}{N^{2} \\left(2 [cc] + [cd]\\right)} + \\frac{2 N_{c} N_{d} [cc] \\epsilon}{N^{2} \\left(2 [cc] + [cd]\\right)} + \\frac{2 N_{c} N_{d} [dd] \\epsilon}{N^{2} \\left([cd] + 2 [dd]\\right)} - \\frac{N_{d}^{2} [cd] \\epsilon}{N^{2} \\left([cd] + 2 [dd]\\right)}\\end{matrix}\\right]$$"
      ],
      "text/plain": [
       "⎡                                                                             \n",
       "⎢                                                                             \n",
       "⎢                                                                             \n",
       "⎢                                                                             \n",
       "⎢                                                                             \n",
       "⎢                                   0.5⋅[cd]⋅(-ε + 1)⋅(-φ + 1)⋅(tanh(-W_c + W_\n",
       "⎢                                 - ──────────────────────────────────────────\n",
       "⎢                                                           N                 \n",
       "⎢                                                                             \n",
       "⎢                                                                             \n",
       "⎢                             ⎛     ⎛    1.0⎞                 ⎞               \n",
       "⎢                             ⎜     ⎜1 - ───⎟⋅(-[cd] + 2⋅[dd])⎟               \n",
       "⎢                             ⎜     ⎝    k_d⎠                 ⎟               \n",
       "⎢                    0.5⋅[cd]⋅⎜-1 + ──────────────────────────⎟⋅(-ε + 1)⋅(-φ +\n",
       "⎢  [cd]⋅φ⋅(-ε + 1)            ⎝                N_d            ⎠               \n",
       "⎢- ─────────────── + ─────────────────────────────────────────────────────────\n",
       "⎢       N⋅k_d                                              N⋅k_d              \n",
       "⎣                                                                             \n",
       "\n",
       "                               1.0⋅N_c⋅ε   1.0⋅N_d⋅ε   1.0⋅[cd]⋅(-ε + 1)⋅(-φ +\n",
       "                             - ───────── + ───────── + ───────────────────────\n",
       "                                   N           N                            N⋅\n",
       "                                                                              \n",
       "                                                                              \n",
       "d) + 1)   0.5⋅[cd]⋅(-ε + 1)⋅(-φ + 1)⋅(tanh(W_c - W_d) + 1)   [cd]⋅φ⋅(-ε + 1)  \n",
       "─────── + ──────────────────────────────────────────────── - ─────────────── +\n",
       "                                 N                                N⋅k_d       \n",
       "                                                                              \n",
       "                                                                              \n",
       "                                                       ⎛     ⎛    1.0⎞        \n",
       "                                                       ⎜     ⎜1 - ───⎟⋅(2⋅[cc]\n",
       "                                                       ⎜     ⎝    k_c⎠        \n",
       " 1)⋅(tanh(W_c - W_d) + 1)                     0.5⋅[cd]⋅⎜-1 + ─────────────────\n",
       "                            [cd]⋅φ⋅(-ε + 1)            ⎝                N_c   \n",
       "───────────────────────── - ─────────────── + ────────────────────────────────\n",
       "                                 N⋅k_c                                        \n",
       "                                                                              \n",
       "\n",
       " 1)⋅(tanh(W_c - W_d) + 1)   1.0⋅[cd]⋅(-ε + 1)⋅(-φ + 1)⋅(tanh(-W_c + W_d) + 1) \n",
       "───────────────────────── - ───────────────────────────────────────────────── \n",
       "k_d                                               N⋅k_c                       \n",
       "                                                                              \n",
       "                                                                          2   \n",
       " [cd]⋅φ⋅(-ε + 1)   0.5⋅ε⋅(-2⋅[cc] - [cd])   0.5⋅ε⋅([cd] + 2⋅[dd])      N_c ⋅[c\n",
       " ─────────────── + ────────────────────── + ───────────────────── + ──────────\n",
       "      N⋅k_c                  N                        N              2        \n",
       "                                                                    N ⋅(2⋅[cc]\n",
       "                                                                              \n",
       "        ⎞                                                                     \n",
       " - [cd])⎟                                                                     \n",
       "        ⎟                                                                     \n",
       "────────⎟⋅(-ε + 1)⋅(-φ + 1)⋅(tanh(-W_c + W_d) + 1)                            \n",
       "        ⎠                                            0.5⋅ε⋅(2⋅[cc] - [cd])   0\n",
       "────────────────────────────────────────────────── + ───────────────────── + ─\n",
       "      N⋅k_c                                                    N              \n",
       "                                                                              \n",
       "\n",
       "                                                                              \n",
       "                                                                              \n",
       "                                                                              \n",
       "                                                                              \n",
       "                                                           2                  \n",
       "d]⋅ε        2⋅N_c⋅N_d⋅[cc]⋅ε     2⋅N_c⋅N_d⋅[dd]⋅ε       N_d ⋅[cd]⋅ε           \n",
       "──────── - ────────────────── + ────────────────── - ──────────────────       \n",
       "            2                    2                    2                       \n",
       " + [cd])   N ⋅(2⋅[cc] + [cd])   N ⋅([cd] + 2⋅[dd])   N ⋅([cd] + 2⋅[dd])       \n",
       "                                                                              \n",
       "                                                                              \n",
       "                                                                              \n",
       "                                                                              \n",
       "                              2                                               \n",
       ".5⋅ε⋅(-[cd] + 2⋅[dd])      N_c ⋅[cd]⋅ε        2⋅N_c⋅N_d⋅[cc]⋅ε     2⋅N_c⋅N_d⋅[\n",
       "───────────────────── - ────────────────── + ────────────────── + ────────────\n",
       "         N               2                    2                    2          \n",
       "                        N ⋅(2⋅[cc] + [cd])   N ⋅(2⋅[cc] + [cd])   N ⋅([cd] + 2\n",
       "\n",
       "                           ⎤\n",
       "                           ⎥\n",
       "                           ⎥\n",
       "                           ⎥\n",
       "                           ⎥\n",
       "                           ⎥\n",
       "                           ⎥\n",
       "                           ⎥\n",
       "                           ⎥\n",
       "                           ⎥\n",
       "                           ⎥\n",
       "                           ⎥\n",
       "                           ⎥\n",
       "               2           ⎥\n",
       "dd]⋅ε       N_d ⋅[cd]⋅ε    ⎥\n",
       "────── - ──────────────────⎥\n",
       "          2                ⎥\n",
       "⋅[dd])   N ⋅([cd] + 2⋅[dd])⎦"
      ]
     },
     "execution_count": 74,
     "metadata": {},
     "output_type": "execute_result"
    }
   ],
   "source": [
    "rhsPBP = S*s.Transpose(r)\n",
    "rhsPBP"
   ]
  },
  {
   "cell_type": "markdown",
   "metadata": {},
   "source": [
    "Write down right hand side for PBP and substitute primitive with system state variables:"
   ]
  },
  {
   "cell_type": "code",
   "execution_count": 75,
   "metadata": {
    "scrolled": true
   },
   "outputs": [],
   "source": [
    "rhsPBP = 1./tau*rhsPBP.subs(subs1)"
   ]
  },
  {
   "cell_type": "markdown",
   "metadata": {},
   "source": [
    "Show resulting dynamic equations for PBP"
   ]
  },
  {
   "cell_type": "code",
   "execution_count": 76,
   "metadata": {},
   "outputs": [
    {
     "data": {
      "text/latex": [
       "$$\\left[\\begin{matrix}\\frac{1.0}{\\tau} \\left(- \\frac{0.5 Z}{N \\left(K + Y\\right)} \\left(N + X\\right) \\left(- \\epsilon + 1\\right) \\left(- \\phi + 1\\right) \\left(r_{c} \\left(- \\mu^{c}_{c} + \\mu^{c}_{d}\\right) + r_{d} \\left(- \\mu^{d}_{c} + \\mu^{d}_{d}\\right) + 1\\right) + \\frac{0.5 Z}{N \\left(K - Y\\right)} \\left(N - X\\right) \\left(- \\epsilon + 1\\right) \\left(- \\phi + 1\\right) \\left(r_{c} \\left(\\mu^{c}_{c} - \\mu^{c}_{d}\\right) + r_{d} \\left(\\mu^{d}_{c} - \\mu^{d}_{d}\\right) + 1\\right) + \\frac{1.0 \\epsilon}{N} \\left(\\frac{N}{2} - \\frac{X}{2}\\right) - \\frac{1.0 \\epsilon}{N} \\left(\\frac{N}{2} + \\frac{X}{2}\\right)\\right)\\\\\\frac{1.0}{\\tau} \\left(\\frac{Z \\phi \\left(N + X\\right) \\left(- \\epsilon + 1\\right)}{2 N \\left(K + Y\\right)} - \\frac{Z \\phi \\left(N - X\\right) \\left(- \\epsilon + 1\\right)}{2 N \\left(K - Y\\right)} - \\frac{0.5 Z}{N} \\left(- \\epsilon + 1\\right) \\left(- \\phi + 1\\right) \\left(r_{c} \\left(- \\mu^{c}_{c} + \\mu^{c}_{d}\\right) + r_{d} \\left(- \\mu^{d}_{c} + \\mu^{d}_{d}\\right) + 1\\right) + \\frac{0.5 Z}{N} \\left(- \\epsilon + 1\\right) \\left(- \\phi + 1\\right) \\left(r_{c} \\left(\\mu^{c}_{c} - \\mu^{c}_{d}\\right) + r_{d} \\left(\\mu^{d}_{c} - \\mu^{d}_{d}\\right) + 1\\right) + \\frac{0.5 \\epsilon}{N} \\left(- K - Y\\right) + \\frac{0.5 \\epsilon}{N} \\left(K - Y\\right) + \\frac{Z \\epsilon \\left(\\frac{N}{2} + \\frac{X}{2}\\right)^{2}}{N^{2} \\left(K + Y\\right)} - \\frac{Z \\epsilon \\left(\\frac{N}{2} - \\frac{X}{2}\\right)^{2}}{N^{2} \\left(K - Y\\right)} - \\frac{2 \\epsilon}{N^{2} \\left(K + Y\\right)} \\left(\\frac{N}{2} - \\frac{X}{2}\\right) \\left(\\frac{N}{2} + \\frac{X}{2}\\right) \\left(\\frac{K}{2} + \\frac{Y}{2} - \\frac{Z}{2}\\right) + \\frac{2 \\epsilon}{N^{2} \\left(K - Y\\right)} \\left(\\frac{N}{2} - \\frac{X}{2}\\right) \\left(\\frac{N}{2} + \\frac{X}{2}\\right) \\left(\\frac{K}{2} - \\frac{Y}{2} - \\frac{Z}{2}\\right)\\right)\\\\\\frac{1.0}{\\tau} \\left(- \\frac{Z \\phi \\left(N + X\\right) \\left(- \\epsilon + 1\\right)}{2 N \\left(K + Y\\right)} - \\frac{Z \\phi \\left(N - X\\right) \\left(- \\epsilon + 1\\right)}{2 N \\left(K - Y\\right)} + \\frac{0.25 Z}{N \\left(K + Y\\right)} \\left(N + X\\right) \\left(- \\epsilon + 1\\right) \\left(- \\phi + 1\\right) \\left(\\frac{1}{\\frac{N}{2} + \\frac{X}{2}} \\left(1 - \\frac{0.5 \\left(N + X\\right)}{K + Y}\\right) \\left(K + Y - 2 Z\\right) - 1\\right) \\left(r_{c} \\left(- \\mu^{c}_{c} + \\mu^{c}_{d}\\right) + r_{d} \\left(- \\mu^{d}_{c} + \\mu^{d}_{d}\\right) + 1\\right) + \\frac{0.25 Z}{N \\left(K - Y\\right)} \\left(N - X\\right) \\left(- \\epsilon + 1\\right) \\left(- \\phi + 1\\right) \\left(\\frac{1}{\\frac{N}{2} - \\frac{X}{2}} \\left(1 - \\frac{0.5 \\left(N - X\\right)}{K - Y}\\right) \\left(K - Y - 2 Z\\right) - 1\\right) \\left(r_{c} \\left(\\mu^{c}_{c} - \\mu^{c}_{d}\\right) + r_{d} \\left(\\mu^{d}_{c} - \\mu^{d}_{d}\\right) + 1\\right) + \\frac{0.5 \\epsilon}{N} \\left(K - Y - 2 Z\\right) + \\frac{0.5 \\epsilon}{N} \\left(K + Y - 2 Z\\right) - \\frac{Z \\epsilon \\left(\\frac{N}{2} + \\frac{X}{2}\\right)^{2}}{N^{2} \\left(K + Y\\right)} - \\frac{Z \\epsilon \\left(\\frac{N}{2} - \\frac{X}{2}\\right)^{2}}{N^{2} \\left(K - Y\\right)} + \\frac{2 \\epsilon}{N^{2} \\left(K + Y\\right)} \\left(\\frac{N}{2} - \\frac{X}{2}\\right) \\left(\\frac{N}{2} + \\frac{X}{2}\\right) \\left(\\frac{K}{2} + \\frac{Y}{2} - \\frac{Z}{2}\\right) + \\frac{2 \\epsilon}{N^{2} \\left(K - Y\\right)} \\left(\\frac{N}{2} - \\frac{X}{2}\\right) \\left(\\frac{N}{2} + \\frac{X}{2}\\right) \\left(\\frac{K}{2} - \\frac{Y}{2} - \\frac{Z}{2}\\right)\\right)\\end{matrix}\\right]$$"
      ],
      "text/plain": [
       "⎡                                                                             \n",
       "⎢                                                                             \n",
       "⎢                                                                             \n",
       "⎢                                                                             \n",
       "⎢                                                                             \n",
       "⎢                                                                             \n",
       "⎢                                                                             \n",
       "⎢                                                                             \n",
       "⎢                                                         ⎛                   \n",
       "⎢                                                         ⎜                   \n",
       "⎢                                                         ⎜                   \n",
       "⎢                                                         ⎜Z⋅φ⋅(N + X)⋅(-ε + 1\n",
       "⎢                                                     1.0⋅⎜───────────────────\n",
       "⎢                                                         ⎜    2⋅N⋅(K + Y)    \n",
       "⎢                                                         ⎝                   \n",
       "⎢                                                     ────────────────────────\n",
       "⎢                                                                             \n",
       "⎢                                                                             \n",
       "⎢    ⎛                                                                        \n",
       "⎢    ⎜                                                                        \n",
       "⎢    ⎜                                                                        \n",
       "⎢    ⎜                                                0.25⋅Z⋅(N + X)⋅(-ε + 1)⋅\n",
       "⎢    ⎜                                                                        \n",
       "⎢    ⎜                                                                        \n",
       "⎢    ⎜  Z⋅φ⋅(N + X)⋅(-ε + 1)   Z⋅φ⋅(N - X)⋅(-ε + 1)                           \n",
       "⎢1.0⋅⎜- ──────────────────── - ──────────────────── + ────────────────────────\n",
       "⎢    ⎜      2⋅N⋅(K + Y)            2⋅N⋅(K - Y)                                \n",
       "⎢    ⎝                                                                        \n",
       "⎢─────────────────────────────────────────────────────────────────────────────\n",
       "⎣                                                                             \n",
       "\n",
       "                                            ⎛                                 \n",
       "                                            ⎜                                 \n",
       "                                            ⎜  0.5⋅Z⋅(N + X)⋅(-ε + 1)⋅(-φ + 1)\n",
       "                                        1.0⋅⎜- ───────────────────────────────\n",
       "                                            ⎝                                 \n",
       "                                        ──────────────────────────────────────\n",
       "                                                                              \n",
       "                                                                              \n",
       "                                                                              \n",
       "                                                                              \n",
       "                                                                              \n",
       ")   Z⋅φ⋅(N - X)⋅(-ε + 1)   0.5⋅Z⋅(-ε + 1)⋅(-φ + 1)⋅(r_c⋅(-μ_c__c + μ_d__c) + r\n",
       "─ - ──────────────────── - ───────────────────────────────────────────────────\n",
       "        2⋅N⋅(K - Y)                                              N            \n",
       "                                                                              \n",
       "──────────────────────────────────────────────────────────────────────────────\n",
       "                                                                              \n",
       "                                                                              \n",
       "         ⎛⎛    0.5⋅(N + X)⎞                  ⎞                                \n",
       "         ⎜⎜1 - ───────────⎟⋅(K + Y - 2⋅Z)    ⎟                                \n",
       "         ⎜⎝       K + Y   ⎠                  ⎟                                \n",
       "(-φ + 1)⋅⎜─────────────────────────────── - 1⎟⋅(r_c⋅(-μ_c__c + μ_d__c) + r_d⋅(\n",
       "         ⎜             N   X                 ⎟                                \n",
       "         ⎜             ─ + ─                 ⎟                                \n",
       "         ⎝             2   2                 ⎠                                \n",
       "──────────────────────────────────────────────────────────────────────────────\n",
       "                                 N⋅(K + Y)                                    \n",
       "                                                                              \n",
       "──────────────────────────────────────────────────────────────────────────────\n",
       "                                                                              \n",
       "\n",
       "                                                                              \n",
       "                                                                              \n",
       "⋅(r_c⋅(-μ_c__c + μ_d__c) + r_d⋅(-μ_c__d + μ_d__d) + 1)   0.5⋅Z⋅(N - X)⋅(-ε + 1\n",
       "────────────────────────────────────────────────────── + ─────────────────────\n",
       "       N⋅(K + Y)                                                              \n",
       "──────────────────────────────────────────────────────────────────────────────\n",
       "                                                                   τ          \n",
       "                                                                              \n",
       "                                                                              \n",
       "                                                                              \n",
       "                                                                              \n",
       "_d⋅(-μ_c__d + μ_d__d) + 1)   0.5⋅Z⋅(-ε + 1)⋅(-φ + 1)⋅(r_c⋅(μ_c__c - μ_d__c) + \n",
       "────────────────────────── + ─────────────────────────────────────────────────\n",
       "                                                                  N           \n",
       "                                                                              \n",
       "──────────────────────────────────────────────────────────────────────────────\n",
       "                                                                  τ           \n",
       "                                                                              \n",
       "                                                          ⎛⎛    0.5⋅(N - X)⎞  \n",
       "                                                          ⎜⎜1 - ───────────⎟⋅(\n",
       "                                                          ⎜⎝       K - Y   ⎠  \n",
       "-μ_c__d + μ_d__d) + 1)   0.25⋅Z⋅(N - X)⋅(-ε + 1)⋅(-φ + 1)⋅⎜───────────────────\n",
       "                                                          ⎜             N   X \n",
       "                                                          ⎜             ─ - ─ \n",
       "                                                          ⎝             2   2 \n",
       "────────────────────── + ─────────────────────────────────────────────────────\n",
       "                                                                              \n",
       "                                                                              \n",
       "──────────────────────────────────────────────────────────────────────────────\n",
       "                                                                   τ          \n",
       "\n",
       "                                                                       ⎛N   X⎞\n",
       "                                                                 1.0⋅ε⋅⎜─ - ─⎟\n",
       ")⋅(-φ + 1)⋅(r_c⋅(μ_c__c - μ_d__c) + r_d⋅(μ_c__d - μ_d__d) + 1)         ⎝2   2⎠\n",
       "────────────────────────────────────────────────────────────── + ─────────────\n",
       "                N⋅(K - Y)                                              N      \n",
       "──────────────────────────────────────────────────────────────────────────────\n",
       "                                                                              \n",
       "                                                                              \n",
       "                                                                         2    \n",
       "                                                                  ⎛N   X⎞     \n",
       "                                                              Z⋅ε⋅⎜─ + ─⎟    Z\n",
       "r_d⋅(μ_c__d - μ_d__d) + 1)   0.5⋅ε⋅(-K - Y)   0.5⋅ε⋅(K - Y)       ⎝2   2⎠     \n",
       "────────────────────────── + ────────────── + ───────────── + ──────────── - ─\n",
       "                                   N                N           2             \n",
       "                                                               N ⋅(K + Y)     \n",
       "──────────────────────────────────────────────────────────────────────────────\n",
       "                                                                              \n",
       "                                                                              \n",
       "                ⎞                                                             \n",
       "K - Y - 2⋅Z)    ⎟                                                             \n",
       "                ⎟                                                             \n",
       "──────────── - 1⎟⋅(r_c⋅(μ_c__c - μ_d__c) + r_d⋅(μ_c__d - μ_d__d) + 1)         \n",
       "                ⎟                                                             \n",
       "                ⎟                                                             \n",
       "                ⎠                                                       0.5⋅ε⋅\n",
       "───────────────────────────────────────────────────────────────────── + ──────\n",
       "   N⋅(K - Y)                                                                  \n",
       "                                                                              \n",
       "──────────────────────────────────────────────────────────────────────────────\n",
       "                                                                              \n",
       "\n",
       "         ⎛N   X⎞⎞                                                             \n",
       "   1.0⋅ε⋅⎜─ + ─⎟⎟                                                             \n",
       "         ⎝2   2⎠⎟                                                             \n",
       " - ─────────────⎟                                                             \n",
       "         N      ⎠                                                             \n",
       "─────────────────                                                             \n",
       "                                                                              \n",
       "                                                                              \n",
       "          2                                                                   \n",
       "   ⎛N   X⎞        ⎛N   X⎞ ⎛N   X⎞ ⎛K   Y   Z⎞       ⎛N   X⎞ ⎛N   X⎞ ⎛K   Y   Z\n",
       "⋅ε⋅⎜─ - ─⎟    2⋅ε⋅⎜─ - ─⎟⋅⎜─ + ─⎟⋅⎜─ + ─ - ─⎟   2⋅ε⋅⎜─ - ─⎟⋅⎜─ + ─⎟⋅⎜─ - ─ - ─\n",
       "   ⎝2   2⎠        ⎝2   2⎠ ⎝2   2⎠ ⎝2   2   2⎠       ⎝2   2⎠ ⎝2   2⎠ ⎝2   2   2\n",
       "─────────── - ─────────────────────────────── + ──────────────────────────────\n",
       " 2                        2                                 2                 \n",
       "N ⋅(K - Y)               N ⋅(K + Y)                        N ⋅(K - Y)         \n",
       "──────────────────────────────────────────────────────────────────────────────\n",
       "                                                                              \n",
       "                                                                              \n",
       "                                                                              \n",
       "                                                                              \n",
       "                                                                              \n",
       "                                                 2              2             \n",
       "                                          ⎛N   X⎞        ⎛N   X⎞        ⎛N   X\n",
       "                                      Z⋅ε⋅⎜─ + ─⎟    Z⋅ε⋅⎜─ - ─⎟    2⋅ε⋅⎜─ - ─\n",
       "(K - Y - 2⋅Z)   0.5⋅ε⋅(K + Y - 2⋅Z)       ⎝2   2⎠        ⎝2   2⎠        ⎝2   2\n",
       "───────────── + ─────────────────── - ──────────── - ──────────── + ──────────\n",
       "   N                     N              2              2                      \n",
       "                                       N ⋅(K + Y)     N ⋅(K - Y)              \n",
       "──────────────────────────────────────────────────────────────────────────────\n",
       "                                                                              \n",
       "\n",
       "                                                        ⎤\n",
       "                                                        ⎥\n",
       "                                                        ⎥\n",
       "                                                        ⎥\n",
       "                                                        ⎥\n",
       "                                                        ⎥\n",
       "                                                        ⎥\n",
       "                                                        ⎥\n",
       " ⎞                                                      ⎥\n",
       "⎞⎟                                                      ⎥\n",
       "⎟⎟                                                      ⎥\n",
       "⎠⎟                                                      ⎥\n",
       "─⎟                                                      ⎥\n",
       " ⎟                                                      ⎥\n",
       " ⎠                                                      ⎥\n",
       "──                                                      ⎥\n",
       "                                                        ⎥\n",
       "                                                        ⎥\n",
       "                                                       ⎞⎥\n",
       "                                                       ⎟⎥\n",
       "                                                       ⎟⎥\n",
       "                                                       ⎟⎥\n",
       "⎞ ⎛N   X⎞ ⎛K   Y   Z⎞       ⎛N   X⎞ ⎛N   X⎞ ⎛K   Y   Z⎞⎟⎥\n",
       "⎟⋅⎜─ + ─⎟⋅⎜─ + ─ - ─⎟   2⋅ε⋅⎜─ - ─⎟⋅⎜─ + ─⎟⋅⎜─ - ─ - ─⎟⎟⎥\n",
       "⎠ ⎝2   2⎠ ⎝2   2   2⎠       ⎝2   2⎠ ⎝2   2⎠ ⎝2   2   2⎠⎟⎥\n",
       "───────────────────── + ───────────────────────────────⎟⎥\n",
       "  2                                 2                  ⎟⎥\n",
       " N ⋅(K + Y)                        N ⋅(K - Y)          ⎠⎥\n",
       "────────────────────────────────────────────────────────⎥\n",
       "                                                        ⎦"
      ]
     },
     "execution_count": 76,
     "metadata": {},
     "output_type": "execute_result"
    }
   ],
   "source": [
    "rhsPBP"
   ]
  },
  {
   "cell_type": "markdown",
   "metadata": {},
   "source": [
    "Substitutions of rescalled quantities to allow for N -> oo limit:"
   ]
  },
  {
   "cell_type": "code",
   "execution_count": 77,
   "metadata": {},
   "outputs": [],
   "source": [
    "x, y, z, k = s.symbols('x y z k')\n",
    "c, g, p, g0 = s.symbols('c, g, p, g_0')\n",
    "subs4 = {Kc: (N/2.*(1+x)*mucc + N/2.*(1-x)*mudc),\n",
    "         Kd: (N/2.*(1+x)*mucd + N/2.*(1-x)*mudd),\n",
    "         C: N * c,\n",
    "         P: N * p,\n",
    "         G: N * g,\n",
    "         G0: N * g0,\n",
    "         X: N*x,\n",
    "         Y: N*k*y,\n",
    "         Z: N*k*z,\n",
    "         K: N*k}"
   ]
  },
  {
   "cell_type": "markdown",
   "metadata": {},
   "source": [
    "Substitutute solutions to algebraic constraints of economic system (market clearing for labor and expressions for capital rent and resource flow)"
   ]
  },
  {
   "cell_type": "code",
   "execution_count": 78,
   "metadata": {},
   "outputs": [],
   "source": [
    "subs3 = {Xc: (bc*Kc**kappac * C**xi)**(1./(1-pi)),\n",
    "         Xd: (bd*Kd**kappad)**(1./(1-pi)),\n",
    "         XR: (1.-bR/e*(G0/G)**2)**(1./(1-pi))}"
   ]
  },
  {
   "cell_type": "code",
   "execution_count": 79,
   "metadata": {},
   "outputs": [],
   "source": [
    "subs2 = {w: pi * P**(pi-1) * (Xc + Xd*XR)**(1-pi),\n",
    "        rc: kappac/Kc*Xc*P**pi*(Xc + Xd*XR)**(-pi),\n",
    "        rd: kappad/Kd*Xd*XR*P**pi*(Xc + Xd*XR)**(-pi),\n",
    "        R:  bd/e*Kd**kappad*P**pi*(Xd*XR/(Xc + Xd*XR))**pi,\n",
    "        Pc: P*Xc/(Xc + Xd*XR),\n",
    "        Pd: P*Xd*XR/(Xc + Xd*XR),\n",
    "        s.tanh(Wd-Wc): rc*(mudc-mucc) + rd*(mudd-mucd),\n",
    "        s.tanh(Wc-Wd): rc*(mucc-mudc) + rd*(mucd-mudd)}"
   ]
  },
  {
   "cell_type": "markdown",
   "metadata": {},
   "source": [
    "Substitutions to ensure constant returns to scale:"
   ]
  },
  {
   "cell_type": "code",
   "execution_count": 80,
   "metadata": {},
   "outputs": [],
   "source": [
    "subs5 = {kappac: 1. - pi - xi,\n",
    "         kappad: 1. - pi}"
   ]
  },
  {
   "cell_type": "markdown",
   "metadata": {},
   "source": [
    "Write down dynamic equations for the economic subsystem in terms of means of clean and dirty capital stocks for clean and dirty households"
   ]
  },
  {
   "cell_type": "code",
   "execution_count": 81,
   "metadata": {},
   "outputs": [],
   "source": [
    "rhsECO = s.Matrix([(rs*rc-delta)*mucc + rs*rd*mucd + rs*w*P/N,\n",
    "                  -delta*mucd,\n",
    "                  -delta*mudc,\n",
    "                  rs*rc*mudc + (rs*rd-delta)*mudd + rs*w*P/N,\n",
    "                  bc*Pc**pi*(Nc*mucc + Nd*mudc)**kappac * C**xi - delta*C,\n",
    "                  -R])\n"
   ]
  },
  {
   "cell_type": "markdown",
   "metadata": {},
   "source": [
    "Write down changes in means of capital stocks through agents' switching of opinions"
   ]
  },
  {
   "cell_type": "code",
   "execution_count": 82,
   "metadata": {},
   "outputs": [],
   "source": [
    "\n",
    "dtNcd = 1./tau * (p3 + p5)\n",
    "dtNdc = 1./tau * (p4 + p6)\n",
    "\n",
    "rhsECO_switch = s.Matrix([(mudc-mucc)*dtNdc/Nc,\n",
    "                         (mudd-mucd)*dtNdc/Nc,\n",
    "                         (mucc-mudc)*dtNcd/Nd,\n",
    "                         (mucd-mudd)*dtNcd/Nd,\n",
    "                         0,\n",
    "                         0])\n",
    "rhsECO_switch = rhsECO_switch.subs(subs1)"
   ]
  },
  {
   "cell_type": "code",
   "execution_count": 83,
   "metadata": {
    "scrolled": true
   },
   "outputs": [],
   "source": [
    "rhsECO = rhsECO + rhsECO_switch"
   ]
  },
  {
   "cell_type": "markdown",
   "metadata": {},
   "source": [
    "In the economic system, substitute: \n",
    "1)primitive variables for dependent variables (subs2)\n",
    "2)dependent variables for system variables (subs3)"
   ]
  },
  {
   "cell_type": "code",
   "execution_count": 84,
   "metadata": {
    "scrolled": true
   },
   "outputs": [],
   "source": [
    "rhsECO = rhsECO.subs(subs1).subs(subs2).subs(subs3).subs(subs4).subs(subs5)"
   ]
  },
  {
   "cell_type": "markdown",
   "metadata": {},
   "source": [
    "In the PBP rhs substitute:\n",
    "dependent variables for system variables"
   ]
  },
  {
   "cell_type": "code",
   "execution_count": 85,
   "metadata": {},
   "outputs": [],
   "source": [
    "rhsPBP = rhsPBP.subs(subs1).subs(subs2).subs(subs3).subs(subs4).subs(subs5)"
   ]
  },
  {
   "cell_type": "markdown",
   "metadata": {},
   "source": [
    "Combine dynamic equations of economic and social subsystem:"
   ]
  },
  {
   "cell_type": "code",
   "execution_count": 86,
   "metadata": {},
   "outputs": [],
   "source": [
    "rhs = s.Matrix([rhsPBP,rhsECO]).subs(subs1)"
   ]
  },
  {
   "cell_type": "code",
   "execution_count": 88,
   "metadata": {},
   "outputs": [
    {
     "ename": "TypeError",
     "evalue": "'recurse' is an invalid keyword argument for this function",
     "traceback": [
      "\u001b[0;31m---------------------------------------------------------------------------\u001b[0m",
      "\u001b[0;31mTypeError\u001b[0m                                 Traceback (most recent call last)",
      "\u001b[0;32m<ipython-input-88-ea9a610e63aa>\u001b[0m in \u001b[0;36m<module>\u001b[0;34m()\u001b[0m\n\u001b[1;32m      1\u001b[0m \u001b[0;32mwith\u001b[0m \u001b[0mopen\u001b[0m\u001b[0;34m(\u001b[0m\u001b[0;34m'res_raw.pkl'\u001b[0m\u001b[0;34m,\u001b[0m \u001b[0;34m'wb'\u001b[0m\u001b[0;34m)\u001b[0m \u001b[0;32mas\u001b[0m \u001b[0moutf\u001b[0m\u001b[0;34m:\u001b[0m\u001b[0;34m\u001b[0m\u001b[0m\n\u001b[0;32m----> 2\u001b[0;31m     \u001b[0mpkl\u001b[0m\u001b[0;34m.\u001b[0m\u001b[0mdump\u001b[0m\u001b[0;34m(\u001b[0m\u001b[0mrhs\u001b[0m\u001b[0;34m,\u001b[0m \u001b[0moutf\u001b[0m\u001b[0;34m,\u001b[0m \u001b[0mrecurse\u001b[0m\u001b[0;34m=\u001b[0m\u001b[0;32mTrue\u001b[0m\u001b[0;34m)\u001b[0m\u001b[0;34m\u001b[0m\u001b[0m\n\u001b[0m",
      "\u001b[0;31mTypeError\u001b[0m: 'recurse' is an invalid keyword argument for this function"
     ],
     "output_type": "error"
    }
   ],
   "source": [
    "with open('res_raw.pkl', 'wb') as outf:\n",
    "    pkl.dump(rhs, outf, recurse=True)"
   ]
  },
  {
   "cell_type": "code",
   "execution_count": 66,
   "metadata": {},
   "outputs": [
    {
     "data": {
      "image/png": "[encoded data removed]",
      "text/plain": [
       "                                             ⎛                                \n",
       "                                             ⎜                                \n",
       "                                             ⎜                                \n",
       "                                             ⎜                                \n",
       "                                             ⎜                                \n",
       "                                             ⎜                                \n",
       "                                             ⎜                                \n",
       "                                             ⎜                                \n",
       "                                             ⎜                                \n",
       "                                             ⎜                  0.5⋅k⋅z⋅(-ε + \n",
       "                                   ⎛  x   1⎞ ⎜      ⎛  x   1⎞                 \n",
       "            1.0⋅(-μ_c__d + μ_d__d)⋅⎜- ─ + ─⎟⋅⎜0.5⋅ε⋅⎜- ─ + ─⎟ + ──────────────\n",
       "                                   ⎝  2   2⎠ ⎝      ⎝  2   2⎠                 \n",
       "-δ⋅μ_c__d + ──────────────────────────────────────────────────────────────────\n",
       "                                                                              \n",
       "                                                                              \n",
       "                                                                              \n",
       "\n",
       "                      ⎛                                                       \n",
       "                      ⎜                                                       \n",
       "                      ⎜                                                       \n",
       "                      ⎜                                                       \n",
       "                      ⎜                                                       \n",
       "                      ⎜ π ⎛                                              -π + \n",
       "                      ⎜p ⋅⎝b_d⋅(0.5⋅μ_c__d⋅(x + 1) + 0.5⋅μ_d__d⋅(-x + 1))     \n",
       "                      ⎜                                                       \n",
       "            ⎛  x   1⎞ ⎜                                                       \n",
       "1)⋅(-φ + 1)⋅⎜- ─ + ─⎟⋅⎜───────────────────────────────────────────────────────\n",
       "            ⎝  2   2⎠ ⎝                                                       \n",
       "──────────────────────────────────────────────────────────────────────────────\n",
       "                                                                              \n",
       "──────────────────────────────────────────────────────────────────────────────\n",
       "                                                                              \n",
       "                                                                              \n",
       "                                                                              \n",
       "\n",
       "                                                                              \n",
       "                                        ⎛                                     \n",
       "     1.0                                ⎜                                     \n",
       "    ──────                              ⎜                                     \n",
       "    -π + 1                              ⎜                                     \n",
       "1.0⎞                                    ⎜⎛                                    \n",
       "   ⎠      ⋅(μ_c__d - μ_d__d)⋅(-π + 1.0)⋅⎜⎝b_d⋅(0.5⋅μ_c__d⋅(x + 1) + 0.5⋅μ_d__d\n",
       "                                        ⎜                                     \n",
       "                                        ⎝                                     \n",
       "──────────────────────────────────────────────────────────────────────────────\n",
       "                                                                  0.5⋅μ_c__d⋅(\n",
       "──────────────────────────────────────────────────────────────────────────────\n",
       "                                                                              \n",
       "──────────────────────────────────────────────────────────────────────────────\n",
       "                                                                              \n",
       "                                                                              \n",
       "                                                                              \n",
       "\n",
       "                                                                              \n",
       "                                            1.0                               \n",
       "                    1.0                    ──────                             \n",
       "                   ──────                  -π + 1                             \n",
       "                   -π + 1 ⎛        2      ⎞                                   \n",
       "          -π + 1.0⎞       ⎜  b_R⋅g₀       ⎟         ⎛     ξ                   \n",
       "⋅(-x + 1))        ⎠      ⋅⎜- ─────── + 1.0⎟       + ⎝b_c⋅c ⋅(0.5⋅μ_c__c⋅(x + 1\n",
       "                          ⎜       2       ⎟                                   \n",
       "                          ⎝    e⋅g        ⎠                                   \n",
       "──────────────────────────────────────────────────────────────────────────────\n",
       "x + 1) + 0.5⋅μ_d__d⋅(-x + 1)                                                  \n",
       "──────────────────────────────────────────────────────────────────────────────\n",
       "                                                                              \n",
       "──────────────────────────────────────────────────────────────────────────────\n",
       "                                                                              \n",
       "                                                                              \n",
       "                                                                              \n",
       "\n",
       "                                            -π                                \n",
       "                                           ⎞                     1.0          \n",
       "                                      1.0  ⎟                    ──────        \n",
       "                                     ──────⎟                    -π + 1        \n",
       "                                     -π + 1⎟   ⎛        2      ⎞              \n",
       "                        -π - ξ + 1.0⎞      ⎟   ⎜  b_R⋅g₀       ⎟          π ⎛ \n",
       ") + 0.5⋅μ_d__c⋅(-x + 1))            ⎠      ⎟  ⋅⎜- ─────── + 1.0⎟         p ⋅⎝b\n",
       "                                           ⎟   ⎜       2       ⎟              \n",
       "                                           ⎠   ⎝    e⋅g        ⎠              \n",
       "────────────────────────────────────────────────────────────────────── + ─────\n",
       "                                                                              \n",
       "──────────────────────────────────────────────────────────────────────────────\n",
       "                                             -k⋅y + k                         \n",
       "──────────────────────────────────────────────────────────────────────────────\n",
       "                     ⎛x   1⎞                                                  \n",
       "                   τ⋅⎜─ + ─⎟                                                  \n",
       "                     ⎝2   2⎠                                                  \n",
       "\n",
       "                                                                              \n",
       "                                                                              \n",
       "                                                              1.0             \n",
       "                                                             ──────           \n",
       "                                                             -π + 1           \n",
       "    ξ                                           -π - ξ + 1.0⎞                 \n",
       "_c⋅c ⋅(0.5⋅μ_c__c⋅(x + 1) + 0.5⋅μ_d__c⋅(-x + 1))            ⎠      ⋅(μ_c__c - \n",
       "                                                                              \n",
       "                                                                              \n",
       "──────────────────────────────────────────────────────────────────────────────\n",
       "                                                                              \n",
       "──────────────────────────────────────────────────────────────────────────────\n",
       "                                                                              \n",
       "──────────────────────────────────────────────────────────────────────────────\n",
       "                                                                              \n",
       "                                                                              \n",
       "                                                                              \n",
       "\n",
       "                                                                              \n",
       "        ⎛                                                                     \n",
       "        ⎜                                                         1.0         \n",
       "        ⎜                                                        ──────       \n",
       "        ⎜                                                        -π + 1 ⎛     \n",
       "        ⎜⎛                                              -π + 1.0⎞       ⎜  b_R\n",
       "μ_d__c)⋅⎜⎝b_d⋅(0.5⋅μ_c__d⋅(x + 1) + 0.5⋅μ_d__d⋅(-x + 1))        ⎠      ⋅⎜- ───\n",
       "        ⎜                                                               ⎜     \n",
       "        ⎝                                                               ⎝    e\n",
       "──────────────────────────────────────────────────────────────────────────────\n",
       "                               0.5⋅μ_c__c⋅(x + 1) + 0.5⋅μ_d__c⋅(-x + 1)       \n",
       "──────────────────────────────────────────────────────────────────────────────\n",
       "                                                                              \n",
       "──────────────────────────────────────────────────────────────────────────────\n",
       "                                                                              \n",
       "                                                                              \n",
       "                                                                              \n",
       "\n",
       "                                                                              \n",
       "            1.0                                                               \n",
       "           ──────                                                             \n",
       "           -π + 1                                                             \n",
       "   2      ⎞                                                                   \n",
       "⋅g₀       ⎟         ⎛     ξ                                           -π - ξ +\n",
       "──── + 1.0⎟       + ⎝b_c⋅c ⋅(0.5⋅μ_c__c⋅(x + 1) + 0.5⋅μ_d__c⋅(-x + 1))        \n",
       "  2       ⎟                                                                   \n",
       "⋅g        ⎠                                                                   \n",
       "──────────────────────────────────────────────────────────────────────────────\n",
       "                                                                              \n",
       "──────────────────────────────────────────────────────────────────────────────\n",
       "                                                                              \n",
       "──────────────────────────────────────────────────────────────────────────────\n",
       "                                                                              \n",
       "                                                                              \n",
       "                                                                              \n",
       "\n",
       "            -π                   ⎞⎞\n",
       "           ⎞                     ⎟⎟\n",
       "      1.0  ⎟                     ⎟⎟\n",
       "     ──────⎟                     ⎟⎟\n",
       "     -π + 1⎟                     ⎟⎟\n",
       " 1.0⎞      ⎟                     ⎟⎟\n",
       "    ⎠      ⎟  ⋅(-π - ξ + 1.0)    ⎟⎟\n",
       "           ⎟                     ⎟⎟\n",
       "           ⎠                     ⎟⎟\n",
       "───────────────────────────── + 1⎟⎟\n",
       "                                 ⎠⎟\n",
       "──────────────────────────────────⎟\n",
       "                                  ⎠\n",
       "───────────────────────────────────\n",
       "                                   \n",
       "                                   \n",
       "                                   "
      ]
     },
     "execution_count": 66,
     "metadata": {},
     "output_type": "execute_result"
    }
   ],
   "source": [
    "rhs[4].subs(N, 1)"
   ]
  },
  {
   "cell_type": "code",
   "execution_count": null,
   "metadata": {},
   "outputs": [],
   "source": []
  }
 ],
 "metadata": {
  "kernelspec": {
   "display_name": "Python 3",
   "language": "python",
   "name": "python3"
  },
  "language_info": {
   "codemirror_mode": {
    "name": "ipython",
    "version": 3
   },
   "file_extension": ".py",
   "mimetype": "text/x-python",
   "name": "python",
   "nbconvert_exporter": "python",
   "pygments_lexer": "ipython3",
   "version": "3.6.4"
  }
 },
 "nbformat": 4,
 "nbformat_minor": 1
}
