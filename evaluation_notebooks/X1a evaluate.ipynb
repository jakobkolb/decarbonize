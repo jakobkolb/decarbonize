{
 "cells": [
  {
   "cell_type": "code",
   "execution_count": null,
   "metadata": {},
   "outputs": [],
   "source": [
    "import pandas as pd\n",
    "import numpy as np\n",
    "import matplotlib.pyplot as plt\n",
    "import seaborn as sn\n",
    "from itertools import product\n",
    "from tqdm import tqdm_notebook\n",
    "\n",
    "path = '../output_data/'"
   ]
  },
  {
   "cell_type": "code",
   "execution_count": null,
   "metadata": {},
   "outputs": [],
   "source": [
    "with pd.HDFStore(path + 'X1a.h5') as store:\n",
    "    data = store.select('dat_1', where='phi=0.5 & n_rn>15', columns=['decision state', 'i_c', 'G'])\n",
    "data.index = data.index.droplevel(['phi', 'test'])\n",
    "data = data.reset_index('tstep')\n",
    "data = data.reset_index().drop_duplicates(['n_rn', 'n_cp', 'sample', 'tstep']).set_index(['n_rn', 'n_cp', 'sample', 'tstep'])"
   ]
  },
  {
   "cell_type": "code",
   "execution_count": null,
   "metadata": {},
   "outputs": [],
   "source": [
    "ix1 = data.index\n",
    "\n",
    "a = list(ix1.levels[0])\n",
    "b = list(ix1.levels[1])\n",
    "c = list(ix1.levels[2])\n",
    "\n",
    "ix2 = pd.MultiIndex.from_product([a, b, c],\n",
    "                                 names=('n_rn', 'n_cp', 'sample'))"
   ]
  },
  {
   "cell_type": "code",
   "execution_count": null,
   "metadata": {},
   "outputs": [],
   "source": [
    "res1 = pd.DataFrame(index = ix2)\n",
    "\n",
    "for i, j, k in tqdm_notebook(list(product(a, b, c))):\n",
    "    \n",
    "    tmp = data.xs(level=('n_rn', 'n_cp', 'sample'), key=(i, j, k)).reset_index()[['decision state', 'tstep', 'G']]\n",
    "    t = None\n",
    "    for _, row in tmp.iterrows():\n",
    "        if row['decision state'] > .7 and t is None:\n",
    "            t = row['tstep']\n",
    "            G = row['G']\n",
    "    if t is not None:\n",
    "        if t < 5:\n",
    "            t = None\n",
    "    res1.loc[(i, j, k), 't'] = t\n",
    "    res1.loc[(i, j, k), 'G'] = G\n",
    "res1.unstack('sample')"
   ]
  },
  {
   "cell_type": "code",
   "execution_count": null,
   "metadata": {},
   "outputs": [],
   "source": [
    "import seaborn as sn\n",
    "\n",
    "g_max = data['G'].max()\n",
    "\n",
    "plt_res = (res1['G']<g_max*(3./4.)).unstack('sample').sum(axis=1).unstack('n_cp')/50\n",
    "\n",
    "sn.heatmap(plt_res)"
   ]
  },
  {
   "cell_type": "code",
   "execution_count": null,
   "metadata": {},
   "outputs": [],
   "source": [
    "fig, axes = plt.subplots(ncols=2, figsize=(14,5))\n",
    "\n",
    "plt_mean = (data.xs(level='tstep', key=100)['G'].unstack('sample')<g_max*(.75)).mean(axis=1).unstack('n_cp')\n",
    "plt_std = (data.xs(level='tstep', key=100)['G'].unstack('sample')<g_max*(.75)).std(axis=1).unstack('n_cp')\n",
    "\n",
    "sn.heatmap(plt_mean,\n",
    "          ax=axes[0])\n",
    "\n",
    "sn.heatmap(plt_std,\n",
    "          ax=axes[1])\n",
    "\n",
    "for ax, title in zip(axes, ['mean', 'standard deviation']):\n",
    "    ax.set_xlabel('initial fraction of campaigners')\n",
    "    ax.set_ylabel('initial fraction of rednecks')\n",
    "    ax.set_title(title)\n",
    "\n",
    "fig.savefig('prob_75pc_rec_left_in_2100.pdf')"
   ]
  },
  {
   "cell_type": "code",
   "execution_count": null,
   "metadata": {},
   "outputs": [],
   "source": [
    "res2 = pd.DataFrame(index = ix2)\n",
    "\n",
    "co2_per_oil = 3.5\n",
    "initial_resource = data['G'].max()\n",
    "budget = 886*10e2\n",
    "\n",
    "for i, j, k in tqdm_notebook(list(product(a, b, c))):\n",
    "    \n",
    "    tmp = data.xs(level=('n_rn', 'n_cp', 'sample'), key=(i, j, k)).reset_index()[['decision state', 'tstep', 'G']]\n",
    "    \n",
    "    t = None\n",
    "    for _, row in tmp.iterrows():\n",
    "        budget_used = (initial_resource - row['G'])*co2_per_oil\n",
    "        #print(row['tstep'], budget_used, budget)\n",
    "        if budget_used > budget and t is None:\n",
    "            t = row['tstep']\n",
    "    if t is not None:\n",
    "        if t < 5:\n",
    "            t = None\n",
    "    res1.loc[(i, j, k), 't'] = t\n",
    "    res1.loc[(i, j, k), 'G'] = G\n",
    "res1.unstack('sample')"
   ]
  },
  {
   "cell_type": "code",
   "execution_count": null,
   "metadata": {},
   "outputs": [],
   "source": [
    "sn.heatmap(res1['t'].unstack('sample').std(axis=1).unstack('n_cp'))"
   ]
  },
  {
   "cell_type": "code",
   "execution_count": null,
   "metadata": {},
   "outputs": [],
   "source": []
  },
  {
   "cell_type": "code",
   "execution_count": null,
   "metadata": {},
   "outputs": [],
   "source": [
    "data = data.reset_index()"
   ]
  },
  {
   "cell_type": "code",
   "execution_count": null,
   "metadata": {},
   "outputs": [],
   "source": [
    "fig, axes = plt.subplots(ncols=2, figsize=(12,5))\n",
    "data['G'].unstack(['n_rn', 'n_cp', 'sample']).plot(legend=False,\n",
    "                                                  ax=axes[0],\n",
    "                                                  color='k',\n",
    "                                                  alpha=0.2)"
   ]
  },
  {
   "cell_type": "code",
   "execution_count": null,
   "metadata": {},
   "outputs": [],
   "source": [
    "data['G'].max()*(.7)"
   ]
  },
  {
   "cell_type": "code",
   "execution_count": null,
   "metadata": {},
   "outputs": [],
   "source": [
    "co2_per_oil = 3.5\n",
    "initial_resource = data['G'].max()"
   ]
  },
  {
   "cell_type": "code",
   "execution_count": null,
   "metadata": {},
   "outputs": [],
   "source": [
    "initial_resource"
   ]
  },
  {
   "cell_type": "code",
   "execution_count": null,
   "metadata": {},
   "outputs": [],
   "source": []
  }
 ],
 "metadata": {
  "kernelspec": {
   "display_name": "Python [conda env:py36]",
   "language": "python",
   "name": "conda-env-py36-py"
  },
  "language_info": {
   "codemirror_mode": {
    "name": "ipython",
    "version": 3
   },
   "file_extension": ".py",
   "mimetype": "text/x-python",
   "name": "python",
   "nbconvert_exporter": "python",
   "pygments_lexer": "ipython3",
   "version": "3.6.4"
  }
 },
 "nbformat": 4,
 "nbformat_minor": 2
}
