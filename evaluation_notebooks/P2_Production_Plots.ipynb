{
 "cells": [
  {
   "cell_type": "code",
   "execution_count": null,
   "metadata": {
    "collapsed": true
   },
   "outputs": [],
   "source": [
    "\"\"\"\n",
    "This script is suposed to produce plots of the results from\n",
    "macroscopic approximation of the network-based microscopic model of divestment.\n",
    "\"\"\"\n",
    "# Copyright (C) 2016-2018 by Jakob J. Kolb at Potsdam Institute for Climate\n",
    "# Impact Research\n",
    "#\n",
    "# Contact: kolb@pik-potsdam.de\n",
    "# License: GNU AGPL Version 3\n",
    "\n",
    "\n",
    "import numpy as np\n",
    "import matplotlib.pyplot as plt\n",
    "import pandas as pd\n",
    "from plot_routines import plot_routines"
   ]
  },
  {
   "cell_type": "code",
   "execution_count": null,
   "metadata": {
    "collapsed": true
   },
   "outputs": [],
   "source": [
    "import time\n",
    "\n",
    "bc, eps = 1.25, 0.05\n",
    "\n",
    "#prt = plot_routines(base_path='/home/jakob/Project_Divestment/PyDivestment/output_data/test_output/P2/')\n",
    "prt = plot_routines(micro_path='/home/jakob/Project_Divestment/PyDivestment/output_data/P2/micro/',\n",
    "         macro_path='/home/jakob/Project_Divestment/PyDivestment/output_data/P2/mean/',\n",
    "         table='/dat',\n",
    "         macro_selector='approximate = 2',\n",
    "         micro_selector='approximate = 1')\n",
    "\n",
    "\n",
    "#for phi in [round(x, 5) for x in list(np.linspace(0.0, 0.9, 10))]:\n",
    "for phi in [.5]:\n",
    "\n",
    "    figure = prt.mk_4plots(selector={'phi': phi, 'b_d': 1.25, 'eps': 0.05},\n",
    "                           upper_limits=[.82, 85, 9, 6, 10], \n",
    "                           lower_limits=[-.6, 0, 0, 0, 0],\n",
    "                           legend_locations=[4, 7, 7, 7],\n",
    "                           tmax=900)\n",
    "    figure.tight_layout()\n",
    "    figure.savefig('trajectory_bc={}_phi={}.pdf'.format(bc, phi))\n"
   ]
  },
  {
   "cell_type": "code",
   "execution_count": null,
   "metadata": {
    "collapsed": true
   },
   "outputs": [],
   "source": [
    "with pd.HDFStore('/home/jakob/Project_Divestment/PyDivestment/output_data/P2/mean/mean.h5') as store:\n",
    "    print(store.keys())"
   ]
  },
  {
   "cell_type": "code",
   "execution_count": null,
   "metadata": {
    "collapsed": true
   },
   "outputs": [],
   "source": []
  }
 ],
 "metadata": {
  "kernelspec": {
   "display_name": "Python [default]",
   "language": "python",
   "name": "python3"
  },
  "language_info": {
   "codemirror_mode": {
    "name": "ipython",
    "version": 3
   },
   "file_extension": ".py",
   "mimetype": "text/x-python",
   "name": "python",
   "nbconvert_exporter": "python",
   "pygments_lexer": "ipython3",
   "version": "3.6.0"
  }
 },
 "nbformat": 4,
 "nbformat_minor": 2
}
