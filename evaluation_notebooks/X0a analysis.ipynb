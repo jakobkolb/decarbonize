{
 "cells": [
  {
   "cell_type": "code",
   "execution_count": null,
   "metadata": {},
   "outputs": [],
   "source": [
    "%matplotlib inline\n",
    "import pandas as pd\n",
    "import numpy as np\n",
    "import matplotlib.pyplot as plt\n",
    "import seaborn as sn\n",
    "from mpl_toolkits.mplot3d import Axes3D\n",
    "\n",
    "path = '../output_data/test_output/'"
   ]
  },
  {
   "cell_type": "code",
   "execution_count": null,
   "metadata": {},
   "outputs": [],
   "source": [
    "with pd.HDFStore(path + 'X0_ffh.h5') as store:\n",
    "    opd = store.select('dat_0')\n",
    "opd.index = opd.index.droplevel(['eps', 'phi', 'ffh', 'test'])\n",
    "opinions = opd.xs(level=1, key='opinions')\n",
    "dfN = pd.DataFrame(index=opinions.index)\n",
    "for i in range(8):\n",
    "    dfN[f'N{i+1}'] = (opinions==i).sum(axis=1)\n",
    "dfN_vis = pd.DataFrame(index=dfN.index)\n",
    "dfN_vis['x'] = dfN['N1'] + dfN['N2'] + dfN['N3']\n",
    "dfN_vis['y'] = dfN['N4'] + dfN['N5'] + dfN['N6']\n",
    "dfN_vis['z'] = dfN['N7'] + dfN['N8']\n",
    "\n",
    "fig = plt.figure(figsize=(15, 10))\n",
    "ax = fig.add_subplot(111, projection='3d')\n",
    "ax.scatter(xs=dfN_vis[['x']], ys=dfN_vis[['y']], zs=dfN_vis['z'])"
   ]
  },
  {
   "cell_type": "code",
   "execution_count": null,
   "metadata": {},
   "outputs": [],
   "source": [
    "with pd.HDFStore(path + 'X0_ffh.h5') as store:\n",
    "    trj = store.select('dat_1')\n",
    "trj.index = trj.index.droplevel(['eps', 'phi', 'ffh', 'test'])\n",
    "trj.head()"
   ]
  },
  {
   "cell_type": "code",
   "execution_count": null,
   "metadata": {},
   "outputs": [],
   "source": [
    "cond = pd.DataFrame(index=trj.index)\n",
    "cond['a'] = trj['K_c']/trj['K_d'] - 0.15276374882897656\n",
    "cond['b'] = trj['i_c']\n",
    "cond['c'] = trj['r_c']\n",
    "cond.head()"
   ]
  },
  {
   "cell_type": "code",
   "execution_count": null,
   "metadata": {},
   "outputs": [],
   "source": [
    "t_max=9\n",
    "\n",
    "# calculate point distance\n",
    "cond['d'] = np.sqrt((cond['a'])**2)\n",
    "\n",
    "# sum over point distance for each trajectory\n",
    "dfN['distance'] = cond['d'].unstack('sample').loc[:t_max].sum(axis=0)\n",
    "\n",
    "# map distances to interval (0,1]\n",
    "dfN['inv_distance'] = 1./(1. + dfN['distance'])\n",
    "\n",
    "# use 1/distance as weight\n",
    "dfN['weight'] = 1./cond['d'].unstack('sample').loc[:t_max].sum(axis=0)\n",
    "dfN['weight'] = dfN['weight']/sum(dfN['weight'].values)\n",
    "\n",
    "for s in dfN.index.values:\n",
    "    cond.loc[s, 'inv_distance'] = dfN.loc[s, 'inv_distance']\n",
    "dfN['weight'].sum()\n",
    "dfN.head()"
   ]
  },
  {
   "cell_type": "code",
   "execution_count": null,
   "metadata": {},
   "outputs": [],
   "source": [
    "from collections import Counter\n",
    "\n",
    "fig, axes = plt.subplots(ncols=3, figsize=(8, 2.8))\n",
    "\n",
    "def plot_cond(df, c, ax, t_max, thresh=0.5):\n",
    "    tmp = df\n",
    "    tmp1 = tmp[[c]].loc[tmp['inv_distance']<thresh]\n",
    "    tmp2 = tmp[[c]].loc[tmp['inv_distance']>thresh]\n",
    "    try:\n",
    "        tmp1.unstack('sample').loc[:t_max].plot(ax=ax, alpha=.03, legend=False, color=['k'])\n",
    "    except TypeError:\n",
    "        print('no data')\n",
    "    try:\n",
    "        tmp2.unstack('sample').loc[:t_max].plot(ax=ax, legend=False, alpha=.7, color=['orange'])\n",
    "    except TypeError:\n",
    "        print('no data')\n",
    "    \n",
    "thresh=0.5\n",
    "\n",
    "plot_cond(cond, 'a', axes[0], 20, thresh=thresh)\n",
    "plot_cond(cond, 'b', axes[1], 20, thresh=thresh)\n",
    "\n",
    "try:\n",
    "    dfN['inv_distance'].loc[dfN['inv_distance']>thresh].plot.hist(ax=axes[2], color=['orange'], alpha=0.9, bins=0.1*np.arange(5,11))\n",
    "    dfN['inv_distance'].loc[dfN['inv_distance']<thresh].plot.hist(ax=axes[2], color=['k'], alpha=0.2, bins=0.1*np.arange(0,6))\n",
    "except TypeError:\n",
    "    print('no data')\n",
    "\n",
    "#plt.yscale('log', nonposy='clip')\n",
    "\n",
    "# dfN['weight'].loc[dfN['weight']<thresh].plot(ax=axes[2], style='.', alpha=0.3, color='k')\n",
    "# dfN['weight'].loc[dfN['weight']>thresh].plot(ax=axes[2], style='.', color='orange')\n",
    "\n",
    "for ax in axes[:2]:\n",
    "    ax.set_xlim([0,20])\n",
    "    ax.set_xlabel('time')\n",
    "    ax.axvline(t_max, color='k')\n",
    "\n",
    "axes[0].set_ylabel(r'$K_c/K_d - K_{c0}/K_{d0}$')\n",
    "axes[1].set_ylabel('fraction of clean investment')\n",
    "axes[1].set_ylim((0,1.03))\n",
    "axes[2].set_ylabel('count')\n",
    "axes[2].set_xlabel(r'$1/(1+d)$')\n",
    "axes[2].set_xlim([0,1])\n",
    "\n",
    "fig.tight_layout()\n",
    "fig.savefig('initial_condition_sampling.pdf')"
   ]
  },
  {
   "cell_type": "code",
   "execution_count": null,
   "metadata": {},
   "outputs": [],
   "source": [
    "oNames = [f'N{i+1}' for i in range(8)]\n",
    "\n",
    "dfN_norm = pd.DataFrame(index=dfN.index, columns=dfN.columns)\n",
    "\n",
    "for i in range(len(dfN)):\n",
    "    dfN_norm.loc[i, oNames] = dfN.loc[i, oNames] * dfN['weight'][i]\n",
    "dfN_norm['weight'] = dfN['weight']\n",
    "print([round(x) for x in dfN_norm.sum()])\n",
    "print(sum([round(x) for x in dfN_norm[oNames].sum()]))"
   ]
  },
  {
   "cell_type": "code",
   "execution_count": null,
   "metadata": {},
   "outputs": [],
   "source": [
    "sum([15, 8, 12, 12, 14, 17, 7, 16])"
   ]
  },
  {
   "cell_type": "code",
   "execution_count": null,
   "metadata": {},
   "outputs": [],
   "source": [
    "# initial opinions:\n",
    "fitted_opinions_distribution = [15, 8, 12, 12, 14, 17, 7, 16]\n",
    "x = [2 * x for x in fitted_opinions_distribution]\n",
    "opinions = []\n",
    "\n",
    "for i, xi in enumerate(x):\n",
    "    opinions += int(np.round(xi)) * [i]\n",
    "np.random.shuffle(opinions)\n",
    "# as the fitted distribution has one count to many, I have to leave two out\n",
    "# here.\n",
    "opinions = opinions[:-2]"
   ]
  },
  {
   "cell_type": "code",
   "execution_count": null,
   "metadata": {},
   "outputs": [],
   "source": [
    "from collections import Counter\n",
    "cnt = Counter(opinions)\n",
    "for i in range(7):\n",
    "    print(i, cnt[i])\n",
    "print(cnt.keys())\n",
    "print(cnt.values())"
   ]
  },
  {
   "cell_type": "code",
   "execution_count": null,
   "metadata": {},
   "outputs": [],
   "source": [
    "0 30\n",
    "1 16\n",
    "2 24\n",
    "3 24\n",
    "4 27\n",
    "5 34\n",
    "6 14\n",
    "dict_keys([5, 2, 7, 0, 6, 3, 4, 1])\n",
    "dict_values([34, 24, 31, 30, 14, 24, 27, 16])\n"
   ]
  },
  {
   "cell_type": "code",
   "execution_count": null,
   "metadata": {},
   "outputs": [],
   "source": [
    "with pd.HDFStore(path + 'X0a_ffh.h5') as store:\n",
    "    opd = store.select('dat_0')\n",
    "opd.index = opd.index.droplevel(['eps', 'phi', 'ffh', 'test'])\n",
    "opinions = opd.xs(level=1, key='opinions')\n",
    "dfN = opinions\n",
    "dfN_vis = pd.DataFrame(index=dfN.index)\n",
    "dfN_vis['x'] = dfN['O1'] + dfN['O2'] + dfN['O3']\n",
    "dfN_vis['y'] = dfN['O4'] + dfN['O5'] + dfN['O6']\n",
    "dfN_vis['z'] = dfN['O7'] + dfN['O8']\n",
    "\n",
    "fig = plt.figure(figsize=(15, 10))\n",
    "ax = fig.add_subplot(111, projection='3d')\n",
    "ax.scatter(xs=dfN_vis[['x']], ys=dfN_vis[['y']], zs=dfN_vis['z'])\n",
    "dfN.head()"
   ]
  }
 ],
 "metadata": {
  "kernelspec": {
   "display_name": "Python [default]",
   "language": "python",
   "name": "python3"
  },
  "language_info": {
   "codemirror_mode": {
    "name": "ipython",
    "version": 3
   },
   "file_extension": ".py",
   "mimetype": "text/x-python",
   "name": "python",
   "nbconvert_exporter": "python",
   "pygments_lexer": "ipython3",
   "version": "3.6.4"
  }
 },
 "nbformat": 4,
 "nbformat_minor": 2
}
