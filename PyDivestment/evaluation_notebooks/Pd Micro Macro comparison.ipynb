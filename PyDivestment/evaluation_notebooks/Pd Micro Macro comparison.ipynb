{
 "cells": [
  {
   "cell_type": "code",
   "execution_count": null,
   "metadata": {},
   "outputs": [],
   "source": [
    "\"\"\"\n",
    "This script is suposed to produce plots of the results from\n",
    "macroscopic approximation of the network-based microscopic model of divestment.\n",
    "\"\"\"\n",
    "%matplotlib inline\n",
    "import numpy as np\n",
    "import matplotlib.pyplot as plt\n",
    "import pandas as pd\n",
    "from plot_routines import plot_routines"
   ]
  },
  {
   "cell_type": "code",
   "execution_count": null,
   "metadata": {},
   "outputs": [],
   "source": [
    "import time\n",
    "\n",
    "bc, eps = 1.25, 0.05\n",
    "\n",
    "#prt = plot_routines(base_path='/home/jakob/Project_Divestment/PyDivestment/output_data/test_output/P2/')\n",
    "prt = plot_routines(\n",
    "         micro_path='/home/jakob/Project_Divestment/PyDivestment/output_data/P3o2/micro/',\n",
    "         macro_path='/home/jakob/Project_Divestment/PyDivestment/output_data/P3o2/aggregate/',\n",
    "         table='/dat',\n",
    "         macro_selector='approximate = 2',\n",
    "         micro_selector='approximate = 1',\n",
    "         toffset=0)\n"
   ]
  },
  {
   "cell_type": "code",
   "execution_count": null,
   "metadata": {},
   "outputs": [],
   "source": []
  },
  {
   "cell_type": "code",
   "execution_count": null,
   "metadata": {},
   "outputs": [],
   "source": [
    "\n",
    "\n",
    "#for phi in [round(x, 5) for x in list(np.linspace(0.0, 0.9, 10))]:\n",
    "for phi in [1.]:\n",
    "\n",
    "    figure, axes = prt.mk_4plots_v2(selector={'phi': phi, 'tau': 1., 'xi': 0.06},\n",
    "                           upper_limits=[1., 150, 7000, 2000, 5000], \n",
    "                           lower_limits=[0, 0, 0, 0, 0],\n",
    "                           legend_locations=[2, 9, 1, 1],\n",
    "                           tmax=30,\n",
    "                           figsize=(7,6))\n",
    "    figure.tight_layout()\n",
    "    figure.savefig('micro_vs_approx.pdf'.format(bc, phi))\n",
    "figure.set_figheight(10)\n",
    "figure.set_figwidth(12)\n"
   ]
  },
  {
   "cell_type": "code",
   "execution_count": null,
   "metadata": {},
   "outputs": [],
   "source": [
    "with pd.HDFStore('/home/jakob/Project_Divestment/PyDivestment/output_data/P3/representative/' + 'mean.h5') as store:\n",
    "    print(store.info())"
   ]
  },
  {
   "cell_type": "code",
   "execution_count": null,
   "metadata": {},
   "outputs": [],
   "source": []
  }
 ],
 "metadata": {
  "kernelspec": {
   "display_name": "Python [default]",
   "language": "python",
   "name": "python3"
  },
  "language_info": {
   "codemirror_mode": {
    "name": "ipython",
    "version": 3
   },
   "file_extension": ".py",
   "mimetype": "text/x-python",
   "name": "python",
   "nbconvert_exporter": "python",
   "pygments_lexer": "ipython3",
   "version": "3.6.4"
  }
 },
 "nbformat": 4,
 "nbformat_minor": 2
}
