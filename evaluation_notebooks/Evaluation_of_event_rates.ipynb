{
 "cells": [
  {
   "cell_type": "code",
   "execution_count": null,
   "metadata": {},
   "outputs": [],
   "source": [
    "# Copyright (C) 2016-2018 by Jakob J. Kolb at Potsdam Institute for Climate\n",
    "# Impact Research\n",
    "#\n",
    "# Contact: kolb@pik-potsdam.de\n",
    "# License: GNU AGPL Version 3\n",
    "\n",
    "import pandas as pd\n",
    "import matplotlib.pyplot as plt\n",
    "import numpy as np\n",
    "%matplotlib inline"
   ]
  },
  {
   "cell_type": "code",
   "execution_count": null,
   "metadata": {},
   "outputs": [],
   "source": [
    "with pd.HDFStore('/home/jakob/Project_Divestment/PyDivestment/output_data/P7/micro/mean.h5') as store:\n",
    "    micro_data = store.select('dat_0', 'approximate = 1 & test = 0')\n",
    "micro_data.index = micro_data.index.droplevel(['approximate', 'test', 'sample'])\n",
    "micro_data = micro_data.set_index('time')\n",
    "\n",
    "with pd.HDFStore('/home/jakob/Project_Divestment/PyDivestment/output_data/P7/micro/std.h5') as store:\n",
    "    micro_sem = store.select('dat_0', 'approximate = 1 & test = 0')\n",
    "micro_sem.head()\n",
    "micro_sem.index = micro_sem.index.droplevel(['approximate', 'test', 'sample'])\n",
    "micro_sem = micro_sem.set_index('time')"
   ]
  },
  {
   "cell_type": "code",
   "execution_count": null,
   "metadata": {},
   "outputs": [],
   "source": [
    "with pd.HDFStore('/home/jakob/Project_Divestment/PyDivestment/output_data/P7/aggregate/mean.h5') as store:\n",
    "    macro_data = store.select('dat_0', 'approximate = 2 & test = 0')\n",
    "macro_data.index = macro_data.index.droplevel(['approximate', 'test', 'sample'])\n",
    "macro_data = macro_data.set_index('time')"
   ]
  },
  {
   "cell_type": "code",
   "execution_count": null,
   "metadata": {},
   "outputs": [],
   "source": [
    "data = micro_data[['E_a', 'E_an', 'E_i_cd', 'E_i_dc', 'E_in_cd', 'E_in_dc', 'E_tot']].values\n",
    "dt = micro_data.index.values[1] - micro_data.index.values[0]\n",
    "d_out = [[0,0,0,0,0]]\n",
    "for i in range(len(data)-1):\n",
    "    d1 = data[i]\n",
    "    d2 = data[i+1]\n",
    "    d_out.append([(x2-x1)/dt for j, (x1, x2) in enumerate(zip(d1, d2))])\n",
    "    d_out[-1]\n",
    "micro_rate = pd.DataFrame(index=macro_data.index.values, columns=['E_a', 'E_an', 'E_i_cd', 'E_i_dc', 'E_in_cd', 'E_in_dc', 'E_tot'], data=d_out)"
   ]
  },
  {
   "cell_type": "code",
   "execution_count": null,
   "metadata": {},
   "outputs": [],
   "source": [
    "fig, ax = plt.subplots(ncols=3)\n",
    "fig.set_figwidth(15)\n",
    "macro_data['W_an'].plot(ax=ax[0], label='macro')\n",
    "micro_rate['E_an'].plot(ax=ax[0], label='micro')\n",
    "ax[0].set_title('cumulative adaptation noise events')\n",
    "ax[0].legend()\n",
    "macro_data['W_a'].plot(ax=ax[1], label='macro')\n",
    "micro_rate['E_a'].plot(ax=ax[1], label='micro')\n",
    "ax[1].set_title('cumulative adaptation events')\n",
    "ax[1].legend()\n",
    "macro_data['W_tot'].plot(ax=ax[2], label='macro')\n",
    "micro_rate['E_tot'].plot(ax=ax[2], label='micro')\n",
    "ax[2].set_title('cumulative total events')\n",
    "#ax[2].set_ylim([.9, 1.1])\n",
    "ax[2].legend()"
   ]
  },
  {
   "cell_type": "code",
   "execution_count": null,
   "metadata": {},
   "outputs": [],
   "source": [
    "fig2, ax2 = plt.subplots(1)\n",
    "ax2.plot(macro_data.index.values, macro_data['W_an'].values/micro_rate['E_an'].values, label='noise')\n",
    "ax2.plot(macro_data.index.values, macro_data['W_a'].values/micro_rate['E_a'].values, label='adaptation')\n",
    "ax2.plot(macro_data.index.values, macro_data['W_tot'].values/micro_rate['E_tot'].values, label='total')\n",
    "ax2.legend()"
   ]
  },
  {
   "cell_type": "code",
   "execution_count": null,
   "metadata": {},
   "outputs": [],
   "source": [
    "fig, ax = plt.subplots(ncols=2)\n",
    "fig.set_figwidth(24)\n",
    "fig.set_figheight(8)\n",
    "micro_data[['y']].plot(ax=ax[0], color='r', label='y micro', legend=False)\n",
    "macro_data[['y']].plot(ax=ax[0], color='r', label='y approx', legend=False, style='--')\n",
    "ax[0].legend()\n",
    "micro_data[['x']].plot(ax=ax[0], color='b', label='x micro', legend=False)\n",
    "\n",
    "x = micro_data[['x']].values.T[0]\n",
    "dx = micro_sem[['x']].values.T[0]\n",
    "ax[0].fill_between(micro_data.index.values, x+dx, x-dx, alpha=.2)\n",
    "\n",
    "macro_data[['x']].plot(ax=ax[0], color='b', label='x approx', legend=False, style='--')\n",
    "ax[0].legend()\n",
    "\n",
    "\n",
    "micro_data[['z']].plot(ax=ax[1], color='k', label='z micro', legend=False)\n",
    "\n",
    "x = micro_data[['z']].values.T[0]\n",
    "dx = micro_sem[['z']].values.T[0]\n",
    "ax[1].fill_between(micro_data.index.values, x+dx, x-dx, alpha=.2)\n",
    "\n",
    "macro_data[['z']].plot(ax=ax[1], color='k', label='z approx', legend=False, style='--')\n",
    "ax[1].legend()"
   ]
  },
  {
   "cell_type": "code",
   "execution_count": null,
   "metadata": {},
   "outputs": [],
   "source": [
    "fig, ax = plt.subplots(ncols=4)\n",
    "fig.set_figwidth(15)\n",
    "macro_data['W_i_cd'].plot(ax=ax[0], label='macro')\n",
    "micro_rate['E_i_cd'].plot(ax=ax[0], label='micro')\n",
    "ax[0].set_title('event rate c->d')\n",
    "ax[0].legend()\n",
    "macro_data['W_i_dc'].plot(ax=ax[1], label='macro')\n",
    "micro_rate['E_i_dc'].plot(ax=ax[1], label='micro')\n",
    "ax[1].set_title('event rate d->c')\n",
    "ax[1].legend()\n",
    "micro_rate['E_in_cd'].plot(ax=ax[2], label='micro', style='-', color='orange')\n",
    "macro_data['W_in_cd'].plot(ax=ax[2], label='macro', style='--', color='b')\n",
    "micro_rate['E_in_dc'].plot(ax=ax[3], label='micro', style='-', color='orange')\n",
    "macro_data['W_in_dc'].plot(ax=ax[3], label='macro', style='--', color='b')\n",
    "ax[2].set_title('noise event rate c->d')\n",
    "ax[3].set_title('noise event rate d->c')\n",
    "#ax[2].set_ylim([.9, 1.1])\n",
    "ax[2].legend()\n",
    "ax[3].legend()"
   ]
  },
  {
   "cell_type": "markdown",
   "metadata": {},
   "source": [
    "With regards to imitation probabilities, there are two ways to look at it. \n",
    "* I can sample actual imitation probabilities, then average and then compare between micro and approximation\n",
    "* I can look at the approximation of the imitation probabilities in the approximation and see, how good they are compared to the full form."
   ]
  },
  {
   "cell_type": "code",
   "execution_count": null,
   "metadata": {},
   "outputs": [],
   "source": [
    "with pd.HDFStore('/home/jakob/Project_Divestment/PyDivestment/output_data/P7/micro/switch.h5') as store:\n",
    "    switch_data = store.select('dat_1', 'approximate = 1 & test = 0')\n",
    "switch_data.index = switch_data.index.droplevel(['approximate', 'test', 'sample'])\n",
    "switch_data.loc[:, 'time'] = pd.Series(switch_data.index.values, index=switch_data.index)\n",
    "switch_data.sort_index(inplace=True)\n",
    "switch_data.head()"
   ]
  },
  {
   "cell_type": "code",
   "execution_count": null,
   "metadata": {},
   "outputs": [],
   "source": [
    "switch_datacd = switch_data.loc[switch_data['Direction']==0]\n",
    "switch_datadc = switch_data.loc[switch_data['Direction']==1]"
   ]
  },
  {
   "cell_type": "code",
   "execution_count": null,
   "metadata": {},
   "outputs": [],
   "source": [
    "def running_mean(x, N):\n",
    "    x = x.T[0]\n",
    "    return np.convolve(x, np.ones((N,))/N, mode='valid')"
   ]
  },
  {
   "cell_type": "code",
   "execution_count": null,
   "metadata": {},
   "outputs": [],
   "source": [
    "fig, axes = plt.subplots(ncols=2)\n",
    "fig.set_figwidth(15)\n",
    "fig.set_figheight(6)\n",
    "\n",
    "switch_datacd.plot.scatter(ax=axes[0], x='time', y='Probability', alpha=.05, label=r'$P_{c \\rightarrow d}$', legend=True)\n",
    "macro_data[['Pcd']].plot(color='red', ax=axes[0], style='--')\n",
    "\n",
    "w = 200\n",
    "axes[0].plot(switch_datacd.index.values[:-w+1], running_mean(switch_datacd[['Probability']].values, w),\n",
    "          '-', color='k', label='running mean')\n",
    "axes[0].legend(['approximation', 'running mean', r'$P_{c \\rightarrow d}$ from micro model'])\n",
    "axes[0].set_ylabel(r'$P(c \\rightarrow d)$')\n",
    "\n",
    "switch_datadc.plot.scatter(ax=axes[1], x='time', y='Probability', alpha=.05)\n",
    "macro_data[['Pdc']].plot(color='red', ax=axes[1], style='--', label='approximation')\n",
    "\n",
    "axes[1].plot(switch_datadc.index.values[:-w+1], running_mean(switch_datadc[['Probability']].values, w),\n",
    "          '-', color='k', label='running mean')\n",
    "axes[1].legend(['approximation', 'running mean', r'$P_{d \\rightarrow c}$ from micro model'])\n",
    "axes[1].set_ylabel(r'$P(d \\rightarrow c)$')"
   ]
  },
  {
   "cell_type": "code",
   "execution_count": null,
   "metadata": {},
   "outputs": [],
   "source": [
    "macro_data.columns"
   ]
  },
  {
   "cell_type": "code",
   "execution_count": null,
   "metadata": {},
   "outputs": [],
   "source": [
    "fig, axes = plt.subplots(ncols=2)\n",
    "fig.set_figwidth(15)\n",
    "fig.set_figheight(6)\n",
    "axes[0].set_title('Income of clean households')\n",
    "switch_datacd.plot.scatter(ax=axes[0], x='time', y='Income of active agent', alpha=0.05)\n",
    "macro_data[['I_c']].plot(ax=axes[0], color='red')\n",
    "macro_data['W_0'].plot(color='green', style='--', ax=axes[0])\n",
    "axes[0].plot(switch_datacd.index.values[:-w+1], running_mean(switch_datacd[['Income of active agent']].values, w),\n",
    "          '-', color='k', label='running mean')\n",
    "axes[0].legend([r'$I_c$ approximation', r'$I_c^{(0)}$', r'running mean from micro simulation'])\n",
    "\n",
    "axes[1].set_title('Income of dirty households')\n",
    "switch_datadc.plot.scatter(ax=axes[1], x='time', y='Income of active agent', alpha=0.05)\n",
    "macro_data[['I_d']].plot(ax=axes[1], color='red')\n",
    "macro_data['W_0'].plot(color='green', style='--', ax=axes[1], label=r'$I_d^{(0)}$')\n",
    "axes[1].plot(switch_datadc.index.values[:-w+1], running_mean(switch_datadc[['Income of active agent']].values, w),\n",
    "          '-', color='k', label='running mean, \\n micro simulation')\n",
    "axes[1].legend([r'$I_d$ approximation', r'$I_d^{(0)}$', r'running mean from micro simulation'])"
   ]
  },
  {
   "cell_type": "code",
   "execution_count": null,
   "metadata": {},
   "outputs": [],
   "source": [
    "macro_data[['I_d']].values[0]"
   ]
  },
  {
   "cell_type": "code",
   "execution_count": null,
   "metadata": {},
   "outputs": [],
   "source": [
    "running_mean(switch_datadc[['Income of active agent']].values, w)[0]"
   ]
  },
  {
   "cell_type": "code",
   "execution_count": null,
   "metadata": {},
   "outputs": [],
   "source": [
    "macro_data[['I_c']].values[0]"
   ]
  },
  {
   "cell_type": "code",
   "execution_count": null,
   "metadata": {},
   "outputs": [],
   "source": [
    "running_mean(switch_datacd[['Income of active agent']].values, w)[0]"
   ]
  },
  {
   "cell_type": "code",
   "execution_count": null,
   "metadata": {},
   "outputs": [],
   "source": []
  }
 ],
 "metadata": {
  "kernelspec": {
   "display_name": "Python [conda env:py36]",
   "language": "python",
   "name": "conda-env-py36-py"
  },
  "language_info": {
   "codemirror_mode": {
    "name": "ipython",
    "version": 3
   },
   "file_extension": ".py",
   "mimetype": "text/x-python",
   "name": "python",
   "nbconvert_exporter": "python",
   "pygments_lexer": "ipython3",
   "version": "3.6.0"
  }
 },
 "nbformat": 4,
 "nbformat_minor": 2
}
