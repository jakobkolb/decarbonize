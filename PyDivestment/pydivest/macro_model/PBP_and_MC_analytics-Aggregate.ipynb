{
 "cells": [
  {
   "cell_type": "markdown",
   "metadata": {},
   "source": [
    "## Equations for Moment Closure of Network-based micro-model for divestment of bounded rational households."
   ]
  },
  {
   "cell_type": "markdown",
   "metadata": {},
   "source": [
    "Imports and setup"
   ]
  },
  {
   "cell_type": "code",
   "execution_count": 150,
   "metadata": {},
   "outputs": [
    {
     "data": {
      "text/html": [
       "<style>.container { width:98% !important; }</style>"
      ],
      "text/plain": [
       "<IPython.core.display.HTML object>"
      ]
     },
     "metadata": {},
     "output_type": "display_data"
    }
   ],
   "source": [
    "import sympy as s\n",
    "import pickle as pkl\n",
    "from sympy.abc import epsilon, phi, tau\n",
    "from IPython.core.display import display, HTML\n",
    "display(HTML(\"<style>.container { width:98% !important; }</style>\"))\n",
    "s.init_printing()"
   ]
  },
  {
   "cell_type": "markdown",
   "metadata": {},
   "source": [
    "Define variables and parameters for the adaptive voter model"
   ]
  },
  {
   "cell_type": "code",
   "execution_count": 151,
   "metadata": {
    "collapsed": true
   },
   "outputs": [],
   "source": [
    "# number of nodes\n",
    "N = s.Symbol('N', integer=True)\n",
    "# number of dirty nodes\n",
    "Nd = s.Symbol('N_d', integer=True)\n",
    "# number of clean nodes\n",
    "Nc = s.Symbol('N_c', integer=True)\n",
    "# number of edges\n",
    "M = s.Symbol('M', integer=True)\n",
    "# number of clean edges\n",
    "cc = s.Symbol('[cc]', integer=True)\n",
    "# number of dirty edges\n",
    "dd = s.Symbol('[dd]', integer=True)\n",
    "# number of mixed edges\n",
    "cd = s.Symbol('[cd]', integer=True)\n",
    "# average number of neighbors of clean nodes\n",
    "kc = s.Symbol('k_c', integer=True)\n",
    "# average number of neighbors of dirty nodes\n",
    "kd = s.Symbol('k_d', integer=True)\n",
    "# Nc - Nd\n",
    "X = s.Symbol('X', real=True)\n",
    "# cc - dd\n",
    "Y = s.Symbol('Y', real=True)\n",
    "# cd\n",
    "Z = s.Symbol('Z', real=True, positive=True)\n",
    "# wealth of dirty node\n",
    "Wd = s.Symbol('W_d')\n",
    "# wealth of clean node\n",
    "Wc = s.Symbol('W_c')\n",
    "# imitation probabilities\n",
    "Pcd, Pdc = s.symbols('P_{cd} P_{dc}')\n",
    "# relative fittness differences\n",
    "Wcd, Wdc = s.symbols('W_{cd} W_{dc}')"
   ]
  },
  {
   "cell_type": "markdown",
   "metadata": {},
   "source": [
    "Define variables and parameters for the economic subsystem:"
   ]
  },
  {
   "cell_type": "code",
   "execution_count": 167,
   "metadata": {
    "collapsed": true
   },
   "outputs": [],
   "source": [
    "# Total labor and labor shares in sectors\n",
    "L, Lc, Ld = s.symbols('L L_c L_d', positive=True, real=True)\n",
    "# Total capital in sectors\n",
    "Kc, Kd = s.symbols('K_c K_d', positive=True, real=True)\n",
    "# Equilibrium wage and capital return rates in sectors\n",
    "w, rc, rd = s.symbols('w r_c r_d', positive=True, real=True)\n",
    "# Resource usage rage, resource stock, knowledge Stock\n",
    "R, G, C = s.symbols('R, G, C', positive=True, real=True)\n",
    "# aggregate capital endowments of clean and dirty households\n",
    "# lower (first) index: capital type, upper (second) index: household type\n",
    "Kcc, Kcd, Kdc, Kdd = s.symbols('K_c^c K_c^d K_d^c K_d^d', positive=True, real=True)\n",
    "# savings rate, capital depreciaten rate, and elasticities of labor, capital and knowledge\n",
    "rs, delta, pi, kappac, kappad, xi = s.symbols('s delta pi kappa_c, kappa_d xi', positive=True, rational=True, real=True)\n",
    "# solow residuals of clean and dirty sector, prefactor for resource cost, energy efficiency, initial resource stock\n",
    "bc, bd, bR, e, G0 = s.symbols('b_c b_d b_R e G_0', positive=True, real=True)\n",
    "# substitutions for resolution on constraints from market clearing.\n",
    "Xc, Xd, XR = s.symbols('X_c X_d X_R', positive=True, real=True)"
   ]
  },
  {
   "cell_type": "markdown",
   "metadata": {},
   "source": [
    "Defination of relations between variables and calculation of substitution of *primitive variables* by *state variables* of the system"
   ]
  },
  {
   "cell_type": "code",
   "execution_count": 168,
   "metadata": {},
   "outputs": [
    {
     "data": {
      "image/png": "[encoded data removed]",
      "text/latex": [
       "$$\\left \\{ N_{c} : \\frac{N}{2} + \\frac{X}{2}, \\quad N_{d} : \\frac{N}{2} - \\frac{X}{2}, \\quad [cc] : \\frac{M}{2} + \\frac{Y}{2} - \\frac{Z}{2}, \\quad [cd] : Z, \\quad [dd] : \\frac{M}{2} - \\frac{Y}{2} - \\frac{Z}{2}, \\quad k_{c} : \\frac{2 \\left(M + Y\\right)}{N + X}, \\quad k_{d} : \\frac{2 \\left(M - Y\\right)}{N - X}\\right \\}$$"
      ],
      "text/plain": [
       "⎧     N   X       N   X        M   Y   Z                 M   Y   Z       2⋅(M \n",
       "⎨N_c: ─ + ─, N_d: ─ - ─, [cc]: ─ + ─ - ─, [cd]: Z, [dd]: ─ - ─ - ─, k_c: ─────\n",
       "⎩     2   2       2   2        2   2   2                 2   2   2         N +\n",
       "\n",
       "+ Y)       2⋅(M - Y)⎫\n",
       "────, k_d: ─────────⎬\n",
       " X           N - X  ⎭"
      ]
     },
     "execution_count": 168,
     "metadata": {},
     "output_type": "execute_result"
    }
   ],
   "source": [
    "eqs = [\n",
    "    # total number of households is fixed,\n",
    "    Nd+Nc-N,\n",
    "    # total number of edges is fixed,\n",
    "    cc+dd+cd-M,\n",
    "    # definition of state space variables\n",
    "    X-Nc+Nd,\n",
    "    Y-cc+dd,\n",
    "    Z-cd,\n",
    "    # mean degrees of clean and dirty nodes\n",
    "    kc-(2*cc+cd)/Nc,\n",
    "    kd-(2*dd+cd)/Nd\n",
    "]\n",
    "vars1 = (Nc, Nd, cc, dd, cd, kc, kd)\n",
    "vars2 = (N, M, X, Y, Z)\n",
    "subs1 = s.solve(eqs, vars1, dict=True)[0]\n",
    "\n",
    "subs1"
   ]
  },
  {
   "cell_type": "code",
   "execution_count": 169,
   "metadata": {},
   "outputs": [
    {
     "data": {
      "image/png": "[encoded data removed]",
      "text/latex": [
       "$$\\left \\{ W_{cd} : \\frac{- \\left(N - X\\right) \\left(K^{c}_{c} r_{c} + K^{c}_{d} r_{d}\\right) + \\left(N + X\\right) \\left(K^{d}_{c} r_{c} + K^{d}_{d} r_{d}\\right)}{\\left(N - X\\right) \\left(K^{c}_{c} r_{c} + K^{c}_{d} r_{d}\\right) + \\left(N + X\\right) \\left(K^{d}_{c} r_{c} + K^{d}_{d} r_{d}\\right)}, \\quad W_{dc} : \\frac{\\left(N - X\\right) \\left(K^{c}_{c} r_{c} + K^{c}_{d} r_{d}\\right) - \\left(N + X\\right) \\left(K^{d}_{c} r_{c} + K^{d}_{d} r_{d}\\right)}{\\left(N - X\\right) \\left(K^{c}_{c} r_{c} + K^{c}_{d} r_{d}\\right) + \\left(N + X\\right) \\left(K^{d}_{c} r_{c} + K^{d}_{d} r_{d}\\right)}\\right \\}$$"
      ],
      "text/plain": [
       "⎧        -(N - X)⋅(K_c__c⋅r_c + K_d__c⋅r_d) + (N + X)⋅(K_c__d⋅r_c + K_d__d⋅r_d\n",
       "⎨W_{cd}: ─────────────────────────────────────────────────────────────────────\n",
       "⎩        (N - X)⋅(K_c__c⋅r_c + K_d__c⋅r_d) + (N + X)⋅(K_c__d⋅r_c + K_d__d⋅r_d)\n",
       "\n",
       ")          (N - X)⋅(K_c__c⋅r_c + K_d__c⋅r_d) - (N + X)⋅(K_c__d⋅r_c + K_d__d⋅r_\n",
       "─, W_{dc}: ───────────────────────────────────────────────────────────────────\n",
       "           (N - X)⋅(K_c__c⋅r_c + K_d__c⋅r_d) + (N + X)⋅(K_c__d⋅r_c + K_d__d⋅r_\n",
       "\n",
       "d)⎫\n",
       "──⎬\n",
       "d)⎭"
      ]
     },
     "execution_count": 169,
     "metadata": {},
     "output_type": "execute_result"
    }
   ],
   "source": [
    "# define expected wealth as expected income\n",
    "subsW = {}\n",
    "subsW[Wc] = ((rc * Kcc + rd * Kdc) / Nc).subs(subs1)\n",
    "subsW[Wd] = ((rc * Kcd + rd * Kdd) / Nd).subs(subs1)\n",
    "\n",
    "# Define substitutions for relative fitness differences\n",
    "subsDW = {}\n",
    "subsDW[Wcd] = (Wd - Wc) / (Wc + Wd)\n",
    "subsDW[Wdc] = (Wc - Wd) / (Wc + Wd)\n",
    "\n",
    "for key in subsDW.keys():\n",
    "    subsDW[key] = s.simplify(subsDW[key].subs(subsW))\n",
    "subsDW"
   ]
  },
  {
   "cell_type": "code",
   "execution_count": 170,
   "metadata": {},
   "outputs": [
    {
     "data": {
      "image/png": "[encoded data removed]",
      "text/latex": [
       "$$\\left \\{ P_{cd} : \\frac{1.0}{e^{8.0 W_{cd}} + 1}, \\quad P_{dc} : \\frac{1.0}{e^{8.0 W_{dc}} + 1}\\right \\}$$"
      ],
      "text/plain": [
       "⎧              1.0                      1.0      ⎫\n",
       "⎪P_{cd}: ───────────────, P_{dc}: ───────────────⎪\n",
       "⎨         8.0⋅W_{cd}               8.0⋅W_{dc}    ⎬\n",
       "⎪        ℯ           + 1          ℯ           + 1⎪\n",
       "⎩                                                ⎭"
      ]
     },
     "execution_count": 170,
     "metadata": {},
     "output_type": "execute_result"
    }
   ],
   "source": [
    "# Define imitation probabilities depending on agent wealth\n",
    "\n",
    "interaction = 1\n",
    "subsP = {}\n",
    "if interaction == 1:\n",
    "    subsP[Pcd] = (1. / (1 + s.exp(8. * Wcd)))\n",
    "    subsP[Pdc] = (1. / (1 + s.exp(8. * Wdc)))\n",
    "elif interaction == 2:\n",
    "    subsP[Pcd] = ((1./2)*(Wcd+1))\n",
    "    subsP[Pdc] = ((1./2)*(Wdc+1))\n",
    "    \n",
    "for key in subsP.keys():\n",
    "    subsP[key] = s.simplify(subsP[key])\n",
    "subsP"
   ]
  },
  {
   "cell_type": "markdown",
   "metadata": {},
   "source": [
    "Jumps in state space i.e. Effect of events on state vector S = (X, Y, Z) - denoted r = X-X' in van Kampen"
   ]
  },
  {
   "cell_type": "code",
   "execution_count": 171,
   "metadata": {
    "collapsed": true
   },
   "outputs": [],
   "source": [
    "# regular adaptive voter events\n",
    "s1 = s.Matrix([ 0, 1, -1]) # clean investor rewires\n",
    "s2 = s.Matrix([ 0,-1, -1]) # dirty investor rewires\n",
    "s3 = s.Matrix([-2,-kc,-1 + (1-1./kc)*((2*cc-cd)/Nc)]) # clean investor imitates c -> d\n",
    "s4 = s.Matrix([ 2, kd,-1 + (1-1./kd)*((2*dd-cd)/Nd)]) # dirty investor imitates d -> c\n",
    "\n",
    "# noise events\n",
    "\n",
    "s5 = s.Matrix([-2,-(2*cc+cd)/Nc,(2*cc-cd)/Nc]) # c -> d\n",
    "s6 = s.Matrix([ 2, (2*dd+cd)/Nd,(2*dd-cd)/Nd]) # d -> c\n",
    "s7 = s.Matrix([ 0,-1, 1]) # c-c -> c-d\n",
    "s8 = s.Matrix([ 0, 1,-1]) # c-d -> c-c\n",
    "s9 = s.Matrix([ 0, 1, 1]) # d-d -> d-c\n",
    "s10= s.Matrix([ 0,-1,-1]) # d-c -> d-d"
   ]
  },
  {
   "cell_type": "markdown",
   "metadata": {},
   "source": [
    "Probabilities per unit time for events to occur (denoted by W in van Kampen)"
   ]
  },
  {
   "cell_type": "code",
   "execution_count": 172,
   "metadata": {
    "collapsed": true
   },
   "outputs": [],
   "source": [
    "p1 = 1./tau * (1-epsilon)*(Nc/N)*cd/(Nc * kc)*phi # clean investor rewires\n",
    "p2 = 1./tau * (1-epsilon)*(Nd/N)*cd/(Nd * kd)*phi # dirty investor rewires\n",
    "p3 = 1./tau * (1-epsilon)*(Nc/N)*cd/(Nc * kc)*(1-phi)*Pcd # clean investor imitates c -> d\n",
    "p4 = 1./tau * (1-epsilon)*(Nd/N)*cd/(Nd * kd)*(1-phi)*Pdc # dirty investor imitates d -> c\n",
    "p5 = 1./tau * epsilon * (1./2) * Nc/N # c -> d\n",
    "p6 = 1./tau * epsilon * (1./2) * Nd/N # d -> c\n",
    "p7 = 1./tau * epsilon * Nc/N * (2*cc)/(2*cc+cd) * Nd/N # c-c -> c-d\n",
    "p8 = 1./tau * epsilon * Nc/N * (cd)/(2*cc+cd) * Nc/N   # c-d -> c-c\n",
    "p9 = 1./tau * epsilon * Nd/N * (2*dd)/(2*dd+cd) * Nc/N # d-d -> d-c\n",
    "p10= 1./tau * epsilon * Nd/N * (cd)/(2*dd+cd) * Nd/N   # d-c -> d-d"
   ]
  },
  {
   "cell_type": "markdown",
   "metadata": {},
   "source": [
    "Create S and r matrices to write down rhs markov jump process for pair based proxy:"
   ]
  },
  {
   "cell_type": "code",
   "execution_count": 173,
   "metadata": {},
   "outputs": [
    {
     "data": {
      "image/png": "[encoded data removed]",
      "text/latex": [
       "$$\\left[\\begin{matrix}\\frac{1.0 [cd] \\phi}{N k_{c} \\tau} \\left(- \\epsilon + 1\\right) & \\frac{1.0 [cd] \\phi}{N k_{d} \\tau} \\left(- \\epsilon + 1\\right) & \\frac{1.0 P_{cd} [cd]}{N k_{c} \\tau} \\left(- \\epsilon + 1\\right) \\left(- \\phi + 1\\right) & \\frac{1.0 P_{dc} [cd]}{N k_{d} \\tau} \\left(- \\epsilon + 1\\right) \\left(- \\phi + 1\\right) & \\frac{0.5 N_{c} \\epsilon}{N \\tau} & \\frac{0.5 N_{d} \\epsilon}{N \\tau} & \\frac{2.0 N_{c} N_{d} [cc] \\epsilon}{N^{2} \\tau \\left(2 [cc] + [cd]\\right)} & \\frac{1.0 N_{c}^{2} [cd] \\epsilon}{N^{2} \\tau \\left(2 [cc] + [cd]\\right)} & \\frac{2.0 N_{c} N_{d} [dd] \\epsilon}{N^{2} \\tau \\left([cd] + 2 [dd]\\right)} & \\frac{1.0 N_{d}^{2} [cd] \\epsilon}{N^{2} \\tau \\left([cd] + 2 [dd]\\right)}\\end{matrix}\\right]$$"
      ],
      "text/plain": [
       "⎡                                                                             \n",
       "⎢1.0⋅[cd]⋅φ⋅(-ε + 1)  1.0⋅[cd]⋅φ⋅(-ε + 1)  1.0⋅P_{cd}⋅[cd]⋅(-ε + 1)⋅(-φ + 1)  \n",
       "⎢───────────────────  ───────────────────  ─────────────────────────────────  \n",
       "⎢      N⋅k_c⋅τ              N⋅k_d⋅τ                     N⋅k_c⋅τ               \n",
       "⎣                                                                             \n",
       "\n",
       "                                                                              \n",
       "1.0⋅P_{dc}⋅[cd]⋅(-ε + 1)⋅(-φ + 1)  0.5⋅N_c⋅ε  0.5⋅N_d⋅ε   2.0⋅N_c⋅N_d⋅[cc]⋅ε  \n",
       "─────────────────────────────────  ─────────  ─────────  ──────────────────── \n",
       "             N⋅k_d⋅τ                  N⋅τ        N⋅τ      2                   \n",
       "                                                         N ⋅τ⋅(2⋅[cc] + [cd]) \n",
       "\n",
       "          2                                           2          ⎤\n",
       "   1.0⋅N_c ⋅[cd]⋅ε      2.0⋅N_c⋅N_d⋅[dd]⋅ε     1.0⋅N_d ⋅[cd]⋅ε   ⎥\n",
       " ────────────────────  ────────────────────  ────────────────────⎥\n",
       "  2                     2                     2                  ⎥\n",
       " N ⋅τ⋅(2⋅[cc] + [cd])  N ⋅τ⋅([cd] + 2⋅[dd])  N ⋅τ⋅([cd] + 2⋅[dd])⎦"
      ]
     },
     "execution_count": 173,
     "metadata": {},
     "output_type": "execute_result"
    }
   ],
   "source": [
    "r = s.Matrix(s1)\n",
    "for i, si in enumerate([s2, s3, s4, s5, s6, s7, s8, s9, s10]):\n",
    "    r = r.col_insert(i+1, si)\n",
    "\n",
    "W = s.Matrix([p1])\n",
    "for j, pj in enumerate([s.Matrix([p]) for p in[p2, p3, p4, p5, p6, p7, p8, p9, p10]]):\n",
    "    W = W.col_insert(j+1, pj)\n",
    "W"
   ]
  },
  {
   "cell_type": "markdown",
   "metadata": {},
   "source": [
    "rhs of the pair based proxy is given by the first jump moment. This is formally given by \n",
    "\n",
    "$\\int r W(S,r) dr$\n",
    "\n",
    "which in our case is equal to \n",
    "\n",
    "$\\sum_i r_i W_{i, j}(S)$\n",
    "\n",
    "To calculate this, we first write the jumps and transition matrix in terms of X, Y, Z and then substitute with rescalled variables and eliminate N."
   ]
  },
  {
   "cell_type": "code",
   "execution_count": 174,
   "metadata": {
    "collapsed": true
   },
   "outputs": [],
   "source": [
    "r = r.subs(subs1)\n",
    "W = W.subs(subs1)"
   ]
  },
  {
   "cell_type": "code",
   "execution_count": 175,
   "metadata": {},
   "outputs": [],
   "source": [
    "x, y, z, m = s.symbols('x y z m')\n",
    "subs4 = {Kc: (Kcc + Kcd),\n",
    "         Kd: (Kdc + Kdd),\n",
    "         X: N*x,\n",
    "         Y: N*m*y,\n",
    "         Z: N*m*z,\n",
    "         M: N*m}"
   ]
  },
  {
   "cell_type": "code",
   "execution_count": 176,
   "metadata": {},
   "outputs": [
    {
     "name": "stdout",
     "output_type": "stream",
     "text": [
      "printing expressions that sympy cant handle to check their treatment is appropriate\n",
      "     ⎛  0.5⋅(N⋅x + N)    ⎞                        \n",
      "     ⎜- ───────────── + 1⎟⋅(N⋅m⋅y - 2⋅N⋅m⋅z + N⋅m)\n",
      "     ⎝   N⋅m⋅y + N⋅m     ⎠                        \n",
      "-1 + ─────────────────────────────────────────────\n",
      "                        N⋅x   N                   \n",
      "                        ─── + ─                   \n",
      "                         2    2                   \n",
      "printing expressions that sympy cant handle to check their treatment is appropriate\n",
      "     ⎛  0.5⋅(-N⋅x + N)    ⎞                         \n",
      "     ⎜- ────────────── + 1⎟⋅(-N⋅m⋅y - 2⋅N⋅m⋅z + N⋅m)\n",
      "     ⎝   -N⋅m⋅y + N⋅m     ⎠                         \n",
      "-1 + ───────────────────────────────────────────────\n",
      "                          N⋅x   N                   \n",
      "                        - ─── + ─                   \n",
      "                           2    2                   \n"
     ]
    }
   ],
   "source": [
    "r = r.subs(subs4)\n",
    "W = W.subs(subs4)\n",
    "for i in range(len(W)):\n",
    "    W[i] = W[i].collect(N)\n",
    "for i in range(len(r)):\n",
    "    r[i] = r[i].collect(N)\n",
    "    # flamming hack to circumvent sympies inability to collect with core.add.Add.\n",
    "    # eyeballing the expressions it is obvious that this is justified.\n",
    "    if isinstance(r[i], s.add.Add):\n",
    "        print('printing expressions that sympy cant handle to check their treatment is appropriate')\n",
    "        s.pretty_print(r[i])\n",
    "        r[i] = r[i].subs({N: 1})"
   ]
  },
  {
   "cell_type": "markdown",
   "metadata": {},
   "source": [
    "After eliminating N, we can write down the first jump moment:"
   ]
  },
  {
   "cell_type": "code",
   "execution_count": 177,
   "metadata": {},
   "outputs": [
    {
     "data": {
      "image/png": "[encoded data removed]",
      "text/latex": [
       "$$\\left[\\begin{matrix}\\frac{1.0}{\\tau \\left(y - 1\\right) \\left(y + 1\\right)} \\left(- P_{cd} z \\left(\\epsilon - 1\\right) \\left(\\phi - 1\\right) \\left(x + 1\\right) \\left(y - 1\\right) + P_{dc} z \\left(\\epsilon - 1\\right) \\left(\\phi - 1\\right) \\left(x - 1\\right) \\left(y + 1\\right) - \\epsilon x \\left(y - 1\\right) \\left(y + 1\\right)\\right)\\\\\\frac{1}{\\tau \\left(y - 1\\right) \\left(y + 1\\right)} \\left(m \\left(y - 1\\right) \\left(y + 1\\right) \\left(- 1.0 P_{cd} z \\left(\\epsilon - 1\\right) \\left(\\phi - 1\\right) + 1.0 P_{dc} z \\left(\\epsilon - 1\\right) \\left(\\phi - 1\\right) - 0.5 \\epsilon \\left(y - 1\\right) - 0.5 \\epsilon \\left(y + 1\\right)\\right) + \\left(x - 1\\right) \\left(y + 1\\right) \\left(0.25 \\epsilon z \\left(x - 1\\right) - 0.25 \\epsilon \\left(x + 1\\right) \\left(y + z - 1\\right) + 0.5 \\phi z \\left(\\epsilon - 1\\right)\\right) + \\left(x + 1\\right) \\left(y - 1\\right) \\left(0.25 \\epsilon z \\left(x + 1\\right) + 0.25 \\epsilon \\left(x - 1\\right) \\left(y - z + 1\\right) - 0.5 \\phi z \\left(\\epsilon - 1\\right)\\right)\\right)\\\\\\frac{1}{\\tau \\left(y - 1\\right)^{2} \\left(y + 1\\right)^{2}} \\left(- 0.5 P_{cd} z \\left(\\epsilon - 1\\right) \\left(\\phi - 1\\right) \\left(y - 1\\right)^{2} \\left(\\left(x + 1\\right) \\left(y + 1\\right) + 2 \\left(y - 2 z + 1\\right) \\left(- m y - m + 0.5 x + 0.5\\right)\\right) - 0.5 P_{dc} z \\left(\\epsilon - 1\\right) \\left(\\phi - 1\\right) \\left(y + 1\\right)^{2} \\left(\\left(x - 1\\right) \\left(y - 1\\right) + 2 \\left(y + 2 z - 1\\right) \\left(- m y + m + 0.5 x - 0.5\\right)\\right) + 1.0 \\epsilon m \\left(y - 1\\right)^{2} \\left(y + 1\\right)^{2} \\left(- 2 z + 1\\right) + \\left(x - 1\\right) \\left(y - 1\\right) \\left(y + 1\\right)^{2} \\left(0.25 \\epsilon z \\left(x - 1\\right) - 0.25 \\epsilon \\left(x + 1\\right) \\left(y + z - 1\\right) + 0.5 \\phi z \\left(\\epsilon - 1\\right)\\right) + \\left(x + 1\\right) \\left(y - 1\\right)^{2} \\left(y + 1\\right) \\left(- 0.25 \\epsilon z \\left(x + 1\\right) - 0.25 \\epsilon \\left(x - 1\\right) \\left(y - z + 1\\right) + 0.5 \\phi z \\left(\\epsilon - 1\\right)\\right)\\right)\\end{matrix}\\right]$$"
      ],
      "text/plain": [
       "⎡                                                                             \n",
       "⎢                                                                             \n",
       "⎢                                                                             \n",
       "⎢                                                                             \n",
       "⎢                                                                         m⋅(y\n",
       "⎢                                                                         ────\n",
       "⎢                                                                             \n",
       "⎢                                                                             \n",
       "⎢                                      2                                      \n",
       "⎢- 0.5⋅P_{cd}⋅z⋅(ε - 1)⋅(φ - 1)⋅(y - 1) ⋅((x + 1)⋅(y + 1) + 2⋅(y - 2⋅z + 1)⋅(-\n",
       "⎢─────────────────────────────────────────────────────────────────────────────\n",
       "⎢                                                                             \n",
       "⎣                                                                             \n",
       "\n",
       "                                                                              \n",
       "                                                                              \n",
       "                                                                              \n",
       "                                                                              \n",
       " - 1)⋅(y + 1)⋅(-1.0⋅P_{cd}⋅z⋅(ε - 1)⋅(φ - 1) + 1.0⋅P_{dc}⋅z⋅(ε - 1)⋅(φ - 1) - \n",
       "──────────────────────────────────────────────────────────────────────────────\n",
       "                                                                              \n",
       "                                                                              \n",
       "                                                              2               \n",
       "m⋅y - m + 0.5⋅x + 0.5)) - 0.5⋅P_{dc}⋅z⋅(ε - 1)⋅(φ - 1)⋅(y + 1) ⋅((x - 1)⋅(y - \n",
       "──────────────────────────────────────────────────────────────────────────────\n",
       "                                                                              \n",
       "                                                                              \n",
       "\n",
       "  1.0⋅(-P_{cd}⋅z⋅(ε - 1)⋅(φ - 1)⋅(x + 1)⋅(y - 1) + P_{dc}⋅z⋅(ε - 1)⋅(φ - 1)⋅(x\n",
       "  ────────────────────────────────────────────────────────────────────────────\n",
       "                                                 τ⋅(y - 1)⋅(y + 1)            \n",
       "                                                                              \n",
       "0.5⋅ε⋅(y - 1) - 0.5⋅ε⋅(y + 1)) + (x - 1)⋅(y + 1)⋅(0.25⋅ε⋅z⋅(x - 1) - 0.25⋅ε⋅(x\n",
       "──────────────────────────────────────────────────────────────────────────────\n",
       "                                                 τ⋅(y - 1)⋅(y + 1)            \n",
       "                                                                              \n",
       "                                                                2        2    \n",
       "1) + 2⋅(y + 2⋅z - 1)⋅(-m⋅y + m + 0.5⋅x - 0.5)) + 1.0⋅ε⋅m⋅(y - 1) ⋅(y + 1) ⋅(-2\n",
       "──────────────────────────────────────────────────────────────────────────────\n",
       "                                                          2        2          \n",
       "                                                 τ⋅(y - 1) ⋅(y + 1)           \n",
       "\n",
       " - 1)⋅(y + 1) - ε⋅x⋅(y - 1)⋅(y + 1))                                          \n",
       "────────────────────────────────────                                          \n",
       "                                                                              \n",
       "                                                                              \n",
       " + 1)⋅(y + z - 1) + 0.5⋅φ⋅z⋅(ε - 1)) + (x + 1)⋅(y - 1)⋅(0.25⋅ε⋅z⋅(x + 1) + 0.2\n",
       "──────────────────────────────────────────────────────────────────────────────\n",
       "                                                                              \n",
       "                                                                              \n",
       "                                 2                                            \n",
       "⋅z + 1) + (x - 1)⋅(y - 1)⋅(y + 1) ⋅(0.25⋅ε⋅z⋅(x - 1) - 0.25⋅ε⋅(x + 1)⋅(y + z -\n",
       "──────────────────────────────────────────────────────────────────────────────\n",
       "                                                                              \n",
       "                                                                              \n",
       "\n",
       "                                                                              \n",
       "                                                                              \n",
       "                                                                              \n",
       "                                                                              \n",
       "5⋅ε⋅(x - 1)⋅(y - z + 1) - 0.5⋅φ⋅z⋅(ε - 1))                                    \n",
       "──────────────────────────────────────────                                    \n",
       "                                                                              \n",
       "                                                                              \n",
       "                                        2                                     \n",
       " 1) + 0.5⋅φ⋅z⋅(ε - 1)) + (x + 1)⋅(y - 1) ⋅(y + 1)⋅(-0.25⋅ε⋅z⋅(x + 1) - 0.25⋅ε⋅\n",
       "──────────────────────────────────────────────────────────────────────────────\n",
       "                                                                              \n",
       "                                                                              \n",
       "\n",
       "                                      ⎤\n",
       "                                      ⎥\n",
       "                                      ⎥\n",
       "                                      ⎥\n",
       "                                      ⎥\n",
       "                                      ⎥\n",
       "                                      ⎥\n",
       "                                      ⎥\n",
       "                                      ⎥\n",
       "(x - 1)⋅(y - z + 1) + 0.5⋅φ⋅z⋅(ε - 1))⎥\n",
       "──────────────────────────────────────⎥\n",
       "                                      ⎥\n",
       "                                      ⎦"
      ]
     },
     "execution_count": 177,
     "metadata": {},
     "output_type": "execute_result"
    }
   ],
   "source": [
    "rhsPBP = s.Matrix(r*s.Transpose(W))\n",
    "rhsPBP = s.Matrix(s.simplify(rhsPBP))\n",
    "rhsPBP"
   ]
  },
  {
   "cell_type": "markdown",
   "metadata": {},
   "source": [
    "**Next, we treat the equations describing economic production and capital accumulation**\n",
    "\n",
    "Substitutute solutions to algebraic constraints of economic system (market clearing for labor and expressions for capital rent and resource flow)"
   ]
  },
  {
   "cell_type": "code",
   "execution_count": 178,
   "metadata": {
    "collapsed": true
   },
   "outputs": [],
   "source": [
    "subs2 = {w: pi * L**(pi-1.) * (Xc + Xd*XR)**(1.-pi),\n",
    "        rc: kappac/Kc*Xc*L**pi*(Xc + Xd*XR)**(-pi),\n",
    "        rd: kappad/Kd*Xd*XR*L**pi*(Xc + Xd*XR)**(-pi),\n",
    "        R:  bd/e*Kd**kappad*L**pi*(Xd*XR/(Xc + Xd*XR))**pi,\n",
    "        Lc: L*Xc/(Xc + Xd*XR),\n",
    "        Ld: L*Xd*XR/(Xc + Xd*XR)}"
   ]
  },
  {
   "cell_type": "code",
   "execution_count": 179,
   "metadata": {},
   "outputs": [
    {
     "data": {
      "image/png": "[encoded data removed]",
      "text/latex": [
       "$$\\left \\{ L_{c} : \\frac{L \\left(K_{d}^{\\kappa_{d}} b_{d} \\left(G^{2} e - G_{0}^{2} b_{R}\\right)\\right)^{\\frac{1.0}{\\pi - 1.0}}}{\\left(G^{2} e\\right)^{\\frac{1.0}{\\pi - 1.0}} \\left(C^{\\xi} K_{c}^{\\kappa_{c}} b_{c}\\right)^{\\frac{1.0}{\\pi - 1.0}} + \\left(K_{d}^{\\kappa_{d}} b_{d}\\right)^{\\frac{1.0}{\\pi - 1.0}} \\left(G^{2} e - G_{0}^{2} b_{R}\\right)^{\\frac{1.0}{\\pi - 1.0}}}, \\quad L_{d} : \\frac{L \\left(C^{\\xi} G^{2} K_{c}^{\\kappa_{c}} b_{c} e\\right)^{\\frac{1.0}{\\pi - 1.0}}}{\\left(G^{2} e\\right)^{\\frac{1.0}{\\pi - 1.0}} \\left(C^{\\xi} K_{c}^{\\kappa_{c}} b_{c}\\right)^{\\frac{1.0}{\\pi - 1.0}} + \\left(K_{d}^{\\kappa_{d}} b_{d}\\right)^{\\frac{1.0}{\\pi - 1.0}} \\left(G^{2} e - G_{0}^{2} b_{R}\\right)^{\\frac{1.0}{\\pi - 1.0}}}, \\quad R : \\frac{b_{d}}{e} \\left(\\frac{L \\left(G^{2} e\\right)^{\\frac{1.0}{\\pi - 1.0}} \\left(C^{\\xi} K_{c}^{\\kappa_{c}} b_{c}\\right)^{\\frac{1.0}{\\pi - 1.0}}}{\\left(G^{2} e\\right)^{\\frac{1.0}{\\pi - 1.0}} \\left(C^{\\xi} K_{c}^{\\kappa_{c}} b_{c}\\right)^{\\frac{1.0}{\\pi - 1.0}} + \\left(K_{d}^{\\kappa_{d}} b_{d}\\right)^{\\frac{1.0}{\\pi - 1.0}} \\left(G^{2} e - G_{0}^{2} b_{R}\\right)^{\\frac{1.0}{\\pi - 1.0}}}\\right)^{\\pi} \\left(K^{c}_{d} + K^{d}_{d}\\right)^{\\kappa_{d}}, \\quad r_{c} : \\frac{L^{\\pi} \\kappa_{c}}{K^{c}_{c} + K^{d}_{c}} \\left(\\frac{C^{- \\xi}}{b_{c}} K_{c}^{- \\kappa_{c}}\\right)^{\\frac{1.0}{\\pi - 1.0}} \\left(\\left(K_{d}^{\\kappa_{d}} b_{d}\\right)^{- \\frac{1.0}{\\pi - 1.0}} \\left(C^{\\xi} K_{c}^{\\kappa_{c}} b_{c}\\right)^{- \\frac{1.0}{\\pi - 1.0}} \\left(G^{2} e - G_{0}^{2} b_{R}\\right)^{- \\frac{1.0}{\\pi - 1.0}} \\left(\\left(G^{2} e\\right)^{\\frac{1.0}{\\pi - 1.0}} \\left(C^{\\xi} K_{c}^{\\kappa_{c}} b_{c}\\right)^{\\frac{1.0}{\\pi - 1.0}} + \\left(K_{d}^{\\kappa_{d}} b_{d}\\right)^{\\frac{1.0}{\\pi - 1.0}} \\left(G^{2} e - G_{0}^{2} b_{R}\\right)^{\\frac{1.0}{\\pi - 1.0}}\\right)\\right)^{- \\pi}, \\quad r_{d} : \\frac{L^{\\pi} \\kappa_{d}}{K^{c}_{d} + K^{d}_{d}} \\left(\\frac{G^{2} e}{b_{d}} K_{d}^{- \\kappa_{d}}\\right)^{\\frac{1.0}{\\pi - 1.0}} \\left(\\left(K_{d}^{\\kappa_{d}} b_{d}\\right)^{- \\frac{1.0}{\\pi - 1.0}} \\left(C^{\\xi} K_{c}^{\\kappa_{c}} b_{c}\\right)^{- \\frac{1.0}{\\pi - 1.0}} \\left(G^{2} e - G_{0}^{2} b_{R}\\right)^{- \\frac{1.0}{\\pi - 1.0}} \\left(\\left(G^{2} e\\right)^{\\frac{1.0}{\\pi - 1.0}} \\left(C^{\\xi} K_{c}^{\\kappa_{c}} b_{c}\\right)^{\\frac{1.0}{\\pi - 1.0}} + \\left(K_{d}^{\\kappa_{d}} b_{d}\\right)^{\\frac{1.0}{\\pi - 1.0}} \\left(G^{2} e - G_{0}^{2} b_{R}\\right)^{\\frac{1.0}{\\pi - 1.0}}\\right)\\right)^{- \\pi} \\left(G^{2} e - G_{0}^{2} b_{R}\\right)^{- \\frac{1.0}{\\pi - 1.0}}, \\quad w : L^{\\pi - 1.0} \\pi \\left(\\left(K_{d}^{\\kappa_{d}} b_{d}\\right)^{- \\frac{1.0}{\\pi - 1.0}} \\left(C^{\\xi} K_{c}^{\\kappa_{c}} b_{c}\\right)^{- \\frac{1.0}{\\pi - 1.0}} \\left(G^{2} e - G_{0}^{2} b_{R}\\right)^{- \\frac{1.0}{\\pi - 1.0}} \\left(\\left(G^{2} e\\right)^{\\frac{1.0}{\\pi - 1.0}} \\left(C^{\\xi} K_{c}^{\\kappa_{c}} b_{c}\\right)^{\\frac{1.0}{\\pi - 1.0}} + \\left(K_{d}^{\\kappa_{d}} b_{d}\\right)^{\\frac{1.0}{\\pi - 1.0}} \\left(G^{2} e - G_{0}^{2} b_{R}\\right)^{\\frac{1.0}{\\pi - 1.0}}\\right)\\right)^{- \\pi + 1.0}\\right \\}$$"
      ],
      "text/plain": [
       "⎧                                                                             \n",
       "⎪                                                                             \n",
       "⎪                                                                             \n",
       "⎪                                                                             \n",
       "⎪                                                                             \n",
       "⎪                                                                             \n",
       "⎪                                                                             \n",
       "⎪                                                            1.0              \n",
       "⎪                                                          ───────            \n",
       "⎨                                                          π - 1.0            \n",
       "⎪                             ⎛   κ_d     ⎛ 2       2    ⎞⎞                   \n",
       "⎪                           L⋅⎝K_d   ⋅b_d⋅⎝G ⋅e - G₀ ⋅b_R⎠⎠                   \n",
       "⎪L_c: ────────────────────────────────────────────────────────────────────────\n",
       "⎪             1.0                    1.0                   1.0                \n",
       "⎪           ───────                ───────               ───────              \n",
       "⎪           π - 1.0                π - 1.0               π - 1.0              \n",
       "⎪     ⎛ 2  ⎞        ⎛ ξ    κ_c    ⎞          ⎛   κ_d    ⎞        ⎛ 2       2  \n",
       "⎪     ⎝G ⋅e⎠       ⋅⎝C ⋅K_c   ⋅b_c⎠        + ⎝K_d   ⋅b_d⎠       ⋅⎝G ⋅e - G₀ ⋅b\n",
       "⎩                                                                             \n",
       "\n",
       "                                                                              \n",
       "                                                                              \n",
       "                                                                              \n",
       "                                                                              \n",
       "                                                                              \n",
       "                                                                              \n",
       "                                                                              \n",
       "                                                                   1.0        \n",
       "                                                                 ───────      \n",
       "                                                                 π - 1.0      \n",
       "                                             ⎛ ξ  2    κ_c      ⎞             \n",
       "                                           L⋅⎝C ⋅G ⋅K_c   ⋅b_c⋅e⎠             \n",
       "──────────, L_d: ─────────────────────────────────────────────────────────────\n",
       "     1.0                 1.0                    1.0                   1.0     \n",
       "   ───────             ───────                ───────               ───────   \n",
       "   π - 1.0             π - 1.0                π - 1.0               π - 1.0   \n",
       "  ⎞              ⎛ 2  ⎞        ⎛ ξ    κ_c    ⎞          ⎛   κ_d    ⎞        ⎛ \n",
       "_R⎠              ⎝G ⋅e⎠       ⋅⎝C ⋅K_c   ⋅b_c⎠        + ⎝K_d   ⋅b_d⎠       ⋅⎝G\n",
       "                                                                              \n",
       "\n",
       "                                                                              \n",
       "                              ⎛                                1.0            \n",
       "                              ⎜                              ───────          \n",
       "                              ⎜                              π - 1.0          \n",
       "                              ⎜                        ⎛ 2  ⎞        ⎛ ξ    κ_\n",
       "                              ⎜                      L⋅⎝G ⋅e⎠       ⋅⎝C ⋅K_c  \n",
       "                          b_d⋅⎜───────────────────────────────────────────────\n",
       "                              ⎜        1.0                    1.0             \n",
       "                              ⎜      ───────                ───────           \n",
       "                              ⎜      π - 1.0                π - 1.0           \n",
       "                              ⎜⎛ 2  ⎞        ⎛ ξ    κ_c    ⎞          ⎛   κ_d \n",
       "                              ⎝⎝G ⋅e⎠       ⋅⎝C ⋅K_c   ⋅b_c⎠        + ⎝K_d   ⋅\n",
       "─────────────────────, R: ────────────────────────────────────────────────────\n",
       "                1.0                                                           \n",
       "              ───────                                                         \n",
       "              π - 1.0                                                         \n",
       "2       2    ⎞                                                                \n",
       " ⋅e - G₀ ⋅b_R⎠                                                                \n",
       "                                                                              \n",
       "\n",
       "                                    π                                         \n",
       "        1.0                        ⎞                                          \n",
       "      ───────                      ⎟                                          \n",
       "      π - 1.0                      ⎟                                          \n",
       "c    ⎞                             ⎟                                          \n",
       " ⋅b_c⎠                             ⎟                   κ_d                    \n",
       "───────────────────────────────────⎟ ⋅(K_d__c + K_d__d)                       \n",
       "      1.0                     1.0  ⎟                                          \n",
       "    ───────                 ───────⎟                                    ⎛ -ξ  \n",
       "    π - 1.0                 π - 1.0⎟                              π     ⎜C  ⋅K\n",
       "   ⎞        ⎛ 2       2    ⎞       ⎟                             L ⋅κ_c⋅⎜─────\n",
       "b_d⎠       ⋅⎝G ⋅e - G₀ ⋅b_R⎠       ⎠                                    ⎝    b\n",
       "──────────────────────────────────────────────────────────, r_c: ─────────────\n",
       "  e                                                                           \n",
       "                                                                              \n",
       "                                                                              \n",
       "                                                                              \n",
       "                                                                              \n",
       "                                                                              \n",
       "\n",
       "                                                                              \n",
       "                                                                              \n",
       "                                                                              \n",
       "                                                                              \n",
       "                                                                              \n",
       "         1.0                                                                  \n",
       "       ─────── ⎛             -1.0                   -1.0                    -1\n",
       "       π - 1.0 ⎜            ───────                ───────                 ───\n",
       "  -κ_c⎞        ⎜            π - 1.0                π - 1.0                 π -\n",
       "_c    ⎟        ⎜⎛   κ_d    ⎞        ⎛ ξ    κ_c    ⎞        ⎛ 2       2    ⎞   \n",
       "──────⎟       ⋅⎝⎝K_d   ⋅b_d⎠       ⋅⎝C ⋅K_c   ⋅b_c⎠       ⋅⎝G ⋅e - G₀ ⋅b_R⎠   \n",
       "_c    ⎠                                                                       \n",
       "──────────────────────────────────────────────────────────────────────────────\n",
       "                                                                       K_c__c \n",
       "                                                                              \n",
       "                                                                              \n",
       "                                                                              \n",
       "                                                                              \n",
       "                                                                              \n",
       "\n",
       "                                                                              \n",
       "                                                                              \n",
       "                                                                              \n",
       "                                                                              \n",
       "                                                                              \n",
       "                                                                              \n",
       ".0   ⎛        1.0                    1.0                   1.0                \n",
       "──── ⎜      ───────                ───────               ───────              \n",
       " 1.0 ⎜      π - 1.0                π - 1.0               π - 1.0              \n",
       "     ⎜⎛ 2  ⎞        ⎛ ξ    κ_c    ⎞          ⎛   κ_d    ⎞        ⎛ 2       2  \n",
       "    ⋅⎝⎝G ⋅e⎠       ⋅⎝C ⋅K_c   ⋅b_c⎠        + ⎝K_d   ⋅b_d⎠       ⋅⎝G ⋅e - G₀ ⋅b\n",
       "                                                                              \n",
       "──────────────────────────────────────────────────────────────────────────────\n",
       "+ K_c__d                                                                      \n",
       "                                                                              \n",
       "                                                                              \n",
       "                                                                              \n",
       "                                                                              \n",
       "                                                                              \n",
       "\n",
       "                                                                              \n",
       "                                                                              \n",
       "                                                                              \n",
       "                                                                              \n",
       "                                                                              \n",
       "            -π                              1.0                               \n",
       "     1.0  ⎞⎞                              ─────── ⎛             -1.0          \n",
       "   ───────⎟⎟                              π - 1.0 ⎜            ───────        \n",
       "   π - 1.0⎟⎟                ⎛ 2    -κ_d  ⎞        ⎜            π - 1.0        \n",
       "  ⎞       ⎟⎟          π     ⎜G ⋅K_d    ⋅e⎟        ⎜⎛   κ_d    ⎞        ⎛ ξ    \n",
       "_R⎠       ⎠⎠         L ⋅κ_d⋅⎜────────────⎟       ⋅⎝⎝K_d   ⋅b_d⎠       ⋅⎝C ⋅K_c\n",
       "                            ⎝    b_d     ⎠                                    \n",
       "──────────────, r_d: ─────────────────────────────────────────────────────────\n",
       "                                                                              \n",
       "                                                                              \n",
       "                                                                              \n",
       "                                                                              \n",
       "                                                                              \n",
       "                                                                              \n",
       "\n",
       "                                                                              \n",
       "                                                                              \n",
       "                                                                              \n",
       "                                                                              \n",
       "                                                                              \n",
       "                                                                              \n",
       "         -1.0                    -1.0   ⎛        1.0                    1.0   \n",
       "        ───────                 ─────── ⎜      ───────                ─────── \n",
       "        π - 1.0                 π - 1.0 ⎜      π - 1.0                π - 1.0 \n",
       "κ_c    ⎞        ⎛ 2       2    ⎞        ⎜⎛ 2  ⎞        ⎛ ξ    κ_c    ⎞        \n",
       "   ⋅b_c⎠       ⋅⎝G ⋅e - G₀ ⋅b_R⎠       ⋅⎝⎝G ⋅e⎠       ⋅⎝C ⋅K_c   ⋅b_c⎠        \n",
       "                                                                              \n",
       "──────────────────────────────────────────────────────────────────────────────\n",
       "                                       K_d__c + K_d__d                        \n",
       "                                                                              \n",
       "                                                                              \n",
       "                                                                              \n",
       "                                                                              \n",
       "                                                                              \n",
       "\n",
       "                                                                              \n",
       "                                                                              \n",
       "                                                                              \n",
       "                                                                              \n",
       "                                                                              \n",
       "                                               -π                             \n",
       "                1.0                     1.0  ⎞⎞                    -1.0       \n",
       "              ───────                 ───────⎟⎟                   ───────     \n",
       "              π - 1.0                 π - 1.0⎟⎟                   π - 1.0     \n",
       "  ⎛   κ_d    ⎞        ⎛ 2       2    ⎞       ⎟⎟   ⎛ 2       2    ⎞            \n",
       "+ ⎝K_d   ⋅b_d⎠       ⋅⎝G ⋅e - G₀ ⋅b_R⎠       ⎠⎠  ⋅⎝G ⋅e - G₀ ⋅b_R⎠            \n",
       "                                                                              \n",
       "─────────────────────────────────────────────────────────────────────────, w: \n",
       "                                                                              \n",
       "                                                                              \n",
       "                                                                              \n",
       "                                                                              \n",
       "                                                                              \n",
       "                                                                              \n",
       "\n",
       "                                                                              \n",
       "                                                                              \n",
       "                                                                              \n",
       "                                                                              \n",
       "                                                                              \n",
       "                                                                              \n",
       "                                                                              \n",
       "                                                                              \n",
       "           ⎛             -1.0                   -1.0                    -1.0  \n",
       "           ⎜            ───────                ───────                 ───────\n",
       "           ⎜            π - 1.0                π - 1.0                 π - 1.0\n",
       " π - 1.0   ⎜⎛   κ_d    ⎞        ⎛ ξ    κ_c    ⎞        ⎛ 2       2    ⎞       \n",
       "L       ⋅π⋅⎝⎝K_d   ⋅b_d⎠       ⋅⎝C ⋅K_c   ⋅b_c⎠       ⋅⎝G ⋅e - G₀ ⋅b_R⎠       \n",
       "                                                                              \n",
       "                                                                              \n",
       "                                                                              \n",
       "                                                                              \n",
       "                                                                              \n",
       "                                                                              \n",
       "\n",
       "                                                                              \n",
       "                                                                              \n",
       "                                                                              \n",
       "                                                                              \n",
       "                                                                              \n",
       "                                                                              \n",
       "                                                                              \n",
       "                                                                              \n",
       " ⎛        1.0                    1.0                   1.0                    \n",
       " ⎜      ───────                ───────               ───────                 ─\n",
       " ⎜      π - 1.0                π - 1.0               π - 1.0                 π\n",
       " ⎜⎛ 2  ⎞        ⎛ ξ    κ_c    ⎞          ⎛   κ_d    ⎞        ⎛ 2       2    ⎞ \n",
       "⋅⎝⎝G ⋅e⎠       ⋅⎝C ⋅K_c   ⋅b_c⎠        + ⎝K_d   ⋅b_d⎠       ⋅⎝G ⋅e - G₀ ⋅b_R⎠ \n",
       "                                                                              \n",
       "                                                                              \n",
       "                                                                              \n",
       "                                                                              \n",
       "                                                                              \n",
       "                                                                              \n",
       "\n",
       "                ⎫\n",
       "                ⎪\n",
       "                ⎪\n",
       "                ⎪\n",
       "                ⎪\n",
       "                ⎪\n",
       "                ⎪\n",
       "        -π + 1.0⎪\n",
       " 1.0  ⎞⎞        ⎪\n",
       "──────⎟⎟        ⎬\n",
       " - 1.0⎟⎟        ⎪\n",
       "      ⎟⎟        ⎪\n",
       "      ⎠⎠        ⎪\n",
       "                ⎪\n",
       "                ⎪\n",
       "                ⎪\n",
       "                ⎪\n",
       "                ⎪\n",
       "                ⎭"
      ]
     },
     "execution_count": 179,
     "metadata": {},
     "output_type": "execute_result"
    }
   ],
   "source": [
    "subsX = {Xc: (bc*Kc**kappac * C**xi)**(1./(1.-pi)),\n",
    "         Xd: (bd*Kd**kappad)**(1./(1.-pi)),\n",
    "         XR: (1-bR/e*(G0/G)**2)**(1./(1.-pi))}\n",
    "for key in subs2.keys():\n",
    "    subs2[key] = subs2[key].subs(subs4)\n",
    "    subs2[key] = s.simplify(subs2[key].subs(subsX))\n",
    "subs2"
   ]
  },
  {
   "cell_type": "raw",
   "metadata": {},
   "source": [
    "Try to further simplify the imitation probabilities given the expressions for capital returns"
   ]
  },
  {
   "cell_type": "code",
   "execution_count": 182,
   "metadata": {
    "scrolled": false
   },
   "outputs": [
    {
     "data": {
      "image/png": "[encoded data removed]",
      "text/latex": [
       "$$\\left \\{ W_{cd} : - \\frac{\\left(x - 1\\right) \\left(K^{c}_{c} \\kappa_{c} \\left(b_{d} \\left(K^{c}_{d} + K^{d}_{d}\\right)^{\\kappa_{d}} \\left(G^{2} e - G_{0}^{2} b_{R}\\right)\\right)^{\\frac{1.0}{\\pi - 1.0}} \\left(K^{c}_{d} + K^{d}_{d}\\right) + K^{c}_{d} \\kappa_{d} \\left(C^{\\xi} G^{2} b_{c} e \\left(K^{c}_{c} + K^{d}_{c}\\right)^{\\kappa_{c}}\\right)^{\\frac{1.0}{\\pi - 1.0}} \\left(K^{c}_{c} + K^{d}_{c}\\right)\\right) + \\left(x + 1\\right) \\left(K^{d}_{c} \\kappa_{c} \\left(b_{d} \\left(K^{c}_{d} + K^{d}_{d}\\right)^{\\kappa_{d}} \\left(G^{2} e - G_{0}^{2} b_{R}\\right)\\right)^{\\frac{1.0}{\\pi - 1.0}} \\left(K^{c}_{d} + K^{d}_{d}\\right) + K^{d}_{d} \\kappa_{d} \\left(C^{\\xi} G^{2} b_{c} e \\left(K^{c}_{c} + K^{d}_{c}\\right)^{\\kappa_{c}}\\right)^{\\frac{1.0}{\\pi - 1.0}} \\left(K^{c}_{c} + K^{d}_{c}\\right)\\right)}{\\left(x - 1\\right) \\left(K^{c}_{c} \\kappa_{c} \\left(b_{d} \\left(K^{c}_{d} + K^{d}_{d}\\right)^{\\kappa_{d}}\\right)^{\\frac{1.0}{\\pi - 1.0}} \\left(K^{c}_{d} + K^{d}_{d}\\right) \\left(G^{2} e - G_{0}^{2} b_{R}\\right)^{\\frac{1.0}{\\pi - 1.0}} + K^{c}_{d} \\kappa_{d} \\left(G^{2} e\\right)^{\\frac{1.0}{\\pi - 1.0}} \\left(C^{\\xi} b_{c} \\left(K^{c}_{c} + K^{d}_{c}\\right)^{\\kappa_{c}}\\right)^{\\frac{1.0}{\\pi - 1.0}} \\left(K^{c}_{c} + K^{d}_{c}\\right)\\right) - \\left(x + 1\\right) \\left(K^{d}_{c} \\kappa_{c} \\left(b_{d} \\left(K^{c}_{d} + K^{d}_{d}\\right)^{\\kappa_{d}}\\right)^{\\frac{1.0}{\\pi - 1.0}} \\left(K^{c}_{d} + K^{d}_{d}\\right) \\left(G^{2} e - G_{0}^{2} b_{R}\\right)^{\\frac{1.0}{\\pi - 1.0}} + K^{d}_{d} \\kappa_{d} \\left(G^{2} e\\right)^{\\frac{1.0}{\\pi - 1.0}} \\left(C^{\\xi} b_{c} \\left(K^{c}_{c} + K^{d}_{c}\\right)^{\\kappa_{c}}\\right)^{\\frac{1.0}{\\pi - 1.0}} \\left(K^{c}_{c} + K^{d}_{c}\\right)\\right)}, \\quad W_{dc} : \\frac{\\left(x - 1\\right) \\left(K^{c}_{c} \\kappa_{c} \\left(b_{d} \\left(K^{c}_{d} + K^{d}_{d}\\right)^{\\kappa_{d}} \\left(G^{2} e - G_{0}^{2} b_{R}\\right)\\right)^{\\frac{1.0}{\\pi - 1.0}} \\left(K^{c}_{d} + K^{d}_{d}\\right) + K^{c}_{d} \\kappa_{d} \\left(C^{\\xi} G^{2} b_{c} e \\left(K^{c}_{c} + K^{d}_{c}\\right)^{\\kappa_{c}}\\right)^{\\frac{1.0}{\\pi - 1.0}} \\left(K^{c}_{c} + K^{d}_{c}\\right)\\right) + \\left(x + 1\\right) \\left(K^{d}_{c} \\kappa_{c} \\left(b_{d} \\left(K^{c}_{d} + K^{d}_{d}\\right)^{\\kappa_{d}} \\left(G^{2} e - G_{0}^{2} b_{R}\\right)\\right)^{\\frac{1.0}{\\pi - 1.0}} \\left(K^{c}_{d} + K^{d}_{d}\\right) + K^{d}_{d} \\kappa_{d} \\left(C^{\\xi} G^{2} b_{c} e \\left(K^{c}_{c} + K^{d}_{c}\\right)^{\\kappa_{c}}\\right)^{\\frac{1.0}{\\pi - 1.0}} \\left(K^{c}_{c} + K^{d}_{c}\\right)\\right)}{\\left(x - 1\\right) \\left(K^{c}_{c} \\kappa_{c} \\left(b_{d} \\left(K^{c}_{d} + K^{d}_{d}\\right)^{\\kappa_{d}}\\right)^{\\frac{1.0}{\\pi - 1.0}} \\left(K^{c}_{d} + K^{d}_{d}\\right) \\left(G^{2} e - G_{0}^{2} b_{R}\\right)^{\\frac{1.0}{\\pi - 1.0}} + K^{c}_{d} \\kappa_{d} \\left(G^{2} e\\right)^{\\frac{1.0}{\\pi - 1.0}} \\left(C^{\\xi} b_{c} \\left(K^{c}_{c} + K^{d}_{c}\\right)^{\\kappa_{c}}\\right)^{\\frac{1.0}{\\pi - 1.0}} \\left(K^{c}_{c} + K^{d}_{c}\\right)\\right) - \\left(x + 1\\right) \\left(K^{d}_{c} \\kappa_{c} \\left(b_{d} \\left(K^{c}_{d} + K^{d}_{d}\\right)^{\\kappa_{d}}\\right)^{\\frac{1.0}{\\pi - 1.0}} \\left(K^{c}_{d} + K^{d}_{d}\\right) \\left(G^{2} e - G_{0}^{2} b_{R}\\right)^{\\frac{1.0}{\\pi - 1.0}} + K^{d}_{d} \\kappa_{d} \\left(G^{2} e\\right)^{\\frac{1.0}{\\pi - 1.0}} \\left(C^{\\xi} b_{c} \\left(K^{c}_{c} + K^{d}_{c}\\right)^{\\kappa_{c}}\\right)^{\\frac{1.0}{\\pi - 1.0}} \\left(K^{c}_{c} + K^{d}_{c}\\right)\\right)}\\right \\}$$"
      ],
      "text/plain": [
       "⎧                       ⎛        ⎛                                            \n",
       "⎪                       ⎜        ⎜                                            \n",
       "⎪                       ⎜        ⎜                                            \n",
       "⎪                       ⎜        ⎜           ⎛                     κ_d ⎛ 2    \n",
       "⎪                      -⎝(x - 1)⋅⎝K_c__c⋅κ_c⋅⎝b_d⋅(K_d__c + K_d__d)   ⋅⎝G ⋅e -\n",
       "⎨W_{cd}: ─────────────────────────────────────────────────────────────────────\n",
       "⎪                ⎛                                       1.0                  \n",
       "⎪                ⎜                                     ───────                \n",
       "⎪                ⎜                                     π - 1.0                \n",
       "⎪                ⎜           ⎛                     κ_d⎞                       \n",
       "⎩        (x - 1)⋅⎝K_c__c⋅κ_c⋅⎝b_d⋅(K_d__c + K_d__d)   ⎠       ⋅(K_d__c + K_d__\n",
       "\n",
       "            1.0                                                               \n",
       "          ───────                                                             \n",
       "          π - 1.0                                                             \n",
       "   2    ⎞⎞                                       ⎛ ξ  2                       \n",
       " G₀ ⋅b_R⎠⎠       ⋅(K_d__c + K_d__d) + K_d__c⋅κ_d⋅⎝C ⋅G ⋅b_c⋅e⋅(K_c__c + K_c__d\n",
       "──────────────────────────────────────────────────────────────────────────────\n",
       "                     1.0                        1.0                           \n",
       "                   ───────                    ───────                         \n",
       "                   π - 1.0                    π - 1.0                         \n",
       "   ⎛ 2       2    ⎞                     ⎛ 2  ⎞        ⎛ ξ                     \n",
       "d)⋅⎝G ⋅e - G₀ ⋅b_R⎠        + K_d__c⋅κ_d⋅⎝G ⋅e⎠       ⋅⎝C ⋅b_c⋅(K_c__c + K_c__d\n",
       "\n",
       "       1.0                    ⎞           ⎛                                   \n",
       "     ───────                  ⎟           ⎜                                   \n",
       "     π - 1.0                  ⎟           ⎜                                   \n",
       " κ_c⎞                         ⎟           ⎜           ⎛                     κ_\n",
       ")   ⎠       ⋅(K_c__c + K_c__d)⎠ + (x + 1)⋅⎝K_c__d⋅κ_c⋅⎝b_d⋅(K_d__c + K_d__d)  \n",
       "──────────────────────────────────────────────────────────────────────────────\n",
       "       1.0                    ⎞           ⎛                                   \n",
       "     ───────                  ⎟           ⎜                                   \n",
       "     π - 1.0                  ⎟           ⎜                                   \n",
       " κ_c⎞                         ⎟           ⎜           ⎛                     κ_\n",
       ")   ⎠       ⋅(K_c__c + K_c__d)⎠ - (x + 1)⋅⎝K_c__d⋅κ_c⋅⎝b_d⋅(K_d__c + K_d__d)  \n",
       "\n",
       "                     1.0                                                      \n",
       "                   ───────                                                    \n",
       "                   π - 1.0                                                    \n",
       "d ⎛ 2       2    ⎞⎞                                       ⎛ ξ  2              \n",
       " ⋅⎝G ⋅e - G₀ ⋅b_R⎠⎠       ⋅(K_d__c + K_d__d) + K_d__d⋅κ_d⋅⎝C ⋅G ⋅b_c⋅e⋅(K_c__c\n",
       "──────────────────────────────────────────────────────────────────────────────\n",
       "    1.0                                       1.0                        1.0  \n",
       "  ───────                                   ───────                    ───────\n",
       "  π - 1.0                                   π - 1.0                    π - 1.0\n",
       "d⎞                          ⎛ 2       2    ⎞                     ⎛ 2  ⎞       \n",
       " ⎠       ⋅(K_d__c + K_d__d)⋅⎝G ⋅e - G₀ ⋅b_R⎠        + K_d__d⋅κ_d⋅⎝G ⋅e⎠       \n",
       "\n",
       "                1.0                    ⎞⎞                                     \n",
       "              ───────                  ⎟⎟                                     \n",
       "              π - 1.0                  ⎟⎟                                     \n",
       "          κ_c⎞                         ⎟⎟                                     \n",
       " + K_c__d)   ⎠       ⋅(K_c__c + K_c__d)⎠⎠                                     \n",
       "────────────────────────────────────────────────────────, W_{dc}: ────────────\n",
       "                                1.0                    ⎞                  ⎛   \n",
       "                              ───────                  ⎟                  ⎜   \n",
       "                              π - 1.0                  ⎟                  ⎜   \n",
       " ⎛ ξ                      κ_c⎞                         ⎟                  ⎜   \n",
       "⋅⎝C ⋅b_c⋅(K_c__c + K_c__d)   ⎠       ⋅(K_c__c + K_c__d)⎠          (x - 1)⋅⎝K_c\n",
       "\n",
       "            ⎛                                                        1.0      \n",
       "            ⎜                                                      ───────    \n",
       "            ⎜                                                      π - 1.0    \n",
       "            ⎜           ⎛                     κ_d ⎛ 2       2    ⎞⎞           \n",
       "    (x - 1)⋅⎝K_c__c⋅κ_c⋅⎝b_d⋅(K_d__c + K_d__d)   ⋅⎝G ⋅e - G₀ ⋅b_R⎠⎠       ⋅(K_\n",
       "──────────────────────────────────────────────────────────────────────────────\n",
       "                                    1.0                                       \n",
       "                                  ───────                                   ──\n",
       "                                  π - 1.0                                   π \n",
       "        ⎛                     κ_d⎞                          ⎛ 2       2    ⎞  \n",
       "__c⋅κ_c⋅⎝b_d⋅(K_d__c + K_d__d)   ⎠       ⋅(K_d__c + K_d__d)⋅⎝G ⋅e - G₀ ⋅b_R⎠  \n",
       "\n",
       "                                                                1.0           \n",
       "                                                              ───────         \n",
       "                                                              π - 1.0         \n",
       "                            ⎛ ξ  2                        κ_c⎞                \n",
       "d__c + K_d__d) + K_d__c⋅κ_d⋅⎝C ⋅G ⋅b_c⋅e⋅(K_c__c + K_c__d)   ⎠       ⋅(K_c__c \n",
       "──────────────────────────────────────────────────────────────────────────────\n",
       "1.0                        1.0                                  1.0           \n",
       "─────                    ───────                              ───────         \n",
       "- 1.0                    π - 1.0                              π - 1.0         \n",
       "                   ⎛ 2  ⎞        ⎛ ξ                      κ_c⎞                \n",
       "      + K_d__c⋅κ_d⋅⎝G ⋅e⎠       ⋅⎝C ⋅b_c⋅(K_c__c + K_c__d)   ⎠       ⋅(K_c__c \n",
       "\n",
       "         ⎞           ⎛                                                        \n",
       "         ⎟           ⎜                                                      ──\n",
       "         ⎟           ⎜                                                      π \n",
       "         ⎟           ⎜           ⎛                     κ_d ⎛ 2       2    ⎞⎞  \n",
       "+ K_c__d)⎠ + (x + 1)⋅⎝K_c__d⋅κ_c⋅⎝b_d⋅(K_d__c + K_d__d)   ⋅⎝G ⋅e - G₀ ⋅b_R⎠⎠  \n",
       "──────────────────────────────────────────────────────────────────────────────\n",
       "         ⎞           ⎛                                       1.0              \n",
       "         ⎟           ⎜                                     ───────            \n",
       "         ⎟           ⎜                                     π - 1.0            \n",
       "         ⎟           ⎜           ⎛                     κ_d⎞                   \n",
       "+ K_c__d)⎠ - (x + 1)⋅⎝K_c__d⋅κ_c⋅⎝b_d⋅(K_d__c + K_d__d)   ⎠       ⋅(K_d__c + K\n",
       "\n",
       "1.0                                                                      1.0  \n",
       "─────                                                                  ───────\n",
       "- 1.0                                                                  π - 1.0\n",
       "                                     ⎛ ξ  2                        κ_c⎞       \n",
       "     ⋅(K_d__c + K_d__d) + K_d__d⋅κ_d⋅⎝C ⋅G ⋅b_c⋅e⋅(K_c__c + K_c__d)   ⎠       \n",
       "──────────────────────────────────────────────────────────────────────────────\n",
       "                         1.0                        1.0                       \n",
       "                       ───────                    ───────                     \n",
       "                       π - 1.0                    π - 1.0                     \n",
       "       ⎛ 2       2    ⎞                     ⎛ 2  ⎞        ⎛ ξ                 \n",
       "_d__d)⋅⎝G ⋅e - G₀ ⋅b_R⎠        + K_d__d⋅κ_d⋅⎝G ⋅e⎠       ⋅⎝C ⋅b_c⋅(K_c__c + K_\n",
       "\n",
       "                  ⎞                ⎫\n",
       "                  ⎟                ⎪\n",
       "                  ⎟                ⎪\n",
       "                  ⎟                ⎪\n",
       "⋅(K_c__c + K_c__d)⎠                ⎪\n",
       "───────────────────────────────────⎬\n",
       "           1.0                    ⎞⎪\n",
       "         ───────                  ⎟⎪\n",
       "         π - 1.0                  ⎟⎪\n",
       "     κ_c⎞                         ⎟⎪\n",
       "c__d)   ⎠       ⋅(K_c__c + K_c__d)⎠⎭"
      ]
     },
     "execution_count": 182,
     "metadata": {},
     "output_type": "execute_result"
    }
   ],
   "source": [
    "with s.assuming((1-bR/e*(G0/G)**2) > 0):\n",
    "    for key in subsDW.keys():\n",
    "        subsDW[key] = s.simplify(s.powdenest(subsDW[key].subs(subs2).subs(subs4), force=True))\n",
    "subsDW"
   ]
  },
  {
   "cell_type": "code",
   "execution_count": 183,
   "metadata": {},
   "outputs": [
    {
     "data": {
      "image/png": "[encoded data removed]",
      "text/latex": [
       "$$\\left \\{ P_{cd} : \\frac{1.0}{1 + e^{- \\frac{8.0 \\left(\\left(x - 1\\right) \\left(K^{c}_{c} \\kappa_{c} \\left(b_{d} \\left(K^{c}_{d} + K^{d}_{d}\\right)^{\\kappa_{d}} \\left(G^{2} e - G_{0}^{2} b_{R}\\right)\\right)^{\\frac{1.0}{\\pi - 1.0}} \\left(K^{c}_{d} + K^{d}_{d}\\right) + K^{c}_{d} \\kappa_{d} \\left(C^{\\xi} G^{2} b_{c} e \\left(K^{c}_{c} + K^{d}_{c}\\right)^{\\kappa_{c}}\\right)^{\\frac{1.0}{\\pi - 1.0}} \\left(K^{c}_{c} + K^{d}_{c}\\right)\\right) + \\left(x + 1\\right) \\left(K^{d}_{c} \\kappa_{c} \\left(b_{d} \\left(K^{c}_{d} + K^{d}_{d}\\right)^{\\kappa_{d}} \\left(G^{2} e - G_{0}^{2} b_{R}\\right)\\right)^{\\frac{1.0}{\\pi - 1.0}} \\left(K^{c}_{d} + K^{d}_{d}\\right) + K^{d}_{d} \\kappa_{d} \\left(C^{\\xi} G^{2} b_{c} e \\left(K^{c}_{c} + K^{d}_{c}\\right)^{\\kappa_{c}}\\right)^{\\frac{1.0}{\\pi - 1.0}} \\left(K^{c}_{c} + K^{d}_{c}\\right)\\right)\\right)}{\\left(x - 1\\right) \\left(K^{c}_{c} \\kappa_{c} \\left(b_{d} \\left(K^{c}_{d} + K^{d}_{d}\\right)^{\\kappa_{d}}\\right)^{\\frac{1.0}{\\pi - 1.0}} \\left(K^{c}_{d} + K^{d}_{d}\\right) \\left(G^{2} e - G_{0}^{2} b_{R}\\right)^{\\frac{1.0}{\\pi - 1.0}} + K^{c}_{d} \\kappa_{d} \\left(G^{2} e\\right)^{\\frac{1.0}{\\pi - 1.0}} \\left(C^{\\xi} b_{c} \\left(K^{c}_{c} + K^{d}_{c}\\right)^{\\kappa_{c}}\\right)^{\\frac{1.0}{\\pi - 1.0}} \\left(K^{c}_{c} + K^{d}_{c}\\right)\\right) - \\left(x + 1\\right) \\left(K^{d}_{c} \\kappa_{c} \\left(b_{d} \\left(K^{c}_{d} + K^{d}_{d}\\right)^{\\kappa_{d}}\\right)^{\\frac{1.0}{\\pi - 1.0}} \\left(K^{c}_{d} + K^{d}_{d}\\right) \\left(G^{2} e - G_{0}^{2} b_{R}\\right)^{\\frac{1.0}{\\pi - 1.0}} + K^{d}_{d} \\kappa_{d} \\left(G^{2} e\\right)^{\\frac{1.0}{\\pi - 1.0}} \\left(C^{\\xi} b_{c} \\left(K^{c}_{c} + K^{d}_{c}\\right)^{\\kappa_{c}}\\right)^{\\frac{1.0}{\\pi - 1.0}} \\left(K^{c}_{c} + K^{d}_{c}\\right)\\right)}}}, \\quad P_{dc} : \\frac{1.0}{e^{\\frac{8.0 \\left(\\left(x - 1\\right) \\left(K^{c}_{c} \\kappa_{c} \\left(b_{d} \\left(K^{c}_{d} + K^{d}_{d}\\right)^{\\kappa_{d}} \\left(G^{2} e - G_{0}^{2} b_{R}\\right)\\right)^{\\frac{1.0}{\\pi - 1.0}} \\left(K^{c}_{d} + K^{d}_{d}\\right) + K^{c}_{d} \\kappa_{d} \\left(C^{\\xi} G^{2} b_{c} e \\left(K^{c}_{c} + K^{d}_{c}\\right)^{\\kappa_{c}}\\right)^{\\frac{1.0}{\\pi - 1.0}} \\left(K^{c}_{c} + K^{d}_{c}\\right)\\right) + \\left(x + 1\\right) \\left(K^{d}_{c} \\kappa_{c} \\left(b_{d} \\left(K^{c}_{d} + K^{d}_{d}\\right)^{\\kappa_{d}} \\left(G^{2} e - G_{0}^{2} b_{R}\\right)\\right)^{\\frac{1.0}{\\pi - 1.0}} \\left(K^{c}_{d} + K^{d}_{d}\\right) + K^{d}_{d} \\kappa_{d} \\left(C^{\\xi} G^{2} b_{c} e \\left(K^{c}_{c} + K^{d}_{c}\\right)^{\\kappa_{c}}\\right)^{\\frac{1.0}{\\pi - 1.0}} \\left(K^{c}_{c} + K^{d}_{c}\\right)\\right)\\right)}{\\left(x - 1\\right) \\left(K^{c}_{c} \\kappa_{c} \\left(b_{d} \\left(K^{c}_{d} + K^{d}_{d}\\right)^{\\kappa_{d}}\\right)^{\\frac{1.0}{\\pi - 1.0}} \\left(K^{c}_{d} + K^{d}_{d}\\right) \\left(G^{2} e - G_{0}^{2} b_{R}\\right)^{\\frac{1.0}{\\pi - 1.0}} + K^{c}_{d} \\kappa_{d} \\left(G^{2} e\\right)^{\\frac{1.0}{\\pi - 1.0}} \\left(C^{\\xi} b_{c} \\left(K^{c}_{c} + K^{d}_{c}\\right)^{\\kappa_{c}}\\right)^{\\frac{1.0}{\\pi - 1.0}} \\left(K^{c}_{c} + K^{d}_{c}\\right)\\right) - \\left(x + 1\\right) \\left(K^{d}_{c} \\kappa_{c} \\left(b_{d} \\left(K^{c}_{d} + K^{d}_{d}\\right)^{\\kappa_{d}}\\right)^{\\frac{1.0}{\\pi - 1.0}} \\left(K^{c}_{d} + K^{d}_{d}\\right) \\left(G^{2} e - G_{0}^{2} b_{R}\\right)^{\\frac{1.0}{\\pi - 1.0}} + K^{d}_{d} \\kappa_{d} \\left(G^{2} e\\right)^{\\frac{1.0}{\\pi - 1.0}} \\left(C^{\\xi} b_{c} \\left(K^{c}_{c} + K^{d}_{c}\\right)^{\\kappa_{c}}\\right)^{\\frac{1.0}{\\pi - 1.0}} \\left(K^{c}_{c} + K^{d}_{c}\\right)\\right)}} + 1}\\right \\}$$"
      ],
      "text/plain": [
       "⎧                                                                             \n",
       "⎪P_{cd}: ─────────────────────────────────────────────────────────────────────\n",
       "⎪                              ⎛        ⎛                                     \n",
       "⎪                              ⎜        ⎜                                     \n",
       "⎪                              ⎜        ⎜                                     \n",
       "⎪                              ⎜        ⎜           ⎛                     κ_d \n",
       "⎪                         -8.0⋅⎝(x - 1)⋅⎝K_c__c⋅κ_c⋅⎝b_d⋅(K_d__c + K_d__d)   ⋅\n",
       "⎨             ────────────────────────────────────────────────────────────────\n",
       "⎪                     ⎛                                       1.0             \n",
       "⎪                     ⎜                                     ───────           \n",
       "⎪                     ⎜                                     π - 1.0           \n",
       "⎪                     ⎜           ⎛                     κ_d⎞                  \n",
       "⎪             (x - 1)⋅⎝K_c__c⋅κ_c⋅⎝b_d⋅(K_d__c + K_d__d)   ⎠       ⋅(K_d__c + \n",
       "⎪        1 + ℯ                                                                \n",
       "⎩                                                                             \n",
       "\n",
       "                                                                              \n",
       "──────────────────────────────────────────────────────────────────────────────\n",
       "                   1.0                                                        \n",
       "                 ───────                                                      \n",
       "                 π - 1.0                                                      \n",
       "⎛ 2       2    ⎞⎞                                       ⎛ ξ  2                \n",
       "⎝G ⋅e - G₀ ⋅b_R⎠⎠       ⋅(K_d__c + K_d__d) + K_d__c⋅κ_d⋅⎝C ⋅G ⋅b_c⋅e⋅(K_c__c +\n",
       "──────────────────────────────────────────────────────────────────────────────\n",
       "                          1.0                        1.0                      \n",
       "                        ───────                    ───────                    \n",
       "                        π - 1.0                    π - 1.0                    \n",
       "        ⎛ 2       2    ⎞                     ⎛ 2  ⎞        ⎛ ξ                \n",
       "K_d__d)⋅⎝G ⋅e - G₀ ⋅b_R⎠        + K_d__c⋅κ_d⋅⎝G ⋅e⎠       ⋅⎝C ⋅b_c⋅(K_c__c + K\n",
       "                                                                              \n",
       "                                                                              \n",
       "\n",
       "                                 1.0                                          \n",
       "──────────────────────────────────────────────────────────────────────────────\n",
       "              1.0                    ⎞           ⎛                            \n",
       "            ───────                  ⎟           ⎜                            \n",
       "            π - 1.0                  ⎟           ⎜                            \n",
       "        κ_c⎞                         ⎟           ⎜           ⎛                \n",
       " K_c__d)   ⎠       ⋅(K_c__c + K_c__d)⎠ + (x + 1)⋅⎝K_c__d⋅κ_c⋅⎝b_d⋅(K_d__c + K_\n",
       "──────────────────────────────────────────────────────────────────────────────\n",
       "            1.0                    ⎞           ⎛                              \n",
       "          ───────                  ⎟           ⎜                              \n",
       "          π - 1.0                  ⎟           ⎜                              \n",
       "      κ_c⎞                         ⎟           ⎜           ⎛                  \n",
       "_c__d)   ⎠       ⋅(K_c__c + K_c__d)⎠ - (x + 1)⋅⎝K_c__d⋅κ_c⋅⎝b_d⋅(K_d__c + K_d_\n",
       "                                                                              \n",
       "                                                                              \n",
       "\n",
       "                                                                              \n",
       "──────────────────────────────────────────────────────────────────────────────\n",
       "                            1.0                                               \n",
       "                          ───────                                             \n",
       "                          π - 1.0                                             \n",
       "     κ_d ⎛ 2       2    ⎞⎞                                       ⎛ ξ  2       \n",
       "d__d)   ⋅⎝G ⋅e - G₀ ⋅b_R⎠⎠       ⋅(K_d__c + K_d__d) + K_d__d⋅κ_d⋅⎝C ⋅G ⋅b_c⋅e⋅\n",
       "──────────────────────────────────────────────────────────────────────────────\n",
       "         1.0                                       1.0                        \n",
       "       ───────                                   ───────                    ──\n",
       "       π - 1.0                                   π - 1.0                    π \n",
       "   κ_d⎞                          ⎛ 2       2    ⎞                     ⎛ 2  ⎞  \n",
       "_d)   ⎠       ⋅(K_d__c + K_d__d)⋅⎝G ⋅e - G₀ ⋅b_R⎠        + K_d__d⋅κ_d⋅⎝G ⋅e⎠  \n",
       "                                                                              \n",
       "                                                                              \n",
       "\n",
       "                                                                              \n",
       "─────────────────────────────────────────────────────────────, P_{dc}: ───────\n",
       "                       1.0                    ⎞⎞                              \n",
       "                     ───────                  ⎟⎟                              \n",
       "                     π - 1.0                  ⎟⎟                              \n",
       "                 κ_c⎞                         ⎟⎟                              \n",
       "(K_c__c + K_c__d)   ⎠       ⋅(K_c__c + K_c__d)⎠⎠                              \n",
       "─────────────────────────────────────────────────────────────           ──────\n",
       "1.0                                  1.0                    ⎞                 \n",
       "─────                              ───────                  ⎟                 \n",
       "- 1.0                              π - 1.0                  ⎟                 \n",
       "      ⎛ ξ                      κ_c⎞                         ⎟                 \n",
       "     ⋅⎝C ⋅b_c⋅(K_c__c + K_c__d)   ⎠       ⋅(K_c__c + K_c__d)⎠           (x - 1\n",
       "                                                                       ℯ      \n",
       "                                                                              \n",
       "\n",
       "                                                                              \n",
       "──────────────────────────────────────────────────────────────────────────────\n",
       "           ⎛        ⎛                                                        1\n",
       "           ⎜        ⎜                                                      ───\n",
       "           ⎜        ⎜                                                      π -\n",
       "           ⎜        ⎜           ⎛                     κ_d ⎛ 2       2    ⎞⎞   \n",
       "       8.0⋅⎝(x - 1)⋅⎝K_c__c⋅κ_c⋅⎝b_d⋅(K_d__c + K_d__d)   ⋅⎝G ⋅e - G₀ ⋅b_R⎠⎠   \n",
       "──────────────────────────────────────────────────────────────────────────────\n",
       "  ⎛                                       1.0                                 \n",
       "  ⎜                                     ───────                               \n",
       "  ⎜                                     π - 1.0                               \n",
       "  ⎜           ⎛                     κ_d⎞                          ⎛ 2       2 \n",
       ")⋅⎝K_c__c⋅κ_c⋅⎝b_d⋅(K_d__c + K_d__d)   ⎠       ⋅(K_d__c + K_d__d)⋅⎝G ⋅e - G₀ ⋅\n",
       "                                                                              \n",
       "                                                                              \n",
       "\n",
       "                                                                              \n",
       "──────────────────────────────────────────────────────────────────────────────\n",
       ".0                                                                      1.0   \n",
       "────                                                                  ─────── \n",
       " 1.0                                                                  π - 1.0 \n",
       "                                    ⎛ ξ  2                        κ_c⎞        \n",
       "    ⋅(K_d__c + K_d__d) + K_d__c⋅κ_d⋅⎝C ⋅G ⋅b_c⋅e⋅(K_c__c + K_c__d)   ⎠       ⋅\n",
       "──────────────────────────────────────────────────────────────────────────────\n",
       "      1.0                        1.0                                  1.0     \n",
       "    ───────                    ───────                              ───────   \n",
       "    π - 1.0                    π - 1.0                              π - 1.0   \n",
       "   ⎞                     ⎛ 2  ⎞        ⎛ ξ                      κ_c⎞          \n",
       "b_R⎠        + K_d__c⋅κ_d⋅⎝G ⋅e⎠       ⋅⎝C ⋅b_c⋅(K_c__c + K_c__d)   ⎠       ⋅(K\n",
       "                                                                              \n",
       "                                                                              \n",
       "\n",
       "                 1.0                                                          \n",
       "──────────────────────────────────────────────────────────────────────────────\n",
       "                 ⎞           ⎛                                                \n",
       "                 ⎟           ⎜                                                \n",
       "                 ⎟           ⎜                                                \n",
       "                 ⎟           ⎜           ⎛                     κ_d ⎛ 2       2\n",
       "(K_c__c + K_c__d)⎠ + (x + 1)⋅⎝K_c__d⋅κ_c⋅⎝b_d⋅(K_d__c + K_d__d)   ⋅⎝G ⋅e - G₀ \n",
       "──────────────────────────────────────────────────────────────────────────────\n",
       "               ⎞           ⎛                                       1.0        \n",
       "               ⎟           ⎜                                     ───────      \n",
       "               ⎟           ⎜                                     π - 1.0      \n",
       "               ⎟           ⎜           ⎛                     κ_d⎞             \n",
       "_c__c + K_c__d)⎠ - (x + 1)⋅⎝K_c__d⋅κ_c⋅⎝b_d⋅(K_d__c + K_d__d)   ⎠       ⋅(K_d_\n",
       "                                                                              \n",
       "                                                                              \n",
       "\n",
       "                                                                              \n",
       "──────────────────────────────────────────────────────────────────────────────\n",
       "        1.0                                                                   \n",
       "      ───────                                                                 \n",
       "      π - 1.0                                                                 \n",
       "    ⎞⎞                                       ⎛ ξ  2                        κ_c\n",
       "⋅b_R⎠⎠       ⋅(K_d__c + K_d__d) + K_d__d⋅κ_d⋅⎝C ⋅G ⋅b_c⋅e⋅(K_c__c + K_c__d)   \n",
       "──────────────────────────────────────────────────────────────────────────────\n",
       "                               1.0                        1.0                 \n",
       "                             ───────                    ───────               \n",
       "                             π - 1.0                    π - 1.0               \n",
       "             ⎛ 2       2    ⎞                     ⎛ 2  ⎞        ⎛ ξ           \n",
       "_c + K_d__d)⋅⎝G ⋅e - G₀ ⋅b_R⎠        + K_d__d⋅κ_d⋅⎝G ⋅e⎠       ⋅⎝C ⋅b_c⋅(K_c__\n",
       "                                                                              \n",
       "                                                                              \n",
       "\n",
       "                                             ⎫\n",
       "─────────────────────────────────────────────⎪\n",
       "   1.0                    ⎞⎞                 ⎪\n",
       " ───────                  ⎟⎟                 ⎪\n",
       " π - 1.0                  ⎟⎟                 ⎪\n",
       "⎞                         ⎟⎟                 ⎪\n",
       "⎠       ⋅(K_c__c + K_c__d)⎠⎠                 ⎪\n",
       "─────────────────────────────────────────    ⎬\n",
       "                 1.0                    ⎞    ⎪\n",
       "               ───────                  ⎟    ⎪\n",
       "               π - 1.0                  ⎟    ⎪\n",
       "           κ_c⎞                         ⎟    ⎪\n",
       "c + K_c__d)   ⎠       ⋅(K_c__c + K_c__d)⎠    ⎪\n",
       "                                          + 1⎪\n",
       "                                             ⎭"
      ]
     },
     "execution_count": 183,
     "metadata": {},
     "output_type": "execute_result"
    }
   ],
   "source": [
    "for key in subsP.keys():\n",
    "    subsP[key] = (subsP[key].subs(subsDW))\n",
    "subsP"
   ]
  },
  {
   "cell_type": "markdown",
   "metadata": {},
   "source": [
    "Write down dynamic equations for the economic subsystem in terms of means of clean and dirty capital stocks for clean and dirty households"
   ]
  },
  {
   "cell_type": "code",
   "execution_count": 184,
   "metadata": {
    "collapsed": true
   },
   "outputs": [],
   "source": [
    "rhsECO = s.Matrix([(rs*rc-delta)*Kcc + rs*rd*Kdc + rs*w*L/N,\n",
    "                  -delta*Kdc,\n",
    "                  -delta*Kcd,\n",
    "                  rs*rc*Kcd + (rs*rd-delta)*Kdd + rs*w*L/N,\n",
    "                  bc*Lc**pi*(Nc*Kcc + Nd*Kcd)**kappac * C**xi - delta*C,\n",
    "                  -R])"
   ]
  },
  {
   "cell_type": "markdown",
   "metadata": {},
   "source": [
    "Write down changes in means of capital stocks through agents' switching of opinions and add them to the capital accuKlation terms"
   ]
  },
  {
   "cell_type": "code",
   "execution_count": 185,
   "metadata": {},
   "outputs": [],
   "source": [
    "dtNcd = 1./tau*Nc*(Nc/N*cd/(2*cc+cd)*(1-phi)*(1-epsilon)*Pcd + epsilon*1./2*Nc/N)\n",
    "dtNdc = 1./tau*Nd*(Nd/N*cd/(2*dd+cd)*(1-phi)*(1-epsilon)*Pdc + epsilon*1./2*Nd/N)\n",
    "\n",
    "rhsECO_switch = s.Matrix([Kcd / Nd * dtNdc - Kcc / Nc * dtNcd,\n",
    "                          Kdd / Nd * dtNdc - Kdc / Nc * dtNcd,\n",
    "                          Kcc / Nc * dtNcd - Kcd / Nd * dtNdc,\n",
    "                          Kdc / Nc * dtNcd - Kdd / Nd * dtNdc,\n",
    "                          0,\n",
    "                          0])\n",
    "rhsECO_switch = s.simplify(rhsECO_switch.subs(subs1))"
   ]
  },
  {
   "cell_type": "code",
   "execution_count": 186,
   "metadata": {
    "collapsed": true,
    "scrolled": true
   },
   "outputs": [],
   "source": [
    "rhsECO = rhsECO + rhsECO_switch"
   ]
  },
  {
   "cell_type": "markdown",
   "metadata": {},
   "source": [
    "Next, we have to write the economic system in terms of X, Y, Z and then in terms of rescalled variables and ckeck the dependency on the system size N: \n",
    "- 1) substitute primitive variables for dependent variables (subs1)\n",
    "- 2) substitute dependent variables for system variables (subs4)"
   ]
  },
  {
   "cell_type": "code",
   "execution_count": 187,
   "metadata": {
    "collapsed": true,
    "scrolled": true
   },
   "outputs": [],
   "source": [
    "rhsECO = rhsECO.subs(subs1).subs(subs2).subs(subs3).subs(subs4)"
   ]
  },
  {
   "cell_type": "markdown",
   "metadata": {},
   "source": [
    "In the PBP rhs substitute economic variables for their propper expressions ($r_c$, $r_d$ ect.) and then again substitute lingering 'primitive' variables with rescalled ones"
   ]
  },
  {
   "cell_type": "code",
   "execution_count": 188,
   "metadata": {
    "collapsed": true
   },
   "outputs": [],
   "source": [
    "rhsPBP = rhsPBP.subs(subs2).subs(subs3)\n",
    "rhsPBP = rhsPBP.subs(subs1).subs(subs4).subs({N: 1})"
   ]
  },
  {
   "cell_type": "markdown",
   "metadata": {},
   "source": [
    "Check expressions to assure eliminating N the evil way does not break stuff"
   ]
  },
  {
   "cell_type": "code",
   "execution_count": 189,
   "metadata": {},
   "outputs": [
    {
     "data": {
      "image/png": "[encoded data removed]",
      "text/latex": [
       "$$L^{\\pi - 1.0} \\pi \\left(\\left(b_{d} \\left(K^{c}_{d} + K^{d}_{d}\\right)^{\\kappa_{d}}\\right)^{- \\frac{1.0}{\\pi - 1.0}} \\left(C^{\\xi} b_{c} \\left(K^{c}_{c} + K^{d}_{c}\\right)^{\\kappa_{c}}\\right)^{- \\frac{1.0}{\\pi - 1.0}} \\left(G^{2} e - G_{0}^{2} b_{R}\\right)^{- \\frac{1.0}{\\pi - 1.0}} \\left(\\left(G^{2} e\\right)^{\\frac{1.0}{\\pi - 1.0}} \\left(C^{\\xi} b_{c} \\left(K^{c}_{c} + K^{d}_{c}\\right)^{\\kappa_{c}}\\right)^{\\frac{1.0}{\\pi - 1.0}} + \\left(b_{d} \\left(K^{c}_{d} + K^{d}_{d}\\right)^{\\kappa_{d}}\\right)^{\\frac{1.0}{\\pi - 1.0}} \\left(G^{2} e - G_{0}^{2} b_{R}\\right)^{\\frac{1.0}{\\pi - 1.0}}\\right)\\right)^{- \\pi + 1.0}$$"
      ],
      "text/plain": [
       "                                                                              \n",
       "           ⎛                           -1.0                                 -1\n",
       "           ⎜                          ───────                              ───\n",
       "           ⎜                          π - 1.0                              π -\n",
       " π - 1.0   ⎜⎛                     κ_d⎞        ⎛ ξ                      κ_c⎞   \n",
       "L       ⋅π⋅⎝⎝b_d⋅(K_d__c + K_d__d)   ⎠       ⋅⎝C ⋅b_c⋅(K_c__c + K_c__d)   ⎠   \n",
       "\n",
       "                                                                              \n",
       ".0                    -1.0   ⎛        1.0                                  1.0\n",
       "────                 ─────── ⎜      ───────                              ─────\n",
       " 1.0                 π - 1.0 ⎜      π - 1.0                              π - 1\n",
       "     ⎛ 2       2    ⎞        ⎜⎛ 2  ⎞        ⎛ ξ                      κ_c⎞     \n",
       "    ⋅⎝G ⋅e - G₀ ⋅b_R⎠       ⋅⎝⎝G ⋅e⎠       ⋅⎝C ⋅b_c⋅(K_c__c + K_c__d)   ⎠     \n",
       "\n",
       "                                                                -π + 1.0\n",
       "                                 1.0                     1.0  ⎞⎞        \n",
       "──                             ───────                 ───────⎟⎟        \n",
       ".0                             π - 1.0                 π - 1.0⎟⎟        \n",
       "     ⎛                     κ_d⎞        ⎛ 2       2    ⎞       ⎟⎟        \n",
       "   + ⎝b_d⋅(K_d__c + K_d__d)   ⎠       ⋅⎝G ⋅e - G₀ ⋅b_R⎠       ⎠⎠        "
      ]
     },
     "execution_count": 189,
     "metadata": {},
     "output_type": "execute_result"
    }
   ],
   "source": [
    "subs2[w].subs(subs3).subs(subs1).subs(subs4).collect(N)"
   ]
  },
  {
   "cell_type": "code",
   "execution_count": 190,
   "metadata": {},
   "outputs": [
    {
     "data": {
      "image/png": "[encoded data removed]",
      "text/latex": [
       "$$\\frac{L^{\\pi} \\kappa_{c}}{K^{c}_{c} + K^{d}_{c}} \\left(\\frac{C^{- \\xi}}{b_{c}} \\left(K^{c}_{c} + K^{d}_{c}\\right)^{- \\kappa_{c}}\\right)^{\\frac{1.0}{\\pi - 1.0}} \\left(\\left(b_{d} \\left(K^{c}_{d} + K^{d}_{d}\\right)^{\\kappa_{d}}\\right)^{- \\frac{1.0}{\\pi - 1.0}} \\left(C^{\\xi} b_{c} \\left(K^{c}_{c} + K^{d}_{c}\\right)^{\\kappa_{c}}\\right)^{- \\frac{1.0}{\\pi - 1.0}} \\left(G^{2} e - G_{0}^{2} b_{R}\\right)^{- \\frac{1.0}{\\pi - 1.0}} \\left(\\left(G^{2} e\\right)^{\\frac{1.0}{\\pi - 1.0}} \\left(C^{\\xi} b_{c} \\left(K^{c}_{c} + K^{d}_{c}\\right)^{\\kappa_{c}}\\right)^{\\frac{1.0}{\\pi - 1.0}} + \\left(b_{d} \\left(K^{c}_{d} + K^{d}_{d}\\right)^{\\kappa_{d}}\\right)^{\\frac{1.0}{\\pi - 1.0}} \\left(G^{2} e - G_{0}^{2} b_{R}\\right)^{\\frac{1.0}{\\pi - 1.0}}\\right)\\right)^{- \\pi}$$"
      ],
      "text/plain": [
       "                                    1.0                                       \n",
       "                                  ─────── ⎛                           -1.0    \n",
       "                                  π - 1.0 ⎜                          ───────  \n",
       "       ⎛ -ξ                  -κ_c⎞        ⎜                          π - 1.0  \n",
       " π     ⎜C  ⋅(K_c__c + K_c__d)    ⎟        ⎜⎛                     κ_d⎞        ⎛\n",
       "L ⋅κ_c⋅⎜─────────────────────────⎟       ⋅⎝⎝b_d⋅(K_d__c + K_d__d)   ⎠       ⋅⎝\n",
       "       ⎝           b_c           ⎠                                            \n",
       "──────────────────────────────────────────────────────────────────────────────\n",
       "                                                                              \n",
       "\n",
       "                                                                              \n",
       "                             -1.0                    -1.0   ⎛        1.0      \n",
       "                            ───────                 ─────── ⎜      ───────    \n",
       "                            π - 1.0                 π - 1.0 ⎜      π - 1.0    \n",
       " ξ                      κ_c⎞        ⎛ 2       2    ⎞        ⎜⎛ 2  ⎞        ⎛ ξ\n",
       "C ⋅b_c⋅(K_c__c + K_c__d)   ⎠       ⋅⎝G ⋅e - G₀ ⋅b_R⎠       ⋅⎝⎝G ⋅e⎠       ⋅⎝C \n",
       "                                                                              \n",
       "──────────────────────────────────────────────────────────────────────────────\n",
       "                                         K_c__c + K_c__d                      \n",
       "\n",
       "                                                                              \n",
       "                            1.0                                 1.0           \n",
       "                          ───────                             ───────         \n",
       "                          π - 1.0                             π - 1.0         \n",
       "                      κ_c⎞          ⎛                     κ_d⎞        ⎛ 2     \n",
       "⋅b_c⋅(K_c__c + K_c__d)   ⎠        + ⎝b_d⋅(K_d__c + K_d__d)   ⎠       ⋅⎝G ⋅e - \n",
       "                                                                              \n",
       "──────────────────────────────────────────────────────────────────────────────\n",
       "                                                                              \n",
       "\n",
       "                 -π\n",
       "          1.0  ⎞⎞  \n",
       "        ───────⎟⎟  \n",
       "        π - 1.0⎟⎟  \n",
       "  2    ⎞       ⎟⎟  \n",
       "G₀ ⋅b_R⎠       ⎠⎠  \n",
       "                   \n",
       "───────────────────\n",
       "                   "
      ]
     },
     "execution_count": 190,
     "metadata": {},
     "output_type": "execute_result"
    }
   ],
   "source": [
    "subs2[rc].subs(subs3).subs(subs1).subs(subs4).collect(N)"
   ]
  },
  {
   "cell_type": "code",
   "execution_count": 191,
   "metadata": {
    "scrolled": true
   },
   "outputs": [
    {
     "data": {
      "image/png": "[encoded data removed]",
      "text/latex": [
       "$$\\frac{L^{\\pi} \\kappa_{d}}{K^{c}_{d} + K^{d}_{d}} \\left(\\frac{G^{2} e}{b_{d}} \\left(K^{c}_{d} + K^{d}_{d}\\right)^{- \\kappa_{d}}\\right)^{\\frac{1.0}{\\pi - 1.0}} \\left(\\left(b_{d} \\left(K^{c}_{d} + K^{d}_{d}\\right)^{\\kappa_{d}}\\right)^{- \\frac{1.0}{\\pi - 1.0}} \\left(C^{\\xi} b_{c} \\left(K^{c}_{c} + K^{d}_{c}\\right)^{\\kappa_{c}}\\right)^{- \\frac{1.0}{\\pi - 1.0}} \\left(G^{2} e - G_{0}^{2} b_{R}\\right)^{- \\frac{1.0}{\\pi - 1.0}} \\left(\\left(G^{2} e\\right)^{\\frac{1.0}{\\pi - 1.0}} \\left(C^{\\xi} b_{c} \\left(K^{c}_{c} + K^{d}_{c}\\right)^{\\kappa_{c}}\\right)^{\\frac{1.0}{\\pi - 1.0}} + \\left(b_{d} \\left(K^{c}_{d} + K^{d}_{d}\\right)^{\\kappa_{d}}\\right)^{\\frac{1.0}{\\pi - 1.0}} \\left(G^{2} e - G_{0}^{2} b_{R}\\right)^{\\frac{1.0}{\\pi - 1.0}}\\right)\\right)^{- \\pi} \\left(G^{2} e - G_{0}^{2} b_{R}\\right)^{- \\frac{1.0}{\\pi - 1.0}}$$"
      ],
      "text/plain": [
       "                                     1.0                                      \n",
       "                                   ─────── ⎛                           -1.0   \n",
       "                                   π - 1.0 ⎜                          ─────── \n",
       "       ⎛ 2                    -κ_d⎞        ⎜                          π - 1.0 \n",
       " π     ⎜G ⋅e⋅(K_d__c + K_d__d)    ⎟        ⎜⎛                     κ_d⎞        \n",
       "L ⋅κ_d⋅⎜──────────────────────────⎟       ⋅⎝⎝b_d⋅(K_d__c + K_d__d)   ⎠       ⋅\n",
       "       ⎝           b_d            ⎠                                           \n",
       "──────────────────────────────────────────────────────────────────────────────\n",
       "                                                                              \n",
       "\n",
       "                                                                              \n",
       "                              -1.0                    -1.0   ⎛        1.0     \n",
       "                             ───────                 ─────── ⎜      ───────   \n",
       "                             π - 1.0                 π - 1.0 ⎜      π - 1.0   \n",
       "⎛ ξ                      κ_c⎞        ⎛ 2       2    ⎞        ⎜⎛ 2  ⎞        ⎛ \n",
       "⎝C ⋅b_c⋅(K_c__c + K_c__d)   ⎠       ⋅⎝G ⋅e - G₀ ⋅b_R⎠       ⋅⎝⎝G ⋅e⎠       ⋅⎝C\n",
       "                                                                              \n",
       "──────────────────────────────────────────────────────────────────────────────\n",
       "                                                     K_d__c + K_d__d          \n",
       "\n",
       "                                                                              \n",
       "                             1.0                                 1.0          \n",
       "                           ───────                             ───────        \n",
       "                           π - 1.0                             π - 1.0        \n",
       "ξ                      κ_c⎞          ⎛                     κ_d⎞        ⎛ 2    \n",
       " ⋅b_c⋅(K_c__c + K_c__d)   ⎠        + ⎝b_d⋅(K_d__c + K_d__d)   ⎠       ⋅⎝G ⋅e -\n",
       "                                                                              \n",
       "──────────────────────────────────────────────────────────────────────────────\n",
       "                                                                              \n",
       "\n",
       "                  -π                        \n",
       "           1.0  ⎞⎞                    -1.0  \n",
       "         ───────⎟⎟                   ───────\n",
       "         π - 1.0⎟⎟                   π - 1.0\n",
       "   2    ⎞       ⎟⎟   ⎛ 2       2    ⎞       \n",
       " G₀ ⋅b_R⎠       ⎠⎠  ⋅⎝G ⋅e - G₀ ⋅b_R⎠       \n",
       "                                            \n",
       "────────────────────────────────────────────\n",
       "                                            "
      ]
     },
     "execution_count": 191,
     "metadata": {},
     "output_type": "execute_result"
    }
   ],
   "source": [
    "subs2[rd].subs(subs3).subs(subs1).subs(subs4).collect(N)"
   ]
  },
  {
   "cell_type": "code",
   "execution_count": 192,
   "metadata": {},
   "outputs": [
    {
     "data": {
      "image/png": "[encoded data removed]",
      "text/latex": [
       "$$\\frac{0.5}{N \\tau \\left(- N m y + N m\\right) \\left(N m y + N m\\right)} \\left(- K^{c}_{c} \\left(N x + N\\right) \\left(- N m y + N m\\right) \\left(N P_{cd} m z \\left(\\epsilon - 1\\right) \\left(\\phi - 1\\right) + 0.5 \\epsilon \\left(N m y + N m\\right)\\right) + K^{d}_{c} \\left(- N x + N\\right) \\left(N m y + N m\\right) \\left(N P_{dc} m z \\left(\\epsilon - 1\\right) \\left(\\phi - 1\\right) + 0.5 \\epsilon \\left(- N m y + N m\\right)\\right)\\right)$$"
      ],
      "text/plain": [
       "0.5⋅(-K_c__c⋅(N⋅x + N)⋅(-N⋅m⋅y + N⋅m)⋅(N⋅P_{cd}⋅m⋅z⋅(ε - 1)⋅(φ - 1) + 0.5⋅ε⋅(N\n",
       "──────────────────────────────────────────────────────────────────────────────\n",
       "                                                                          N⋅τ⋅\n",
       "\n",
       "⋅m⋅y + N⋅m)) + K_c__d⋅(-N⋅x + N)⋅(N⋅m⋅y + N⋅m)⋅(N⋅P_{dc}⋅m⋅z⋅(ε - 1)⋅(φ - 1) +\n",
       "──────────────────────────────────────────────────────────────────────────────\n",
       "(-N⋅m⋅y + N⋅m)⋅(N⋅m⋅y + N⋅m)                                                  \n",
       "\n",
       " 0.5⋅ε⋅(-N⋅m⋅y + N⋅m)))\n",
       "───────────────────────\n",
       "                       "
      ]
     },
     "execution_count": 192,
     "metadata": {},
     "output_type": "execute_result"
    }
   ],
   "source": [
    "rhsECO_switch[0].subs(subs1).subs(subs3).subs(subs4)"
   ]
  },
  {
   "cell_type": "markdown",
   "metadata": {},
   "source": [
    "Combine dynamic equations of economic and social subsystem:"
   ]
  },
  {
   "cell_type": "code",
   "execution_count": null,
   "metadata": {},
   "outputs": [],
   "source": [
    "rhsECO = rhsECO.subs({N: 1})\n",
    "rhs = s.Matrix([rhsPBP,rhsECO]).subs(subs1)\n",
    "rhs.subs(subsP)"
   ]
  },
  {
   "cell_type": "code",
   "execution_count": null,
   "metadata": {
    "collapsed": true
   },
   "outputs": [],
   "source": [
    "with open('res_aggregate_raw.pkl', 'wb') as outf:\n",
    "    pkl.dump(rhs, outf)"
   ]
  },
  {
   "cell_type": "code",
   "execution_count": null,
   "metadata": {},
   "outputs": [],
   "source": [
    "rhs[4]"
   ]
  },
  {
   "cell_type": "code",
   "execution_count": null,
   "metadata": {
    "collapsed": true
   },
   "outputs": [],
   "source": []
  },
  {
   "cell_type": "code",
   "execution_count": null,
   "metadata": {
    "collapsed": true
   },
   "outputs": [],
   "source": []
  }
 ],
 "metadata": {
  "kernelspec": {
   "display_name": "Python 3",
   "language": "python",
   "name": "python3"
  },
  "language_info": {
   "codemirror_mode": {
    "name": "ipython",
    "version": 3
   },
   "file_extension": ".py",
   "mimetype": "text/x-python",
   "name": "python",
   "nbconvert_exporter": "python",
   "pygments_lexer": "ipython3",
   "version": "3.6.0"
  }
 },
 "nbformat": 4,
 "nbformat_minor": 1
}
