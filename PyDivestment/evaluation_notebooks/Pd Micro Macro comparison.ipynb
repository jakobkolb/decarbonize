{
 "cells": [
  {
   "cell_type": "code",
   "execution_count": 45,
   "metadata": {
    "collapsed": true
   },
   "outputs": [],
   "source": [
    "\"\"\"\n",
    "This script is suposed to produce plots of the results from\n",
    "macroscopic approximation of the network-based microscopic model of divestment.\n",
    "\"\"\"\n",
    "\n",
    "import numpy as np\n",
    "import matplotlib.pyplot as plt\n",
    "import pandas as pd\n",
    "from plot_routines import plot_routines"
   ]
  },
  {
   "cell_type": "code",
   "execution_count": 46,
   "metadata": {
    "scrolled": false
   },
   "outputs": [],
   "source": [
    "import time\n",
    "\n",
    "bc, eps = 1.25, 0.05\n",
    "\n",
    "#prt = plot_routines(base_path='/home/jakob/Project_Divestment/PyDivestment/output_data/test_output/P2/')\n",
    "prt = plot_routines(micro_path='/home/jakob/Project_Divestment/PyDivestment/output_data/P3o2/micro/',\n",
    "         macro_path='/home/jakob/Project_Divestment/PyDivestment/output_data/P3o2/mean/',\n",
    "         table='/dat',\n",
    "         macro_selector='approximate = 2',\n",
    "         micro_selector='approximate = 1',\n",
    "         toffset=80)\n"
   ]
  },
  {
   "cell_type": "code",
   "execution_count": 47,
   "metadata": {},
   "outputs": [
    {
     "name": "stderr",
     "output_type": "stream",
     "text": [
      "/home/jakob/anaconda3/envs/divest/lib/python3.6/site-packages/matplotlib/pyplot.py:524: RuntimeWarning: More than 20 figures have been opened. Figures created through the pyplot interface (`matplotlib.pyplot.figure`) are retained until explicitly closed and may consume too much memory. (To control this warning, see the rcParam `figure.max_open_warning`).\n",
      "  max_open_warning, RuntimeWarning)\n"
     ]
    }
   ],
   "source": [
    "\n",
    "\n",
    "#for phi in [round(x, 5) for x in list(np.linspace(0.0, 0.9, 10))]:\n",
    "for phi in [.5]:\n",
    "\n",
    "    figure, axes = prt.mk_4plots(selector={'phi': phi, 'tau': 1., 'eps': 0.05},\n",
    "                           upper_limits=[.82, 85, 20, 20, 8], \n",
    "                           lower_limits=[-.6, 0, 0, 0, 0],\n",
    "                           legend_locations=[4, 7, 1, 1],\n",
    "                           tmax=300,\n",
    "                           figsize=(7,6))\n",
    "    figure.tight_layout()\n",
    "    figure.savefig('micro_vs_approx.pdf'.format(bc, phi))\n"
   ]
  },
  {
   "cell_type": "code",
   "execution_count": 37,
   "metadata": {},
   "outputs": [
    {
     "name": "stdout",
     "output_type": "stream",
     "text": [
      "<class 'pandas.io.pytables.HDFStore'>\n",
      "File path: /home/jakob/Project_Divestment/PyDivestment/output_data/P3/representative/mean.h5\n",
      "/ct             frame_table  (typ->appendable,nrows->840,ncols->6,indexers->[index],dc->[tau,phi,eps,approximate,test,sample])                                                                                               \n",
      "/dat            frame_table  (typ->appendable_multi,nrows->168840,ncols->27,indexers->[index],dc->[tstep,sample,test,approximate,eps,phi,tau,c,g,i_c,k_c,k_d,l_c,l_d,n_c,r,r_c,r_d,time,w,mu_c^c,mu_c^d,mu_d^c,mu_d^d,x,y,z])\n"
     ]
    }
   ],
   "source": [
    "with pd.HDFStore('/home/jakob/Project_Divestment/PyDivestment/output_data/P3/representative/' + 'mean.h5') as store:\n",
    "    print(store.info())"
   ]
  },
  {
   "cell_type": "code",
   "execution_count": null,
   "metadata": {
    "collapsed": true
   },
   "outputs": [],
   "source": []
  }
 ],
 "metadata": {
  "kernelspec": {
   "display_name": "Python [default]",
   "language": "python",
   "name": "python3"
  },
  "language_info": {
   "codemirror_mode": {
    "name": "ipython",
    "version": 3
   },
   "file_extension": ".py",
   "mimetype": "text/x-python",
   "name": "python",
   "nbconvert_exporter": "python",
   "pygments_lexer": "ipython3",
   "version": "3.6.0"
  }
 },
 "nbformat": 4,
 "nbformat_minor": 2
}
