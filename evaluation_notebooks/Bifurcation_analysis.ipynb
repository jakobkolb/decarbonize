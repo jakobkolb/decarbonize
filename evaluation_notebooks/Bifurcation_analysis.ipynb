{
 "cells": [
  {
   "cell_type": "code",
   "execution_count": null,
   "metadata": {
    "nbpresent": {
     "id": "bd5706d1-e612-4dc0-9eaa-05170b1c295d"
    }
   },
   "outputs": [],
   "source": [
    "# Copyright (C) 2016-2018 by Jakob J. Kolb at Potsdam Institute for Climate\n",
    "# Impact Research\n",
    "#\n",
    "# Contact: kolb@pik-potsdam.de\n",
    "# License: GNU AGPL Version 3\n",
    "%matplotlib inline\n",
    "import PyDSTool as pdt\n",
    "import numpy as np\n",
    "import networkx as nx\n",
    "from random import shuffle\n",
    "import sympy as sp\n",
    "import pandas as pd\n",
    "import matplotlib.pyplot as plt\n",
    "from pydivest.macro_model.integrate_equations_aggregate import IntegrateEquationsAggregate as Model\n"
   ]
  },
  {
   "cell_type": "code",
   "execution_count": null,
   "metadata": {
    "nbpresent": {
     "id": "8d3e617b-951f-4652-848e-b416a9fe8475"
    }
   },
   "outputs": [],
   "source": [
    "# investment_decisions:\n",
    "\n",
    "nopinions = [50, 50]\n",
    "\n",
    "# Parameters:\n",
    "\n",
    "phi, b_d = 0.5, 3.\n",
    "\n",
    "input_parameters = {'b_c': 1., 'phi': .0, 'tau': 1.,\n",
    "                    'eps': 0.01, 'b_d': 4., 'e': 1.,\n",
    "                    'b_r0': 0.1,\n",
    "                    'possible_cue_orders': [[0], [1]],\n",
    "                    'xi': .12, 'd_k': 0.06, 'd_c': 0.1, 'kappa_c': 0.5,\n",
    "                    'L': 100., 'C': 1., 'G_0': 500000.,\n",
    "                    'campaign': False, 'learning': True,\n",
    "                    'interaction': 1, 'test': False,\n",
    "                    'R_depletion': True}\n",
    "\n",
    "# investment_decisions\n",
    "opinions = []\n",
    "for i, n in enumerate(nopinions):\n",
    "    opinions.append(np.full((n), i, dtype='I'))\n",
    "opinions = [item for sublist in opinions for item in sublist]\n",
    "shuffle(opinions)\n",
    "\n",
    "# network:\n",
    "N = sum(nopinions)\n",
    "p = .2\n",
    "\n",
    "while True:\n",
    "    net = nx.erdos_renyi_graph(N, p)\n",
    "    if len(list(net)) > 1:\n",
    "        break\n",
    "adjacency_matrix = nx.adj_matrix(net).toarray()\n",
    "\n",
    "# investment\n",
    "clean_investment = np.ones(N)\n",
    "dirty_investment = np.ones(N)\n",
    "\n",
    "init_conditions = (adjacency_matrix, opinions,\n",
    "                   clean_investment, dirty_investment)\n",
    "m = Model(*init_conditions, **input_parameters)"
   ]
  },
  {
   "cell_type": "code",
   "execution_count": null,
   "metadata": {
    "nbpresent": {
     "id": "f6e1e5cd-ebb6-41f8-a487-65980a5a5c6d"
    }
   },
   "outputs": [],
   "source": [
    "DSargs = pdt.args(name='aggregated_approximation')\n",
    "v_e, v_pi, v_tau = sp.symbols('v_e v_pi v_tau')\n",
    "v_K_cc, v_K_cd, v_K_dc, v_K_dd = sp.symbols('K_cc K_cd K_dc K_dd')\n",
    "v_subs = {m.e: v_e, m.pi: v_pi, m.tau: v_tau,\n",
    "          m.Kcc: v_K_cc, m.Kcd: v_K_cd, \n",
    "          m.Kdc: v_K_dc, m.Kdd: v_K_dd}\n",
    "\n",
    "equations = {m.var_symbols[i]: str(m.rhs_raw[i].subs(v_subs)) for i in range(len(m.var_names))}\n",
    "\n",
    "equations_updated = {}\n",
    "for (symbol, value) in equations.items():\n",
    "    if symbol in v_subs.keys():\n",
    "        equations_updated[str(v_subs[symbol])] = value\n",
    "    else:\n",
    "        equations_updated[str(symbol)] = value\n",
    "        \n",
    "\n",
    "\n",
    "params_updated = {}\n",
    "for (symbol, value) in m.list_parameters().items():\n",
    "    if symbol in v_subs.keys():\n",
    "        params_updated[str(v_subs[symbol])] = value\n",
    "    else:\n",
    "        params_updated[str(symbol)] = value\n",
    "\n",
    "\n",
    "\n",
    "initial_conditions = {}\n",
    "for (symbol, value) in m.list_initial_conditions().items():\n",
    "    if symbol in v_subs.keys():\n",
    "        initial_conditions[str(v_subs[symbol])] = value\n",
    "    else:\n",
    "        initial_conditions[str(symbol)] = value   \n",
    "    \n",
    "\n",
    "del equations_updated['G']\n",
    "del initial_conditions['G']\n",
    "\n",
    "# params_updated['G'] = m.p_G_0\n",
    "# params_updated['xi'] = 0.12\n",
    "# params_updated['delta_c'] = 0.1\n",
    "\n",
    "params_updated['G'] = m.p_G_0\n",
    "params_updated['xi'] = 0.12\n",
    "params_updated['phi'] = .5\n",
    "params_updated['delta_c'] = 0.1\n",
    "params_updated['epsilon'] = 0.03\n",
    "\n",
    "initial_conditions['C'] = 1#0000\n",
    "initial_conditions['K_cc'] = 1#000\n",
    "initial_conditions['K_dd'] = 17500\n",
    "initial_conditions['x'] = -.9\n",
    "initial_conditions['y'] = -.9\n",
    "initial_conditions['z'] = .1\n",
    "\n",
    "print(params_updated)\n",
    "\n",
    "DSargs.pars = params_updated\n",
    "DSargs.varspecs = equations_updated\n",
    "DSargs.ics = initial_conditions\n",
    "DSargs.pdomain = {'xi':[0.1, 0.15], 'b_d': [1., 4.]}\n",
    "DSargs.tdata = [0, 300]\n",
    "DSargs.algparams = {'init_step': 0.2}"
   ]
  },
  {
   "cell_type": "code",
   "execution_count": null,
   "metadata": {
    "nbpresent": {
     "id": "ab2d0eb6-701b-4e60-b1de-27b8bd85e96a"
    }
   },
   "outputs": [],
   "source": [
    "ode = pdt.Generator.Vode_ODEsystem(DSargs)\n",
    "traj = ode.compute('trajectory to initial conditions')\n",
    "pts = traj.sample(dt=1.)"
   ]
  },
  {
   "cell_type": "code",
   "execution_count": null,
   "metadata": {
    "nbpresent": {
     "id": "e248dff2-3732-4aaa-8eb3-79f9e044eccb"
    }
   },
   "outputs": [],
   "source": [
    "fig, axes = plt.subplots(ncols=2)\n",
    "fig.set_figwidth(10)\n",
    "axes[0].plot(pts['t'], pts['K_cc'], label='$K_c^c$')\n",
    "axes[0].plot(pts['t'], pts['K_cd'], label='$K_c^d$')\n",
    "axes[0].plot(pts['t'], pts['K_dc'], label='$K_d^c$')\n",
    "axes[0].plot(pts['t'], pts['K_dd'], label='$K_d^d$')\n",
    "axes[0].plot(pts['t'], pts['C'], label='C')\n",
    "axes[0].legend()\n",
    "\n",
    "axes[1].plot(pts['t'], pts['x'], label='x')\n",
    "axes[1].plot(pts['t'], pts['y'], label='y')\n",
    "axes[1].plot(pts['t'], pts['z'], label='z')\n",
    "axes[1].legend()\n",
    "\n"
   ]
  },
  {
   "cell_type": "code",
   "execution_count": null,
   "metadata": {
    "nbpresent": {
     "id": "7c573cce-6329-4ce1-96ac-dbb9185501a6"
    }
   },
   "outputs": [],
   "source": [
    "ode.set(ics=pts[-1])"
   ]
  },
  {
   "cell_type": "code",
   "execution_count": null,
   "metadata": {
    "nbpresent": {
     "id": "ef9b99e0-384c-472c-87bb-64e89816e758"
    }
   },
   "outputs": [],
   "source": [
    "PC = pdt.ContClass(ode)\n",
    "PCargs = pdt.args(name='EQ1', type='EP-C')\n",
    "PCargs.freepars = ['xi']\n",
    "PCargs.MaxNumPoints = 200\n",
    "PCargs.MaxStepSize = 2\n",
    "PCargs.MinStepSize = 1e-2\n",
    "PCargs.StepSize = 1e-1\n",
    "PCargs.verbosity = 1\n",
    "PCargs.SaveEigen = True\n",
    "# PCargs.LocBifPoints = ['LP', 'B']\n",
    "PCargs.LocBifPoints = 'all'\n",
    "PCargs.StopAtPoints = ['B']"
   ]
  },
  {
   "cell_type": "code",
   "execution_count": null,
   "metadata": {
    "nbpresent": {
     "id": "7d48d623-ca35-4979-b5e3-7d499c757fbc"
    }
   },
   "outputs": [],
   "source": [
    "PC.newCurve(PCargs)"
   ]
  },
  {
   "cell_type": "code",
   "execution_count": null,
   "metadata": {
    "keep_output": true,
    "nbpresent": {
     "id": "dc389cfb-3aa0-4d99-8ba9-06d92521c566"
    }
   },
   "outputs": [
    {
     "name": "stdout",
     "output_type": "stream",
     "text": [
      "0 111.68603099999999\n",
      "1 111.90469999999999\n",
      "2 111.05064700000003\n",
      "3 110.124392\n",
      "4 111.92811600000005\n",
      "5 111.4365919999999\n",
      "6 112.26281800000004\n",
      "7 110.64591299999995\n",
      "8 111.13378199999988\n",
      "9 111.84712800000011\n",
      "10 111.8783219999998\n",
      "11 111.56337500000018\n",
      "12 112.35648500000002\n",
      "13 111.74747200000002\n",
      "14 112.38745199999994\n",
      "15 111.87374900000009\n",
      "16 112.07575500000007\n",
      "17 111.81540399999994\n",
      "18 111.91674999999987\n",
      "19 111.90337899999986\n",
      "20 112.07566700000007\n",
      "21 111.56949300000042\n",
      "LP Point found \n",
      "22 114.09647600000017\n",
      "23 112.44882800000005\n",
      "24 112.17048700000032\n",
      "25 111.974964\n",
      "26 112.90740499999993\n",
      "27 112.43076500000006\n",
      "28 111.22485200000028\n",
      "29 111.76725699999997\n",
      "30 110.9638329999998\n",
      "31 111.30497699999978\n",
      "32 110.97857999999997\n",
      "33 111.1937109999999\n",
      "34 111.43204400000013\n",
      "35 110.32340399999975\n",
      "36 110.981221\n",
      "37 111.3906850000003\n",
      "38 110.9025529999999\n",
      "39 112.07769400000052\n",
      "40 112.11689599999954\n",
      "41 111.69184900000073\n",
      "42 110.52240300000085\n",
      "43 110.59368100000029\n",
      "44 113.45827999999983\n",
      "45 113.88598299999921\n",
      "46 110.24202199999945\n",
      "47 112.05732100000023\n",
      "48 111.05965299999934\n",
      "49 113.02656600000046\n",
      "50 110.26143700000011\n",
      "51 113.1702320000004\n",
      "52 112.80275400000028\n",
      "53 112.30306399999972\n",
      "54 113.01613699999962\n",
      "55 112.82689200000004\n",
      "56 112.70359199999984\n",
      "57 112.78330499999993\n",
      "58 112.78668800000014\n",
      "59 112.87368700000025\n",
      "60 112.7290380000004\n",
      "61 112.62857000000076\n",
      "62 111.75663499999973\n",
      "63 111.6606099999999\n",
      "64 111.848747\n",
      "65 110.99911599999996\n",
      "66 112.82156300000042\n",
      "67 111.78046599999925\n",
      "68 112.32801500000005\n",
      "69 111.73535999999967\n",
      "70 112.39234099999976\n",
      "71 111.26024400000097\n",
      "72 112.78368200000114\n",
      "73 112.37752399999954\n",
      "74 112.30647599999975\n",
      "75 111.0713909999995\n",
      "76 112.22702200000094\n",
      "77 111.01249900000039\n",
      "78 112.90029700000014\n",
      "79 111.410652999999\n",
      "80 110.74493999999868\n",
      "81 111.74945399999888\n",
      "82 109.58986200000072\n",
      "83 110.72291699999914\n",
      "84 111.51719400000002\n",
      "85 112.25559700000122\n",
      "86 112.09083199999986\n",
      "LP Point found \n",
      "87 113.30059799999981\n",
      "88 112.53236900000047\n",
      "89 112.35474800000156\n",
      "90 111.1262829999996\n",
      "91 111.72777700000006\n",
      "92 112.59463099999994\n",
      "93 113.22399000000041\n",
      "94 111.57460400000127\n",
      "95 112.29901900000004\n",
      "96 111.2992119999999\n",
      "97 110.15159900000072\n",
      "98 110.91422700000112\n",
      "99 110.30260399999861\n"
     ]
    },
    {
     "data": {
      "text/plain": [
       "<matplotlib.figure.Figure at 0x7f3151265ba8>"
      ]
     },
     "metadata": {},
     "output_type": "display_data"
    }
   ],
   "source": [
    "import time\n",
    "\n",
    "%matplotlib inline\n",
    "for i in range(100):\n",
    "    start = time.clock()\n",
    "    PC['EQ1'].forward()\n",
    "    stop = time.clock()\n",
    "    print(i, stop-start)\n",
    "    PC['EQ1'].display(coords=('xi', 'C'), axes=(2, 2, 1), stability=True)\n",
    "    PC['EQ1'].display(coords=('xi', 'K_dc'), axes=(2, 2, 2), stability=True)\n",
    "    PC['EQ1'].display(coords=('xi', 'x'), axes=(2, 2, 3), stability=True)\n",
    "    PC['EQ1'].display(coords=('xi', 'z'), axes=(2, 2, 4), stability=True)\n",
    "    PC['EQ1'].plot.togglePoint('LP1')\n",
    "    fig = plt.gcf()\n",
    "    fig.set_figwidth(8)\n",
    "    fig.set_figheight(8)\n",
    "    for ax, title in zip(fig.get_axes(), ['C', r'$K_d^c$', 'x', 'z']):\n",
    "        ax.set_title('')\n",
    "        ax.set_xlabel(r'$\\gamma$')\n",
    "        ax.set_ylabel(title)\n",
    "    fig.tight_layout()\n",
    "    fig.savefig(f'fig_ba_{i}.png')\n",
    "    fig.clear()\n",
    "    "
   ]
  },
  {
   "cell_type": "code",
   "execution_count": null,
   "metadata": {
    "deep_output": true,
    "nbpresent": {
     "id": "d1afd35c-58fb-444f-a954-2782e1097a34"
    }
   },
   "outputs": [],
   "source": [
    "%matplotlib inline\n",
    "#fig, axes = plt.subplots(ncols=4)\n",
    "PC['EQ1'].display(coords=('xi', 'C'), axes=(1, 4, 1), stability=True)\n",
    "PC['EQ1'].display(coords=('xi', 'K_dc'), axes=(1, 4, 3), stability=True)\n",
    "PC['EQ1'].display(coords=('xi', 'x'), axes=(1, 4, 2), stability=True)\n",
    "PC['EQ1'].display(coords=('xi', 'z'), axes=(1, 4, 4), stability=True)\n",
    "PC['EQ1'].plot.togglePoint('LP1')\n",
    "fig = plt.gcf()\n",
    "fig.set_figwidth(12)\n",
    "fig.set_figheight(3)\n",
    "for ax, title, tag in zip(fig.get_axes(), ['C', r'$K_d^c$', 'x', 'z'], ['a)', 'b)', 'c)', 'd)']):\n",
    "    ax.set_title('')\n",
    "    ax.set_xlabel(r'$\\gamma$')\n",
    "    ax.set_ylabel(title)\n",
    "    ax.text(x=.04, y=.9, s=tag,\n",
    "        fontdict={'fontsize': 16},\n",
    "        transform=ax.transAxes)\n",
    "fig.tight_layout()\n",
    "\n",
    "fig.savefig(f'fig_ba_wide.pdf')"
   ]
  },
  {
   "cell_type": "code",
   "execution_count": null,
   "metadata": {
    "keep_output": true,
    "nbpresent": {
     "id": "f3d51327-fcb0-4502-b852-13290894ea30"
    }
   },
   "outputs": [
    {
     "data": {
      "image/png": "[encoded data removed]",
      "text/plain": [
       "<matplotlib.figure.Figure at 0x7f3166909668>"
      ]
     },
     "execution_count": null,
     "metadata": {},
     "output_type": "execute_result"
    },
    {
     "data": {
      "text/plain": [
       "<matplotlib.figure.Figure at 0x7f3152585048>"
      ]
     },
     "metadata": {},
     "output_type": "display_data"
    }
   ],
   "source": [
    "#PC['EQ1'].plot.togglePoints(visible='off', byname=['LP1', 'LP2', 'P2', 'P1'])\n",
    "PC['EQ1'].plot.toggleLabels(visible='off', byname=['LP3', 'LP4', 'B', 'B1'])\n",
    "PC['EQ1'].plot.refresh()\n",
    "PC['EQ1'].plot.fig1.fig.savefig('ba_plot.pdf')\n",
    "PC['EQ1'].plot.fig1.fig"
   ]
  },
  {
   "cell_type": "code",
   "execution_count": null,
   "metadata": {},
   "outputs": [],
   "source": []
  },
  {
   "cell_type": "code",
   "execution_count": null,
   "metadata": {},
   "outputs": [],
   "source": []
  }
 ],
 "metadata": {
  "celltoolbar": "Edit Metadata",
  "kernelspec": {
   "display_name": "Python [conda env:pyds]",
   "language": "python",
   "name": "conda-env-pyds-py"
  },
  "language_info": {
   "codemirror_mode": {
    "name": "ipython",
    "version": 3
   },
   "file_extension": ".py",
   "mimetype": "text/x-python",
   "name": "python",
   "nbconvert_exporter": "python",
   "pygments_lexer": "ipython3",
   "version": "3.6.4"
  }
 },
 "nbformat": 4,
 "nbformat_minor": 2
}
