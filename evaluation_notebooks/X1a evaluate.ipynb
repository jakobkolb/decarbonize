{
 "cells": [
  {
   "cell_type": "code",
   "execution_count": null,
   "metadata": {},
   "outputs": [],
   "source": [
    "import pandas as pd\n",
    "import numpy as np\n",
    "import matplotlib.pyplot as plt\n",
    "import seaborn as sn\n",
    "from itertools import product\n",
    "from tqdm import tqdm_notebook\n",
    "#from heuristi_plot_1 import plot as hplot\n",
    "\n",
    "path = '../output_data/'"
   ]
  },
  {
   "cell_type": "code",
   "execution_count": null,
   "metadata": {},
   "outputs": [],
   "source": [
    "with pd.HDFStore(path + 'X1a1.h5') as store:\n",
    "    data = store.select('dat_1', where='phi=0.5 & n_rn>15', columns=['decision state', 'i_c', 'G'])\n",
    "data.index = data.index.droplevel(['phi', 'test'])\n",
    "data = data.reset_index('tstep')\n",
    "data = data.reset_index().drop_duplicates(['n_rn', 'n_cp', 'sample', 'tstep']).set_index(['n_rn', 'n_cp', 'sample', 'tstep'])\n",
    "data.index.levels\n",
    "\n",
    "G_start = data[['G']].max()[0]"
   ]
  },
  {
   "cell_type": "code",
   "execution_count": null,
   "metadata": {},
   "outputs": [],
   "source": [
    "c1 = 0.43 # tons of co2 per barrel oil https://www.epa.gov/energy/greenhouse-gases-equivalencies-calculator-calculations-and-references\n",
    "c2 = 7.33 # barrels per toe https://en.wikipedia.org/wiki/Tonne_of_oil_equivalent\n",
    "c3 = 10e6 # tons per megaton\n",
    "\n",
    "# carbon budgets from 2011 onwards\n",
    "b15p66 = 400 # Giga tones of co2 https://www.carbontracker.org/carbon-budgets-explained/ and IPCC2013\n",
    "b15p50 = 550\n",
    "b20p66 = 1000\n",
    "\n",
    "x1 = b15p66/c1 # budged in giga tones CO2/CO2 emissions per barrel -> budget in billion barrels oil\n",
    "x2 = x1/c2 # budget in billion barrels / barrels per toe -> budget in Gtoe\n",
    "budget_mtoe = x2*10e3 # budget in Gtoe * 10^3 -> budget in Mtoe\n",
    "\n",
    "# emissions per mtoe:\n",
    "co2_per_toe = c1*c2 # tones of co2 per toe\n",
    "\n",
    "data['emissions'] = (data[['G']].max() - data[['G']])*co2_per_toe*10e-4 # emissions in Gtones CO2"
   ]
  },
  {
   "cell_type": "code",
   "execution_count": null,
   "metadata": {},
   "outputs": [],
   "source": [
    "# fraction of resource remaining at success of campaign\n",
    "\n",
    "# when 2/3 vote for clean investment\n",
    "\n",
    "data[['Gm']] = data[['G']]/G_start\n",
    "\n",
    "data_tmp1 = data.loc[data['decision state']>.66][['Gm']].reset_index()\n",
    "\n",
    "# for each pair of n_rn, n_cp and sample, select the row with smallest time (the one, where it tipped)\n",
    "data_tmp2 = data_tmp1.loc[data_tmp1.groupby(['n_rn', 'n_cp', 'sample'])['tstep'].idxmin()]\n",
    "\n",
    "# for that time, look at remaining resource and take the mean over it:\n",
    "res1_mean = data_tmp2.set_index(['n_rn', 'n_cp', 'sample'])[['Gm']].unstack('sample').mean(axis=1).unstack('n_cp')\n",
    "res1_std = data_tmp2.set_index(['n_rn', 'n_cp', 'sample'])[['Gm']].unstack('sample').std(axis=1).unstack('n_cp')\n",
    "\n",
    "res1_min = data_tmp2.set_index(['n_rn', 'n_cp', 'sample'])[['Gm']].unstack('sample').min(axis=1).unstack('n_cp')\n",
    "res1_max = data_tmp2.set_index(['n_rn', 'n_cp', 'sample'])[['Gm']].unstack('sample').max(axis=1).unstack('n_cp')\n",
    "\n",
    "# and plot the fraction of remaining resource\n",
    "\n",
    "\n",
    "fig, ax = plt.subplots(ncols=4, figsize=(25,5))\n",
    "\n",
    "sn.heatmap(res1_mean, ax=ax[0])\n",
    "sn.heatmap(res1_min, ax=ax[1])\n",
    "sn.heatmap(res1_max, ax=ax[2])\n",
    "sn.heatmap(res1_std, ax=ax[3])\n",
    "\n",
    "for ax, text in zip(ax, ['fraction of', 'min fraction of', 'max fraction of', 'std of']):\n",
    "    ax.invert_yaxis()\n",
    "    txt = ax.set_title(f'{text} resource remaining')"
   ]
  },
  {
   "cell_type": "code",
   "execution_count": null,
   "metadata": {},
   "outputs": [],
   "source": [
    "# fraction of resource remaining in 2050\n",
    "\n",
    "data_tmp1 = data[['Gm']].xs(level='tstep', key=90).unstack('sample')\n",
    "\n",
    "res2_mean = data_tmp1.mean(axis=1).unstack('n_cp')\n",
    "res2_min = data_tmp1.min(axis=1).unstack('n_cp')\n",
    "res2_max = data_tmp1.max(axis=1).unstack('n_cp')\n",
    "res2_std = data_tmp1.std(axis=1).unstack('n_cp')\n",
    "\n",
    "fig, ax = plt.subplots(ncols=4, figsize=(25,5))\n",
    "\n",
    "sn.heatmap(res2_mean, ax=ax[0])\n",
    "sn.heatmap(res2_min, ax=ax[1])\n",
    "sn.heatmap(res2_max, ax=ax[2])\n",
    "sn.heatmap(res2_std, ax=ax[3])\n",
    "\n",
    "for ax, text in zip(ax, ['fraction of', 'min fraction of', 'max fraction of', 'std of']):\n",
    "    ax.invert_yaxis()\n",
    "    txt = ax.set_title(f'{text} resource remaining in 2090')"
   ]
  },
  {
   "cell_type": "code",
   "execution_count": null,
   "metadata": {},
   "outputs": [],
   "source": [
    "# probability of staying within the 1.5C, p=66% budget at the sucess of the campaign\n",
    "\n",
    "# when 2/3 vote for clean investment\n",
    "\n",
    "data_tmp1 = data.loc[data['decision state']>.66][['emissions']].reset_index()\n",
    "\n",
    "# for each pair of n_rn, n_cp and sample, select the row with smallest time (the one, where it tipped)\n",
    "data_tmp2 = data_tmp1.loc[data_tmp1.groupby(['n_rn', 'n_cp', 'sample'])['tstep'].idxmin()]\n",
    "\n",
    "(data_tmp2.set_index(['n_rn', 'n_cp', 'sample'])[['emissions']]<b15p66).unstack('sample').mean(axis=1)\n",
    "\n",
    "# for that time, look at remaining resource and take the mean over it:\n",
    "res1_mean = (data_tmp2.set_index(['n_rn', 'n_cp', 'sample'])[['emissions']]<b15p66).unstack('sample').mean(axis=1).unstack('n_cp')\n",
    "res1_std = (data_tmp2.set_index(['n_rn', 'n_cp', 'sample'])[['emissions']]<b15p66).unstack('sample').std(axis=1).unstack('n_cp')\n",
    "\n",
    "# and plot the fraction of remaining resource\n",
    "\n",
    "fig1, ax1 = plt.subplots(ncols=2, figsize=(12,5))\n",
    "\n",
    "sn.heatmap(res1_mean, ax=ax1[0])\n",
    "sn.heatmap(res1_std, ax=ax1[1])\n",
    "\n",
    "ax1[0].set_title('probability of staying under the 1.5 budget when 2/3 vote clean')\n",
    "ax1[1].set_title('standard error of the mean')\n",
    "for axis in ax1:\n",
    "    axis.invert_yaxis()"
   ]
  },
  {
   "cell_type": "code",
   "execution_count": null,
   "metadata": {},
   "outputs": [],
   "source": [
    "# probability of staying within the 1.5C, p=66% budget at year 2010 + t_max\n",
    "\n",
    "# when 2/3 vote for clean investment\n",
    "t_max = 25\n",
    "target = b15p50\n",
    "\n",
    "data_tmp1 = data.xs(level='tstep', key=t_max)[['emissions']].reset_index()\n",
    "\n",
    "# for that time, look at remaining resource and take the mean over it:\n",
    "res2_mean = (data_tmp1.set_index(['n_rn', 'n_cp', 'sample'])[['emissions']]<target).unstack('sample').mean(axis=1).unstack('n_cp')\n",
    "res2_std = (data_tmp1.set_index(['n_rn', 'n_cp', 'sample'])[['emissions']]<target).unstack('sample').std(axis=1).unstack('n_cp')\n",
    "\n",
    "# and plot the fraction of remaining resource\n",
    "\n",
    "fig2, ax2 = plt.subplots(ncols=2, figsize=(12,5))\n",
    "\n",
    "sn.heatmap(res2_mean, ax=ax2[0])\n",
    "sn.heatmap(res2_std, ax=ax2[1])\n",
    "\n",
    "ax2[0].set_title(f'probability of staying under the 1.5 budget in {2010+t_max}')\n",
    "ax2[1].set_title('standard error of the mean')\n",
    "for axis in ax2:\n",
    "    axis.invert_yaxis()\n",
    "print('Why is the standard error of the mean so high?!')"
   ]
  },
  {
   "cell_type": "code",
   "execution_count": null,
   "metadata": {},
   "outputs": [],
   "source": [
    "fig, ax = plt.subplots()\n",
    "\n",
    "rednecks = [16, 25, 30]\n",
    "colors = ['green', 'orange', 'red']\n",
    "\n",
    "for c, rn in zip(colors, rednecks):\n",
    "\n",
    "    df = res2_mean.stack('n_cp').xs(level='n_rn', key=rn)\n",
    "    df_s = res2_std.stack('n_cp').xs(level='n_rn', key=rn)\n",
    "    x = df.index.values\n",
    "    y = df.values\n",
    "    dy = df_s.values\n",
    "\n",
    "    ax.plot(x, y, '.', color=c)\n",
    "    ax.fill_between(x, y+dy, y-dy, alpha=.5, color=c)\n",
    "\n",
    "ax.set_ylim([0,1])"
   ]
  },
  {
   "cell_type": "code",
   "execution_count": null,
   "metadata": {},
   "outputs": [],
   "source": [
    "data_tmp1 = data.xs(level='tstep', key=40)[['emissions']].reset_index()\n",
    "data_tmp1"
   ]
  },
  {
   "cell_type": "code",
   "execution_count": null,
   "metadata": {},
   "outputs": [],
   "source": [
    "res2 = pd.DataFrame(index = ix2)\n",
    "\n",
    "co2_per_oil = 3.5\n",
    "initial_resource = data['G'].max()\n",
    "budget = 886*10e2\n",
    "\n",
    "for i, j, k in tqdm_notebook(list(product(a, b, c))):\n",
    "    \n",
    "    tmp = data.xs(level=('n_rn', 'n_cp', 'sample'), key=(i, j, k)).reset_index()[['decision state', 'tstep', 'G']]\n",
    "    \n",
    "    t = None\n",
    "    for _, row in tmp.iterrows():\n",
    "        budget_used = (initial_resource - row['G'])*co2_per_oil\n",
    "        #print(row['tstep'], budget_used, budget)\n",
    "        if budget_used > budget and t is None:\n",
    "            t = row['tstep']\n",
    "    if t is not None:\n",
    "        if t < 5:\n",
    "            t = None\n",
    "    res2.loc[(i, j, k), 't'] = t\n",
    "    res2.loc[(i, j, k), 'G'] = G\n",
    "res1.to_pickle('res2.pkl')"
   ]
  },
  {
   "cell_type": "code",
   "execution_count": null,
   "metadata": {},
   "outputs": [],
   "source": [
    "sn.heatmap(res2['t'].unstack('sample').std(axis=1).unstack('n_cp'))"
   ]
  },
  {
   "cell_type": "code",
   "execution_count": null,
   "metadata": {},
   "outputs": [],
   "source": []
  },
  {
   "cell_type": "code",
   "execution_count": null,
   "metadata": {},
   "outputs": [],
   "source": [
    "data = data.reset_index()"
   ]
  },
  {
   "cell_type": "code",
   "execution_count": null,
   "metadata": {},
   "outputs": [],
   "source": [
    "fig, axes = plt.subplots(ncols=2, figsize=(12,5))\n",
    "data['G'].unstack(['n_rn', 'n_cp', 'sample']).plot(legend=False,\n",
    "                                                  ax=axes[0],\n",
    "                                                  color='k',\n",
    "                                                  alpha=0.2)"
   ]
  },
  {
   "cell_type": "code",
   "execution_count": null,
   "metadata": {},
   "outputs": [],
   "source": [
    "data['G'].max()*(.7)"
   ]
  },
  {
   "cell_type": "code",
   "execution_count": null,
   "metadata": {},
   "outputs": [],
   "source": [
    "co2_per_oil = 3.5\n",
    "initial_resource = data['G'].max()"
   ]
  },
  {
   "cell_type": "code",
   "execution_count": null,
   "metadata": {},
   "outputs": [],
   "source": [
    "initial_resource"
   ]
  },
  {
   "cell_type": "code",
   "execution_count": null,
   "metadata": {},
   "outputs": [],
   "source": []
  },
  {
   "cell_type": "code",
   "execution_count": null,
   "metadata": {},
   "outputs": [],
   "source": [
    "G = data.xs(level=('n_rn', 'n_cp', 'sample'), key=(18, 0, 0))[['G']]"
   ]
  },
  {
   "cell_type": "code",
   "execution_count": null,
   "metadata": {},
   "outputs": [],
   "source": [
    "tmp = G[0:1].values\n",
    "tmp[0]-tmp[1]"
   ]
  },
  {
   "cell_type": "code",
   "execution_count": null,
   "metadata": {},
   "outputs": [],
   "source": []
  }
 ],
 "metadata": {
  "kernelspec": {
   "display_name": "Python [conda env:py36]",
   "language": "python",
   "name": "conda-env-py36-py"
  },
  "language_info": {
   "codemirror_mode": {
    "name": "ipython",
    "version": 3
   },
   "file_extension": ".py",
   "mimetype": "text/x-python",
   "name": "python",
   "nbconvert_exporter": "python",
   "pygments_lexer": "ipython3",
   "version": "3.6.4"
  }
 },
 "nbformat": 4,
 "nbformat_minor": 2
}
