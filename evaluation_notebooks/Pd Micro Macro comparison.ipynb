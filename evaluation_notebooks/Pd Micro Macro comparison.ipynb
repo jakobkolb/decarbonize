{
 "cells": [
  {
   "cell_type": "code",
   "execution_count": null,
   "metadata": {},
   "outputs": [],
   "source": [
    "\"\"\"\n",
    "This script is suposed to produce plots of the results from\n",
    "macroscopic approximation of the network-based microscopic model of divestment.\n",
    "\"\"\"\n",
    "# Copyright (C) 2016-2018 by Jakob J. Kolb at Potsdam Institute for Climate\n",
    "# Impact Research\n",
    "#\n",
    "# Contact: kolb@pik-potsdam.de\n",
    "# License: GNU AGPL Version 3\n",
    "\n",
    "\n",
    "%matplotlib inline\n",
    "import numpy as np\n",
    "import matplotlib.pyplot as plt\n",
    "import pandas as pd\n",
    "from plot_routines import plot_routines"
   ]
  },
  {
   "cell_type": "code",
   "execution_count": null,
   "metadata": {},
   "outputs": [],
   "source": [
    "import time\n",
    "\n",
    "bc, eps = 1.25, 0.05\n",
    "\n",
    "#prt = plot_routines(base_path='/home/jakob/Project_Divestment/PyDivestment/output_data/test_output/P2/')\n",
    "prt = plot_routines(\n",
    "         micro_path='/home/jakob/Project_Divestment/output_data/P3o2_paper/',\n",
    "         macro_path='/home/jakob/Project_Divestment/output_data/P3o2_paper/',\n",
    "#          micro_path='/home/jakob/Project_Divestment/output_data/test_output/P3o2/micro/',\n",
    "#          macro_path='/home/jakob/Project_Divestment/output_data/test_output/P3o2/aggregate/',\n",
    "         table='dat_0',\n",
    "         macro_selector='approximate = 2',\n",
    "         micro_selector='approximate = 1',\n",
    "         toffset=0)\n"
   ]
  },
  {
   "cell_type": "code",
   "execution_count": null,
   "metadata": {},
   "outputs": [],
   "source": [
    "prt.data_sets[2].head()"
   ]
  },
  {
   "cell_type": "code",
   "execution_count": null,
   "metadata": {},
   "outputs": [],
   "source": [
    "\n",
    "\n",
    "#for phi in [round(x, 5) for x in list(np.linspace(0.0, 0.9, 10))]:\n",
    "for phi in [.5]:\n",
    "\n",
    "    figure, axes = prt.mk_4plots_v2(selector={'phi': phi, 'tau': 1., 'xi': 0.1, 'kappa_c': 0.5},\n",
    "                           upper_limits=[1., 280, 14000, 3500, 10200], \n",
    "                           lower_limits=[0, 0, 0, 0, 2500],\n",
    "                           legend_locations=[2, 9, 1, 2],\n",
    "                           tmax=300,\n",
    "                           figsize=(8,6))\n",
    "\n",
    "axes[0].set_ylabel('fraction of nodes, edges')\n",
    "axes[1].set_ylabel('knowledge stock $C$')\n",
    "axes[2].set_ylabel('capital stock $K_i^{(j)}$')\n",
    "axes[3].set_ylabel('capital stock $K_i^{(j)}$')\n",
    "axes[4].set_ylabel('resource stock $G$')\n",
    "\n",
    "for i, annotation in enumerate(['a)', 'b)', 'c)', 'd)']):\n",
    "    axes[i].annotate(annotation,\n",
    "                     xycoords='axes fraction',\n",
    "                     xy=(.02, .5),\n",
    "                     fontsize=15)\n",
    "\n",
    "axes[4].ticklabel_format(style='sci', axis='y', scilimits=(0,0), useMathText=True)\n",
    "axes[1].ticklabel_format(style='sci', axis='y', scilimits=(0,0), useMathText=True)\n",
    "\n",
    "axes[2].ticklabel_format(style='sci', axis='y', scilimits=(0,0), useMathText=True)\n",
    "\n",
    "axes[3].ticklabel_format(style='sci', axis='y', scilimits=(0,0), useMathText=True)\n",
    "axes[3].legend([r'$K_c^{(d)}$', r'$K_d^{(c)}$'], loc=2, fontsize=12)\n",
    "\n",
    "figure.tight_layout()\n",
    "figure.savefig('micro_vs_approx.pdf'.format(bc, phi))"
   ]
  },
  {
   "cell_type": "code",
   "execution_count": null,
   "metadata": {},
   "outputs": [],
   "source": [
    "# reshuffled order of plots to be more consistent with updated version of example trajectory.\n",
    "\n",
    "#for phi in [round(x, 5) for x in list(np.linspace(0.0, 0.9, 10))]:\n",
    "for phi in [.5]:\n",
    "\n",
    "    figure, axes = prt.mk_4plots_v2(selector={'phi': phi, 'tau': 1., 'xi': 0.1, 'kappa_c': 0.5},\n",
    "                           upper_limits=[1., 30000, 14000, 3500, 1000000], \n",
    "                           lower_limits=[0, 0, 0, 0, 0],\n",
    "                           legend_locations=[2, 9, 2, 1],\n",
    "                           tmax=300,\n",
    "                           figsize=(7,6),\n",
    "                           setup=[0, 1, 3, 2])\n",
    "\n",
    "axes[1].set_ylabel('C')\n",
    "axes[1].ticklabel_format(style='sci', axis='y', scilimits=(0,0))\n",
    "\n",
    "axes[4].set_ylabel('G')\n",
    "axes[4].ticklabel_format(style='sci', axis='y', scilimits=(0,0))\n",
    "\n",
    "axes[2].ticklabel_format(style='sci', axis='y', scilimits=(0,0))\n",
    "\n",
    "axes[3].ticklabel_format(style='sci', axis='y', scilimits=(0,0))\n",
    "axes[3].legend([r'$K_c^{(d)}$', r'$K_d^{(c)}$'], loc=1, fontsize=12)\n",
    "\n",
    "figure.tight_layout()\n",
    "figure.savefig('micro_vs_approx_v2.pdf'.format(bc, phi))"
   ]
  },
  {
   "cell_type": "code",
   "execution_count": null,
   "metadata": {},
   "outputs": [],
   "source": []
  }
 ],
 "metadata": {
  "kernelspec": {
   "display_name": "Python [default]",
   "language": "python",
   "name": "python3"
  },
  "language_info": {
   "codemirror_mode": {
    "name": "ipython",
    "version": 3
   },
   "file_extension": ".py",
   "mimetype": "text/x-python",
   "name": "python",
   "nbconvert_exporter": "python",
   "pygments_lexer": "ipython3",
   "version": "3.6.4"
  }
 },
 "nbformat": 4,
 "nbformat_minor": 2
}
