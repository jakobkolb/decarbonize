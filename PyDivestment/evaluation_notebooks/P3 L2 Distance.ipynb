{
 "cells": [
  {
   "cell_type": "code",
   "execution_count": null,
   "metadata": {},
   "outputs": [],
   "source": [
    "%matplotlib notebook\n",
    "\n",
    "import numpy as np\n",
    "import pandas as pd\n",
    "import matplotlib.pyplot as plt\n",
    "import seaborn\n",
    "from scipy.interpolate import interp1d"
   ]
  },
  {
   "cell_type": "code",
   "execution_count": null,
   "metadata": {},
   "outputs": [],
   "source": [
    "micro_data = pd.read_pickle('../divestdata/P3/micro/unified_trajectory')['mean_trajectory']\n",
    "macro_data = pd.read_pickle('../divestdata/P3/aggregate/unified_trajectory')['mean_trajectory']\n",
    "rep_data = pd.read_pickle('../divestdata/P3/res/unified_trajectory')['mean_trajectory']"
   ]
  },
  {
   "cell_type": "code",
   "execution_count": null,
   "metadata": {},
   "outputs": [],
   "source": [
    "def l_2_distance(d1, d2, observable=None):\n",
    "    \n",
    "    d1_data = d1.unstack('observables')[[observable]]\n",
    "    d2_data = d2.unstack('observables')[[observable]]\n",
    "    \n",
    "    names = d1.index.names\n",
    "    print(names)\n",
    "    indices = {ax: list(d1.index.levels[names.index(ax)].values) for ax in names[:2]}\n",
    "    print(indices)\n",
    "    output = np.zeros((len(indices[names[0]]),len(indices[names[1]])))\n",
    "    \n",
    "    for i, n0 in enumerate(indices[names[0]]):\n",
    "        for j, n1 in enumerate(indices[names[1]]):\n",
    "            levels = names[:2]\n",
    "            tkey = [n0, n1]\n",
    "    \n",
    "            # get values and times from dataframes\n",
    "            d1_slice = d1_data.xs(key=tkey, level=levels).values.T[0][:-1]\n",
    "            d1_times = d1_data.xs(key=tkey, level=levels).index.values[:-1]\n",
    "\n",
    "            d2_slice = d2_data.xs(key=tkey, level=levels).values.T[0][:-1]\n",
    "            d2_times = d2_data.xs(key=tkey, level=levels).index.values[:-1]\n",
    "            \n",
    "            # interpolate to get values on equal timepoints\n",
    "            d1_ipl = interp1d(d1_times, d1_slice)\n",
    "            d2_ipl = interp1d(d2_times, d2_slice)\n",
    "\n",
    "            samples = 200\n",
    "            times = np.linspace(d1_times[0], d1_times[-1], samples)\n",
    "            d1_ipl_data = d1_ipl(times)\n",
    "            d2_ipl_data = d2_ipl(times)\n",
    "            dd = d1_ipl_data - d2_ipl_data\n",
    "            l2 = sum(dd*dd)\n",
    "            output[i, j] = l2\n",
    "            \n",
    "    return output, indices, names[:2]"
   ]
  },
  {
   "cell_type": "code",
   "execution_count": null,
   "metadata": {},
   "outputs": [],
   "source": [
    "levels=['b_d', 'eps']\n",
    "key=[1.25, 0.05]\n",
    "\n",
    "data, indices, ax_names = l_2_distance(micro_data.xs(key=key, level=levels), macro_data.xs(key=key, level=levels), observable='n_c')"
   ]
  },
  {
   "cell_type": "code",
   "execution_count": null,
   "metadata": {},
   "outputs": [],
   "source": [
    "ax = seaborn.heatmap(data,\n",
    "                yticklabels=indices[ax_names[0]], \n",
    "                xticklabels=[round(x, 3) for x in indices[ax_names[1]]])\n",
    "ax.set_ylabel(ax_names[0])\n",
    "ax.set_xlabel(ax_names[1])"
   ]
  },
  {
   "cell_type": "code",
   "execution_count": null,
   "metadata": {},
   "outputs": [],
   "source": []
  }
 ],
 "metadata": {
  "kernelspec": {
   "display_name": "Python 3",
   "language": "python",
   "name": "python3"
  },
  "language_info": {
   "codemirror_mode": {
    "name": "ipython",
    "version": 3
   },
   "file_extension": ".py",
   "mimetype": "text/x-python",
   "name": "python",
   "nbconvert_exporter": "python",
   "pygments_lexer": "ipython3",
   "version": "3.6.0"
  }
 },
 "nbformat": 4,
 "nbformat_minor": 2
}
