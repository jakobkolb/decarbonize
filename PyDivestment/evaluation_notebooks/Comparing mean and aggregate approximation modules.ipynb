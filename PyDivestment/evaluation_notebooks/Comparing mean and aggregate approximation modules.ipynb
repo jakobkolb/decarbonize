{
 "cells": [
  {
   "cell_type": "code",
   "execution_count": 9,
   "metadata": {},
   "outputs": [
    {
     "data": {
      "text/html": [
       "<style>.container { width:98% !important; }</style>"
      ],
      "text/plain": [
       "<IPython.core.display.HTML object>"
      ]
     },
     "metadata": {},
     "output_type": "display_data"
    }
   ],
   "source": [
    "%matplotlib inline\n",
    "import pandas as pd\n",
    "import numpy as np\n",
    "import sympy as sp\n",
    "import matplotlib.pyplot as plt\n",
    "from IPython.core.display import display, HTML\n",
    "display(HTML(\"<style>.container { width:98% !important; }</style>\"))\n",
    "sp.init_printing()"
   ]
  },
  {
   "cell_type": "code",
   "execution_count": 2,
   "metadata": {
    "collapsed": true
   },
   "outputs": [],
   "source": [
    "import datetime\n",
    "import networkx as nx\n",
    "from random import shuffle\n",
    "\n",
    "from pydivest.macro_model.integrate_equations_mean import IntegrateEquationsMean as mean_model\n",
    "from pydivest.macro_model.integrate_equations_aggregate import IntegrateEquationsAggregate as aggregate_model\n",
    "\n",
    "# investment_decisions:\n",
    "\n",
    "nopinions = [50, 50]\n",
    "\n",
    "# Parameters:\n",
    "\n",
    "phi, b_d = 0.4, 1.25\n",
    "\n",
    "input_parameters = {'b_c': 1., 'phi': phi, 'tau': 1.,\n",
    "                    'eps': 0.05, 'b_d': b_d, 'e': 100.,\n",
    "                    'b_r0': 0.1 ** 2 * 100.,\n",
    "                    'possible_opinions': [[0], [1]],\n",
    "                    'xi': 1. / 8., 'beta': 0.06,\n",
    "                    'L': 100., 'C': 100., 'G_0': 800.,\n",
    "                    'campaign': False, 'learning': True,\n",
    "                    'R_depletion': False, 'test': True,\n",
    "                    'interaction': 1, 'crs': True}\n",
    "\n",
    "# investment_decisions\n",
    "opinions = []\n",
    "for i, n in enumerate(nopinions):\n",
    "    opinions.append(np.full((n), i, dtype='I'))\n",
    "opinions = [item for sublist in opinions for item in sublist]\n",
    "shuffle(opinions)\n",
    "\n",
    "# network:\n",
    "N = sum(nopinions)\n",
    "p = .2\n",
    "\n",
    "while True:\n",
    "    net = nx.erdos_renyi_graph(N, p)\n",
    "    if len(list(net)) > 1:\n",
    "        break\n",
    "adjacency_matrix = nx.adj_matrix(net).toarray()\n",
    "\n",
    "# investment\n",
    "clean_investment = np.ones(N)\n",
    "dirty_investment = np.ones(N)\n",
    "\n",
    "init_conditions = (adjacency_matrix, opinions,\n",
    "                   clean_investment, dirty_investment)"
   ]
  },
  {
   "cell_type": "code",
   "execution_count": 3,
   "metadata": {},
   "outputs": [
    {
     "name": "stdout",
     "output_type": "stream",
     "text": [
      "pi = 0.5, xi = 0.125, kappa_c = 0.375, kappa_d = 0.5\n",
      "got superfluous keyword arguments\n",
      "dict_keys(['possible_opinions', 'beta', 'campaign', 'learning'])\n",
      "resetting parameter values to\n",
      "{b_c: 1.0, b_d: 1.25, b_R: 1.0000000000000002, e: 100.0, s: 0.23, delta: 0.06, pi: 0.5, kappa_c: 0.375, kappa_d: 0.5, xi: 0.125, g_0: 8.0, p: 1.0, G_0: 800.0, P: 100.0, epsilon: 0.05, phi: 0.4, tau: 1.0, k: 10.05, N: 1.0}\n",
      "sucessfull\n",
      "integrating equations from t=0 to t=200\n",
      "integrating equations from t=200 to t=600=====================] 101.1% ...mean approximation running\n",
      "[============================================================] 99.9% ...calculating dependant variables\r"
     ]
    }
   ],
   "source": [
    "mm = mean_model(*init_conditions, **input_parameters)\n",
    "mm.run(t_max=200)\n",
    "mm.R_depletion = True\n",
    "mm.run(t_max=600)\n",
    "trj_m = mm.get_unified_trajectory()"
   ]
  },
  {
   "cell_type": "code",
   "execution_count": 4,
   "metadata": {},
   "outputs": [
    {
     "name": "stdout",
     "output_type": "stream",
     "text": [
      "pi = 0.5, xi = 0.125, kappa_c = 0.375, kappa_d = 0.5\n",
      "got superfluous keyword arguments\n",
      "dict_keys(['possible_opinions', 'beta', 'campaign', 'learning'])\n",
      "resetting parameter values to\n",
      "{b_c: 1.0, b_d: 1.25, b_R: 1.0000000000000002, e: 100.0, s: 0.23, delta: 0.06, pi: 0.5, kappa_c: 0.375, kappa_d: 0.5, xi: 0.125, g_0: 8.0, p: 1.0, G_0: 800.0, P: 100.0, epsilon: 0.05, phi: 0.4, tau: 1.0, k: 10.05, N: 1.0}\n",
      "sucessfull\n",
      "integrating equations from t=0 to t=200\n",
      "integrating equations from t=200 to t=600====================] 100.5% ...mean approximation running\n",
      "[============================================================] 99.9% ...calculating dependant variables\r"
     ]
    }
   ],
   "source": [
    "ma = aggregate_model(*init_conditions, **input_parameters)\n",
    "ma.run(t_max=200)\n",
    "ma.R_depletion = True\n",
    "ma.run(t_max=600)\n",
    "trj_a = ma.get_unified_trajectory()"
   ]
  },
  {
   "cell_type": "code",
   "execution_count": 5,
   "metadata": {},
   "outputs": [
    {
     "name": "stdout",
     "output_type": "stream",
     "text": [
      "k_c    0.000076\n",
      "dtype: float64\n",
      "k_d    2.537082e-11\n",
      "dtype: float64\n",
      "l_c    0.000006\n",
      "dtype: float64\n",
      "l_d    9.685253e-12\n",
      "dtype: float64\n",
      "g    0.00002\n",
      "dtype: float64\n",
      "c    0.000498\n",
      "dtype: float64\n",
      "r    1.995053e-13\n",
      "dtype: float64\n",
      "n_c    0.000003\n",
      "dtype: float64\n",
      "i_c    0.000004\n",
      "dtype: float64\n",
      "r_c    4.639447e-07\n",
      "dtype: float64\n",
      "r_d    0.000002\n",
      "dtype: float64\n",
      "w    1.970775e-07\n",
      "dtype: float64\n",
      "W_c    0.000001\n",
      "dtype: float64\n",
      "W_d    8.664847e-12\n",
      "dtype: float64\n"
     ]
    }
   ],
   "source": [
    "for c in trj_m.columns:\n",
    "    dif = trj_m[[c]] - trj_a[[c]]\n",
    "    dif_cum = dif.cumsum()\n",
    "    max_dif = dif_cum.max()\n",
    "    print(max_dif)"
   ]
  },
  {
   "cell_type": "code",
   "execution_count": 12,
   "metadata": {},
   "outputs": [
    {
     "data": {
      "text/plain": [
       "<matplotlib.axes._subplots.AxesSubplot at 0x7f4742e53dd8>"
      ]
     },
     "execution_count": 12,
     "metadata": {},
     "output_type": "execute_result"
    },
    {
     "data": {
      "image/png": "[encoded data removed]",
      "text/plain": [
       "<matplotlib.figure.Figure at 0x7f4742e53438>"
      ]
     },
     "metadata": {},
     "output_type": "display_data"
    }
   ],
   "source": [
    "fig = plt.figure()\n",
    "ax = fig.add_subplot(111)\n",
    "ma.get_aggregate_trajectory()[['K_c^c', 'K_c^d', 'K_d^c', 'K_d^d']].plot(ax=ax)"
   ]
  },
  {
   "cell_type": "code",
   "execution_count": 7,
   "metadata": {},
   "outputs": [
    {
     "data": {
      "text/plain": [
       "Index(['k_c', 'k_d', 'l_c', 'l_d', 'g', 'c', 'r', 'n_c', 'i_c', 'r_c', 'r_d',\n",
       "       'w', 'W_c', 'W_d'],\n",
       "      dtype='object')"
      ]
     },
     "execution_count": 7,
     "metadata": {},
     "output_type": "execute_result"
    }
   ],
   "source": [
    "trj_a.columns"
   ]
  },
  {
   "cell_type": "code",
   "execution_count": null,
   "metadata": {
    "collapsed": true
   },
   "outputs": [],
   "source": []
  }
 ],
 "metadata": {
  "kernelspec": {
   "display_name": "Python 3",
   "language": "python",
   "name": "python3"
  },
  "language_info": {
   "codemirror_mode": {
    "name": "ipython",
    "version": 3
   },
   "file_extension": ".py",
   "mimetype": "text/x-python",
   "name": "python",
   "nbconvert_exporter": "python",
   "pygments_lexer": "ipython3",
   "version": "3.6.0"
  }
 },
 "nbformat": 4,
 "nbformat_minor": 2
}
