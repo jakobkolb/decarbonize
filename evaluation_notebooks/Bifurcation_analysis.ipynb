{
 "cells": [
  {
   "cell_type": "code",
   "execution_count": null,
   "metadata": {},
   "outputs": [],
   "source": [
    "# Copyright (C) 2016-2018 by Jakob J. Kolb at Potsdam Institute for Climate\n",
    "# Impact Research\n",
    "#\n",
    "# Contact: kolb@pik-potsdam.de\n",
    "# License: GNU AGPL Version 3\n",
    "\n",
    "import PyDSTool as pdt\n",
    "import numpy as np\n",
    "import networkx as nx\n",
    "from random import shuffle\n",
    "import sympy as sp\n",
    "import pandas as pd\n",
    "import matplotlib.pyplot as plt\n",
    "from pydivest.macro_model.integrate_equations_aggregate import IntegrateEquationsAggregate as Model\n",
    "%matplotlib inline"
   ]
  },
  {
   "cell_type": "code",
   "execution_count": null,
   "metadata": {},
   "outputs": [],
   "source": [
    "# investment_decisions:\n",
    "\n",
    "nopinions = [50, 50]\n",
    "\n",
    "# Parameters:\n",
    "\n",
    "phi, b_d = 0.5, 3.\n",
    "\n",
    "input_parameters = {'b_c': 1., 'phi': .5, 'tau': 1.,\n",
    "                    'eps': 0.03, 'b_d': 4., 'e': 1.,\n",
    "                    'b_r0': 0.1,\n",
    "                    'possible_cue_orders': [[0], [1]],\n",
    "                    'xi': .12, 'd_k': 0.06, 'd_c': 0.1, 'kappa_c': 0.5,\n",
    "                    'L': 100., 'C': 1., 'G_0': 500000.,\n",
    "                    'campaign': False, 'learning': True,\n",
    "                    'interaction': 1, 'test': False,\n",
    "                    'R_depletion': True}\n",
    "\n",
    "# investment_decisions\n",
    "opinions = []\n",
    "for i, n in enumerate(nopinions):\n",
    "    opinions.append(np.full((n), i, dtype='I'))\n",
    "opinions = [item for sublist in opinions for item in sublist]\n",
    "shuffle(opinions)\n",
    "\n",
    "# network:\n",
    "N = sum(nopinions)\n",
    "p = .2\n",
    "\n",
    "while True:\n",
    "    net = nx.erdos_renyi_graph(N, p)\n",
    "    if len(list(net)) > 1:\n",
    "        break\n",
    "adjacency_matrix = nx.adj_matrix(net).toarray()\n",
    "\n",
    "# investment\n",
    "clean_investment = np.ones(N)\n",
    "dirty_investment = np.ones(N)\n",
    "\n",
    "init_conditions = (adjacency_matrix, opinions,\n",
    "                   clean_investment, dirty_investment)\n",
    "m = Model(*init_conditions, **input_parameters)"
   ]
  },
  {
   "cell_type": "code",
   "execution_count": null,
   "metadata": {},
   "outputs": [],
   "source": [
    "DSargs = pdt.args(name='aggregated_approximation')\n",
    "v_e, v_pi, v_tau = sp.symbols('v_e v_pi v_tau')\n",
    "v_K_cc, v_K_cd, v_K_dc, v_K_dd = sp.symbols('K_cc K_cd K_dc K_dd')\n",
    "v_subs = {m.e: v_e, m.pi: v_pi, m.tau: v_tau,\n",
    "          m.Kcc: v_K_cc, m.Kcd: v_K_cd, \n",
    "          m.Kdc: v_K_dc, m.Kdd: v_K_dd}\n",
    "\n",
    "equations = {m.var_symbols[i]: str(m.rhs_raw[i].subs(v_subs)) for i in range(len(m.var_names))}\n",
    "\n",
    "equations_updated = {}\n",
    "for (symbol, value) in equations.items():\n",
    "    if symbol in v_subs.keys():\n",
    "        equations_updated[str(v_subs[symbol])] = value\n",
    "    else:\n",
    "        equations_updated[str(symbol)] = value\n",
    "        \n",
    "\n",
    "\n",
    "params_updated = {}\n",
    "for (symbol, value) in m.list_parameters().items():\n",
    "    if symbol in v_subs.keys():\n",
    "        params_updated[str(v_subs[symbol])] = value\n",
    "    else:\n",
    "        params_updated[str(symbol)] = value\n",
    "\n",
    "\n",
    "\n",
    "initial_conditions = {}\n",
    "for (symbol, value) in m.list_initial_conditions().items():\n",
    "    if symbol in v_subs.keys():\n",
    "        initial_conditions[str(v_subs[symbol])] = value\n",
    "    else:\n",
    "        initial_conditions[str(symbol)] = value   \n",
    "    \n",
    "\n",
    "del equations_updated['G']\n",
    "del initial_conditions['G']\n",
    "\n",
    "params_updated['G'] = m.p_G_0\n",
    "params_updated['xi'] = 0.12\n",
    "params_updated['delta_c'] = 0.1\n",
    "\n",
    "initial_conditions['C'] = 4#0000\n",
    "initial_conditions['K_cc'] = 5#000\n",
    "initial_conditions['K_dd'] = 10000\n",
    "\n",
    "print(params_updated)\n",
    "\n",
    "DSargs.pars = params_updated\n",
    "DSargs.varspecs = equations_updated\n",
    "DSargs.ics = initial_conditions\n",
    "DSargs.pdomain = {'xi':[0.1, 0.14], 'b_d': [1., 4.]}\n",
    "DSargs.tdata = [0, 300]\n",
    "DSargs.algparams = {'init_step': 0.2}"
   ]
  },
  {
   "cell_type": "code",
   "execution_count": null,
   "metadata": {},
   "outputs": [],
   "source": [
    "ode = pdt.Generator.Vode_ODEsystem(DSargs)\n",
    "traj = ode.compute('trajectory to initial conditions')\n",
    "pts = traj.sample(dt=1.)"
   ]
  },
  {
   "cell_type": "code",
   "execution_count": null,
   "metadata": {},
   "outputs": [],
   "source": [
    "fig, axes = plt.subplots(ncols=2)\n",
    "fig.set_figwidth(10)\n",
    "axes[0].plot(pts['t'], pts['K_cc'], label='$K_c^c$')\n",
    "axes[0].plot(pts['t'], pts['K_cd'], label='$K_c^d$')\n",
    "axes[0].plot(pts['t'], pts['K_dc'], label='$K_d^c$')\n",
    "axes[0].plot(pts['t'], pts['K_dd'], label='$K_d^d$')\n",
    "axes[0].plot(pts['t'], pts['C'], label='C')\n",
    "axes[0].legend()\n",
    "\n",
    "axes[1].plot(pts['t'], pts['x'], label='x')\n",
    "axes[1].plot(pts['t'], pts['y'], label='y')\n",
    "axes[1].plot(pts['t'], pts['z'], label='z')\n",
    "axes[1].legend()\n",
    "\n"
   ]
  },
  {
   "cell_type": "code",
   "execution_count": null,
   "metadata": {},
   "outputs": [],
   "source": [
    "ode.set(ics=pts[-1])"
   ]
  },
  {
   "cell_type": "code",
   "execution_count": null,
   "metadata": {},
   "outputs": [],
   "source": [
    "PC = pdt.ContClass(ode)\n",
    "PCargs = pdt.args(name='EQ1', type='EP-C')\n",
    "PCargs.freepars = ['xi']\n",
    "PCargs.MaxNumPoints = 20000\n",
    "PCargs.MaxStepSize = 2\n",
    "PCargs.MinStepSize = 1e-5\n",
    "PCargs.StepSize = 1e-2\n",
    "PCargs.verbosity = 1\n",
    "PCargs.SaveEigen = True\n",
    "# PCargs.LocBifPoints = ['LP', 'B']\n",
    "PCargs.LocBifPoints = 'all'\n",
    "PCargs.StopAtPoints = ['B']"
   ]
  },
  {
   "cell_type": "code",
   "execution_count": null,
   "metadata": {},
   "outputs": [],
   "source": [
    "PC.newCurve(PCargs)"
   ]
  },
  {
   "cell_type": "code",
   "execution_count": null,
   "metadata": {
    "keep_output": true
   },
   "outputs": [
    {
     "name": "stdout",
     "output_type": "stream",
     "text": [
      "LP Point found \n",
      "LP Point found \n",
      "LP Point found \n",
      "LP Point found \n",
      "10921.722507\n"
     ]
    }
   ],
   "source": [
    "import time\n",
    "\n",
    "start = time.clock()\n",
    "PC['EQ1'].forward()\n",
    "stop = time.clock()\n",
    "print(stop-start)"
   ]
  },
  {
   "cell_type": "code",
   "execution_count": null,
   "metadata": {
    "deep_output": true
   },
   "outputs": [],
   "source": [
    "%matplotlib inline\n",
    "fig, axes = plt.subplots(ncols=4)\n",
    "PC['EQ1'].display(coords=('xi', 'C'), axes=(2, 2, 1), stability=True)\n",
    "PC['EQ1'].display(coords=('xi', 'K_dc'), axes=(2, 2, 2), stability=True)\n",
    "PC['EQ1'].display(coords=('xi', 'x'), axes=(2, 2, 3), stability=True)\n",
    "PC['EQ1'].display(coords=('xi', 'z'), axes=(2, 2, 4), stability=True)\n",
    "PC['EQ1'].plot.togglePoint('LP1')\n",
    "fig = plt.gcf()\n",
    "fig.set_figwidth(8)\n",
    "fig.set_figheight(8)\n",
    "for ax, title in zip(fig.get_axes(), ['C', r'$K_d^c$', 'x', 'z']):\n",
    "    ax.set_title('')\n",
    "    ax.set_xlabel(r'$\\gamma$')\n",
    "    ax.set_ylabel(title)\n",
    "fig.tight_layout()"
   ]
  },
  {
   "cell_type": "code",
   "execution_count": null,
   "metadata": {
    "keep_output": true
   },
   "outputs": [
    {
     "data": {
      "image/png": "[encoded data removed]",
      "text/plain": [
       "<matplotlib.figure.Figure at 0x7f6111b804a8>"
      ]
     },
     "execution_count": null,
     "metadata": {},
     "output_type": "execute_result"
    },
    {
     "data": {
      "text/plain": [
       "<matplotlib.figure.Figure at 0x7f610cdb1c50>"
      ]
     },
     "metadata": {},
     "output_type": "display_data"
    }
   ],
   "source": [
    "#PC['EQ1'].plot.togglePoints(visible='off', byname=['LP1', 'LP2', 'P2', 'P1'])\n",
    "PC['EQ1'].plot.toggleLabels(visible='off', byname=['LP3', 'LP4', 'B', 'B1'])\n",
    "PC['EQ1'].plot.refresh()\n",
    "PC['EQ1'].plot.fig1.fig.savefig('ba_plot.pdf')\n",
    "PC['EQ1'].plot.fig1.fig"
   ]
  },
  {
   "cell_type": "code",
   "execution_count": null,
   "metadata": {},
   "outputs": [],
   "source": []
  }
 ],
 "metadata": {
  "celltoolbar": "Edit Metadata",
  "kernelspec": {
   "display_name": "Python [conda env:pyds]",
   "language": "python",
   "name": "conda-env-pyds-py"
  },
  "language_info": {
   "codemirror_mode": {
    "name": "ipython",
    "version": 3
   },
   "file_extension": ".py",
   "mimetype": "text/x-python",
   "name": "python",
   "nbconvert_exporter": "python",
   "pygments_lexer": "ipython3",
   "version": "3.6.4"
  }
 },
 "nbformat": 4,
 "nbformat_minor": 2
}
