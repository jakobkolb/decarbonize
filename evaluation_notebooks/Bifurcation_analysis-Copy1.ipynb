{
 "cells": [
  {
   "cell_type": "code",
   "execution_count": null,
   "metadata": {
    "nbpresent": {
     "id": "bd5706d1-e612-4dc0-9eaa-05170b1c295d"
    }
   },
   "outputs": [],
   "source": [
    "# Copyright (C) 2016-2018 by Jakob J. Kolb at Potsdam Institute for Climate\n",
    "# Impact Research\n",
    "#\n",
    "# Contact: kolb@pik-potsdam.de\n",
    "# License: GNU AGPL Version 3\n",
    "%matplotlib inline\n",
    "#import PyDSTool as pdt\n",
    "import numpy as np\n",
    "import networkx as nx\n",
    "from random import shuffle\n",
    "import sympy as sp\n",
    "import pandas as pd\n",
    "import matplotlib.pyplot as plt\n",
    "from pydivest.macro_model.integrate_equations_aggregate import IntegrateEquationsAggregate as MacroModel\n",
    "from pydivest.micro_model.divestmentcore import DivestmentCore as MicroModel\n",
    "from pydivest.default_params import ExperimentDefaults \n",
    "\n",
    "from pymofa.experiment_handling import even_time_series_spacing\n"
   ]
  },
  {
   "cell_type": "code",
   "execution_count": null,
   "metadata": {
    "nbpresent": {
     "id": "8d3e617b-951f-4652-848e-b416a9fe8475"
    }
   },
   "outputs": [],
   "source": [
    "# investment_decisions:\n",
    "\n",
    "nopinions = [50, 50]\n",
    "\n",
    "# Parameters:\n",
    "\n",
    "phi, b_d = 0.5, 3.\n",
    "\n",
    "defaults = ExperimentDefaults(phi=0.5,\n",
    "                              b_d=4.,\n",
    "                              L=100.,\n",
    "                              R_depletion=False)\n",
    "\n",
    "input_parameters = defaults.input_params\n",
    "\n",
    "# investment_decisions\n",
    "opinions = []\n",
    "for i, n in enumerate(nopinions):\n",
    "    opinions.append(np.full((n), i, dtype='I'))\n",
    "opinions = [item for sublist in opinions for item in sublist]\n",
    "shuffle(opinions)\n",
    "\n",
    "# network:\n",
    "N = sum(nopinions)\n",
    "p = .2\n",
    "\n",
    "while True:\n",
    "    net = nx.erdos_renyi_graph(N, p)\n",
    "    if len(list(net)) > 1:\n",
    "        break\n",
    "adjacency_matrix = nx.adj_matrix(net).toarray()\n",
    "\n",
    "# investment\n",
    "clean_investment = np.ones(N)\n",
    "dirty_investment = np.ones(N)\n",
    "\n",
    "init_conditions = (adjacency_matrix, opinions,\n",
    "                   clean_investment, dirty_investment)\n",
    "print(input_parameters)"
   ]
  },
  {
   "cell_type": "code",
   "execution_count": null,
   "metadata": {},
   "outputs": [],
   "source": [
    "m = MicroModel(*init_conditions, **input_parameters)\n",
    "\n",
    "t_m = 0\n",
    "xis = []\n",
    "t_len = 50\n",
    "data_points = 21\n",
    "xi_max = .2\n",
    "xi_min=.1\n",
    "for xi in np.linspace(xi_min, xi_max, data_points):\n",
    "    print(xi)\n",
    "    t_m += t_len\n",
    "    xis += [xi]*t_len\n",
    "    m.xi = xi\n",
    "    m.set_parameters()\n",
    "    m.run(t_max=t_m)\n",
    "\n",
    "trj1 = even_time_series_spacing(m.get_aggregate_trajectory(), t_len*data_points)\n",
    "trj1['xi'] = xis\n",
    "xis = []\n",
    "\n",
    "m.init_aggregate_trajectory()\n",
    "\n",
    "for xi in np.linspace(xi_max, xi_min, data_points):\n",
    "    print(xi)\n",
    "    t_m += t_len\n",
    "    xis += [xi]*t_len\n",
    "    m.xi = xi\n",
    "    m.set_parameters()\n",
    "    m.run(t_max=t_m)\n",
    "    \n",
    "trj2 = even_time_series_spacing(m.get_aggregate_trajectory(), t_len*data_points)\n",
    "trj2['xi'] = xis\n",
    "\n",
    "mi1_xi_means = trj1.groupby('xi').mean()\n",
    "mi1_xi_std = trj1.groupby('xi').std()\n",
    "\n",
    "mi2_xi_means = trj2.groupby('xi').mean()\n",
    "mi2_xi_std = trj2.groupby('xi').std()\n",
    "\n",
    "fig, axes = plt.subplots(ncols=3)\n",
    "fig.set_figwidth(15)\n",
    "\n",
    "trj1[['C']].plot(ax=axes[0])\n",
    "trj1[['x', 'z']].plot(ax=axes[1])\n",
    "\n",
    "trj2[['C']].plot(ax=axes[0])\n",
    "trj2[['x', 'z']].plot(ax=axes[1])\n",
    "\n",
    "axb = axes[2].twinx()\n",
    "mi1_xi_means[['x']].plot(ax=axb, style='go')\n",
    "mi2_xi_means[['x']].plot(ax=axb, style='gx')"
   ]
  },
  {
   "cell_type": "code",
   "execution_count": null,
   "metadata": {},
   "outputs": [],
   "source": []
  },
  {
   "cell_type": "code",
   "execution_count": null,
   "metadata": {},
   "outputs": [],
   "source": [
    "fig, axes = plt.subplots(ncols=3)\n",
    "fig.set_figwidth(15)\n",
    "\n",
    "trj1[['C']].plot(ax=axes[0])\n",
    "trj1[['x', 'z']].plot(ax=axes[1])\n",
    "\n",
    "trj2[['C']].plot(ax=axes[0])\n",
    "trj2[['x', 'z']].plot(ax=axes[1])\n",
    "\n",
    "axb = axes[2].twinx()\n",
    "mi1_xi_means[['x']].plot(ax=axb, style='go')\n",
    "mi2_xi_means[['x']].plot(ax=axb, style='gx')"
   ]
  },
  {
   "cell_type": "code",
   "execution_count": null,
   "metadata": {
    "nbpresent": {
     "id": "f6e1e5cd-ebb6-41f8-a487-65980a5a5c6d"
    }
   },
   "outputs": [],
   "source": [
    "m = MacroModel(*init_conditions, **input_parameters)\n",
    "\n",
    "t_m = 0\n",
    "xis = []\n",
    "t_len = 30\n",
    "data_points = 21\n",
    "xi_max = .175\n",
    "for xi in np.linspace(0.12, xi_max, data_points):\n",
    "    print(xi)\n",
    "    t_m += t_len\n",
    "    xis += [xi]*t_len\n",
    "    m.p_xi = xi\n",
    "    m.set_parameters()\n",
    "    m.run(t_max=t_m)\n",
    "\n",
    "trj = even_time_series_spacing(m.get_aggregate_trajectory(), t_len*data_points)\n",
    "trj['xi'] = xis\n",
    "\n",
    "ma_xi_means = trj.groupby('xi').mean()\n",
    "ma_xi_std = trj.groupby('xi').std()"
   ]
  },
  {
   "cell_type": "code",
   "execution_count": null,
   "metadata": {
    "nbpresent": {
     "id": "ab2d0eb6-701b-4e60-b1de-27b8bd85e96a"
    }
   },
   "outputs": [],
   "source": [
    "path = \"../output_data/X7/mean_trj.h5\"\n",
    "path_err = \"../output_data/X7/std_trj.h5\"\n",
    "\n",
    "with pd.HDFStore(path) as store:\n",
    "    data1 = store.select('dat_0')\n",
    "    data2 = store.select('dat_1')\n",
    "    \n",
    "with pd.HDFStore(path_err) as store:\n",
    "    data1_err = store.select('dat_0')\n",
    "    data2_err = store.select('dat_1')\n",
    "\n",
    "# print(len(data1.index.levels[5]))\n",
    "# print(len(data2.index.levels[5]))\n",
    "\n",
    "# t_n = 100\n",
    "# xis1 = []\n",
    "# xis2 = []\n",
    "# data_points = 51\n",
    "# xi_min = 0.1\n",
    "# xi_max = 0.2\n",
    "# for xi1, xi2 in zip(np.linspace(xi_min, xi_max, data_points), np.linspace(xi_max, xi_min, data_points)):\n",
    "#     xis1 += [xi1]*t_n\n",
    "#     xis2 += [xi2]*t_n*2\n",
    "    \n",
    "# print(len(xis1))\n",
    "# print(len(xis2))\n",
    "    \n",
    "# data1['xi'] = xis1 + xis1\n",
    "# data2['xi'] = xis2 + xis2\n",
    "\n",
    "d_sets = [data1, data2, data1_err, data2_err]\n",
    "for d in d_sets:\n",
    "    d.index = d.index.droplevel([0,1,3,4])\n",
    "data1.head()\n",
    "\n",
    "fig, ax = plt.subplots()\n",
    "\n",
    "data1.xs(level='approx', key=1)[['x']].plot(style='r-', ax=ax)\n",
    "data2.xs(level='approx', key=1)[['x']].plot(style='b-', ax=ax)\n",
    "\n",
    "data1.xs(level='approx', key=0)[['x']].plot(style='r-', ax=ax, alpha=0.4)\n",
    "data2.xs(level='approx', key=0)[['x']].plot(style='b-', ax=ax, alpha=0.4)\n",
    "\n",
    "axb = ax.twinx()\n",
    "\n",
    "data1.xs(level='approx', key=1)[['xi']].plot(style='r-', ax=axb)\n",
    "data2.xs(level='approx', key=1)[['xi']].plot(style='b-', ax=axb)\n",
    "\n",
    "def plt_err(dta, dtb, obs, ax, color='k'):\n",
    "    t = dta.xs(level='approx', key=0).index.values\n",
    "    x = dta.xs(level='approx', key=0)[[obs]].T.values[0]\n",
    "    dx = dtb.xs(level='approx', key=0)[[obs]].T.values[0]\n",
    "    ax.fill_between(t, x+dx, x-dx, alpha=0.2, color=color)\n",
    "\n",
    "plt_err(data1, data1_err, 'x', ax)\n",
    "plt_err(data2, data2_err, 'x', ax)"
   ]
  },
  {
   "cell_type": "code",
   "execution_count": null,
   "metadata": {},
   "outputs": [],
   "source": [
    "fig, ax = plt.subplots()\n",
    "\n",
    "data1.xs(level='approx', key=1).groupby('xi').mean()[['x']].plot(style='b--', ax=ax)\n",
    "data2.xs(level='approx', key=1).groupby('xi').mean()[['x']].plot(style='b--', ax=ax, legend=False)\n",
    "\n",
    "data1.xs(level='approx', key=0).groupby('xi').mean()[['x']].plot(style='ro', ax=ax, alpha=.3, legend=False)\n",
    "data2.xs(level='approx', key=0).groupby('xi').mean()[['x']].plot(style='ro', ax=ax, alpha=.3)\n",
    "\n",
    "dta = data1.groupby(['xi', 'approx']).mean()\n",
    "dtb = data1_err.groupby(['xi', 'approx']).mean()\n",
    "plt_err(dta, dtb, 'x', ax, color='k')\n",
    "\n",
    "dta = data2.groupby(['xi', 'approx']).mean()\n",
    "dtb = data2_err.groupby(['xi', 'approx']).mean()\n",
    "plt_err(dta, dtb, 'x', ax, color='k')\n",
    "\n",
    "h,l = ax.get_legend_handles_labels()\n",
    "ax.legend([h[1], h[3]],[\"approximation\", \"micro model\"], loc=2)\n",
    "\n",
    "ax.set_xlim([.115, .14])\n",
    "dta.head()"
   ]
  },
  {
   "cell_type": "code",
   "execution_count": null,
   "metadata": {},
   "outputs": [],
   "source": []
  },
  {
   "cell_type": "code",
   "execution_count": null,
   "metadata": {},
   "outputs": [],
   "source": []
  },
  {
   "cell_type": "code",
   "execution_count": null,
   "metadata": {
    "nbpresent": {
     "id": "e248dff2-3732-4aaa-8eb3-79f9e044eccb"
    }
   },
   "outputs": [],
   "source": []
  },
  {
   "cell_type": "code",
   "execution_count": null,
   "metadata": {
    "nbpresent": {
     "id": "7c573cce-6329-4ce1-96ac-dbb9185501a6"
    }
   },
   "outputs": [],
   "source": []
  },
  {
   "cell_type": "code",
   "execution_count": null,
   "metadata": {
    "nbpresent": {
     "id": "ef9b99e0-384c-472c-87bb-64e89816e758"
    }
   },
   "outputs": [],
   "source": []
  },
  {
   "cell_type": "code",
   "execution_count": null,
   "metadata": {
    "nbpresent": {
     "id": "7d48d623-ca35-4979-b5e3-7d499c757fbc"
    }
   },
   "outputs": [],
   "source": []
  },
  {
   "cell_type": "code",
   "execution_count": null,
   "metadata": {
    "keep_output": true,
    "nbpresent": {
     "id": "dc389cfb-3aa0-4d99-8ba9-06d92521c566"
    }
   },
   "outputs": [],
   "source": []
  },
  {
   "cell_type": "code",
   "execution_count": null,
   "metadata": {
    "deep_output": true,
    "nbpresent": {
     "id": "d1afd35c-58fb-444f-a954-2782e1097a34"
    }
   },
   "outputs": [],
   "source": []
  },
  {
   "cell_type": "code",
   "execution_count": null,
   "metadata": {
    "keep_output": true,
    "nbpresent": {
     "id": "f3d51327-fcb0-4502-b852-13290894ea30"
    }
   },
   "outputs": [],
   "source": []
  },
  {
   "cell_type": "code",
   "execution_count": null,
   "metadata": {},
   "outputs": [],
   "source": []
  },
  {
   "cell_type": "code",
   "execution_count": null,
   "metadata": {},
   "outputs": [],
   "source": []
  }
 ],
 "metadata": {
  "celltoolbar": "Edit Metadata",
  "kernelspec": {
   "display_name": "Python [conda env:py36]",
   "language": "python",
   "name": "conda-env-py36-py"
  },
  "language_info": {
   "codemirror_mode": {
    "name": "ipython",
    "version": 3
   },
   "file_extension": ".py",
   "mimetype": "text/x-python",
   "name": "python",
   "nbconvert_exporter": "python",
   "pygments_lexer": "ipython3",
   "version": "3.6.4"
  }
 },
 "nbformat": 4,
 "nbformat_minor": 2
}
