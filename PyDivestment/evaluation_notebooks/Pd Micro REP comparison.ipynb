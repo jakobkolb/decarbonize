{
 "cells": [
  {
   "cell_type": "code",
   "execution_count": null,
   "metadata": {},
   "outputs": [],
   "source": [
    "\"\"\"\n",
    "This script is suposed to produce plots of the results from\n",
    "macroscopic approximation of the network-based microscopic model of divestment.\n",
    "\"\"\"\n",
    "\n",
    "import numpy as np\n",
    "import matplotlib.pyplot as plt\n",
    "import pandas as pd\n",
    "from plot_routines import plot_routines"
   ]
  },
  {
   "cell_type": "code",
   "execution_count": null,
   "metadata": {},
   "outputs": [],
   "source": [
    "import time\n",
    "\n",
    "bc, eps = 1.25, 0.05\n",
    "\n",
    "prt = plot_routines(micro_path='/home/jakob/Project_Divestment/PyDivestment/output_data/P3/micro/',\n",
    "         macro_path='/home/jakob/Project_Divestment/PyDivestment/output_data/P3/mean/',\n",
    "         rep_path='/home/jakob/Project_Divestment/PyDivestment/output_data/P3/representative/',\n",
    "         table='/dat',\n",
    "         macro_selector='approximate = 2',\n",
    "         micro_selector='approximate = 1',\n",
    "         rep_selector='approximate = 3',\n",
    "         toffset=80)\n"
   ]
  },
  {
   "cell_type": "code",
   "execution_count": null,
   "metadata": {},
   "outputs": [],
   "source": [
    "\n",
    "for phi in [.5]:\n",
    "\n",
    "    figure, axes = prt.mk_4plots_rp_overlay(selector={'phi': phi, 'tau': 1., 'eps': 0.05},\n",
    "                                            upper_limits=[1.05, 85, 25, .3, 10, 3], \n",
    "                                            lower_limits=[0, 0, 0, 0, 0, 0],\n",
    "                                            legend_locations=[4, 7, 1, 1],\n",
    "                                            tmin=0,\n",
    "                                            tmax=300,\n",
    "                                            figsize=(7,6))\n",
    "    figure.tight_layout()\n",
    "    figure.savefig('micro_vs_rep.pdf'.format(bc, phi))\n"
   ]
  },
  {
   "cell_type": "code",
   "execution_count": null,
   "metadata": {},
   "outputs": [],
   "source": [
    "prt.data_sets[4].columns\n"
   ]
  },
  {
   "cell_type": "code",
   "execution_count": null,
   "metadata": {},
   "outputs": [],
   "source": []
  }
 ],
 "metadata": {
  "kernelspec": {
   "display_name": "Python [default]",
   "language": "python",
   "name": "python3"
  },
  "language_info": {
   "codemirror_mode": {
    "name": "ipython",
    "version": 3
   },
   "file_extension": ".py",
   "mimetype": "text/x-python",
   "name": "python",
   "nbconvert_exporter": "python",
   "pygments_lexer": "ipython3",
   "version": "3.6.0"
  }
 },
 "nbformat": 4,
 "nbformat_minor": 2
}
