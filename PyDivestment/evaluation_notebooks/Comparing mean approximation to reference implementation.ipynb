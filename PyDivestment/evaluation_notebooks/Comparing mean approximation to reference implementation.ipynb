{
 "cells": [
  {
   "cell_type": "code",
   "execution_count": null,
   "metadata": {},
   "outputs": [],
   "source": [
    "%matplotlib inline\n",
    "import pandas as pd\n",
    "import numpy as np\n",
    "import sympy as sp\n",
    "import matplotlib.pyplot as plt\n",
    "from IPython.core.display import display, HTML\n",
    "display(HTML(\"<style>.container { width:98% !important; }</style>\"))\n",
    "sp.init_printing()"
   ]
  },
  {
   "cell_type": "code",
   "execution_count": null,
   "metadata": {},
   "outputs": [],
   "source": [
    "import datetime\n",
    "import networkx as nx\n",
    "from random import shuffle\n",
    "\n",
    "from pydivest.macro_model.integrate_equations_mean import IntegrateEquationsMean as new_model\n",
    "from pydivest.macro_model.integrate_equations_test_reference import Integrate_Equations as old_model\n",
    "\n",
    "# investment_decisions:\n",
    "\n",
    "nopinions = [50, 50]\n",
    "\n",
    "# Parameters:\n",
    "\n",
    "phi, b_d = 0.4, 1.25\n",
    "\n",
    "input_parameters = {'b_c': 1., 'phi': phi, 'tau': 1.,\n",
    "                    'eps': 0.05, 'b_d': b_d, 'e': 100.,\n",
    "                    'b_r0': 0.1 ** 2 * 100.,\n",
    "                    'possible_opinions': [[0], [1]],\n",
    "                    'xi': 1. / 8., 'beta': 0.06,\n",
    "                    'L': 100., 'C': 100., 'G_0': 800.,\n",
    "                    'campaign': False, 'learning': True,\n",
    "                    'R_depletion': False, 'test': True,\n",
    "                    'interaction': 0}\n",
    "\n",
    "# investment_decisions\n",
    "opinions = []\n",
    "for i, n in enumerate(nopinions):\n",
    "    opinions.append(np.full((n), i, dtype='I'))\n",
    "opinions = [item for sublist in opinions for item in sublist]\n",
    "shuffle(opinions)\n",
    "\n",
    "# network:\n",
    "N = sum(nopinions)\n",
    "p = .2\n",
    "\n",
    "while True:\n",
    "    net = nx.erdos_renyi_graph(N, p)\n",
    "    if len(list(net)) > 1:\n",
    "        break\n",
    "adjacency_matrix = nx.adj_matrix(net).toarray()\n",
    "\n",
    "# investment\n",
    "clean_investment = np.ones(N)\n",
    "dirty_investment = np.ones(N)\n",
    "\n",
    "init_conditions = (adjacency_matrix, opinions,\n",
    "                   clean_investment, dirty_investment)"
   ]
  },
  {
   "cell_type": "code",
   "execution_count": null,
   "metadata": {},
   "outputs": [],
   "source": [
    "from pydivest.macro_model.PBP_and_MC_analytics import CalcRhs\n",
    "old = CalcRhs()"
   ]
  },
  {
   "cell_type": "code",
   "execution_count": null,
   "metadata": {},
   "outputs": [],
   "source": [
    "new = new_model(*init_conditions, **input_parameters)"
   ]
  },
  {
   "cell_type": "code",
   "execution_count": null,
   "metadata": {},
   "outputs": [],
   "source": [
    "sp.simplify(new.rhsPBP.subs(new.subs1) - old.rhsPBP)"
   ]
  },
  {
   "cell_type": "code",
   "execution_count": null,
   "metadata": {},
   "outputs": [],
   "source": [
    "#sp.simplify(new.rhsECO_3 - old.rhsECO_3)"
   ]
  },
  {
   "cell_type": "code",
   "execution_count": null,
   "metadata": {},
   "outputs": [],
   "source": [
    "#sp.simplify(new.rhs_raw - old.rhs)"
   ]
  },
  {
   "cell_type": "code",
   "execution_count": null,
   "metadata": {},
   "outputs": [],
   "source": [
    "m_old = old_model(*init_conditions, **input_parameters)\n",
    "m_old.run(t_max=200)\n",
    "m_old.R_depletion = True\n",
    "m_old.run(t_max=600)\n",
    "trj_old = m_old.get_m_trajectory()"
   ]
  },
  {
   "cell_type": "code",
   "execution_count": null,
   "metadata": {},
   "outputs": [],
   "source": [
    "m_new = new_model(*init_conditions, **input_parameters)\n",
    "m_new.run(t_max=200)\n",
    "m_new.R_depletion = True\n",
    "m_new.run(t_max=600)\n",
    "trj_new = m_new.get_mean_trajectory()"
   ]
  },
  {
   "cell_type": "code",
   "execution_count": null,
   "metadata": {},
   "outputs": [],
   "source": [
    "fig = plt.figure()\n",
    "ax = fig.add_subplot(111)\n",
    "trj_new[['x', 'y', 'z']].plot(ax=ax)"
   ]
  },
  {
   "cell_type": "code",
   "execution_count": null,
   "metadata": {},
   "outputs": [],
   "source": [
    "fig = plt.figure()\n",
    "ax = fig.add_subplot(111)\n",
    "trj_old[['x', 'y', 'z']].plot(ax=ax)"
   ]
  },
  {
   "cell_type": "code",
   "execution_count": null,
   "metadata": {},
   "outputs": [],
   "source": [
    "trj_diff = trj_new[['x', 'y', 'z']] - trj_old[['x', 'y', 'z']]\n",
    "trj_abs = trj_diff.abs().sum(axis=1)\n",
    "cs = trj_abs.cumsum()\n",
    "trj_diff.plot()"
   ]
  }
 ],
 "metadata": {
  "kernelspec": {
   "display_name": "Python 3",
   "language": "python",
   "name": "python3"
  },
  "language_info": {
   "codemirror_mode": {
    "name": "ipython",
    "version": 3
   },
   "file_extension": ".py",
   "mimetype": "text/x-python",
   "name": "python",
   "nbconvert_exporter": "python",
   "pygments_lexer": "ipython3",
   "version": "3.6.0"
  }
 },
 "nbformat": 4,
 "nbformat_minor": 2
}
