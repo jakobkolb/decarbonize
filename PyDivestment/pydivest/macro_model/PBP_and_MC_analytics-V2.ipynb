{
 "cells": [
  {
   "cell_type": "markdown",
   "metadata": {},
   "source": [
    "## Equations for Moment Closure of Network-based micro-model for divestment of bounded rational households."
   ]
  },
  {
   "cell_type": "markdown",
   "metadata": {},
   "source": [
    "Imports and setup"
   ]
  },
  {
   "cell_type": "code",
   "execution_count": 1,
   "metadata": {
    "collapsed": false
   },
   "outputs": [
    {
     "data": {
      "text/html": [
       "<style>.container { width:98% !important; }</style>"
      ],
      "text/plain": [
       "<IPython.core.display.HTML object>"
      ]
     },
     "metadata": {},
     "output_type": "display_data"
    }
   ],
   "source": [
    "import sympy as s\n",
    "import pickle as pkl\n",
    "from sympy.abc import epsilon, phi, tau\n",
    "from IPython.core.display import display, HTML\n",
    "display(HTML(\"<style>.container { width:98% !important; }</style>\"))\n",
    "s.init_printing()"
   ]
  },
  {
   "cell_type": "markdown",
   "metadata": {},
   "source": [
    "Define variables and parameters for the adaptive voter model"
   ]
  },
  {
   "cell_type": "code",
   "execution_count": 2,
   "metadata": {
    "collapsed": false
   },
   "outputs": [],
   "source": [
    "# number of nodes\n",
    "N = s.Symbol('N', integer=True)\n",
    "# number of dirty nodes\n",
    "Nd = s.Symbol('N_d', integer=True)\n",
    "# number of clean nodes\n",
    "Nc = s.Symbol('N_c', integer=True)\n",
    "# number of edges\n",
    "K = s.Symbol('K', integer=True)\n",
    "# number of clean edges\n",
    "cc = s.Symbol('[cc]', integer=True)\n",
    "# number of dirty edges\n",
    "dd = s.Symbol('[dd]', integer=True)\n",
    "# number of mixed edges\n",
    "cd = s.Symbol('[cd]', integer=True)\n",
    "# average number of neighbors of clean nodes\n",
    "kc = s.Symbol('k_c', integer=True)\n",
    "# average number of neighbors of dirty nodes\n",
    "kd = s.Symbol('k_d', integer=True)\n",
    "# Nc - Nd\n",
    "X = s.Symbol('X', real=True)\n",
    "# cc - dd\n",
    "Y = s.Symbol('Y', real=True)\n",
    "# cd\n",
    "Z = s.Symbol('Z', real=True, positive=True)\n",
    "# wealth of dirty node\n",
    "Wd = s.Symbol('W_d')\n",
    "# wealth of clean node\n",
    "Wc = s.Symbol('W_c')\n"
   ]
  },
  {
   "cell_type": "markdown",
   "metadata": {},
   "source": [
    "Define variables and parameters for the economic subsystem:"
   ]
  },
  {
   "cell_type": "code",
   "execution_count": 3,
   "metadata": {
    "collapsed": false
   },
   "outputs": [],
   "source": [
    "# Total labor and labor shares in sectors\n",
    "L, Lc, Ld = s.symbols('L L_c L_d', positive=True, real=True)\n",
    "# Total capital in sectors\n",
    "Kc, Kd = s.symbols('K_c K_d', positive=True, real=True)\n",
    "# Equilibrium wage and capital return rates in sectors\n",
    "w, rc, rd = s.symbols('w r_c r_d', positive=True, real=True)\n",
    "# Resource usage rage, resource stock, knowledge Stock\n",
    "R, G, C = s.symbols('R, G, C', positive=True, real=True)\n",
    "# average capital endowments of clean and dirty households\n",
    "mucc, mucd, mudc, mudd = s.symbols('mu_c^c mu_c^d mu_d^c mu_d^d', positive=True, real=True)\n",
    "# savings rate, capital depreciaten rate, and elasticities of labor, capital and knowledge\n",
    "rs, delta, pi, kappac, kappad, xi = s.symbols('s delta pi kappa_c, kappa_d xi', positive=True, rational=True, real=True)\n",
    "# solow residuals of clean and dirty sector, prefactor for resource cost, energy efficiency, initial resource stock\n",
    "bc, bd, bR, e, G0 = s.symbols('b_c b_d b_R e G_0', positive=True, real=True)\n",
    "# substitutions for resolution on constraints from market clearing.\n",
    "Xc, Xd, XR = s.symbols('X_c X_d X_R', positive=True, real=True)"
   ]
  },
  {
   "cell_type": "markdown",
   "metadata": {},
   "source": [
    "Defination of relations between variables and calculation of substitution of *primitive variables* by *state variables* of the system"
   ]
  },
  {
   "cell_type": "code",
   "execution_count": 4,
   "metadata": {
    "collapsed": false
   },
   "outputs": [
    {
     "data": {
      "image/png": "[encoded data removed]",
      "text/latex": [
       "$$\\left \\{ N_{c} : \\frac{N}{2} + \\frac{X}{2}, \\quad N_{d} : \\frac{N}{2} - \\frac{X}{2}, \\quad [cc] : \\frac{K}{2} + \\frac{Y}{2} - \\frac{Z}{2}, \\quad [cd] : Z, \\quad [dd] : \\frac{K}{2} - \\frac{Y}{2} - \\frac{Z}{2}, \\quad k_{c} : \\frac{2 K + 2 Y}{N + X}, \\quad k_{d} : \\frac{2 K - 2 Y}{N - X}, \\quad \\tanh{\\left (- W_{c} + W_{d} \\right )} : r_{c} \\left(- \\mu^{c}_{c} + \\mu^{c}_{d}\\right) + r_{d} \\left(- \\mu^{d}_{c} + \\mu^{d}_{d}\\right), \\quad \\tanh{\\left (W_{c} - W_{d} \\right )} : r_{c} \\left(\\mu^{c}_{c} - \\mu^{c}_{d}\\right) + r_{d} \\left(\\mu^{d}_{c} - \\mu^{d}_{d}\\right)\\right \\}$$"
      ],
      "text/plain": [
       "⎧     N   X       N   X        K   Y   Z                 K   Y   Z       2⋅(K \n",
       "⎨N_c: ─ + ─, N_d: ─ - ─, [cc]: ─ + ─ - ─, [cd]: Z, [dd]: ─ - ─ - ─, k_c: ─────\n",
       "⎩     2   2       2   2        2   2   2                 2   2   2         N +\n",
       "\n",
       "+ Y)       2⋅(K - Y)                                                          \n",
       "────, k_d: ─────────, tanh(-W_c + W_d): r_c⋅(-μ_c__c + μ_d__c) + r_d⋅(-μ_c__d \n",
       " X           N - X                                                            \n",
       "\n",
       "                                                                         ⎫\n",
       "+ μ_d__d), tanh(W_c - W_d): r_c⋅(μ_c__c - μ_d__c) + r_d⋅(μ_c__d - μ_d__d)⎬\n",
       "                                                                         ⎭"
      ]
     },
     "execution_count": 4,
     "metadata": {},
     "output_type": "execute_result"
    }
   ],
   "source": [
    "eqs = [\n",
    "    # total number of households is fixed,\n",
    "    Nd+Nc-N,\n",
    "    # total number of edges is fixed,\n",
    "    cc+dd+cd-K,\n",
    "    # definition of state space variables\n",
    "    X-Nc+Nd,\n",
    "    Y-cc+dd,\n",
    "    Z-cd,\n",
    "    # mean degrees of clean and dirty nodes\n",
    "    kc-(2*cc+cd)/Nc,\n",
    "    kd-(2*dd+cd)/Nd\n",
    "]\n",
    "vars1 = (Nc, Nd, cc, dd, cd, kc, kd)\n",
    "vars2 = (N, K, X, Y, Z)\n",
    "subs1 = s.solve(eqs, vars1, dict=True)[0]\n",
    "\n",
    "# define expected wealth as expected income and linearize tanh.\n",
    "subs1[s.tanh(Wd-Wc)] = rc*(mudc-mucc) + rd*(mudd-mucd)\n",
    "subs1[s.tanh(Wc-Wd)] = rc*(mucc-mudc) + rd*(mucd-mudd)\n",
    "subs1"
   ]
  },
  {
   "cell_type": "markdown",
   "metadata": {},
   "source": [
    "Jumps in state space i.e. Effect of events on state vector S = (X, Y, Z) - denoted r = X-X' in van Kampen"
   ]
  },
  {
   "cell_type": "code",
   "execution_count": 5,
   "metadata": {
    "collapsed": true
   },
   "outputs": [],
   "source": [
    "# regular adaptive voter events\n",
    "s1 = s.Matrix([ 0, 1, -1]) # clean investor rewires\n",
    "s2 = s.Matrix([ 0,-1, -1]) # dirty investor rewires\n",
    "s3 = s.Matrix([-2,-kc,-1 + (1-1./kc)*((2*cc-cd)/Nc)]) # clean investor imitates c -> d\n",
    "s4 = s.Matrix([ 2, kd,-1 + (1-1./kd)*((2*dd-cd)/Nd)]) # dirty investor imitates d -> c\n",
    "\n",
    "# noise events\n",
    "\n",
    "s5 = s.Matrix([-2,-(2*cc+cd)/Nc,(2*cc-cd)/Nc]) # c -> d\n",
    "s6 = s.Matrix([ 2, (2*dd+cd)/Nd,(2*dd-cd)/Nd]) # d -> c\n",
    "s7 = s.Matrix([ 0,-1, 1]) # c-c -> c-d\n",
    "s8 = s.Matrix([ 0, 1,-1]) # c-d -> c-c\n",
    "s9 = s.Matrix([ 0, 1, 1]) # d-d -> d-c\n",
    "s10= s.Matrix([ 0,-1,-1]) # d-c -> d-d"
   ]
  },
  {
   "cell_type": "markdown",
   "metadata": {},
   "source": [
    "Probabilities per unit time for events to occur (denoted by W in van Kampen)"
   ]
  },
  {
   "cell_type": "code",
   "execution_count": 6,
   "metadata": {
    "collapsed": false
   },
   "outputs": [],
   "source": [
    "p1 = 1./tau * (1-epsilon)*(Nc/N)*cd/(Nc * kc)*phi # clean investor rewires\n",
    "p2 = 1./tau * (1-epsilon)*(Nd/N)*cd/(Nd * kd)*phi # dirty investor rewires\n",
    "p3 = 1./tau * (1-epsilon)*(Nc/N)*cd/(Nc * kc)*(1-phi)*(1./2)*(s.tanh(Wd-Wc)+1) # clean investor imitates c -> d\n",
    "p4 = 1./tau * (1-epsilon)*(Nd/N)*cd/(Nd * kd)*(1-phi)*(1./2)*(s.tanh(Wc-Wd)+1) # dirty investor imitates d -> c\n",
    "p5 = 1./tau * epsilon * (1./2) * Nc/N # c -> d\n",
    "p6 = 1./tau * epsilon * (1./2) * Nd/N # d -> c\n",
    "p7 = 1./tau * epsilon * Nc/N * (2*cc)/(2*cc+cd) * Nd/N # c-c -> c-d\n",
    "p8 = 1./tau * epsilon * Nc/N * (cd)/(2*cc+cd) * Nc/N   # c-d -> c-c\n",
    "p9 = 1./tau * epsilon * Nd/N * (2*dd)/(2*dd+cd) * Nc/N # d-d -> d-c\n",
    "p10= 1./tau * epsilon * Nd/N * (cd)/(2*dd+cd) * Nd/N   # d-c -> d-d"
   ]
  },
  {
   "cell_type": "markdown",
   "metadata": {},
   "source": [
    "Create S and r matrices to write down rhs markov jump process for pair based proxy:"
   ]
  },
  {
   "cell_type": "code",
   "execution_count": 106,
   "metadata": {
    "collapsed": false
   },
   "outputs": [
    {
     "data": {
      "image/png": "[encoded data removed]",
      "text/latex": [
       "$$\\left[\\begin{matrix}\\frac{1.0 [cd] \\phi}{N k_{c} \\tau} \\left(- \\epsilon + 1\\right) & \\frac{1.0 [cd] \\phi}{N k_{d} \\tau} \\left(- \\epsilon + 1\\right) & \\frac{0.5 [cd]}{N k_{c} \\tau} \\left(- \\epsilon + 1\\right) \\left(- \\phi + 1\\right) \\left(\\tanh{\\left (- W_{c} + W_{d} \\right )} + 1\\right) & \\frac{0.5 [cd]}{N k_{d} \\tau} \\left(- \\epsilon + 1\\right) \\left(- \\phi + 1\\right) \\left(\\tanh{\\left (W_{c} - W_{d} \\right )} + 1\\right) & \\frac{0.5 N_{c} \\epsilon}{N \\tau} & \\frac{0.5 N_{d} \\epsilon}{N \\tau} & \\frac{2.0 N_{c} N_{d} [cc] \\epsilon}{N^{2} \\tau \\left(2 [cc] + [cd]\\right)} & \\frac{1.0 N_{c}^{2} [cd] \\epsilon}{N^{2} \\tau \\left(2 [cc] + [cd]\\right)} & \\frac{2.0 N_{c} N_{d} [dd] \\epsilon}{N^{2} \\tau \\left([cd] + 2 [dd]\\right)} & \\frac{1.0 N_{d}^{2} [cd] \\epsilon}{N^{2} \\tau \\left([cd] + 2 [dd]\\right)}\\end{matrix}\\right]$$"
      ],
      "text/plain": [
       "⎡                                                                             \n",
       "⎢1.0⋅[cd]⋅φ⋅(-ε + 1)  1.0⋅[cd]⋅φ⋅(-ε + 1)  0.5⋅[cd]⋅(-ε + 1)⋅(-φ + 1)⋅(tanh(-W\n",
       "⎢───────────────────  ───────────────────  ───────────────────────────────────\n",
       "⎢      N⋅k_c⋅τ              N⋅k_d⋅τ                             N⋅k_c⋅τ       \n",
       "⎣                                                                             \n",
       "\n",
       "                                                                              \n",
       "_c + W_d) + 1)  0.5⋅[cd]⋅(-ε + 1)⋅(-φ + 1)⋅(tanh(W_c - W_d) + 1)  0.5⋅N_c⋅ε  0\n",
       "──────────────  ────────────────────────────────────────────────  ─────────  ─\n",
       "                                    N⋅k_d⋅τ                          N⋅τ      \n",
       "                                                                              \n",
       "\n",
       "                                         2                                    \n",
       ".5⋅N_d⋅ε   2.0⋅N_c⋅N_d⋅[cc]⋅ε     1.0⋅N_c ⋅[cd]⋅ε      2.0⋅N_c⋅N_d⋅[dd]⋅ε     \n",
       "────────  ────────────────────  ────────────────────  ────────────────────  ──\n",
       "  N⋅τ      2                     2                     2                     2\n",
       "          N ⋅τ⋅(2⋅[cc] + [cd])  N ⋅τ⋅(2⋅[cc] + [cd])  N ⋅τ⋅([cd] + 2⋅[dd])  N \n",
       "\n",
       "       2          ⎤\n",
       "1.0⋅N_d ⋅[cd]⋅ε   ⎥\n",
       "──────────────────⎥\n",
       "                  ⎥\n",
       "⋅τ⋅([cd] + 2⋅[dd])⎦"
      ]
     },
     "execution_count": 106,
     "metadata": {},
     "output_type": "execute_result"
    }
   ],
   "source": [
    "r = s.Matrix(s1)\n",
    "for i, si in enumerate([s2, s3, s4, s5, s6, s7, s8, s9, s10]):\n",
    "    r = r.col_insert(i+1, si)\n",
    "\n",
    "W = s.Matrix([p1])\n",
    "for j, pj in enumerate([s.Matrix([p]) for p in[p2, p3, p4, p5, p6, p7, p8, p9, p10]]):\n",
    "    W = W.col_insert(j+1, pj)\n",
    "W"
   ]
  },
  {
   "cell_type": "markdown",
   "metadata": {},
   "source": [
    "rhs of the pair based proxy is given by the first jump moment. This is formally given by \n",
    "\n",
    "$\\int r W(S,r) dr$\n",
    "\n",
    "which in our case is equal to \n",
    "\n",
    "$\\sum_i r_i W_{i, j}(S)$\n",
    "\n",
    "To calculate this, we first write the jumps and transition matrix in terms of X, Y, Z and then substitute with rescalled variables and eliminate N."
   ]
  },
  {
   "cell_type": "code",
   "execution_count": 107,
   "metadata": {
    "collapsed": false
   },
   "outputs": [],
   "source": [
    "r = r.subs(subs1)\n",
    "W = W.subs(subs1)"
   ]
  },
  {
   "cell_type": "code",
   "execution_count": 126,
   "metadata": {
    "collapsed": true
   },
   "outputs": [],
   "source": [
    "x, y, z, k = s.symbols('x y z k')\n",
    "c, g, l, g0 = s.symbols('c, g, l, g_0')\n",
    "subs4 = {Kc: (N/2.*(1+x)*mucc + N/2.*(1-x)*mudc),\n",
    "         Kd: (N/2.*(1+x)*mucd + N/2.*(1-x)*mudd),\n",
    "         C: N * c,\n",
    "         L: N * l,\n",
    "         G: N * g,\n",
    "         G0: N * g0,\n",
    "         X: N*x,\n",
    "         Y: N*k*y,\n",
    "         Z: N*k*z,\n",
    "         K: N*k}"
   ]
  },
  {
   "cell_type": "code",
   "execution_count": 127,
   "metadata": {
    "collapsed": false
   },
   "outputs": [
    {
     "name": "stdout",
     "output_type": "stream",
     "text": [
      "printing expressions that sympy cant handle to check their treatment is appropriate\n",
      "     ⎛  0.5⋅(x + 1)    ⎞                  \n",
      "     ⎜- ─────────── + 1⎟⋅(k⋅y - 2⋅k⋅z + k)\n",
      "     ⎝    k⋅y + k      ⎠                  \n",
      "-1 + ─────────────────────────────────────\n",
      "                     x   1                \n",
      "                     ─ + ─                \n",
      "                     2   2                \n",
      "printing expressions that sympy cant handle to check their treatment is appropriate\n",
      "     ⎛  0.5⋅(-x + 1)    ⎞                   \n",
      "     ⎜- ──────────── + 1⎟⋅(-k⋅y - 2⋅k⋅z + k)\n",
      "     ⎝    -k⋅y + k      ⎠                   \n",
      "-1 + ───────────────────────────────────────\n",
      "                       x   1                \n",
      "                     - ─ + ─                \n",
      "                       2   2                \n"
     ]
    }
   ],
   "source": [
    "r = r.subs(subs4)\n",
    "W = W.subs(subs4)\n",
    "for i in range(len(W)):\n",
    "    W[i] = W[i].collect(N)\n",
    "for i in range(len(r)):\n",
    "    r[i] = r[i].collect(N)\n",
    "    # flamming hack to circumvent sympies inability to collect with core.add.Add.\n",
    "    # eyeballing the expressions it is obvious that this is justified.\n",
    "    if isinstance(r[i], s.add.Add):\n",
    "        print('printing expressions that sympy cant handle to check their treatment is appropriate')\n",
    "        s.pretty_print(r[i])\n",
    "        r[i] = r[i].subs({N: 1})"
   ]
  },
  {
   "cell_type": "markdown",
   "metadata": {},
   "source": [
    "After eliminating N, we can write down the first jump moment:"
   ]
  },
  {
   "cell_type": "code",
   "execution_count": 153,
   "metadata": {
    "collapsed": false
   },
   "outputs": [
    {
     "data": {
      "image/png": "[encoded data removed]",
      "text/latex": [
       "$$\\left[\\begin{matrix}\\frac{1}{\\tau \\left(y - 1\\right) \\left(y + 1\\right)} \\left(- 1.0 \\epsilon x \\left(y - 1\\right) \\left(y + 1\\right) + 0.5 z \\left(\\epsilon - 1\\right) \\left(\\phi - 1\\right) \\left(x - 1\\right) \\left(y + 1\\right) \\left(r_{c} \\left(\\mu^{c}_{c} - \\mu^{c}_{d}\\right) + r_{d} \\left(\\mu^{d}_{c} - \\mu^{d}_{d}\\right) + 1\\right) + 0.5 z \\left(\\epsilon - 1\\right) \\left(\\phi - 1\\right) \\left(x + 1\\right) \\left(y - 1\\right) \\left(r_{c} \\left(\\mu^{c}_{c} - \\mu^{c}_{d}\\right) + r_{d} \\left(\\mu^{d}_{c} - \\mu^{d}_{d}\\right) - 1\\right)\\right)\\\\\\frac{1}{\\tau \\left(y - 1\\right) \\left(y + 1\\right)} \\left(0.5 k \\left(y - 1\\right) \\left(y + 1\\right) \\left(- \\epsilon \\left(y - 1\\right) - \\epsilon \\left(y + 1\\right) + z \\left(\\epsilon - 1\\right) \\left(\\phi - 1\\right) \\left(r_{c} \\left(\\mu^{c}_{c} - \\mu^{c}_{d}\\right) + r_{d} \\left(\\mu^{d}_{c} - \\mu^{d}_{d}\\right) - 1\\right) + z \\left(\\epsilon - 1\\right) \\left(\\phi - 1\\right) \\left(r_{c} \\left(\\mu^{c}_{c} - \\mu^{c}_{d}\\right) + r_{d} \\left(\\mu^{d}_{c} - \\mu^{d}_{d}\\right) + 1\\right)\\right) + \\left(x - 1\\right) \\left(y + 1\\right) \\left(0.25 \\epsilon z \\left(x - 1\\right) - 0.25 \\epsilon \\left(x + 1\\right) \\left(y + z - 1\\right) + 0.5 \\phi z \\left(\\epsilon - 1\\right)\\right) + \\left(x + 1\\right) \\left(y - 1\\right) \\left(0.25 \\epsilon z \\left(x + 1\\right) + 0.25 \\epsilon \\left(x - 1\\right) \\left(y - z + 1\\right) - 0.5 \\phi z \\left(\\epsilon - 1\\right)\\right)\\right)\\\\\\frac{1}{\\tau \\left(y - 1\\right)^{2} \\left(y + 1\\right)^{2}} \\left(1.0 \\epsilon k \\left(y - 1\\right)^{2} \\left(y + 1\\right)^{2} \\left(- 2 z + 1\\right) + 0.25 z \\left(\\epsilon - 1\\right) \\left(\\phi - 1\\right) \\left(y - 1\\right)^{2} \\left(\\left(x + 1\\right) \\left(y + 1\\right) + 2 \\left(y - 2 z + 1\\right) \\left(- k y - k + 0.5 x + 0.5\\right)\\right) \\left(r_{c} \\left(\\mu^{c}_{c} - \\mu^{c}_{d}\\right) + r_{d} \\left(\\mu^{d}_{c} - \\mu^{d}_{d}\\right) - 1\\right) - 0.25 z \\left(\\epsilon - 1\\right) \\left(\\phi - 1\\right) \\left(y + 1\\right)^{2} \\left(\\left(x - 1\\right) \\left(y - 1\\right) + 2 \\left(y + 2 z - 1\\right) \\left(- k y + k + 0.5 x - 0.5\\right)\\right) \\left(r_{c} \\left(\\mu^{c}_{c} - \\mu^{c}_{d}\\right) + r_{d} \\left(\\mu^{d}_{c} - \\mu^{d}_{d}\\right) + 1\\right) + \\left(x - 1\\right) \\left(y - 1\\right) \\left(y + 1\\right)^{2} \\left(0.25 \\epsilon z \\left(x - 1\\right) - 0.25 \\epsilon \\left(x + 1\\right) \\left(y + z - 1\\right) + 0.5 \\phi z \\left(\\epsilon - 1\\right)\\right) + \\left(x + 1\\right) \\left(y - 1\\right)^{2} \\left(y + 1\\right) \\left(- 0.25 \\epsilon z \\left(x + 1\\right) - 0.25 \\epsilon \\left(x - 1\\right) \\left(y - z + 1\\right) + 0.5 \\phi z \\left(\\epsilon - 1\\right)\\right)\\right)\\end{matrix}\\right]$$"
      ],
      "text/plain": [
       "⎡                                                                             \n",
       "⎢                                                                             \n",
       "⎢                                                                             \n",
       "⎢                                                                             \n",
       "⎢                                                                             \n",
       "⎢                                                                             \n",
       "⎢                                                                             \n",
       "⎢                                                                             \n",
       "⎢               2        2                                            2       \n",
       "⎢1.0⋅ε⋅k⋅(y - 1) ⋅(y + 1) ⋅(-2⋅z + 1) + 0.25⋅z⋅(ε - 1)⋅(φ - 1)⋅(y - 1) ⋅((x + \n",
       "⎢─────────────────────────────────────────────────────────────────────────────\n",
       "⎢                                                                             \n",
       "⎣                                                                             \n",
       "\n",
       "                                                                             -\n",
       "                                                                             ─\n",
       "                                                                              \n",
       "                                                                              \n",
       "  0.5⋅k⋅(y - 1)⋅(y + 1)⋅(-ε⋅(y - 1) - ε⋅(y + 1) + z⋅(ε - 1)⋅(φ - 1)⋅(r_c⋅(μ_c_\n",
       "  ────────────────────────────────────────────────────────────────────────────\n",
       "                                                                              \n",
       "                                                                              \n",
       "                                                                              \n",
       "1)⋅(y + 1) + 2⋅(y - 2⋅z + 1)⋅(-k⋅y - k + 0.5⋅x + 0.5))⋅(r_c⋅(μ_c__c - μ_d__c) \n",
       "──────────────────────────────────────────────────────────────────────────────\n",
       "                                                                              \n",
       "                                                                              \n",
       "\n",
       "1.0⋅ε⋅x⋅(y - 1)⋅(y + 1) + 0.5⋅z⋅(ε - 1)⋅(φ - 1)⋅(x - 1)⋅(y + 1)⋅(r_c⋅(μ_c__c -\n",
       "──────────────────────────────────────────────────────────────────────────────\n",
       "                                                                              \n",
       "                                                                              \n",
       "_c - μ_d__c) + r_d⋅(μ_c__d - μ_d__d) - 1) + z⋅(ε - 1)⋅(φ - 1)⋅(r_c⋅(μ_c__c - μ\n",
       "──────────────────────────────────────────────────────────────────────────────\n",
       "                                                                              \n",
       "                                                                              \n",
       "                                                             2                \n",
       "+ r_d⋅(μ_c__d - μ_d__d) - 1) - 0.25⋅z⋅(ε - 1)⋅(φ - 1)⋅(y + 1) ⋅((x - 1)⋅(y - 1\n",
       "──────────────────────────────────────────────────────────────────────────────\n",
       "                                                                              \n",
       "                                                                              \n",
       "\n",
       " μ_d__c) + r_d⋅(μ_c__d - μ_d__d) + 1) + 0.5⋅z⋅(ε - 1)⋅(φ - 1)⋅(x + 1)⋅(y - 1)⋅\n",
       "──────────────────────────────────────────────────────────────────────────────\n",
       "                τ⋅(y - 1)⋅(y + 1)                                             \n",
       "                                                                              \n",
       "_d__c) + r_d⋅(μ_c__d - μ_d__d) + 1)) + (x - 1)⋅(y + 1)⋅(0.25⋅ε⋅z⋅(x - 1) - 0.2\n",
       "──────────────────────────────────────────────────────────────────────────────\n",
       "                τ⋅(y - 1)⋅(y + 1)                                             \n",
       "                                                                              \n",
       "                                                                              \n",
       ") + 2⋅(y + 2⋅z - 1)⋅(-k⋅y + k + 0.5⋅x - 0.5))⋅(r_c⋅(μ_c__c - μ_d__c) + r_d⋅(μ_\n",
       "──────────────────────────────────────────────────────────────────────────────\n",
       "                         2        2                                           \n",
       "                τ⋅(y - 1) ⋅(y + 1)                                            \n",
       "\n",
       "(r_c⋅(μ_c__c - μ_d__c) + r_d⋅(μ_c__d - μ_d__d) - 1)                           \n",
       "───────────────────────────────────────────────────                           \n",
       "                                                                              \n",
       "                                                                              \n",
       "5⋅ε⋅(x + 1)⋅(y + z - 1) + 0.5⋅φ⋅z⋅(ε - 1)) + (x + 1)⋅(y - 1)⋅(0.25⋅ε⋅z⋅(x + 1)\n",
       "──────────────────────────────────────────────────────────────────────────────\n",
       "                                                                              \n",
       "                                                                              \n",
       "                                             2                                \n",
       "c__d - μ_d__d) + 1) + (x - 1)⋅(y - 1)⋅(y + 1) ⋅(0.25⋅ε⋅z⋅(x - 1) - 0.25⋅ε⋅(x +\n",
       "──────────────────────────────────────────────────────────────────────────────\n",
       "                                                                              \n",
       "                                                                              \n",
       "\n",
       "                                                                              \n",
       "                                                                              \n",
       "                                                                              \n",
       "                                                                              \n",
       " + 0.25⋅ε⋅(x - 1)⋅(y - z + 1) - 0.5⋅φ⋅z⋅(ε - 1))                              \n",
       "────────────────────────────────────────────────                              \n",
       "                                                                              \n",
       "                                                                              \n",
       "                                                    2                         \n",
       " 1)⋅(y + z - 1) + 0.5⋅φ⋅z⋅(ε - 1)) + (x + 1)⋅(y - 1) ⋅(y + 1)⋅(-0.25⋅ε⋅z⋅(x + \n",
       "──────────────────────────────────────────────────────────────────────────────\n",
       "                                                                              \n",
       "                                                                              \n",
       "\n",
       "                                                  ⎤\n",
       "                                                  ⎥\n",
       "                                                  ⎥\n",
       "                                                  ⎥\n",
       "                                                  ⎥\n",
       "                                                  ⎥\n",
       "                                                  ⎥\n",
       "                                                  ⎥\n",
       "                                                  ⎥\n",
       "1) - 0.25⋅ε⋅(x - 1)⋅(y - z + 1) + 0.5⋅φ⋅z⋅(ε - 1))⎥\n",
       "──────────────────────────────────────────────────⎥\n",
       "                                                  ⎥\n",
       "                                                  ⎦"
      ]
     },
     "execution_count": 153,
     "metadata": {},
     "output_type": "execute_result"
    }
   ],
   "source": [
    "rhsPBP = s.Matrix(r*s.Transpose(W))\n",
    "rhsPBP = s.Matrix(s.simplify(rhsPBP))\n",
    "rhsPBP"
   ]
  },
  {
   "cell_type": "markdown",
   "metadata": {},
   "source": [
    "**Next, we treat the equations describing economic production and capital accumulation**\n",
    "\n",
    "Substitutute solutions to algebraic constraints of economic system (market clearing for labor and expressions for capital rent and resource flow)"
   ]
  },
  {
   "cell_type": "code",
   "execution_count": 129,
   "metadata": {
    "collapsed": false
   },
   "outputs": [],
   "source": [
    "subs2 = {w: pi * L**(pi-1.) * (Xc + Xd*XR)**(1.-pi),\n",
    "        rc: kappac/Kc*Xc*L**pi*(Xc + Xd*XR)**(-pi),\n",
    "        rd: kappad/Kd*Xd*XR*L**pi*(Xc + Xd*XR)**(-pi),\n",
    "        R:  bd/e*Kd**kappad*L**pi*(Xd*XR/(Xc + Xd*XR))**pi,\n",
    "        Lc: L*Xc/(Xc + Xd*XR),\n",
    "        Ld: L*Xd*XR/(Xc + Xd*XR),\n",
    "        s.tanh(Wd-Wc): rc*(mudc-mucc) + rd*(mudd-mucd),\n",
    "        s.tanh(Wc-Wd): rc*(mucc-mudc) + rd*(mucd-mudd)}"
   ]
  },
  {
   "cell_type": "code",
   "execution_count": 130,
   "metadata": {
    "collapsed": false
   },
   "outputs": [],
   "source": [
    "subs3 = {Xc: (bc*Kc**kappac * C**xi)**(1./(1.-pi)),\n",
    "         Xd: (bd*Kd**kappad)**(1./(1.-pi)),\n",
    "         XR: (1.-bR/e*(G0/G)**2)**(1./(1.-pi))}"
   ]
  },
  {
   "cell_type": "markdown",
   "metadata": {},
   "source": [
    "Substitutions to ensure constant returns to scale:"
   ]
  },
  {
   "cell_type": "code",
   "execution_count": 131,
   "metadata": {
    "collapsed": true
   },
   "outputs": [],
   "source": [
    "subs5 = {kappac: 1. - pi - xi,\n",
    "         kappad: 1. - pi}"
   ]
  },
  {
   "cell_type": "markdown",
   "metadata": {},
   "source": [
    "Write down dynamic equations for the economic subsystem in terms of means of clean and dirty capital stocks for clean and dirty households"
   ]
  },
  {
   "cell_type": "code",
   "execution_count": 132,
   "metadata": {
    "collapsed": false
   },
   "outputs": [],
   "source": [
    "rhsECO = s.Matrix([(rs*rc-delta)*mucc + rs*rd*mucd + rs*w*L/N,\n",
    "                  -delta*mucd,\n",
    "                  -delta*mudc,\n",
    "                  rs*rc*mudc + (rs*rd-delta)*mudd + rs*w*L/N,\n",
    "                  bc*Lc**pi*(Nc*mucc + Nd*mudc)**kappac * C**xi - delta*C,\n",
    "                  -R])\n"
   ]
  },
  {
   "cell_type": "markdown",
   "metadata": {},
   "source": [
    "Write down changes in means of capital stocks through agents' switching of opinions and add them to the capital accumulation terms"
   ]
  },
  {
   "cell_type": "code",
   "execution_count": 133,
   "metadata": {
    "collapsed": false
   },
   "outputs": [],
   "source": [
    "\n",
    "dtNcd = 1./tau*Nc*(Nc/N*cd/(2*cc+cd)*(1-phi)*(1-epsilon)*1./2*(s.tanh(Wd-Wc)+1) + epsilon*1./2*Nc/N)\n",
    "dtNdc = 1./tau*Nd*(Nd/N*cd/(2*dd+cd)*(1-phi)*(1-epsilon)*1./2*(s.tanh(Wc-Wd)+1) + epsilon*1./2*Nd/N)\n",
    "\n",
    "rhsECO_switch = s.Matrix([(mudc-mucc)*dtNdc/Nc,\n",
    "                         (mudd-mucd)*dtNdc/Nc,\n",
    "                         (mucc-mudc)*dtNcd/Nd,\n",
    "                         (mucd-mudd)*dtNcd/Nd,\n",
    "                         0,\n",
    "                         0])\n",
    "rhsECO_switch = s.simplify(rhsECO_switch.subs(subs1))"
   ]
  },
  {
   "cell_type": "code",
   "execution_count": 134,
   "metadata": {
    "collapsed": false,
    "scrolled": true
   },
   "outputs": [],
   "source": [
    "rhsECO = rhsECO + rhsECO_switch"
   ]
  },
  {
   "cell_type": "markdown",
   "metadata": {},
   "source": [
    "Next, we have to write the economic system in terms of X, Y, Z and then in terms of rescalled variables and ckeck the dependency on the system size N: \n",
    "- 1) substitute primitive variables for dependent variables (subs1)\n",
    "- 2) substitute dependent variables for system variables (subs4)"
   ]
  },
  {
   "cell_type": "code",
   "execution_count": 135,
   "metadata": {
    "collapsed": false,
    "scrolled": true
   },
   "outputs": [],
   "source": [
    "rhsECO = rhsECO.subs(subs1).subs(subs2).subs(subs3).subs(subs4).subs(subs5)"
   ]
  },
  {
   "cell_type": "markdown",
   "metadata": {},
   "source": [
    "In the PBP rhs substitute economic variables for their propper expressions ($r_c$, $r_d$ ect.) and then again substitute lingering 'primitive' variables with rescalled ones"
   ]
  },
  {
   "cell_type": "code",
   "execution_count": 177,
   "metadata": {
    "collapsed": false
   },
   "outputs": [],
   "source": [
    "rhsPBP = rhsPBP.subs(subs2).subs(subs3).subs(subs5)\n",
    "rhsPBP = rhsPBP.subs(subs1).subs(subs4).subs({N: 1})"
   ]
  },
  {
   "cell_type": "markdown",
   "metadata": {},
   "source": [
    "Check expressions to assure eliminating N the evil way does not break stuff"
   ]
  },
  {
   "cell_type": "code",
   "execution_count": 175,
   "metadata": {
    "collapsed": false
   },
   "outputs": [
    {
     "data": {
      "image/png": "[encoded data removed]",
      "text/latex": [
       "$$\\pi \\left(N l\\right)^{\\pi - 1.0} \\left(b_{c}^{\\frac{1.0}{- \\pi + 1.0}} \\left(\\left(N c\\right)^{\\xi} \\left(0.5 N \\mu^{c}_{c} \\left(x + 1\\right) + 0.5 N \\mu^{c}_{d} \\left(- x + 1\\right)\\right)^{- \\pi - \\xi + 1.0}\\right)^{\\frac{1.0}{- \\pi + 1.0}} + \\left(b_{d} \\left(0.5 N \\mu^{d}_{c} \\left(x + 1\\right) + 0.5 N \\mu^{d}_{d} \\left(- x + 1\\right)\\right)^{- \\pi + 1.0}\\right)^{\\frac{1.0}{- \\pi + 1.0}} \\left(- \\frac{b_{R} g_{0}^{2}}{e g^{2}} + 1.0\\right)^{\\frac{1.0}{- \\pi + 1.0}}\\right)^{- \\pi + 1.0}$$"
      ],
      "text/plain": [
       "                                                                              \n",
       "               ⎛                                                              \n",
       "               ⎜                                                              \n",
       "               ⎜     1.0                                                      \n",
       "               ⎜   ────────                                                   \n",
       "       π - 1.0 ⎜   -π + 1.0 ⎛     ξ                                           \n",
       "π⋅(N⋅l)       ⋅⎜b_c        ⋅⎝(N⋅c) ⋅(0.5⋅N⋅μ_c__c⋅(x + 1) + 0.5⋅N⋅μ_d__c⋅(-x +\n",
       "               ⎜                                                              \n",
       "               ⎝                                                              \n",
       "\n",
       "                                                                              \n",
       "                                                                              \n",
       "                   1.0                                                        \n",
       "                 ────────                                                     \n",
       "                 -π + 1.0                                                     \n",
       "    -π - ξ + 1.0⎞           ⎛                                                 \n",
       " 1))            ⎠         + ⎝b_d⋅(0.5⋅N⋅μ_c__d⋅(x + 1) + 0.5⋅N⋅μ_d__d⋅(-x + 1)\n",
       "                                                                              \n",
       "                                                                              \n",
       "\n",
       "                                             -π + 1.0\n",
       "                                      1.0   ⎞        \n",
       "            1.0                     ────────⎟        \n",
       "          ────────                  -π + 1.0⎟        \n",
       "          -π + 1.0 ⎛        2      ⎞        ⎟        \n",
       " -π + 1.0⎞         ⎜  b_R⋅g₀       ⎟        ⎟        \n",
       ")        ⎠        ⋅⎜- ─────── + 1.0⎟        ⎟        \n",
       "                   ⎜       2       ⎟        ⎟        \n",
       "                   ⎝    e⋅g        ⎠        ⎠        "
      ]
     },
     "execution_count": 175,
     "metadata": {},
     "output_type": "execute_result"
    }
   ],
   "source": [
    "subs2[w].subs(subs3).subs(subs5).subs(subs1).subs(subs4).collect(N)"
   ]
  },
  {
   "cell_type": "code",
   "execution_count": 179,
   "metadata": {
    "collapsed": false
   },
   "outputs": [
    {
     "data": {
      "image/png": "[encoded data removed]",
      "text/latex": [
       "$$\\frac{\\left(N l\\right)^{\\pi} \\left(b_{c} \\left(N c\\right)^{\\xi} \\left(N \\left(0.5 \\mu^{c}_{c} \\left(x + 1\\right) + 0.5 \\mu^{c}_{d} \\left(- x + 1\\right)\\right)\\right)^{- \\pi - \\xi + 1.0}\\right)^{\\frac{1.0}{- \\pi + 1.0}} \\left(- \\pi - \\xi + 1.0\\right)}{N \\left(b_{c}^{\\frac{1.0}{- \\pi + 1.0}} \\left(\\left(N c\\right)^{\\xi} \\left(0.5 N \\mu^{c}_{c} \\left(x + 1\\right) + 0.5 N \\mu^{c}_{d} \\left(- x + 1\\right)\\right)^{- \\pi - \\xi + 1.0}\\right)^{\\frac{1.0}{- \\pi + 1.0}} + \\left(b_{d} \\left(0.5 N \\mu^{d}_{c} \\left(x + 1\\right) + 0.5 N \\mu^{d}_{d} \\left(- x + 1\\right)\\right)^{- \\pi + 1.0}\\right)^{\\frac{1.0}{- \\pi + 1.0}} \\left(- \\frac{b_{R} g_{0}^{2}}{e g^{2}} + 1.0\\right)^{\\frac{1.0}{- \\pi + 1.0}}\\right)^{\\pi} \\left(0.5 \\mu^{c}_{c} \\left(x + 1\\right) + 0.5 \\mu^{c}_{d} \\left(- x + 1\\right)\\right)}$$"
      ],
      "text/plain": [
       "                                                                              \n",
       "                                                                              \n",
       "                                                                              \n",
       "                                                                              \n",
       "                                                                              \n",
       "     π ⎛         ξ                                               -π - ξ + 1.0⎞\n",
       "(N⋅l) ⋅⎝b_c⋅(N⋅c) ⋅(N⋅(0.5⋅μ_c__c⋅(x + 1) + 0.5⋅μ_d__c⋅(-x + 1)))            ⎠\n",
       "                                                                              \n",
       "                                                                              \n",
       "──────────────────────────────────────────────────────────────────────────────\n",
       "                                                                              \n",
       "\n",
       "                                                                              \n",
       "         ⎛                                                                    \n",
       "  1.0    ⎜                                                                    \n",
       "──────── ⎜     1.0                                                            \n",
       "-π + 1.0 ⎜   ────────                                                         \n",
       "         ⎜   -π + 1.0 ⎛     ξ                                               -π\n",
       "        ⋅⎜b_c        ⋅⎝(N⋅c) ⋅(0.5⋅N⋅μ_c__c⋅(x + 1) + 0.5⋅N⋅μ_d__c⋅(-x + 1))  \n",
       "         ⎜                                                                    \n",
       "         ⎝                                                                    \n",
       "──────────────────────────────────────────────────────────────────────────────\n",
       "                                             N⋅(0.5⋅μ_c__c⋅(x + 1) + 0.5⋅μ_d__\n",
       "\n",
       "                                                                              \n",
       "                                                                              \n",
       "             1.0                                                              \n",
       "           ────────                                                           \n",
       "           -π + 1.0                                                           \n",
       " - ξ + 1.0⎞           ⎛                                                  -π + \n",
       "          ⎠         + ⎝b_d⋅(0.5⋅N⋅μ_c__d⋅(x + 1) + 0.5⋅N⋅μ_d__d⋅(-x + 1))     \n",
       "                                                                              \n",
       "                                                                              \n",
       "──────────────────────────────────────────────────────────────────────────────\n",
       "c⋅(-x + 1))                                                                   \n",
       "\n",
       "                                       -π               \n",
       "                                1.0   ⎞                 \n",
       "      1.0                     ────────⎟                 \n",
       "    ────────                  -π + 1.0⎟                 \n",
       "    -π + 1.0 ⎛        2      ⎞        ⎟                 \n",
       "1.0⎞         ⎜  b_R⋅g₀       ⎟        ⎟                 \n",
       "   ⎠        ⋅⎜- ─────── + 1.0⎟        ⎟  ⋅(-π - ξ + 1.0)\n",
       "             ⎜       2       ⎟        ⎟                 \n",
       "             ⎝    e⋅g        ⎠        ⎠                 \n",
       "────────────────────────────────────────────────────────\n",
       "                                                        "
      ]
     },
     "execution_count": 179,
     "metadata": {},
     "output_type": "execute_result"
    }
   ],
   "source": [
    "subs2[rc].subs(subs3).subs(subs5).subs(subs1).subs(subs4).collect(N)"
   ]
  },
  {
   "cell_type": "code",
   "execution_count": 178,
   "metadata": {
    "collapsed": false
   },
   "outputs": [
    {
     "data": {
      "image/png": "[encoded data removed]",
      "text/latex": [
       "$$\\frac{\\left(N l\\right)^{\\pi} \\left(b_{d} \\left(N \\left(0.5 \\mu^{d}_{c} \\left(x + 1\\right) + 0.5 \\mu^{d}_{d} \\left(- x + 1\\right)\\right)\\right)^{- \\pi + 1.0}\\right)^{\\frac{1.0}{- \\pi + 1.0}} \\left(- \\pi + 1.0\\right) \\left(- \\frac{b_{R} g_{0}^{2}}{e g^{2}} + 1.0\\right)^{\\frac{1.0}{- \\pi + 1.0}}}{N \\left(b_{c}^{\\frac{1.0}{- \\pi + 1.0}} \\left(\\left(N c\\right)^{\\xi} \\left(0.5 N \\mu^{c}_{c} \\left(x + 1\\right) + 0.5 N \\mu^{c}_{d} \\left(- x + 1\\right)\\right)^{- \\pi - \\xi + 1.0}\\right)^{\\frac{1.0}{- \\pi + 1.0}} + \\left(b_{d} \\left(0.5 N \\mu^{d}_{c} \\left(x + 1\\right) + 0.5 N \\mu^{d}_{d} \\left(- x + 1\\right)\\right)^{- \\pi + 1.0}\\right)^{\\frac{1.0}{- \\pi + 1.0}} \\left(- \\frac{b_{R} g_{0}^{2}}{e g^{2}} + 1.0\\right)^{\\frac{1.0}{- \\pi + 1.0}}\\right)^{\\pi} \\left(0.5 \\mu^{d}_{c} \\left(x + 1\\right) + 0.5 \\mu^{d}_{d} \\left(- x + 1\\right)\\right)}$$"
      ],
      "text/plain": [
       "                                                                              \n",
       "                                                                              \n",
       "                                                                     1.0      \n",
       "                                                                   ────────   \n",
       "                                                                   -π + 1.0   \n",
       "     π ⎛                                                  -π + 1.0⎞           \n",
       "(N⋅l) ⋅⎝b_d⋅(N⋅(0.5⋅μ_c__d⋅(x + 1) + 0.5⋅μ_d__d⋅(-x + 1)))        ⎠        ⋅(-\n",
       "                                                                              \n",
       "                                                                              \n",
       "──────────────────────────────────────────────────────────────────────────────\n",
       "                                                                              \n",
       "\n",
       "                                                                              \n",
       "         ⎛                                                                    \n",
       "         ⎜                                                                    \n",
       "         ⎜     1.0                                                            \n",
       "         ⎜   ────────                                                         \n",
       "         ⎜   -π + 1.0 ⎛     ξ                                               -π\n",
       "π + 1.0)⋅⎜b_c        ⋅⎝(N⋅c) ⋅(0.5⋅N⋅μ_c__c⋅(x + 1) + 0.5⋅N⋅μ_d__c⋅(-x + 1))  \n",
       "         ⎜                                                                    \n",
       "         ⎝                                                                    \n",
       "──────────────────────────────────────────────────────────────────────────────\n",
       "                                                   N⋅(0.5⋅μ_c__d⋅(x + 1) + 0.5\n",
       "\n",
       "                                                                              \n",
       "                                                                              \n",
       "             1.0                                                              \n",
       "           ────────                                                           \n",
       "           -π + 1.0                                                           \n",
       " - ξ + 1.0⎞           ⎛                                                  -π + \n",
       "          ⎠         + ⎝b_d⋅(0.5⋅N⋅μ_c__d⋅(x + 1) + 0.5⋅N⋅μ_d__d⋅(-x + 1))     \n",
       "                                                                              \n",
       "                                                                              \n",
       "──────────────────────────────────────────────────────────────────────────────\n",
       "⋅μ_d__d⋅(-x + 1))                                                             \n",
       "\n",
       "                                       -π                          \n",
       "                                1.0   ⎞                      1.0   \n",
       "      1.0                     ────────⎟                    ────────\n",
       "    ────────                  -π + 1.0⎟                    -π + 1.0\n",
       "    -π + 1.0 ⎛        2      ⎞        ⎟   ⎛        2      ⎞        \n",
       "1.0⎞         ⎜  b_R⋅g₀       ⎟        ⎟   ⎜  b_R⋅g₀       ⎟        \n",
       "   ⎠        ⋅⎜- ─────── + 1.0⎟        ⎟  ⋅⎜- ─────── + 1.0⎟        \n",
       "             ⎜       2       ⎟        ⎟   ⎜       2       ⎟        \n",
       "             ⎝    e⋅g        ⎠        ⎠   ⎝    e⋅g        ⎠        \n",
       "───────────────────────────────────────────────────────────────────\n",
       "                                                                   "
      ]
     },
     "execution_count": 178,
     "metadata": {},
     "output_type": "execute_result"
    }
   ],
   "source": [
    "subs2[rd].subs(subs3).subs(subs5).subs(subs1).subs(subs4).collect(N)"
   ]
  },
  {
   "cell_type": "code",
   "execution_count": 186,
   "metadata": {
    "collapsed": false
   },
   "outputs": [
    {
     "data": {
      "image/png": "[encoded data removed]",
      "text/latex": [
       "$$l \\pi s \\left(N l\\right)^{\\pi - 1.0} \\left(\\left(b_{d} \\left(0.5 N \\mu^{d}_{c} \\left(x + 1\\right) + 0.5 N \\mu^{d}_{d} \\left(- x + 1\\right)\\right)^{- \\pi + 1.0}\\right)^{\\frac{1.0}{- \\pi + 1.0}} \\left(- \\frac{b_{R} g_{0}^{2}}{e g^{2}} + 1.0\\right)^{\\frac{1.0}{- \\pi + 1.0}} + \\left(b_{c} \\left(N c\\right)^{\\xi} \\left(0.5 N \\mu^{c}_{c} \\left(x + 1\\right) + 0.5 N \\mu^{c}_{d} \\left(- x + 1\\right)\\right)^{- \\pi - \\xi + 1.0}\\right)^{\\frac{1.0}{- \\pi + 1.0}}\\right)^{- \\pi + 1.0} + \\mu^{c}_{c} \\left(- \\delta + \\frac{s \\left(N l\\right)^{\\pi} \\left(b_{c} \\left(N c\\right)^{\\xi} \\left(0.5 N \\mu^{c}_{c} \\left(x + 1\\right) + 0.5 N \\mu^{c}_{d} \\left(- x + 1\\right)\\right)^{- \\pi - \\xi + 1.0}\\right)^{\\frac{1.0}{- \\pi + 1.0}} \\left(- \\pi - \\xi + 1.0\\right)}{\\left(\\left(b_{d} \\left(0.5 N \\mu^{d}_{c} \\left(x + 1\\right) + 0.5 N \\mu^{d}_{d} \\left(- x + 1\\right)\\right)^{- \\pi + 1.0}\\right)^{\\frac{1.0}{- \\pi + 1.0}} \\left(- \\frac{b_{R} g_{0}^{2}}{e g^{2}} + 1.0\\right)^{\\frac{1.0}{- \\pi + 1.0}} + \\left(b_{c} \\left(N c\\right)^{\\xi} \\left(0.5 N \\mu^{c}_{c} \\left(x + 1\\right) + 0.5 N \\mu^{c}_{d} \\left(- x + 1\\right)\\right)^{- \\pi - \\xi + 1.0}\\right)^{\\frac{1.0}{- \\pi + 1.0}}\\right)^{\\pi} \\left(0.5 N \\mu^{c}_{c} \\left(x + 1\\right) + 0.5 N \\mu^{c}_{d} \\left(- x + 1\\right)\\right)}\\right) + \\frac{\\mu^{d}_{c} s \\left(N l\\right)^{\\pi} \\left(b_{d} \\left(0.5 N \\mu^{d}_{c} \\left(x + 1\\right) + 0.5 N \\mu^{d}_{d} \\left(- x + 1\\right)\\right)^{- \\pi + 1.0}\\right)^{\\frac{1.0}{- \\pi + 1.0}} \\left(- \\pi + 1.0\\right) \\left(- \\frac{b_{R} g_{0}^{2}}{e g^{2}} + 1.0\\right)^{\\frac{1.0}{- \\pi + 1.0}}}{\\left(\\left(b_{d} \\left(0.5 N \\mu^{d}_{c} \\left(x + 1\\right) + 0.5 N \\mu^{d}_{d} \\left(- x + 1\\right)\\right)^{- \\pi + 1.0}\\right)^{\\frac{1.0}{- \\pi + 1.0}} \\left(- \\frac{b_{R} g_{0}^{2}}{e g^{2}} + 1.0\\right)^{\\frac{1.0}{- \\pi + 1.0}} + \\left(b_{c} \\left(N c\\right)^{\\xi} \\left(0.5 N \\mu^{c}_{c} \\left(x + 1\\right) + 0.5 N \\mu^{c}_{d} \\left(- x + 1\\right)\\right)^{- \\pi - \\xi + 1.0}\\right)^{\\frac{1.0}{- \\pi + 1.0}}\\right)^{\\pi} \\left(0.5 N \\mu^{d}_{c} \\left(x + 1\\right) + 0.5 N \\mu^{d}_{d} \\left(- x + 1\\right)\\right)} - \\frac{0.25 \\left(- N x + N\\right)^{2}}{N \\tau \\left(N x + N\\right) \\left(- N k y + N k\\right)} \\left(\\mu^{c}_{c} - \\mu^{c}_{d}\\right) \\left(N k z \\left(\\epsilon - 1\\right) \\left(\\phi - 1\\right) \\left(\\frac{\\left(N l\\right)^{\\pi} \\left(b_{d} \\left(0.5 N \\mu^{d}_{c} \\left(x + 1\\right) + 0.5 N \\mu^{d}_{d} \\left(- x + 1\\right)\\right)^{- \\pi + 1.0}\\right)^{\\frac{1.0}{- \\pi + 1.0}} \\left(\\mu^{d}_{c} - \\mu^{d}_{d}\\right) \\left(- \\pi + 1.0\\right) \\left(- \\frac{b_{R} g_{0}^{2}}{e g^{2}} + 1.0\\right)^{\\frac{1.0}{- \\pi + 1.0}}}{\\left(\\left(b_{d} \\left(0.5 N \\mu^{d}_{c} \\left(x + 1\\right) + 0.5 N \\mu^{d}_{d} \\left(- x + 1\\right)\\right)^{- \\pi + 1.0}\\right)^{\\frac{1.0}{- \\pi + 1.0}} \\left(- \\frac{b_{R} g_{0}^{2}}{e g^{2}} + 1.0\\right)^{\\frac{1.0}{- \\pi + 1.0}} + \\left(b_{c} \\left(N c\\right)^{\\xi} \\left(0.5 N \\mu^{c}_{c} \\left(x + 1\\right) + 0.5 N \\mu^{c}_{d} \\left(- x + 1\\right)\\right)^{- \\pi - \\xi + 1.0}\\right)^{\\frac{1.0}{- \\pi + 1.0}}\\right)^{\\pi} \\left(0.5 N \\mu^{d}_{c} \\left(x + 1\\right) + 0.5 N \\mu^{d}_{d} \\left(- x + 1\\right)\\right)} + \\frac{\\left(N l\\right)^{\\pi} \\left(b_{c} \\left(N c\\right)^{\\xi} \\left(0.5 N \\mu^{c}_{c} \\left(x + 1\\right) + 0.5 N \\mu^{c}_{d} \\left(- x + 1\\right)\\right)^{- \\pi - \\xi + 1.0}\\right)^{\\frac{1.0}{- \\pi + 1.0}} \\left(\\mu^{c}_{c} - \\mu^{c}_{d}\\right) \\left(- \\pi - \\xi + 1.0\\right)}{\\left(\\left(b_{d} \\left(0.5 N \\mu^{d}_{c} \\left(x + 1\\right) + 0.5 N \\mu^{d}_{d} \\left(- x + 1\\right)\\right)^{- \\pi + 1.0}\\right)^{\\frac{1.0}{- \\pi + 1.0}} \\left(- \\frac{b_{R} g_{0}^{2}}{e g^{2}} + 1.0\\right)^{\\frac{1.0}{- \\pi + 1.0}} + \\left(b_{c} \\left(N c\\right)^{\\xi} \\left(0.5 N \\mu^{c}_{c} \\left(x + 1\\right) + 0.5 N \\mu^{c}_{d} \\left(- x + 1\\right)\\right)^{- \\pi - \\xi + 1.0}\\right)^{\\frac{1.0}{- \\pi + 1.0}}\\right)^{\\pi} \\left(0.5 N \\mu^{c}_{c} \\left(x + 1\\right) + 0.5 N \\mu^{c}_{d} \\left(- x + 1\\right)\\right)} + 1\\right) + \\epsilon \\left(- N k y + N k\\right)\\right)$$"
      ],
      "text/plain": [
       "                                                                              \n",
       "                                                                              \n",
       "                                                                              \n",
       "                                                                              \n",
       "                                                                              \n",
       "                                                                              \n",
       "                   ⎛                                                          \n",
       "                   ⎜                                                          \n",
       "                   ⎜                                                          \n",
       "                   ⎜                                                          \n",
       "           π - 1.0 ⎜⎛                                                  -π + 1.\n",
       "l⋅π⋅s⋅(N⋅l)       ⋅⎜⎝b_d⋅(0.5⋅N⋅μ_c__d⋅(x + 1) + 0.5⋅N⋅μ_d__d⋅(-x + 1))       \n",
       "                   ⎜                                                          \n",
       "                   ⎝                                                          \n",
       "\n",
       "                                                                              \n",
       "                                                                              \n",
       "                                                                              \n",
       "                                                                              \n",
       "                                                                              \n",
       "                                                                              \n",
       "                              1.0                                             \n",
       "    1.0                     ────────                                          \n",
       "  ────────                  -π + 1.0                                          \n",
       "  -π + 1.0 ⎛        2      ⎞                                                  \n",
       "0⎞         ⎜  b_R⋅g₀       ⎟           ⎛         ξ                            \n",
       " ⎠        ⋅⎜- ─────── + 1.0⎟         + ⎝b_c⋅(N⋅c) ⋅(0.5⋅N⋅μ_c__c⋅(x + 1) + 0.5\n",
       "           ⎜       2       ⎟                                                  \n",
       "           ⎝    e⋅g        ⎠                                                  \n",
       "\n",
       "                                                                              \n",
       "                                                                              \n",
       "                                                           ⎛                  \n",
       "                                                           ⎜                  \n",
       "                                                           ⎜                  \n",
       "                                         -π + 1.0          ⎜                  \n",
       "                                        ⎞                  ⎜                  \n",
       "                                  1.0   ⎟                  ⎜            π ⎛   \n",
       "                                ────────⎟                  ⎜     s⋅(N⋅l) ⋅⎝b_c\n",
       "                                -π + 1.0⎟                  ⎜                  \n",
       "                   -π - ξ + 1.0⎞        ⎟                  ⎜                  \n",
       "⋅N⋅μ_d__c⋅(-x + 1))            ⎠        ⎟         + μ_c__c⋅⎜-δ + ─────────────\n",
       "                                        ⎟                  ⎝                  \n",
       "                                        ⎠                                     \n",
       "\n",
       "                                                                              \n",
       "                                                                              \n",
       "                                                                              \n",
       "                                                                            ⎛ \n",
       "                                                                     1.0    ⎜ \n",
       "                                                                   ──────── ⎜ \n",
       "                                                                   -π + 1.0 ⎜ \n",
       "      ξ                                               -π - ξ + 1.0⎞         ⎜⎛\n",
       "⋅(N⋅c) ⋅(0.5⋅N⋅μ_c__c⋅(x + 1) + 0.5⋅N⋅μ_d__c⋅(-x + 1))            ⎠        ⋅⎜⎝\n",
       "                                                                            ⎜ \n",
       "                                                                            ⎝ \n",
       "──────────────────────────────────────────────────────────────────────────────\n",
       "                                                                              \n",
       "                                                                              \n",
       "\n",
       "                                                                              \n",
       "                                                                              \n",
       "                                                                              \n",
       "                                                                              \n",
       "                                                             1.0              \n",
       "                                                           ────────           \n",
       "                                                           -π + 1.0 ⎛        2\n",
       "                                                  -π + 1.0⎞         ⎜  b_R⋅g₀ \n",
       "b_d⋅(0.5⋅N⋅μ_c__d⋅(x + 1) + 0.5⋅N⋅μ_d__d⋅(-x + 1))        ⎠        ⋅⎜- ───────\n",
       "                                                                    ⎜       2 \n",
       "                                                                    ⎝    e⋅g  \n",
       "──────────────────────────────────────────────────────────────────────────────\n",
       "                             0.5⋅N⋅μ_c__c⋅(x + 1) + 0.5⋅N⋅μ_d__c⋅(-x + 1)     \n",
       "                                                                              \n",
       "\n",
       "                                                                              \n",
       "                                                                              \n",
       "                                                                              \n",
       "         1.0                                                                  \n",
       "       ────────                                                               \n",
       "       -π + 1.0                                                               \n",
       "      ⎞                                                                       \n",
       "      ⎟           ⎛         ξ                                               -π\n",
       " + 1.0⎟         + ⎝b_c⋅(N⋅c) ⋅(0.5⋅N⋅μ_c__c⋅(x + 1) + 0.5⋅N⋅μ_d__c⋅(-x + 1))  \n",
       "      ⎟                                                                       \n",
       "      ⎠                                                                       \n",
       "──────────────────────────────────────────────────────────────────────────────\n",
       "                                                                              \n",
       "                                                                              \n",
       "\n",
       "                                                                              \n",
       "                                                                              \n",
       "                    -π               ⎞                                        \n",
       "                   ⎞                 ⎟                                        \n",
       "             1.0   ⎟                 ⎟                                        \n",
       "           ────────⎟                 ⎟                                        \n",
       "           -π + 1.0⎟                 ⎟                                        \n",
       " - ξ + 1.0⎞        ⎟                 ⎟                 π ⎛                    \n",
       "          ⎠        ⎟  ⋅(-π - ξ + 1.0)⎟   μ_c__d⋅s⋅(N⋅l) ⋅⎝b_d⋅(0.5⋅N⋅μ_c__d⋅(x\n",
       "                   ⎟                 ⎟                                        \n",
       "                   ⎠                 ⎟                                        \n",
       "─────────────────────────────────────⎟ + ─────────────────────────────────────\n",
       "                                     ⎠                                        \n",
       "                                                                              \n",
       "\n",
       "                                                                              \n",
       "                                                                              \n",
       "                                                                              \n",
       "                                                           ⎛                  \n",
       "                                         1.0               ⎜                  \n",
       "                                       ────────            ⎜                  \n",
       "                                       -π + 1.0            ⎜                  \n",
       "                              -π + 1.0⎞                    ⎜⎛                 \n",
       " + 1) + 0.5⋅N⋅μ_d__d⋅(-x + 1))        ⎠        ⋅(-π + 1.0)⋅⎜⎝b_d⋅(0.5⋅N⋅μ_c__d\n",
       "                                                           ⎜                  \n",
       "                                                           ⎝                  \n",
       "──────────────────────────────────────────────────────────────────────────────\n",
       "                                                                              \n",
       "                                                                              \n",
       "\n",
       "                                                                              \n",
       "                                                                              \n",
       "                                                                              \n",
       "                                                                      1.0     \n",
       "                                            1.0                     ────────  \n",
       "                                          ────────                  -π + 1.0  \n",
       "                                          -π + 1.0 ⎛        2      ⎞          \n",
       "                                 -π + 1.0⎞         ⎜  b_R⋅g₀       ⎟          \n",
       "⋅(x + 1) + 0.5⋅N⋅μ_d__d⋅(-x + 1))        ⎠        ⋅⎜- ─────── + 1.0⎟         +\n",
       "                                                   ⎜       2       ⎟          \n",
       "                                                   ⎝    e⋅g        ⎠          \n",
       "──────────────────────────────────────────────────────────────────────────────\n",
       "              0.5⋅N⋅μ_c__d⋅(x + 1) + 0.5⋅N⋅μ_d__d⋅(-x + 1)                    \n",
       "                                                                              \n",
       "\n",
       "                                                                              \n",
       "                                                                              \n",
       "                                                                              \n",
       "                                                                              \n",
       "                                                                          1.0 \n",
       "                                                                        ──────\n",
       "                                                                        -π + 1\n",
       " ⎛         ξ                                               -π - ξ + 1.0⎞      \n",
       " ⎝b_c⋅(N⋅c) ⋅(0.5⋅N⋅μ_c__c⋅(x + 1) + 0.5⋅N⋅μ_d__c⋅(-x + 1))            ⎠      \n",
       "                                                                              \n",
       "                                                                              \n",
       "──────────────────────────────────────────────────────────────────────────────\n",
       "                                                                              \n",
       "                                                                              \n",
       "\n",
       "                                                                     ⎛        \n",
       "                                                                     ⎜        \n",
       "   -π                                                                ⎜        \n",
       "  ⎞                      1.0                                         ⎜        \n",
       "  ⎟                    ────────                                      ⎜        \n",
       "──⎟                    -π + 1.0                                      ⎜        \n",
       ".0⎟   ⎛        2      ⎞                                              ⎜        \n",
       "  ⎟   ⎜  b_R⋅g₀       ⎟                                              ⎜        \n",
       "  ⎟  ⋅⎜- ─────── + 1.0⎟                                            2 ⎜        \n",
       "  ⎟   ⎜       2       ⎟           0.25⋅(μ_c__c - μ_d__c)⋅(-N⋅x + N) ⋅⎜N⋅k⋅z⋅(ε\n",
       "  ⎠   ⎝    e⋅g        ⎠                                              ⎝        \n",
       "─────────────────────────────── - ────────────────────────────────────────────\n",
       "                                                                              \n",
       "                                                                              \n",
       "\n",
       "              ⎛                                                               \n",
       "              ⎜                                                               \n",
       "              ⎜                                                               \n",
       "              ⎜                                                               \n",
       "              ⎜                                                               \n",
       "              ⎜     π ⎛                                                  -π + \n",
       "              ⎜(N⋅l) ⋅⎝b_d⋅(0.5⋅N⋅μ_c__d⋅(x + 1) + 0.5⋅N⋅μ_d__d⋅(-x + 1))     \n",
       "              ⎜                                                               \n",
       "              ⎜                                                               \n",
       " - 1)⋅(φ - 1)⋅⎜───────────────────────────────────────────────────────────────\n",
       "              ⎝                                                               \n",
       "──────────────────────────────────────────────────────────────────────────────\n",
       "                                                                              \n",
       "                                                                              \n",
       "\n",
       "                                                                              \n",
       "                                          ⎛                                   \n",
       "      1.0                                 ⎜                                   \n",
       "    ────────                              ⎜                                   \n",
       "    -π + 1.0                              ⎜                                   \n",
       "1.0⎞                                      ⎜⎛                                  \n",
       "   ⎠        ⋅(μ_c__d - μ_d__d)⋅(-π + 1.0)⋅⎜⎝b_d⋅(0.5⋅N⋅μ_c__d⋅(x + 1) + 0.5⋅N⋅\n",
       "                                          ⎜                                   \n",
       "                                          ⎝                                   \n",
       "──────────────────────────────────────────────────────────────────────────────\n",
       "                                                                       0.5⋅N⋅μ\n",
       "──────────────────────────────────────────────────────────────────────────────\n",
       "                                                                              \n",
       "                                                                              \n",
       "\n",
       "                                                                              \n",
       "                                                     1.0                      \n",
       "                           1.0                     ────────                   \n",
       "                         ────────                  -π + 1.0                   \n",
       "                         -π + 1.0 ⎛        2      ⎞                           \n",
       "                -π + 1.0⎞         ⎜  b_R⋅g₀       ⎟           ⎛         ξ     \n",
       "μ_d__d⋅(-x + 1))        ⎠        ⋅⎜- ─────── + 1.0⎟         + ⎝b_c⋅(N⋅c) ⋅(0.5\n",
       "                                  ⎜       2       ⎟                           \n",
       "                                  ⎝    e⋅g        ⎠                           \n",
       "──────────────────────────────────────────────────────────────────────────────\n",
       "_c__d⋅(x + 1) + 0.5⋅N⋅μ_d__d⋅(-x + 1)                                         \n",
       "──────────────────────────────────────────────────────────────────────────────\n",
       "                                                                              \n",
       "                                                                              \n",
       "\n",
       "                                                                -π            \n",
       "                                                               ⎞              \n",
       "                                                         1.0   ⎟              \n",
       "                                                       ────────⎟              \n",
       "                                                       -π + 1.0⎟   ⎛        2 \n",
       "                                          -π - ξ + 1.0⎞        ⎟   ⎜  b_R⋅g₀  \n",
       "⋅N⋅μ_c__c⋅(x + 1) + 0.5⋅N⋅μ_d__c⋅(-x + 1))            ⎠        ⎟  ⋅⎜- ─────── \n",
       "                                                               ⎟   ⎜       2  \n",
       "                                                               ⎠   ⎝    e⋅g   \n",
       "──────────────────────────────────────────────────────────────────────────────\n",
       "                                                                              \n",
       "──────────────────────────────────────────────────────────────────────────────\n",
       "                                                         N⋅τ⋅(N⋅x + N)⋅(-N⋅k⋅y\n",
       "                                                                              \n",
       "\n",
       "                                                                              \n",
       "        1.0                                                                   \n",
       "      ────────                                                                \n",
       "      -π + 1.0                                                                \n",
       "     ⎞                                                                        \n",
       "     ⎟                π ⎛         ξ                                           \n",
       "+ 1.0⎟           (N⋅l) ⋅⎝b_c⋅(N⋅c) ⋅(0.5⋅N⋅μ_c__c⋅(x + 1) + 0.5⋅N⋅μ_d__c⋅(-x +\n",
       "     ⎟                                                                        \n",
       "     ⎠                                                                        \n",
       "────────────── + ─────────────────────────────────────────────────────────────\n",
       "                                                                              \n",
       "──────────────────────────────────────────────────────────────────────────────\n",
       " + N⋅k)                                                                       \n",
       "                                                                              \n",
       "\n",
       "                                                                              \n",
       "                                            ⎛                                 \n",
       "                   1.0                      ⎜                                 \n",
       "                 ────────                   ⎜                                 \n",
       "                 -π + 1.0                   ⎜                                 \n",
       "    -π - ξ + 1.0⎞                           ⎜⎛                                \n",
       " 1))            ⎠        ⋅(μ_c__c - μ_d__c)⋅⎜⎝b_d⋅(0.5⋅N⋅μ_c__d⋅(x + 1) + 0.5⋅\n",
       "                                            ⎜                                 \n",
       "                                            ⎝                                 \n",
       "──────────────────────────────────────────────────────────────────────────────\n",
       "                                                                   0.5⋅N⋅μ_c__\n",
       "──────────────────────────────────────────────────────────────────────────────\n",
       "                                                                              \n",
       "                                                                              \n",
       "\n",
       "                                                                              \n",
       "                                                       1.0                    \n",
       "                             1.0                     ────────                 \n",
       "                           ────────                  -π + 1.0                 \n",
       "                           -π + 1.0 ⎛        2      ⎞                         \n",
       "                  -π + 1.0⎞         ⎜  b_R⋅g₀       ⎟           ⎛         ξ   \n",
       "N⋅μ_d__d⋅(-x + 1))        ⎠        ⋅⎜- ─────── + 1.0⎟         + ⎝b_c⋅(N⋅c) ⋅(0\n",
       "                                    ⎜       2       ⎟                         \n",
       "                                    ⎝    e⋅g        ⎠                         \n",
       "──────────────────────────────────────────────────────────────────────────────\n",
       "c⋅(x + 1) + 0.5⋅N⋅μ_d__c⋅(-x + 1)                                             \n",
       "──────────────────────────────────────────────────────────────────────────────\n",
       "                                                                              \n",
       "                                                                              \n",
       "\n",
       "                                                                  -π          \n",
       "                                                                 ⎞            \n",
       "                                                           1.0   ⎟            \n",
       "                                                         ────────⎟            \n",
       "                                                         -π + 1.0⎟            \n",
       "                                            -π - ξ + 1.0⎞        ⎟            \n",
       ".5⋅N⋅μ_c__c⋅(x + 1) + 0.5⋅N⋅μ_d__c⋅(-x + 1))            ⎠        ⎟  ⋅(-π - ξ +\n",
       "                                                                 ⎟            \n",
       "                                                                 ⎠            \n",
       "──────────────────────────────────────────────────────────────────────────────\n",
       "                                                                              \n",
       "──────────────────────────────────────────────────────────────────────────────\n",
       "                                                                              \n",
       "                                                                              \n",
       "\n",
       "         ⎞                   ⎞\n",
       "         ⎟                   ⎟\n",
       "         ⎟                   ⎟\n",
       "         ⎟                   ⎟\n",
       "         ⎟                   ⎟\n",
       "         ⎟                   ⎟\n",
       " 1.0)    ⎟                   ⎟\n",
       "         ⎟                   ⎟\n",
       "         ⎟                   ⎟\n",
       "───── + 1⎟ + ε⋅(-N⋅k⋅y + N⋅k)⎟\n",
       "         ⎠                   ⎠\n",
       "──────────────────────────────\n",
       "                              \n",
       "                              "
      ]
     },
     "execution_count": 186,
     "metadata": {},
     "output_type": "execute_result"
    }
   ],
   "source": [
    "rhsECO[0]"
   ]
  },
  {
   "cell_type": "markdown",
   "metadata": {},
   "source": [
    "Combine dynamic equations of economic and social subsystem:"
   ]
  },
  {
   "cell_type": "code",
   "execution_count": null,
   "metadata": {
    "collapsed": false
   },
   "outputs": [],
   "source": [
    "rhs = s.Matrix([rhsPBP,rhsECO]).subs(subs1)\n",
    "rhs"
   ]
  },
  {
   "cell_type": "code",
   "execution_count": null,
   "metadata": {
    "collapsed": false
   },
   "outputs": [],
   "source": [
    "with open('res_raw.pkl', 'wb') as outf:\n",
    "    pkl.dump(rhs, outf)"
   ]
  },
  {
   "cell_type": "code",
   "execution_count": null,
   "metadata": {
    "collapsed": false
   },
   "outputs": [],
   "source": [
    "rhs[4]"
   ]
  },
  {
   "cell_type": "code",
   "execution_count": null,
   "metadata": {
    "collapsed": true
   },
   "outputs": [],
   "source": []
  }
 ],
 "metadata": {
  "kernelspec": {
   "display_name": "Python 3",
   "language": "python",
   "name": "python3"
  },
  "language_info": {
   "codemirror_mode": {
    "name": "ipython",
    "version": 3
   },
   "file_extension": ".py",
   "mimetype": "text/x-python",
   "name": "python",
   "nbconvert_exporter": "python",
   "pygments_lexer": "ipython3",
   "version": "3.6.0"
  }
 },
 "nbformat": 4,
 "nbformat_minor": 0
}
